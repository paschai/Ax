{
 "cells": [
  {
   "attachments": {},
   "cell_type": "markdown",
   "id": "12fe3797",
   "metadata": {
    "papermill": {
     "duration": 0.004436,
     "end_time": "2024-08-15T06:40:02.557045",
     "exception": false,
     "start_time": "2024-08-15T06:40:02.552609",
     "status": "completed"
    },
    "tags": []
   },
   "source": [
    "## Trial-level early stopping in Ax\n",
    "\n",
    "This tutorial illustrates how to add a trial-level early stopping strategy to an Ax hyper-parameter optimization (HPO) loop. The goal of trial-level early stopping is to monitor the results of expensive evaluations and terminate those that are unlikely to produce promising results, freeing up resources to explore more configurations.\n",
    "\n",
    "Most of this tutorial is adapted from the [PyTorch Ax Multiobjective NAS Tutorial](https://pytorch.org/tutorials/intermediate/ax_multiobjective_nas_tutorial.html). The training job is different from the original in that we do not optimize `batch_size` or `epochs`. This was done for illustrative purposes, as each validation curve now has the same number of points. The companion training file `mnist_train_nas.py` has also been altered to log to Tensorboard during training.\n",
    "\n",
    "NOTE: Although the original NAS tutorial is for a multi-objective problem, this tutorial focuses on a single objective (validation accuracy) problem. Early stopping currently does not support \\\"true\\\" multi-objective stopping, although one can use [logical compositions of early stopping strategies](https://github.com/facebook/Ax/blob/main/ax/early_stopping/strategies/logical.py) to target multiple objectives separately. Early stopping for the multi-objective case is currently a work in progress."
   ]
  },
  {
   "cell_type": "code",
   "execution_count": 1,
   "id": "cb953f30",
   "metadata": {
    "execution": {
     "iopub.execute_input": "2024-08-15T06:40:02.566794Z",
     "iopub.status.busy": "2024-08-15T06:40:02.566273Z",
     "iopub.status.idle": "2024-08-15T06:40:06.600154Z",
     "shell.execute_reply": "2024-08-15T06:40:06.599496Z"
    },
    "papermill": {
     "duration": 4.040559,
     "end_time": "2024-08-15T06:40:06.601753",
     "exception": false,
     "start_time": "2024-08-15T06:40:02.561194",
     "status": "completed"
    },
    "tags": []
   },
   "outputs": [],
   "source": [
    "import os\n",
    "import tempfile\n",
    "\n",
    "from pathlib import Path\n",
    "\n",
    "import torchx\n",
    "\n",
    "from ax.core import Experiment, Objective, ParameterType, RangeParameter, SearchSpace\n",
    "from ax.core.optimization_config import OptimizationConfig\n",
    "\n",
    "from ax.early_stopping.strategies import PercentileEarlyStoppingStrategy\n",
    "from ax.metrics.tensorboard import TensorboardMetric\n",
    "\n",
    "from ax.modelbridge.dispatch_utils import choose_generation_strategy\n",
    "\n",
    "from ax.runners.torchx import TorchXRunner\n",
    "\n",
    "from ax.service.scheduler import Scheduler, SchedulerOptions\n",
    "from ax.service.utils.report_utils import exp_to_df\n",
    "\n",
    "from tensorboard.backend.event_processing import plugin_event_multiplexer as event_multiplexer\n",
    "\n",
    "from torchx import specs\n",
    "from torchx.components import utils\n",
    "\n",
    "from matplotlib import pyplot as plt\n",
    "\n",
    "\n",
    "%matplotlib inline"
   ]
  },
  {
   "cell_type": "code",
   "execution_count": 2,
   "id": "8a7bd328",
   "metadata": {
    "execution": {
     "iopub.execute_input": "2024-08-15T06:40:06.612138Z",
     "iopub.status.busy": "2024-08-15T06:40:06.611561Z",
     "iopub.status.idle": "2024-08-15T06:40:06.614789Z",
     "shell.execute_reply": "2024-08-15T06:40:06.614237Z"
    },
    "papermill": {
     "duration": 0.009794,
     "end_time": "2024-08-15T06:40:06.616096",
     "exception": false,
     "start_time": "2024-08-15T06:40:06.606302",
     "status": "completed"
    },
    "tags": []
   },
   "outputs": [],
   "source": [
    "SMOKE_TEST = os.environ.get(\"SMOKE_TEST\")"
   ]
  },
  {
   "attachments": {},
   "cell_type": "markdown",
   "id": "fe2cf6fe",
   "metadata": {
    "papermill": {
     "duration": 0.004059,
     "end_time": "2024-08-15T06:40:06.624184",
     "exception": false,
     "start_time": "2024-08-15T06:40:06.620125",
     "status": "completed"
    },
    "tags": []
   },
   "source": [
    "## Defining the TorchX App\n",
    "\n",
    "Our goal is to optimize the PyTorch Lightning training job defined in\n",
    "[mnist_train_nas.py](https://github.com/pytorch/tutorials/tree/master/intermediate_source/mnist_train_nas.py)_.\n",
    "To do this using TorchX, we write a helper function that takes in\n",
    "the values of the architcture and hyperparameters of the training\n",
    "job and creates a [TorchX AppDef](https://pytorch.org/torchx/latest/basics.html)_\n",
    "with the appropriate settings.\n",
    "\n"
   ]
  },
  {
   "cell_type": "code",
   "execution_count": 3,
   "id": "2e21d309",
   "metadata": {
    "execution": {
     "iopub.execute_input": "2024-08-15T06:40:06.633218Z",
     "iopub.status.busy": "2024-08-15T06:40:06.632844Z",
     "iopub.status.idle": "2024-08-15T06:40:06.635759Z",
     "shell.execute_reply": "2024-08-15T06:40:06.635208Z"
    },
    "papermill": {
     "duration": 0.008762,
     "end_time": "2024-08-15T06:40:06.636943",
     "exception": false,
     "start_time": "2024-08-15T06:40:06.628181",
     "status": "completed"
    },
    "tags": []
   },
   "outputs": [],
   "source": [
    "if SMOKE_TEST:\n",
    "    epochs = 3\n",
    "else:\n",
    "    epochs = 10"
   ]
  },
  {
   "cell_type": "code",
   "execution_count": 4,
   "id": "b423923c",
   "metadata": {
    "execution": {
     "iopub.execute_input": "2024-08-15T06:40:06.646189Z",
     "iopub.status.busy": "2024-08-15T06:40:06.645790Z",
     "iopub.status.idle": "2024-08-15T06:40:06.650435Z",
     "shell.execute_reply": "2024-08-15T06:40:06.649917Z"
    },
    "papermill": {
     "duration": 0.010616,
     "end_time": "2024-08-15T06:40:06.651701",
     "exception": false,
     "start_time": "2024-08-15T06:40:06.641085",
     "status": "completed"
    },
    "tags": []
   },
   "outputs": [],
   "source": [
    "def trainer(\n",
    "    log_path: str,\n",
    "    hidden_size_1: int,\n",
    "    hidden_size_2: int,\n",
    "    learning_rate: float,\n",
    "    dropout: float,\n",
    "    trial_idx: int = -1,\n",
    ") -> specs.AppDef:\n",
    "\n",
    "    # define the log path so we can pass it to the TorchX AppDef\n",
    "    if trial_idx >= 0:\n",
    "        log_path = Path(log_path).joinpath(str(trial_idx)).absolute().as_posix()\n",
    "\n",
    "    batch_size = 32\n",
    "\n",
    "    return utils.python(\n",
    "        # command line args to the training script\n",
    "        \"--log_path\",\n",
    "        log_path,\n",
    "        \"--hidden_size_1\",\n",
    "        str(hidden_size_1),\n",
    "        \"--hidden_size_2\",\n",
    "        str(hidden_size_2),\n",
    "        \"--learning_rate\",\n",
    "        str(learning_rate),\n",
    "        \"--epochs\",\n",
    "        str(epochs),\n",
    "        \"--dropout\",\n",
    "        str(dropout),\n",
    "        \"--batch_size\",\n",
    "        str(batch_size),\n",
    "        # other config options\n",
    "        name=\"trainer\",\n",
    "        script=\"tutorials/early_stopping/mnist_train_nas.py\",\n",
    "        image=torchx.version.TORCHX_IMAGE,\n",
    "    )"
   ]
  },
  {
   "attachments": {},
   "cell_type": "markdown",
   "id": "65f7011d",
   "metadata": {
    "papermill": {
     "duration": 0.004112,
     "end_time": "2024-08-15T06:40:06.659934",
     "exception": false,
     "start_time": "2024-08-15T06:40:06.655822",
     "status": "completed"
    },
    "tags": []
   },
   "source": [
    "## Setting up the Runner\n",
    "\n",
    "Ax’s [Runner](https://ax.dev/api/core.html#ax.core.runner.Runner)\n",
    "abstraction allows writing interfaces to various backends.\n",
    "Ax already comes with Runner for TorchX, so we just need to\n",
    "configure it. For the purpose of this tutorial, we run jobs locally\n",
    "in a fully asynchronous fashion. In order to launch them on a cluster, you can instead specify a\n",
    "different TorchX scheduler and adjust the configuration appropriately.\n",
    "For example, if you have a Kubernetes cluster, you just need to change the\n",
    "scheduler from ``local_cwd`` to ``kubernetes``.\n",
    "\n",
    "The training job launched by this runner will log partial results to Tensorboard, which will then be monitored by the early stopping strategy. We will show how this is done using an Ax \n",
    "[TensorboardMetric](https://ax.dev/api/metrics.html#module-ax.metrics.tensorboard) below."
   ]
  },
  {
   "cell_type": "code",
   "execution_count": 5,
   "id": "998e5835",
   "metadata": {
    "execution": {
     "iopub.execute_input": "2024-08-15T06:40:06.668975Z",
     "iopub.status.busy": "2024-08-15T06:40:06.668579Z",
     "iopub.status.idle": "2024-08-15T06:40:06.681797Z",
     "shell.execute_reply": "2024-08-15T06:40:06.681298Z"
    },
    "papermill": {
     "duration": 0.019077,
     "end_time": "2024-08-15T06:40:06.683026",
     "exception": false,
     "start_time": "2024-08-15T06:40:06.663949",
     "status": "completed"
    },
    "tags": []
   },
   "outputs": [],
   "source": [
    "# Make a temporary dir to log our results into\n",
    "log_dir = tempfile.mkdtemp()\n",
    "\n",
    "ax_runner = TorchXRunner(\n",
    "    tracker_base=\"/tmp/\",\n",
    "    component=trainer,\n",
    "    # NOTE: To launch this job on a cluster instead of locally you can\n",
    "    # specify a different scheduler and adjust args appropriately.\n",
    "    scheduler=\"local_cwd\",\n",
    "    component_const_params={\"log_path\": log_dir},\n",
    "    cfg={},\n",
    ")"
   ]
  },
  {
   "attachments": {},
   "cell_type": "markdown",
   "id": "2fec7495",
   "metadata": {
    "papermill": {
     "duration": 0.004107,
     "end_time": "2024-08-15T06:40:06.691487",
     "exception": false,
     "start_time": "2024-08-15T06:40:06.687380",
     "status": "completed"
    },
    "tags": []
   },
   "source": [
    "## Setting up the SearchSpace\n",
    "\n",
    "First, we define our search space. Ax supports both range parameters\n",
    "of type integer and float as well as choice parameters which can have\n",
    "non-numerical types such as strings.\n",
    "We will tune the hidden sizes, learning rate, and dropout parameters."
   ]
  },
  {
   "cell_type": "code",
   "execution_count": 6,
   "id": "cf6f869f",
   "metadata": {
    "execution": {
     "iopub.execute_input": "2024-08-15T06:40:06.700691Z",
     "iopub.status.busy": "2024-08-15T06:40:06.700311Z",
     "iopub.status.idle": "2024-08-15T06:40:06.704740Z",
     "shell.execute_reply": "2024-08-15T06:40:06.704229Z"
    },
    "papermill": {
     "duration": 0.010429,
     "end_time": "2024-08-15T06:40:06.705997",
     "exception": false,
     "start_time": "2024-08-15T06:40:06.695568",
     "status": "completed"
    },
    "tags": []
   },
   "outputs": [],
   "source": [
    "parameters = [\n",
    "    # NOTE: In a real-world setting, hidden_size_1 and hidden_size_2\n",
    "    # should probably be powers of 2, but in our simple example this\n",
    "    # would mean that num_params can't take on that many values, which\n",
    "    # in turn makes the Pareto frontier look pretty weird.\n",
    "    RangeParameter(\n",
    "        name=\"hidden_size_1\",\n",
    "        lower=16,\n",
    "        upper=128,\n",
    "        parameter_type=ParameterType.INT,\n",
    "        log_scale=True,\n",
    "    ),\n",
    "    RangeParameter(\n",
    "        name=\"hidden_size_2\",\n",
    "        lower=16,\n",
    "        upper=128,\n",
    "        parameter_type=ParameterType.INT,\n",
    "        log_scale=True,\n",
    "    ),\n",
    "    RangeParameter(\n",
    "        name=\"learning_rate\",\n",
    "        lower=1e-4,\n",
    "        upper=1e-2,\n",
    "        parameter_type=ParameterType.FLOAT,\n",
    "        log_scale=True,\n",
    "    ),\n",
    "    RangeParameter(\n",
    "        name=\"dropout\",\n",
    "        lower=0.0,\n",
    "        upper=0.5,\n",
    "        parameter_type=ParameterType.FLOAT,\n",
    "    ),\n",
    "]\n",
    "\n",
    "search_space = SearchSpace(\n",
    "    parameters=parameters,\n",
    "    # NOTE: In practice, it may make sense to add a constraint\n",
    "    # hidden_size_2 <= hidden_size_1\n",
    "    parameter_constraints=[],\n",
    ")"
   ]
  },
  {
   "attachments": {},
   "cell_type": "markdown",
   "id": "a8005e80",
   "metadata": {
    "papermill": {
     "duration": 0.004116,
     "end_time": "2024-08-15T06:40:06.714431",
     "exception": false,
     "start_time": "2024-08-15T06:40:06.710315",
     "status": "completed"
    },
    "tags": []
   },
   "source": [
    "## Setting up Metrics\n",
    "\n",
    "Ax has the concept of a Metric that defines properties of outcomes and how observations are obtained for these outcomes. This allows e.g. encodig how data is fetched from some distributed execution backend and post-processed before being passed as input to Ax.\n",
    "\n",
    "We will optimize the validation accuracy, which is a `TensorboardMetric` that points to the logging directory assigned above. Note that we have set `is_available_while_running`, allowing for the metric to be queried as the trial progresses. This is critical for the early stopping strategy to monitor partial results."
   ]
  },
  {
   "cell_type": "code",
   "execution_count": 7,
   "id": "0775a96e",
   "metadata": {
    "execution": {
     "iopub.execute_input": "2024-08-15T06:40:06.724322Z",
     "iopub.status.busy": "2024-08-15T06:40:06.723927Z",
     "iopub.status.idle": "2024-08-15T06:40:06.728024Z",
     "shell.execute_reply": "2024-08-15T06:40:06.727439Z"
    },
    "papermill": {
     "duration": 0.010254,
     "end_time": "2024-08-15T06:40:06.729302",
     "exception": false,
     "start_time": "2024-08-15T06:40:06.719048",
     "status": "completed"
    },
    "tags": []
   },
   "outputs": [],
   "source": [
    "class MyTensorboardMetric(TensorboardMetric):\n",
    "\n",
    "    # NOTE: We need to tell the new Tensorboard metric how to get the id /\n",
    "    # file handle for the tensorboard logs from a trial. In this case\n",
    "    # our convention is to just save a separate file per trial in\n",
    "    # the pre-specified log dir.\n",
    "    def _get_event_multiplexer_for_trial(self, trial):\n",
    "        mul = event_multiplexer.EventMultiplexer(max_reload_threads=20)\n",
    "        mul.AddRunsFromDirectory(Path(log_dir).joinpath(str(trial.index)).as_posix(), None)\n",
    "        mul.Reload()\n",
    "\n",
    "        return mul\n",
    "\n",
    "    # This indicates whether the metric is queryable while the trial is\n",
    "    # still running. This is required for early stopping to monitor the\n",
    "    # progress of the running trial.ArithmeticError\n",
    "    @classmethod\n",
    "    def is_available_while_running(cls):\n",
    "        return True"
   ]
  },
  {
   "cell_type": "code",
   "execution_count": 8,
   "id": "a5c5a7d0",
   "metadata": {
    "execution": {
     "iopub.execute_input": "2024-08-15T06:40:06.738907Z",
     "iopub.status.busy": "2024-08-15T06:40:06.738687Z",
     "iopub.status.idle": "2024-08-15T06:40:06.741839Z",
     "shell.execute_reply": "2024-08-15T06:40:06.741298Z"
    },
    "papermill": {
     "duration": 0.009617,
     "end_time": "2024-08-15T06:40:06.743184",
     "exception": false,
     "start_time": "2024-08-15T06:40:06.733567",
     "status": "completed"
    },
    "tags": []
   },
   "outputs": [],
   "source": [
    "val_acc = MyTensorboardMetric(\n",
    "    name=\"val_acc\",\n",
    "    tag=\"val_acc\",\n",
    "    lower_is_better=False,\n",
    ")"
   ]
  },
  {
   "attachments": {},
   "cell_type": "markdown",
   "id": "d4f3ba5d",
   "metadata": {
    "papermill": {
     "duration": 0.00412,
     "end_time": "2024-08-15T06:40:06.751550",
     "exception": false,
     "start_time": "2024-08-15T06:40:06.747430",
     "status": "completed"
    },
    "tags": []
   },
   "source": [
    "## Setting up the OptimizationConfig\n",
    "\n",
    "The `OptimizationConfig` specifies the objective for Ax to optimize."
   ]
  },
  {
   "cell_type": "code",
   "execution_count": 9,
   "id": "ada66cf3",
   "metadata": {
    "execution": {
     "iopub.execute_input": "2024-08-15T06:40:06.760920Z",
     "iopub.status.busy": "2024-08-15T06:40:06.760520Z",
     "iopub.status.idle": "2024-08-15T06:40:06.763549Z",
     "shell.execute_reply": "2024-08-15T06:40:06.763036Z"
    },
    "papermill": {
     "duration": 0.008999,
     "end_time": "2024-08-15T06:40:06.764756",
     "exception": false,
     "start_time": "2024-08-15T06:40:06.755757",
     "status": "completed"
    },
    "tags": []
   },
   "outputs": [],
   "source": [
    "opt_config = OptimizationConfig(\n",
    "    objective=Objective(\n",
    "        metric=val_acc,\n",
    "        minimize=False,\n",
    "    )\n",
    ")"
   ]
  },
  {
   "attachments": {},
   "cell_type": "markdown",
   "id": "57aa9cf7",
   "metadata": {
    "papermill": {
     "duration": 0.004207,
     "end_time": "2024-08-15T06:40:06.773178",
     "exception": false,
     "start_time": "2024-08-15T06:40:06.768971",
     "status": "completed"
    },
    "tags": []
   },
   "source": [
    "## Defining an Early Stopping Strategy\n",
    "\n",
    "A `PercentileEarlyStoppingStrategy` is a simple method that stops a trial if its performance falls below a certain percentile of other trials at the same step (e.g., when `percentile_threshold` is 50, at a given point in time, if a trial ranks in the bottom 50% of trials, it is stopped). \n",
    "- We make use of `normalize_progressions` which normalizes the progression column (e.g. timestamp, epochs, training data used) to be in [0, 1]. This is useful because one doesn't need to know the maximum progression values of the curve (which might be, e.g., the total number of data points in the training dataset).\n",
    "- The `min_progression` parameter specifies that trials should only be considered for stopping if the latest progression value is greater than this threshold.\n",
    "- The `min_curves` parameter specifies the minimum number of completed curves (i.e., fully completed training jobs) before early stopping will be considered. This should be larger than zero if `normalize_progression` is used. In general, we want a few completed curves to have a baseline for comparison.\n",
    "\n",
    "Note that `PercentileEarlyStoppingStrategy` does not make use of learning curve modeling or prediction. More sophisticated model-based methods will be available in future versions of Ax."
   ]
  },
  {
   "cell_type": "code",
   "execution_count": 10,
   "id": "949e8ab5",
   "metadata": {
    "execution": {
     "iopub.execute_input": "2024-08-15T06:40:06.782557Z",
     "iopub.status.busy": "2024-08-15T06:40:06.782165Z",
     "iopub.status.idle": "2024-08-15T06:40:06.785672Z",
     "shell.execute_reply": "2024-08-15T06:40:06.785123Z"
    },
    "papermill": {
     "duration": 0.009562,
     "end_time": "2024-08-15T06:40:06.786878",
     "exception": false,
     "start_time": "2024-08-15T06:40:06.777316",
     "status": "completed"
    },
    "tags": []
   },
   "outputs": [],
   "source": [
    "percentile_early_stopping_strategy = PercentileEarlyStoppingStrategy(\n",
    "    # stop if in bottom 70% of runs at the same progression\n",
    "    percentile_threshold=70,\n",
    "    # the trial must have passed `min_progression` steps before early stopping is initiated\n",
    "    # note that we are using `normalize_progressions`, so this is on a scale of [0, 1]\n",
    "    min_progression=0.3,\n",
    "    # there must be `min_curves` completed trials and `min_curves` trials reporting data in\n",
    "    # order for early stopping to be applicable\n",
    "    min_curves=5,\n",
    "    # specify, e.g., [0, 1] if the first two trials should never be stopped\n",
    "    trial_indices_to_ignore=None,\n",
    "    # check for new data every 10 seconds\n",
    "    seconds_between_polls=10,\n",
    "    normalize_progressions=True,\n",
    ")"
   ]
  },
  {
   "attachments": {},
   "cell_type": "markdown",
   "id": "2665ca93",
   "metadata": {
    "papermill": {
     "duration": 0.004247,
     "end_time": "2024-08-15T06:40:06.795437",
     "exception": false,
     "start_time": "2024-08-15T06:40:06.791190",
     "status": "completed"
    },
    "tags": []
   },
   "source": [
    "## Creating the Ax Experiment\n",
    "\n",
    "In Ax, the Experiment object is the object that stores all the information about the problem setup."
   ]
  },
  {
   "cell_type": "code",
   "execution_count": 11,
   "id": "12849b31",
   "metadata": {
    "execution": {
     "iopub.execute_input": "2024-08-15T06:40:06.804911Z",
     "iopub.status.busy": "2024-08-15T06:40:06.804519Z",
     "iopub.status.idle": "2024-08-15T06:40:06.807568Z",
     "shell.execute_reply": "2024-08-15T06:40:06.807025Z"
    },
    "papermill": {
     "duration": 0.00919,
     "end_time": "2024-08-15T06:40:06.808830",
     "exception": false,
     "start_time": "2024-08-15T06:40:06.799640",
     "status": "completed"
    },
    "tags": []
   },
   "outputs": [],
   "source": [
    "experiment = Experiment(\n",
    "    name=\"torchx_mnist\",\n",
    "    search_space=search_space,\n",
    "    optimization_config=opt_config,\n",
    "    runner=ax_runner,\n",
    ")"
   ]
  },
  {
   "attachments": {},
   "cell_type": "markdown",
   "id": "49a4ed0e",
   "metadata": {
    "papermill": {
     "duration": 0.00425,
     "end_time": "2024-08-15T06:40:06.817425",
     "exception": false,
     "start_time": "2024-08-15T06:40:06.813175",
     "status": "completed"
    },
    "tags": []
   },
   "source": [
    "## Choosing the GenerationStrategy\n",
    "\n",
    "A [GenerationStrategy](https://ax.dev/api/modelbridge.html#ax.modelbridge.generation_strategy.GenerationStrategy)\n",
    "is the abstract representation of how we would like to perform the\n",
    "optimization. While this can be customized (if you’d like to do so, see\n",
    "[this tutorial](https://ax.dev/tutorials/generation_strategy.html)),\n",
    "in most cases Ax can automatically determine an appropriate strategy\n",
    "based on the search space, optimization config, and the total number\n",
    "of trials we want to run.\n",
    "\n",
    "Typically, Ax chooses to evaluate a number of random configurations\n",
    "before starting a model-based Bayesian Optimization strategy.\n",
    "\n",
    "We remark that in Ax, generation strategies and early stopping strategies are separate, a design decision motivated by ease-of-use. However, we should acknowledge that jointly considering generation and stopping using a single strategy would likely be the \"proper\" formulation."
   ]
  },
  {
   "cell_type": "code",
   "execution_count": 12,
   "id": "e38d0237",
   "metadata": {
    "execution": {
     "iopub.execute_input": "2024-08-15T06:40:06.827015Z",
     "iopub.status.busy": "2024-08-15T06:40:06.826543Z",
     "iopub.status.idle": "2024-08-15T06:40:06.833702Z",
     "shell.execute_reply": "2024-08-15T06:40:06.833046Z"
    },
    "papermill": {
     "duration": 0.013624,
     "end_time": "2024-08-15T06:40:06.835285",
     "exception": false,
     "start_time": "2024-08-15T06:40:06.821661",
     "status": "completed"
    },
    "tags": []
   },
   "outputs": [
    {
     "name": "stderr",
     "output_type": "stream",
     "text": [
      "[INFO 08-15 06:40:06] ax.modelbridge.dispatch_utils: Using Models.BOTORCH_MODULAR since there is at least one ordered parameter and there are no unordered categorical parameters.\n"
     ]
    },
    {
     "name": "stderr",
     "output_type": "stream",
     "text": [
      "[INFO 08-15 06:40:06] ax.modelbridge.dispatch_utils: Calculating the number of remaining initialization trials based on num_initialization_trials=None max_initialization_trials=None num_tunable_parameters=4 num_trials=15 use_batch_trials=False\n"
     ]
    },
    {
     "name": "stderr",
     "output_type": "stream",
     "text": [
      "[INFO 08-15 06:40:06] ax.modelbridge.dispatch_utils: calculated num_initialization_trials=5\n"
     ]
    },
    {
     "name": "stderr",
     "output_type": "stream",
     "text": [
      "[INFO 08-15 06:40:06] ax.modelbridge.dispatch_utils: num_completed_initialization_trials=0 num_remaining_initialization_trials=5\n"
     ]
    },
    {
     "name": "stderr",
     "output_type": "stream",
     "text": [
      "[INFO 08-15 06:40:06] ax.modelbridge.dispatch_utils: `verbose`, `disable_progbar`, and `jit_compile` are not yet supported when using `choose_generation_strategy` with ModularBoTorchModel, dropping these arguments.\n"
     ]
    },
    {
     "name": "stderr",
     "output_type": "stream",
     "text": [
      "[INFO 08-15 06:40:06] ax.modelbridge.dispatch_utils: Using Bayesian Optimization generation strategy: GenerationStrategy(name='Sobol+BoTorch', steps=[Sobol for 5 trials, BoTorch for subsequent trials]). Iterations after 5 will take longer to generate due to model-fitting.\n"
     ]
    }
   ],
   "source": [
    "if SMOKE_TEST:\n",
    "    total_trials = 6\n",
    "else:\n",
    "    total_trials = 15  # total evaluation budget\n",
    "\n",
    "gs = choose_generation_strategy(\n",
    "    search_space=experiment.search_space,\n",
    "    optimization_config=experiment.optimization_config,\n",
    "    num_trials=total_trials,\n",
    ")"
   ]
  },
  {
   "attachments": {},
   "cell_type": "markdown",
   "id": "78d86fea",
   "metadata": {
    "papermill": {
     "duration": 0.00463,
     "end_time": "2024-08-15T06:40:06.844468",
     "exception": false,
     "start_time": "2024-08-15T06:40:06.839838",
     "status": "completed"
    },
    "tags": []
   },
   "source": [
    "## Configuring the Scheduler\n",
    "\n",
    "The `Scheduler` acts as the loop control for the optimization.\n",
    "It communicates with the backend to launch trials, check their status, retrieve (partial) results, and importantly for this tutorial, calls the early stopping strategy. If the early stopping strategy suggests a trial to be the stopped, the `Scheduler` communicates with the backend to terminate the trial.\n",
    "\n",
    "The ``Scheduler`` requires the ``Experiment`` and the ``GenerationStrategy``.\n",
    "A set of options can be passed in via ``SchedulerOptions``. Here, we\n",
    "configure the number of total evaluations as well as ``max_pending_trials``,\n",
    "the maximum number of trials that should run concurrently. In our\n",
    "local setting, this is the number of training jobs running as individual\n",
    "processes, while in a remote execution setting, this would be the number\n",
    "of machines you want to use in parallel.\n"
   ]
  },
  {
   "cell_type": "code",
   "execution_count": 13,
   "id": "499fb9b5",
   "metadata": {
    "execution": {
     "iopub.execute_input": "2024-08-15T06:40:06.854647Z",
     "iopub.status.busy": "2024-08-15T06:40:06.854271Z",
     "iopub.status.idle": "2024-08-15T06:40:06.858165Z",
     "shell.execute_reply": "2024-08-15T06:40:06.857509Z"
    },
    "papermill": {
     "duration": 0.01035,
     "end_time": "2024-08-15T06:40:06.859402",
     "exception": false,
     "start_time": "2024-08-15T06:40:06.849052",
     "status": "completed"
    },
    "tags": []
   },
   "outputs": [
    {
     "name": "stderr",
     "output_type": "stream",
     "text": [
      "[INFO 08-15 06:40:06] Scheduler: `Scheduler` requires experiment to have immutable search space and optimization config. Setting property immutable_search_space_and_opt_config to `True` on experiment.\n"
     ]
    }
   ],
   "source": [
    "scheduler = Scheduler(\n",
    "    experiment=experiment,\n",
    "    generation_strategy=gs,\n",
    "    options=SchedulerOptions(\n",
    "        total_trials=total_trials,\n",
    "        max_pending_trials=5,\n",
    "        early_stopping_strategy=percentile_early_stopping_strategy,\n",
    "    ),\n",
    ")"
   ]
  },
  {
   "cell_type": "code",
   "execution_count": 14,
   "id": "78257ebb",
   "metadata": {
    "execution": {
     "iopub.execute_input": "2024-08-15T06:40:06.869680Z",
     "iopub.status.busy": "2024-08-15T06:40:06.869242Z",
     "iopub.status.idle": "2024-08-15T07:12:54.201600Z",
     "shell.execute_reply": "2024-08-15T07:12:54.201066Z"
    },
    "papermill": {
     "duration": 1967.338765,
     "end_time": "2024-08-15T07:12:54.202854",
     "exception": false,
     "start_time": "2024-08-15T06:40:06.864089",
     "status": "completed"
    },
    "tags": []
   },
   "outputs": [
    {
     "name": "stderr",
     "output_type": "stream",
     "text": [
      "[INFO 08-15 06:40:06] Scheduler: Fetching data for newly completed trials: [].\n"
     ]
    },
    {
     "name": "stderr",
     "output_type": "stream",
     "text": [
      "[INFO 08-15 06:40:06] ax.early_stopping.strategies.base: PercentileEarlyStoppingStrategy received empty data. Not stopping any trials.\n"
     ]
    },
    {
     "name": "stderr",
     "output_type": "stream",
     "text": [
      "/tmp/tmp.3Yo4S3ORTG/Ax-main/ax/modelbridge/cross_validation.py:463: UserWarning: Encountered exception in computing model fit quality: RandomModelBridge does not support prediction.\n",
      "  warn(\"Encountered exception in computing model fit quality: \" + str(e))\n",
      "[INFO 08-15 06:40:06] Scheduler: Running trials [0]...\n"
     ]
    },
    {
     "name": "stderr",
     "output_type": "stream",
     "text": [
      "/tmp/tmp.3Yo4S3ORTG/Ax-main/ax/modelbridge/cross_validation.py:463: UserWarning: Encountered exception in computing model fit quality: RandomModelBridge does not support prediction.\n",
      "  warn(\"Encountered exception in computing model fit quality: \" + str(e))\n",
      "[INFO 08-15 06:40:06] Scheduler: Running trials [1]...\n"
     ]
    },
    {
     "name": "stderr",
     "output_type": "stream",
     "text": [
      "/tmp/tmp.3Yo4S3ORTG/Ax-main/ax/modelbridge/cross_validation.py:463: UserWarning: Encountered exception in computing model fit quality: RandomModelBridge does not support prediction.\n",
      "  warn(\"Encountered exception in computing model fit quality: \" + str(e))\n",
      "[INFO 08-15 06:40:07] Scheduler: Running trials [2]...\n"
     ]
    },
    {
     "name": "stderr",
     "output_type": "stream",
     "text": [
      "/tmp/tmp.3Yo4S3ORTG/Ax-main/ax/modelbridge/cross_validation.py:463: UserWarning: Encountered exception in computing model fit quality: RandomModelBridge does not support prediction.\n",
      "  warn(\"Encountered exception in computing model fit quality: \" + str(e))\n",
      "[INFO 08-15 06:40:08] Scheduler: Running trials [3]...\n"
     ]
    },
    {
     "name": "stderr",
     "output_type": "stream",
     "text": [
      "/tmp/tmp.3Yo4S3ORTG/Ax-main/ax/modelbridge/cross_validation.py:463: UserWarning: Encountered exception in computing model fit quality: RandomModelBridge does not support prediction.\n",
      "  warn(\"Encountered exception in computing model fit quality: \" + str(e))\n",
      "[INFO 08-15 06:40:09] Scheduler: Running trials [4]...\n"
     ]
    },
    {
     "name": "stderr",
     "output_type": "stream",
     "text": [
      "[WARNING 08-15 06:40:11] Scheduler: Both `init_seconds_between_polls` and `early_stopping_strategy supplied. `init_seconds_between_polls=1` will be overrridden by `early_stopping_strategy.seconds_between_polls=10` and polling will take place at a constant rate.\n"
     ]
    },
    {
     "name": "stderr",
     "output_type": "stream",
     "text": [
      "[INFO 08-15 06:40:11] Scheduler: Fetching data for newly completed trials: [].\n"
     ]
    },
    {
     "name": "stderr",
     "output_type": "stream",
     "text": [
      "[INFO 08-15 06:40:11] Scheduler: Fetching data for trials: 0 - 4 because some metrics on experiment are available while trials are running.\n"
     ]
    },
    {
     "name": "stderr",
     "output_type": "stream",
     "text": [
      "[INFO 08-15 06:40:11] ax.core.metric: MetricFetchE INFO: Initialized MetricFetchE(message=\"No 'scalar' data found for trial in multiplexer mul=<tensorboard.backend.event_processing.plugin_event_multiplexer.EventMultiplexer object at 0x7f2441070490>\")\n"
     ]
    },
    {
     "name": "stderr",
     "output_type": "stream",
     "text": [
      "[INFO 08-15 06:40:11] ax.core.metric: MetricFetchE INFO: Initialized MetricFetchE(message=\"No 'scalar' data found for trial in multiplexer mul=<tensorboard.backend.event_processing.plugin_event_multiplexer.EventMultiplexer object at 0x7f2441070490>\")\n"
     ]
    },
    {
     "name": "stderr",
     "output_type": "stream",
     "text": [
      "[INFO 08-15 06:40:11] ax.core.metric: MetricFetchE INFO: Initialized MetricFetchE(message=\"No 'scalar' data found for trial in multiplexer mul=<tensorboard.backend.event_processing.plugin_event_multiplexer.EventMultiplexer object at 0x7f2441070490>\")\n"
     ]
    },
    {
     "name": "stderr",
     "output_type": "stream",
     "text": [
      "[INFO 08-15 06:40:11] ax.core.metric: MetricFetchE INFO: Initialized MetricFetchE(message=\"No 'scalar' data found for trial in multiplexer mul=<tensorboard.backend.event_processing.plugin_event_multiplexer.EventMultiplexer object at 0x7f2441070490>\")\n"
     ]
    },
    {
     "name": "stderr",
     "output_type": "stream",
     "text": [
      "[INFO 08-15 06:40:11] ax.core.metric: MetricFetchE INFO: Initialized MetricFetchE(message=\"No 'scalar' data found for trial in multiplexer mul=<tensorboard.backend.event_processing.plugin_event_multiplexer.EventMultiplexer object at 0x7f2441070490>\")\n"
     ]
    },
    {
     "name": "stderr",
     "output_type": "stream",
     "text": [
      "[ERROR 08-15 06:40:11] ax.core.experiment: Discovered Metric fetching Err while attaching data MetricFetchE(message=\"No 'scalar' data found for trial in multiplexer mul=<tensorboard.backend.event_processing.plugin_event_multiplexer.EventMultiplexer object at 0x7f2441070490>\"). Ignoring for now -- will retry query on next call to fetch.\n"
     ]
    },
    {
     "name": "stderr",
     "output_type": "stream",
     "text": [
      "[ERROR 08-15 06:40:11] ax.core.experiment: Discovered Metric fetching Err while attaching data MetricFetchE(message=\"No 'scalar' data found for trial in multiplexer mul=<tensorboard.backend.event_processing.plugin_event_multiplexer.EventMultiplexer object at 0x7f2441070490>\"). Ignoring for now -- will retry query on next call to fetch.\n"
     ]
    },
    {
     "name": "stderr",
     "output_type": "stream",
     "text": [
      "[ERROR 08-15 06:40:11] ax.core.experiment: Discovered Metric fetching Err while attaching data MetricFetchE(message=\"No 'scalar' data found for trial in multiplexer mul=<tensorboard.backend.event_processing.plugin_event_multiplexer.EventMultiplexer object at 0x7f2441070490>\"). Ignoring for now -- will retry query on next call to fetch.\n"
     ]
    },
    {
     "name": "stderr",
     "output_type": "stream",
     "text": [
      "[ERROR 08-15 06:40:11] ax.core.experiment: Discovered Metric fetching Err while attaching data MetricFetchE(message=\"No 'scalar' data found for trial in multiplexer mul=<tensorboard.backend.event_processing.plugin_event_multiplexer.EventMultiplexer object at 0x7f2441070490>\"). Ignoring for now -- will retry query on next call to fetch.\n"
     ]
    },
    {
     "name": "stderr",
     "output_type": "stream",
     "text": [
      "[ERROR 08-15 06:40:11] ax.core.experiment: Discovered Metric fetching Err while attaching data MetricFetchE(message=\"No 'scalar' data found for trial in multiplexer mul=<tensorboard.backend.event_processing.plugin_event_multiplexer.EventMultiplexer object at 0x7f2441070490>\"). Ignoring for now -- will retry query on next call to fetch.\n"
     ]
    },
    {
     "name": "stderr",
     "output_type": "stream",
     "text": [
      "[WARNING 08-15 06:40:11] Scheduler: Failed to fetch val_acc for trial 0, found MetricFetchE(message=\"No 'scalar' data found for trial in multiplexer mul=<tensorboard.backend.event_processing.plugin_event_multiplexer.EventMultiplexer object at 0x7f2441070490>\").\n"
     ]
    },
    {
     "name": "stderr",
     "output_type": "stream",
     "text": [
      "[INFO 08-15 06:40:11] Scheduler: MetricFetchE INFO: Because val_acc is available_while_running and trial 0 is still RUNNING continuing the experiment and retrying on next poll...\n"
     ]
    },
    {
     "name": "stderr",
     "output_type": "stream",
     "text": [
      "[WARNING 08-15 06:40:11] Scheduler: Failed to fetch val_acc for trial 1, found MetricFetchE(message=\"No 'scalar' data found for trial in multiplexer mul=<tensorboard.backend.event_processing.plugin_event_multiplexer.EventMultiplexer object at 0x7f2441070490>\").\n"
     ]
    },
    {
     "name": "stderr",
     "output_type": "stream",
     "text": [
      "[INFO 08-15 06:40:11] Scheduler: MetricFetchE INFO: Because val_acc is available_while_running and trial 1 is still RUNNING continuing the experiment and retrying on next poll...\n"
     ]
    },
    {
     "name": "stderr",
     "output_type": "stream",
     "text": [
      "[WARNING 08-15 06:40:11] Scheduler: Failed to fetch val_acc for trial 2, found MetricFetchE(message=\"No 'scalar' data found for trial in multiplexer mul=<tensorboard.backend.event_processing.plugin_event_multiplexer.EventMultiplexer object at 0x7f2441070490>\").\n"
     ]
    },
    {
     "name": "stderr",
     "output_type": "stream",
     "text": [
      "[INFO 08-15 06:40:11] Scheduler: MetricFetchE INFO: Because val_acc is available_while_running and trial 2 is still RUNNING continuing the experiment and retrying on next poll...\n"
     ]
    },
    {
     "name": "stderr",
     "output_type": "stream",
     "text": [
      "[WARNING 08-15 06:40:11] Scheduler: Failed to fetch val_acc for trial 3, found MetricFetchE(message=\"No 'scalar' data found for trial in multiplexer mul=<tensorboard.backend.event_processing.plugin_event_multiplexer.EventMultiplexer object at 0x7f2441070490>\").\n"
     ]
    },
    {
     "name": "stderr",
     "output_type": "stream",
     "text": [
      "[INFO 08-15 06:40:11] Scheduler: MetricFetchE INFO: Because val_acc is available_while_running and trial 3 is still RUNNING continuing the experiment and retrying on next poll...\n"
     ]
    },
    {
     "name": "stderr",
     "output_type": "stream",
     "text": [
      "[WARNING 08-15 06:40:11] Scheduler: Failed to fetch val_acc for trial 4, found MetricFetchE(message=\"No 'scalar' data found for trial in multiplexer mul=<tensorboard.backend.event_processing.plugin_event_multiplexer.EventMultiplexer object at 0x7f2441070490>\").\n"
     ]
    },
    {
     "name": "stderr",
     "output_type": "stream",
     "text": [
      "[INFO 08-15 06:40:11] Scheduler: MetricFetchE INFO: Because val_acc is available_while_running and trial 4 is still RUNNING continuing the experiment and retrying on next poll...\n"
     ]
    },
    {
     "name": "stderr",
     "output_type": "stream",
     "text": [
      "[INFO 08-15 06:40:11] ax.early_stopping.strategies.base: PercentileEarlyStoppingStrategy received empty data. Not stopping any trials.\n"
     ]
    },
    {
     "name": "stderr",
     "output_type": "stream",
     "text": [
      "[INFO 08-15 06:40:11] Scheduler: Waiting for completed trials (for 10 sec, currently running trials: 5).\n"
     ]
    },
    {
     "name": "stderr",
     "output_type": "stream",
     "text": [
      "[INFO 08-15 06:40:21] Scheduler: Fetching data for newly completed trials: [].\n"
     ]
    },
    {
     "name": "stderr",
     "output_type": "stream",
     "text": [
      "[INFO 08-15 06:40:21] Scheduler: Fetching data for trials: 2 - 4 because some metrics on experiment are available while trials are running.\n"
     ]
    },
    {
     "name": "stderr",
     "output_type": "stream",
     "text": [
      "[INFO 08-15 06:40:21] Scheduler: Retrieved FAILED trials: 0 - 1.\n"
     ]
    },
    {
     "name": "stderr",
     "output_type": "stream",
     "text": [
      "[INFO 08-15 06:40:21] ax.core.metric: MetricFetchE INFO: Initialized MetricFetchE(message=\"No 'scalar' data found for trial in multiplexer mul=<tensorboard.backend.event_processing.plugin_event_multiplexer.EventMultiplexer object at 0x7f24410715d0>\")\n"
     ]
    },
    {
     "name": "stderr",
     "output_type": "stream",
     "text": [
      "[INFO 08-15 06:40:21] ax.core.metric: MetricFetchE INFO: Initialized MetricFetchE(message=\"No 'scalar' data found for trial in multiplexer mul=<tensorboard.backend.event_processing.plugin_event_multiplexer.EventMultiplexer object at 0x7f2441071360>\")\n"
     ]
    },
    {
     "name": "stderr",
     "output_type": "stream",
     "text": [
      "[INFO 08-15 06:40:21] ax.core.metric: MetricFetchE INFO: Initialized MetricFetchE(message=\"No 'scalar' data found for trial in multiplexer mul=<tensorboard.backend.event_processing.plugin_event_multiplexer.EventMultiplexer object at 0x7f2441071090>\")\n"
     ]
    },
    {
     "name": "stderr",
     "output_type": "stream",
     "text": [
      "[ERROR 08-15 06:40:21] ax.core.experiment: Discovered Metric fetching Err while attaching data MetricFetchE(message=\"No 'scalar' data found for trial in multiplexer mul=<tensorboard.backend.event_processing.plugin_event_multiplexer.EventMultiplexer object at 0x7f24410715d0>\"). Ignoring for now -- will retry query on next call to fetch.\n"
     ]
    },
    {
     "name": "stderr",
     "output_type": "stream",
     "text": [
      "[ERROR 08-15 06:40:21] ax.core.experiment: Discovered Metric fetching Err while attaching data MetricFetchE(message=\"No 'scalar' data found for trial in multiplexer mul=<tensorboard.backend.event_processing.plugin_event_multiplexer.EventMultiplexer object at 0x7f2441071360>\"). Ignoring for now -- will retry query on next call to fetch.\n"
     ]
    },
    {
     "name": "stderr",
     "output_type": "stream",
     "text": [
      "[ERROR 08-15 06:40:21] ax.core.experiment: Discovered Metric fetching Err while attaching data MetricFetchE(message=\"No 'scalar' data found for trial in multiplexer mul=<tensorboard.backend.event_processing.plugin_event_multiplexer.EventMultiplexer object at 0x7f2441071090>\"). Ignoring for now -- will retry query on next call to fetch.\n"
     ]
    },
    {
     "name": "stderr",
     "output_type": "stream",
     "text": [
      "[WARNING 08-15 06:40:21] Scheduler: Failed to fetch val_acc for trial 2, found MetricFetchE(message=\"No 'scalar' data found for trial in multiplexer mul=<tensorboard.backend.event_processing.plugin_event_multiplexer.EventMultiplexer object at 0x7f24410715d0>\").\n"
     ]
    },
    {
     "name": "stderr",
     "output_type": "stream",
     "text": [
      "[INFO 08-15 06:40:21] Scheduler: MetricFetchE INFO: Because val_acc is available_while_running and trial 2 is still RUNNING continuing the experiment and retrying on next poll...\n"
     ]
    },
    {
     "name": "stderr",
     "output_type": "stream",
     "text": [
      "[WARNING 08-15 06:40:21] Scheduler: Failed to fetch val_acc for trial 3, found MetricFetchE(message=\"No 'scalar' data found for trial in multiplexer mul=<tensorboard.backend.event_processing.plugin_event_multiplexer.EventMultiplexer object at 0x7f2441071360>\").\n"
     ]
    },
    {
     "name": "stderr",
     "output_type": "stream",
     "text": [
      "[INFO 08-15 06:40:21] Scheduler: MetricFetchE INFO: Because val_acc is available_while_running and trial 3 is still RUNNING continuing the experiment and retrying on next poll...\n"
     ]
    },
    {
     "name": "stderr",
     "output_type": "stream",
     "text": [
      "[WARNING 08-15 06:40:21] Scheduler: Failed to fetch val_acc for trial 4, found MetricFetchE(message=\"No 'scalar' data found for trial in multiplexer mul=<tensorboard.backend.event_processing.plugin_event_multiplexer.EventMultiplexer object at 0x7f2441071090>\").\n"
     ]
    },
    {
     "name": "stderr",
     "output_type": "stream",
     "text": [
      "[INFO 08-15 06:40:21] Scheduler: MetricFetchE INFO: Because val_acc is available_while_running and trial 4 is still RUNNING continuing the experiment and retrying on next poll...\n"
     ]
    },
    {
     "name": "stderr",
     "output_type": "stream",
     "text": [
      "[INFO 08-15 06:40:21] ax.early_stopping.strategies.base: PercentileEarlyStoppingStrategy received empty data. Not stopping any trials.\n"
     ]
    },
    {
     "name": "stderr",
     "output_type": "stream",
     "text": [
      "/tmp/tmp.3Yo4S3ORTG/Ax-main/ax/modelbridge/cross_validation.py:463: UserWarning: Encountered exception in computing model fit quality: RandomModelBridge does not support prediction.\n",
      "  warn(\"Encountered exception in computing model fit quality: \" + str(e))\n",
      "[INFO 08-15 06:40:21] Scheduler: Running trials [5]...\n"
     ]
    },
    {
     "name": "stderr",
     "output_type": "stream",
     "text": [
      "/tmp/tmp.3Yo4S3ORTG/Ax-main/ax/modelbridge/cross_validation.py:463: UserWarning: Encountered exception in computing model fit quality: RandomModelBridge does not support prediction.\n",
      "  warn(\"Encountered exception in computing model fit quality: \" + str(e))\n",
      "[INFO 08-15 06:40:22] Scheduler: Running trials [6]...\n"
     ]
    },
    {
     "name": "stderr",
     "output_type": "stream",
     "text": [
      "[WARNING 08-15 06:40:23] Scheduler: Both `init_seconds_between_polls` and `early_stopping_strategy supplied. `init_seconds_between_polls=1` will be overrridden by `early_stopping_strategy.seconds_between_polls=10` and polling will take place at a constant rate.\n"
     ]
    },
    {
     "name": "stderr",
     "output_type": "stream",
     "text": [
      "[INFO 08-15 06:40:23] Scheduler: Fetching data for newly completed trials: [].\n"
     ]
    },
    {
     "name": "stderr",
     "output_type": "stream",
     "text": [
      "[INFO 08-15 06:40:23] Scheduler: Fetching data for trials: 2 - 6 because some metrics on experiment are available while trials are running.\n"
     ]
    },
    {
     "name": "stderr",
     "output_type": "stream",
     "text": [
      "[INFO 08-15 06:40:23] ax.core.metric: MetricFetchE INFO: Initialized MetricFetchE(message=\"No 'scalar' data found for trial in multiplexer mul=<tensorboard.backend.event_processing.plugin_event_multiplexer.EventMultiplexer object at 0x7f2441073100>\")\n"
     ]
    },
    {
     "name": "stderr",
     "output_type": "stream",
     "text": [
      "[INFO 08-15 06:40:23] ax.core.metric: MetricFetchE INFO: Initialized MetricFetchE(message=\"No 'scalar' data found for trial in multiplexer mul=<tensorboard.backend.event_processing.plugin_event_multiplexer.EventMultiplexer object at 0x7f24410718d0>\")\n"
     ]
    },
    {
     "name": "stderr",
     "output_type": "stream",
     "text": [
      "[INFO 08-15 06:40:23] ax.core.metric: MetricFetchE INFO: Initialized MetricFetchE(message=\"No 'scalar' data found for trial in multiplexer mul=<tensorboard.backend.event_processing.plugin_event_multiplexer.EventMultiplexer object at 0x7f2441072a40>\")\n"
     ]
    },
    {
     "name": "stderr",
     "output_type": "stream",
     "text": [
      "[INFO 08-15 06:40:23] ax.core.metric: MetricFetchE INFO: Initialized MetricFetchE(message=\"No 'scalar' data found for trial in multiplexer mul=<tensorboard.backend.event_processing.plugin_event_multiplexer.EventMultiplexer object at 0x7f24410706a0>\")\n"
     ]
    },
    {
     "name": "stderr",
     "output_type": "stream",
     "text": [
      "[INFO 08-15 06:40:23] ax.core.metric: MetricFetchE INFO: Initialized MetricFetchE(message=\"No 'scalar' data found for trial in multiplexer mul=<tensorboard.backend.event_processing.plugin_event_multiplexer.EventMultiplexer object at 0x7f24410728f0>\")\n"
     ]
    },
    {
     "name": "stderr",
     "output_type": "stream",
     "text": [
      "[ERROR 08-15 06:40:23] ax.core.experiment: Discovered Metric fetching Err while attaching data MetricFetchE(message=\"No 'scalar' data found for trial in multiplexer mul=<tensorboard.backend.event_processing.plugin_event_multiplexer.EventMultiplexer object at 0x7f2441073100>\"). Ignoring for now -- will retry query on next call to fetch.\n"
     ]
    },
    {
     "name": "stderr",
     "output_type": "stream",
     "text": [
      "[ERROR 08-15 06:40:23] ax.core.experiment: Discovered Metric fetching Err while attaching data MetricFetchE(message=\"No 'scalar' data found for trial in multiplexer mul=<tensorboard.backend.event_processing.plugin_event_multiplexer.EventMultiplexer object at 0x7f24410718d0>\"). Ignoring for now -- will retry query on next call to fetch.\n"
     ]
    },
    {
     "name": "stderr",
     "output_type": "stream",
     "text": [
      "[ERROR 08-15 06:40:23] ax.core.experiment: Discovered Metric fetching Err while attaching data MetricFetchE(message=\"No 'scalar' data found for trial in multiplexer mul=<tensorboard.backend.event_processing.plugin_event_multiplexer.EventMultiplexer object at 0x7f2441072a40>\"). Ignoring for now -- will retry query on next call to fetch.\n"
     ]
    },
    {
     "name": "stderr",
     "output_type": "stream",
     "text": [
      "[ERROR 08-15 06:40:23] ax.core.experiment: Discovered Metric fetching Err while attaching data MetricFetchE(message=\"No 'scalar' data found for trial in multiplexer mul=<tensorboard.backend.event_processing.plugin_event_multiplexer.EventMultiplexer object at 0x7f24410706a0>\"). Ignoring for now -- will retry query on next call to fetch.\n"
     ]
    },
    {
     "name": "stderr",
     "output_type": "stream",
     "text": [
      "[ERROR 08-15 06:40:23] ax.core.experiment: Discovered Metric fetching Err while attaching data MetricFetchE(message=\"No 'scalar' data found for trial in multiplexer mul=<tensorboard.backend.event_processing.plugin_event_multiplexer.EventMultiplexer object at 0x7f24410728f0>\"). Ignoring for now -- will retry query on next call to fetch.\n"
     ]
    },
    {
     "name": "stderr",
     "output_type": "stream",
     "text": [
      "[WARNING 08-15 06:40:23] Scheduler: Failed to fetch val_acc for trial 2, found MetricFetchE(message=\"No 'scalar' data found for trial in multiplexer mul=<tensorboard.backend.event_processing.plugin_event_multiplexer.EventMultiplexer object at 0x7f2441073100>\").\n"
     ]
    },
    {
     "name": "stderr",
     "output_type": "stream",
     "text": [
      "[INFO 08-15 06:40:23] Scheduler: MetricFetchE INFO: Because val_acc is available_while_running and trial 2 is still RUNNING continuing the experiment and retrying on next poll...\n"
     ]
    },
    {
     "name": "stderr",
     "output_type": "stream",
     "text": [
      "[WARNING 08-15 06:40:23] Scheduler: Failed to fetch val_acc for trial 3, found MetricFetchE(message=\"No 'scalar' data found for trial in multiplexer mul=<tensorboard.backend.event_processing.plugin_event_multiplexer.EventMultiplexer object at 0x7f24410718d0>\").\n"
     ]
    },
    {
     "name": "stderr",
     "output_type": "stream",
     "text": [
      "[INFO 08-15 06:40:23] Scheduler: MetricFetchE INFO: Because val_acc is available_while_running and trial 3 is still RUNNING continuing the experiment and retrying on next poll...\n"
     ]
    },
    {
     "name": "stderr",
     "output_type": "stream",
     "text": [
      "[WARNING 08-15 06:40:23] Scheduler: Failed to fetch val_acc for trial 4, found MetricFetchE(message=\"No 'scalar' data found for trial in multiplexer mul=<tensorboard.backend.event_processing.plugin_event_multiplexer.EventMultiplexer object at 0x7f2441072a40>\").\n"
     ]
    },
    {
     "name": "stderr",
     "output_type": "stream",
     "text": [
      "[INFO 08-15 06:40:23] Scheduler: MetricFetchE INFO: Because val_acc is available_while_running and trial 4 is still RUNNING continuing the experiment and retrying on next poll...\n"
     ]
    },
    {
     "name": "stderr",
     "output_type": "stream",
     "text": [
      "[WARNING 08-15 06:40:23] Scheduler: Failed to fetch val_acc for trial 5, found MetricFetchE(message=\"No 'scalar' data found for trial in multiplexer mul=<tensorboard.backend.event_processing.plugin_event_multiplexer.EventMultiplexer object at 0x7f24410706a0>\").\n"
     ]
    },
    {
     "name": "stderr",
     "output_type": "stream",
     "text": [
      "[INFO 08-15 06:40:23] Scheduler: MetricFetchE INFO: Because val_acc is available_while_running and trial 5 is still RUNNING continuing the experiment and retrying on next poll...\n"
     ]
    },
    {
     "name": "stderr",
     "output_type": "stream",
     "text": [
      "[WARNING 08-15 06:40:23] Scheduler: Failed to fetch val_acc for trial 6, found MetricFetchE(message=\"No 'scalar' data found for trial in multiplexer mul=<tensorboard.backend.event_processing.plugin_event_multiplexer.EventMultiplexer object at 0x7f24410728f0>\").\n"
     ]
    },
    {
     "name": "stderr",
     "output_type": "stream",
     "text": [
      "[INFO 08-15 06:40:23] Scheduler: MetricFetchE INFO: Because val_acc is available_while_running and trial 6 is still RUNNING continuing the experiment and retrying on next poll...\n"
     ]
    },
    {
     "name": "stderr",
     "output_type": "stream",
     "text": [
      "[INFO 08-15 06:40:23] ax.early_stopping.strategies.base: PercentileEarlyStoppingStrategy received empty data. Not stopping any trials.\n"
     ]
    },
    {
     "name": "stderr",
     "output_type": "stream",
     "text": [
      "[INFO 08-15 06:40:23] Scheduler: Waiting for completed trials (for 10 sec, currently running trials: 5).\n"
     ]
    },
    {
     "name": "stderr",
     "output_type": "stream",
     "text": [
      "[INFO 08-15 06:40:33] Scheduler: Fetching data for newly completed trials: [].\n"
     ]
    },
    {
     "name": "stderr",
     "output_type": "stream",
     "text": [
      "[INFO 08-15 06:40:33] Scheduler: Fetching data for trials: 2 - 6 because some metrics on experiment are available while trials are running.\n"
     ]
    },
    {
     "name": "stderr",
     "output_type": "stream",
     "text": [
      "[INFO 08-15 06:40:33] ax.core.metric: MetricFetchE INFO: Initialized MetricFetchE(message=\"No 'scalar' data found for trial in multiplexer mul=<tensorboard.backend.event_processing.plugin_event_multiplexer.EventMultiplexer object at 0x7f2441071000>\")\n"
     ]
    },
    {
     "name": "stderr",
     "output_type": "stream",
     "text": [
      "[INFO 08-15 06:40:33] ax.core.metric: MetricFetchE INFO: Initialized MetricFetchE(message=\"No 'scalar' data found for trial in multiplexer mul=<tensorboard.backend.event_processing.plugin_event_multiplexer.EventMultiplexer object at 0x7f2441071000>\")\n"
     ]
    },
    {
     "name": "stderr",
     "output_type": "stream",
     "text": [
      "[INFO 08-15 06:40:33] ax.core.metric: MetricFetchE INFO: Initialized MetricFetchE(message=\"No 'scalar' data found for trial in multiplexer mul=<tensorboard.backend.event_processing.plugin_event_multiplexer.EventMultiplexer object at 0x7f2441071000>\")\n"
     ]
    },
    {
     "name": "stderr",
     "output_type": "stream",
     "text": [
      "[INFO 08-15 06:40:33] ax.core.metric: MetricFetchE INFO: Initialized MetricFetchE(message=\"No 'scalar' data found for trial in multiplexer mul=<tensorboard.backend.event_processing.plugin_event_multiplexer.EventMultiplexer object at 0x7f2441071000>\")\n"
     ]
    },
    {
     "name": "stderr",
     "output_type": "stream",
     "text": [
      "[INFO 08-15 06:40:33] ax.core.metric: MetricFetchE INFO: Initialized MetricFetchE(message=\"No 'scalar' data found for trial in multiplexer mul=<tensorboard.backend.event_processing.plugin_event_multiplexer.EventMultiplexer object at 0x7f2441071000>\")\n"
     ]
    },
    {
     "name": "stderr",
     "output_type": "stream",
     "text": [
      "[ERROR 08-15 06:40:33] ax.core.experiment: Discovered Metric fetching Err while attaching data MetricFetchE(message=\"No 'scalar' data found for trial in multiplexer mul=<tensorboard.backend.event_processing.plugin_event_multiplexer.EventMultiplexer object at 0x7f2441071000>\"). Ignoring for now -- will retry query on next call to fetch.\n"
     ]
    },
    {
     "name": "stderr",
     "output_type": "stream",
     "text": [
      "[ERROR 08-15 06:40:33] ax.core.experiment: Discovered Metric fetching Err while attaching data MetricFetchE(message=\"No 'scalar' data found for trial in multiplexer mul=<tensorboard.backend.event_processing.plugin_event_multiplexer.EventMultiplexer object at 0x7f2441071000>\"). Ignoring for now -- will retry query on next call to fetch.\n"
     ]
    },
    {
     "name": "stderr",
     "output_type": "stream",
     "text": [
      "[ERROR 08-15 06:40:33] ax.core.experiment: Discovered Metric fetching Err while attaching data MetricFetchE(message=\"No 'scalar' data found for trial in multiplexer mul=<tensorboard.backend.event_processing.plugin_event_multiplexer.EventMultiplexer object at 0x7f2441071000>\"). Ignoring for now -- will retry query on next call to fetch.\n"
     ]
    },
    {
     "name": "stderr",
     "output_type": "stream",
     "text": [
      "[ERROR 08-15 06:40:33] ax.core.experiment: Discovered Metric fetching Err while attaching data MetricFetchE(message=\"No 'scalar' data found for trial in multiplexer mul=<tensorboard.backend.event_processing.plugin_event_multiplexer.EventMultiplexer object at 0x7f2441071000>\"). Ignoring for now -- will retry query on next call to fetch.\n"
     ]
    },
    {
     "name": "stderr",
     "output_type": "stream",
     "text": [
      "[ERROR 08-15 06:40:33] ax.core.experiment: Discovered Metric fetching Err while attaching data MetricFetchE(message=\"No 'scalar' data found for trial in multiplexer mul=<tensorboard.backend.event_processing.plugin_event_multiplexer.EventMultiplexer object at 0x7f2441071000>\"). Ignoring for now -- will retry query on next call to fetch.\n"
     ]
    },
    {
     "name": "stderr",
     "output_type": "stream",
     "text": [
      "[WARNING 08-15 06:40:33] Scheduler: Failed to fetch val_acc for trial 2, found MetricFetchE(message=\"No 'scalar' data found for trial in multiplexer mul=<tensorboard.backend.event_processing.plugin_event_multiplexer.EventMultiplexer object at 0x7f2441071000>\").\n"
     ]
    },
    {
     "name": "stderr",
     "output_type": "stream",
     "text": [
      "[INFO 08-15 06:40:33] Scheduler: MetricFetchE INFO: Because val_acc is available_while_running and trial 2 is still RUNNING continuing the experiment and retrying on next poll...\n"
     ]
    },
    {
     "name": "stderr",
     "output_type": "stream",
     "text": [
      "[WARNING 08-15 06:40:33] Scheduler: Failed to fetch val_acc for trial 3, found MetricFetchE(message=\"No 'scalar' data found for trial in multiplexer mul=<tensorboard.backend.event_processing.plugin_event_multiplexer.EventMultiplexer object at 0x7f2441071000>\").\n"
     ]
    },
    {
     "name": "stderr",
     "output_type": "stream",
     "text": [
      "[INFO 08-15 06:40:33] Scheduler: MetricFetchE INFO: Because val_acc is available_while_running and trial 3 is still RUNNING continuing the experiment and retrying on next poll...\n"
     ]
    },
    {
     "name": "stderr",
     "output_type": "stream",
     "text": [
      "[WARNING 08-15 06:40:33] Scheduler: Failed to fetch val_acc for trial 4, found MetricFetchE(message=\"No 'scalar' data found for trial in multiplexer mul=<tensorboard.backend.event_processing.plugin_event_multiplexer.EventMultiplexer object at 0x7f2441071000>\").\n"
     ]
    },
    {
     "name": "stderr",
     "output_type": "stream",
     "text": [
      "[INFO 08-15 06:40:33] Scheduler: MetricFetchE INFO: Because val_acc is available_while_running and trial 4 is still RUNNING continuing the experiment and retrying on next poll...\n"
     ]
    },
    {
     "name": "stderr",
     "output_type": "stream",
     "text": [
      "[WARNING 08-15 06:40:33] Scheduler: Failed to fetch val_acc for trial 5, found MetricFetchE(message=\"No 'scalar' data found for trial in multiplexer mul=<tensorboard.backend.event_processing.plugin_event_multiplexer.EventMultiplexer object at 0x7f2441071000>\").\n"
     ]
    },
    {
     "name": "stderr",
     "output_type": "stream",
     "text": [
      "[INFO 08-15 06:40:33] Scheduler: MetricFetchE INFO: Because val_acc is available_while_running and trial 5 is still RUNNING continuing the experiment and retrying on next poll...\n"
     ]
    },
    {
     "name": "stderr",
     "output_type": "stream",
     "text": [
      "[WARNING 08-15 06:40:33] Scheduler: Failed to fetch val_acc for trial 6, found MetricFetchE(message=\"No 'scalar' data found for trial in multiplexer mul=<tensorboard.backend.event_processing.plugin_event_multiplexer.EventMultiplexer object at 0x7f2441071000>\").\n"
     ]
    },
    {
     "name": "stderr",
     "output_type": "stream",
     "text": [
      "[INFO 08-15 06:40:33] Scheduler: MetricFetchE INFO: Because val_acc is available_while_running and trial 6 is still RUNNING continuing the experiment and retrying on next poll...\n"
     ]
    },
    {
     "name": "stderr",
     "output_type": "stream",
     "text": [
      "[INFO 08-15 06:40:33] ax.early_stopping.strategies.base: PercentileEarlyStoppingStrategy received empty data. Not stopping any trials.\n"
     ]
    },
    {
     "name": "stderr",
     "output_type": "stream",
     "text": [
      "[INFO 08-15 06:40:33] Scheduler: Waiting for completed trials (for 10 sec, currently running trials: 5).\n"
     ]
    },
    {
     "name": "stderr",
     "output_type": "stream",
     "text": [
      "[INFO 08-15 06:40:43] Scheduler: Fetching data for newly completed trials: [].\n"
     ]
    },
    {
     "name": "stderr",
     "output_type": "stream",
     "text": [
      "[INFO 08-15 06:40:43] Scheduler: Fetching data for trials: 2 - 6 because some metrics on experiment are available while trials are running.\n"
     ]
    },
    {
     "name": "stderr",
     "output_type": "stream",
     "text": [
      "[INFO 08-15 06:40:43] ax.core.metric: MetricFetchE INFO: Initialized MetricFetchE(message=\"No 'scalar' data found for trial in multiplexer mul=<tensorboard.backend.event_processing.plugin_event_multiplexer.EventMultiplexer object at 0x7f24410734c0>\")\n"
     ]
    },
    {
     "name": "stderr",
     "output_type": "stream",
     "text": [
      "[INFO 08-15 06:40:43] ax.core.metric: MetricFetchE INFO: Initialized MetricFetchE(message=\"No 'scalar' data found for trial in multiplexer mul=<tensorboard.backend.event_processing.plugin_event_multiplexer.EventMultiplexer object at 0x7f24410734c0>\")\n"
     ]
    },
    {
     "name": "stderr",
     "output_type": "stream",
     "text": [
      "[INFO 08-15 06:40:43] ax.core.metric: MetricFetchE INFO: Initialized MetricFetchE(message=\"No 'scalar' data found for trial in multiplexer mul=<tensorboard.backend.event_processing.plugin_event_multiplexer.EventMultiplexer object at 0x7f24410734c0>\")\n"
     ]
    },
    {
     "name": "stderr",
     "output_type": "stream",
     "text": [
      "[INFO 08-15 06:40:43] ax.core.metric: MetricFetchE INFO: Initialized MetricFetchE(message=\"No 'scalar' data found for trial in multiplexer mul=<tensorboard.backend.event_processing.plugin_event_multiplexer.EventMultiplexer object at 0x7f24410734c0>\")\n"
     ]
    },
    {
     "name": "stderr",
     "output_type": "stream",
     "text": [
      "[INFO 08-15 06:40:43] ax.core.metric: MetricFetchE INFO: Initialized MetricFetchE(message=\"No 'scalar' data found for trial in multiplexer mul=<tensorboard.backend.event_processing.plugin_event_multiplexer.EventMultiplexer object at 0x7f24410734c0>\")\n"
     ]
    },
    {
     "name": "stderr",
     "output_type": "stream",
     "text": [
      "[ERROR 08-15 06:40:43] ax.core.experiment: Discovered Metric fetching Err while attaching data MetricFetchE(message=\"No 'scalar' data found for trial in multiplexer mul=<tensorboard.backend.event_processing.plugin_event_multiplexer.EventMultiplexer object at 0x7f24410734c0>\"). Ignoring for now -- will retry query on next call to fetch.\n"
     ]
    },
    {
     "name": "stderr",
     "output_type": "stream",
     "text": [
      "[ERROR 08-15 06:40:43] ax.core.experiment: Discovered Metric fetching Err while attaching data MetricFetchE(message=\"No 'scalar' data found for trial in multiplexer mul=<tensorboard.backend.event_processing.plugin_event_multiplexer.EventMultiplexer object at 0x7f24410734c0>\"). Ignoring for now -- will retry query on next call to fetch.\n"
     ]
    },
    {
     "name": "stderr",
     "output_type": "stream",
     "text": [
      "[ERROR 08-15 06:40:43] ax.core.experiment: Discovered Metric fetching Err while attaching data MetricFetchE(message=\"No 'scalar' data found for trial in multiplexer mul=<tensorboard.backend.event_processing.plugin_event_multiplexer.EventMultiplexer object at 0x7f24410734c0>\"). Ignoring for now -- will retry query on next call to fetch.\n"
     ]
    },
    {
     "name": "stderr",
     "output_type": "stream",
     "text": [
      "[ERROR 08-15 06:40:43] ax.core.experiment: Discovered Metric fetching Err while attaching data MetricFetchE(message=\"No 'scalar' data found for trial in multiplexer mul=<tensorboard.backend.event_processing.plugin_event_multiplexer.EventMultiplexer object at 0x7f24410734c0>\"). Ignoring for now -- will retry query on next call to fetch.\n"
     ]
    },
    {
     "name": "stderr",
     "output_type": "stream",
     "text": [
      "[ERROR 08-15 06:40:43] ax.core.experiment: Discovered Metric fetching Err while attaching data MetricFetchE(message=\"No 'scalar' data found for trial in multiplexer mul=<tensorboard.backend.event_processing.plugin_event_multiplexer.EventMultiplexer object at 0x7f24410734c0>\"). Ignoring for now -- will retry query on next call to fetch.\n"
     ]
    },
    {
     "name": "stderr",
     "output_type": "stream",
     "text": [
      "[WARNING 08-15 06:40:43] Scheduler: Failed to fetch val_acc for trial 2, found MetricFetchE(message=\"No 'scalar' data found for trial in multiplexer mul=<tensorboard.backend.event_processing.plugin_event_multiplexer.EventMultiplexer object at 0x7f24410734c0>\").\n"
     ]
    },
    {
     "name": "stderr",
     "output_type": "stream",
     "text": [
      "[INFO 08-15 06:40:43] Scheduler: MetricFetchE INFO: Because val_acc is available_while_running and trial 2 is still RUNNING continuing the experiment and retrying on next poll...\n"
     ]
    },
    {
     "name": "stderr",
     "output_type": "stream",
     "text": [
      "[WARNING 08-15 06:40:43] Scheduler: Failed to fetch val_acc for trial 3, found MetricFetchE(message=\"No 'scalar' data found for trial in multiplexer mul=<tensorboard.backend.event_processing.plugin_event_multiplexer.EventMultiplexer object at 0x7f24410734c0>\").\n"
     ]
    },
    {
     "name": "stderr",
     "output_type": "stream",
     "text": [
      "[INFO 08-15 06:40:43] Scheduler: MetricFetchE INFO: Because val_acc is available_while_running and trial 3 is still RUNNING continuing the experiment and retrying on next poll...\n"
     ]
    },
    {
     "name": "stderr",
     "output_type": "stream",
     "text": [
      "[WARNING 08-15 06:40:43] Scheduler: Failed to fetch val_acc for trial 4, found MetricFetchE(message=\"No 'scalar' data found for trial in multiplexer mul=<tensorboard.backend.event_processing.plugin_event_multiplexer.EventMultiplexer object at 0x7f24410734c0>\").\n"
     ]
    },
    {
     "name": "stderr",
     "output_type": "stream",
     "text": [
      "[INFO 08-15 06:40:43] Scheduler: MetricFetchE INFO: Because val_acc is available_while_running and trial 4 is still RUNNING continuing the experiment and retrying on next poll...\n"
     ]
    },
    {
     "name": "stderr",
     "output_type": "stream",
     "text": [
      "[WARNING 08-15 06:40:43] Scheduler: Failed to fetch val_acc for trial 5, found MetricFetchE(message=\"No 'scalar' data found for trial in multiplexer mul=<tensorboard.backend.event_processing.plugin_event_multiplexer.EventMultiplexer object at 0x7f24410734c0>\").\n"
     ]
    },
    {
     "name": "stderr",
     "output_type": "stream",
     "text": [
      "[INFO 08-15 06:40:43] Scheduler: MetricFetchE INFO: Because val_acc is available_while_running and trial 5 is still RUNNING continuing the experiment and retrying on next poll...\n"
     ]
    },
    {
     "name": "stderr",
     "output_type": "stream",
     "text": [
      "[WARNING 08-15 06:40:43] Scheduler: Failed to fetch val_acc for trial 6, found MetricFetchE(message=\"No 'scalar' data found for trial in multiplexer mul=<tensorboard.backend.event_processing.plugin_event_multiplexer.EventMultiplexer object at 0x7f24410734c0>\").\n"
     ]
    },
    {
     "name": "stderr",
     "output_type": "stream",
     "text": [
      "[INFO 08-15 06:40:43] Scheduler: MetricFetchE INFO: Because val_acc is available_while_running and trial 6 is still RUNNING continuing the experiment and retrying on next poll...\n"
     ]
    },
    {
     "name": "stderr",
     "output_type": "stream",
     "text": [
      "[INFO 08-15 06:40:43] ax.early_stopping.strategies.base: PercentileEarlyStoppingStrategy received empty data. Not stopping any trials.\n"
     ]
    },
    {
     "name": "stderr",
     "output_type": "stream",
     "text": [
      "[INFO 08-15 06:40:43] Scheduler: Waiting for completed trials (for 10 sec, currently running trials: 5).\n"
     ]
    },
    {
     "name": "stderr",
     "output_type": "stream",
     "text": [
      "[INFO 08-15 06:40:53] Scheduler: Fetching data for newly completed trials: [].\n"
     ]
    },
    {
     "name": "stderr",
     "output_type": "stream",
     "text": [
      "[INFO 08-15 06:40:53] Scheduler: Fetching data for trials: 2 - 6 because some metrics on experiment are available while trials are running.\n"
     ]
    },
    {
     "name": "stderr",
     "output_type": "stream",
     "text": [
      "[INFO 08-15 06:40:53] ax.core.metric: MetricFetchE INFO: Initialized MetricFetchE(message=\"No 'scalar' data found for trial in multiplexer mul=<tensorboard.backend.event_processing.plugin_event_multiplexer.EventMultiplexer object at 0x7f2441073ac0>\")\n"
     ]
    },
    {
     "name": "stderr",
     "output_type": "stream",
     "text": [
      "[INFO 08-15 06:40:53] ax.core.metric: MetricFetchE INFO: Initialized MetricFetchE(message=\"No 'scalar' data found for trial in multiplexer mul=<tensorboard.backend.event_processing.plugin_event_multiplexer.EventMultiplexer object at 0x7f2441073c10>\")\n"
     ]
    },
    {
     "name": "stderr",
     "output_type": "stream",
     "text": [
      "[INFO 08-15 06:40:53] ax.core.metric: MetricFetchE INFO: Initialized MetricFetchE(message=\"No 'scalar' data found for trial in multiplexer mul=<tensorboard.backend.event_processing.plugin_event_multiplexer.EventMultiplexer object at 0x7f2441073c10>\")\n"
     ]
    },
    {
     "name": "stderr",
     "output_type": "stream",
     "text": [
      "[INFO 08-15 06:40:53] ax.core.metric: MetricFetchE INFO: Initialized MetricFetchE(message=\"No 'scalar' data found for trial in multiplexer mul=<tensorboard.backend.event_processing.plugin_event_multiplexer.EventMultiplexer object at 0x7f2441073c10>\")\n"
     ]
    },
    {
     "name": "stderr",
     "output_type": "stream",
     "text": [
      "[INFO 08-15 06:40:53] ax.core.metric: MetricFetchE INFO: Initialized MetricFetchE(message=\"No 'scalar' data found for trial in multiplexer mul=<tensorboard.backend.event_processing.plugin_event_multiplexer.EventMultiplexer object at 0x7f2441073c10>\")\n"
     ]
    },
    {
     "name": "stderr",
     "output_type": "stream",
     "text": [
      "[ERROR 08-15 06:40:53] ax.core.experiment: Discovered Metric fetching Err while attaching data MetricFetchE(message=\"No 'scalar' data found for trial in multiplexer mul=<tensorboard.backend.event_processing.plugin_event_multiplexer.EventMultiplexer object at 0x7f2441073ac0>\"). Ignoring for now -- will retry query on next call to fetch.\n"
     ]
    },
    {
     "name": "stderr",
     "output_type": "stream",
     "text": [
      "[ERROR 08-15 06:40:53] ax.core.experiment: Discovered Metric fetching Err while attaching data MetricFetchE(message=\"No 'scalar' data found for trial in multiplexer mul=<tensorboard.backend.event_processing.plugin_event_multiplexer.EventMultiplexer object at 0x7f2441073c10>\"). Ignoring for now -- will retry query on next call to fetch.\n"
     ]
    },
    {
     "name": "stderr",
     "output_type": "stream",
     "text": [
      "[ERROR 08-15 06:40:53] ax.core.experiment: Discovered Metric fetching Err while attaching data MetricFetchE(message=\"No 'scalar' data found for trial in multiplexer mul=<tensorboard.backend.event_processing.plugin_event_multiplexer.EventMultiplexer object at 0x7f2441073c10>\"). Ignoring for now -- will retry query on next call to fetch.\n"
     ]
    },
    {
     "name": "stderr",
     "output_type": "stream",
     "text": [
      "[ERROR 08-15 06:40:53] ax.core.experiment: Discovered Metric fetching Err while attaching data MetricFetchE(message=\"No 'scalar' data found for trial in multiplexer mul=<tensorboard.backend.event_processing.plugin_event_multiplexer.EventMultiplexer object at 0x7f2441073c10>\"). Ignoring for now -- will retry query on next call to fetch.\n"
     ]
    },
    {
     "name": "stderr",
     "output_type": "stream",
     "text": [
      "[ERROR 08-15 06:40:53] ax.core.experiment: Discovered Metric fetching Err while attaching data MetricFetchE(message=\"No 'scalar' data found for trial in multiplexer mul=<tensorboard.backend.event_processing.plugin_event_multiplexer.EventMultiplexer object at 0x7f2441073c10>\"). Ignoring for now -- will retry query on next call to fetch.\n"
     ]
    },
    {
     "name": "stderr",
     "output_type": "stream",
     "text": [
      "[WARNING 08-15 06:40:53] Scheduler: Failed to fetch val_acc for trial 2, found MetricFetchE(message=\"No 'scalar' data found for trial in multiplexer mul=<tensorboard.backend.event_processing.plugin_event_multiplexer.EventMultiplexer object at 0x7f2441073ac0>\").\n"
     ]
    },
    {
     "name": "stderr",
     "output_type": "stream",
     "text": [
      "[INFO 08-15 06:40:53] Scheduler: MetricFetchE INFO: Because val_acc is available_while_running and trial 2 is still RUNNING continuing the experiment and retrying on next poll...\n"
     ]
    },
    {
     "name": "stderr",
     "output_type": "stream",
     "text": [
      "[WARNING 08-15 06:40:53] Scheduler: Failed to fetch val_acc for trial 3, found MetricFetchE(message=\"No 'scalar' data found for trial in multiplexer mul=<tensorboard.backend.event_processing.plugin_event_multiplexer.EventMultiplexer object at 0x7f2441073c10>\").\n"
     ]
    },
    {
     "name": "stderr",
     "output_type": "stream",
     "text": [
      "[INFO 08-15 06:40:53] Scheduler: MetricFetchE INFO: Because val_acc is available_while_running and trial 3 is still RUNNING continuing the experiment and retrying on next poll...\n"
     ]
    },
    {
     "name": "stderr",
     "output_type": "stream",
     "text": [
      "[WARNING 08-15 06:40:53] Scheduler: Failed to fetch val_acc for trial 4, found MetricFetchE(message=\"No 'scalar' data found for trial in multiplexer mul=<tensorboard.backend.event_processing.plugin_event_multiplexer.EventMultiplexer object at 0x7f2441073c10>\").\n"
     ]
    },
    {
     "name": "stderr",
     "output_type": "stream",
     "text": [
      "[INFO 08-15 06:40:53] Scheduler: MetricFetchE INFO: Because val_acc is available_while_running and trial 4 is still RUNNING continuing the experiment and retrying on next poll...\n"
     ]
    },
    {
     "name": "stderr",
     "output_type": "stream",
     "text": [
      "[WARNING 08-15 06:40:53] Scheduler: Failed to fetch val_acc for trial 5, found MetricFetchE(message=\"No 'scalar' data found for trial in multiplexer mul=<tensorboard.backend.event_processing.plugin_event_multiplexer.EventMultiplexer object at 0x7f2441073c10>\").\n"
     ]
    },
    {
     "name": "stderr",
     "output_type": "stream",
     "text": [
      "[INFO 08-15 06:40:53] Scheduler: MetricFetchE INFO: Because val_acc is available_while_running and trial 5 is still RUNNING continuing the experiment and retrying on next poll...\n"
     ]
    },
    {
     "name": "stderr",
     "output_type": "stream",
     "text": [
      "[WARNING 08-15 06:40:53] Scheduler: Failed to fetch val_acc for trial 6, found MetricFetchE(message=\"No 'scalar' data found for trial in multiplexer mul=<tensorboard.backend.event_processing.plugin_event_multiplexer.EventMultiplexer object at 0x7f2441073c10>\").\n"
     ]
    },
    {
     "name": "stderr",
     "output_type": "stream",
     "text": [
      "[INFO 08-15 06:40:53] Scheduler: MetricFetchE INFO: Because val_acc is available_while_running and trial 6 is still RUNNING continuing the experiment and retrying on next poll...\n"
     ]
    },
    {
     "name": "stderr",
     "output_type": "stream",
     "text": [
      "[INFO 08-15 06:40:53] ax.early_stopping.strategies.base: PercentileEarlyStoppingStrategy received empty data. Not stopping any trials.\n"
     ]
    },
    {
     "name": "stderr",
     "output_type": "stream",
     "text": [
      "[INFO 08-15 06:40:53] Scheduler: Waiting for completed trials (for 10 sec, currently running trials: 5).\n"
     ]
    },
    {
     "name": "stderr",
     "output_type": "stream",
     "text": [
      "[INFO 08-15 06:41:03] Scheduler: Fetching data for newly completed trials: [].\n"
     ]
    },
    {
     "name": "stderr",
     "output_type": "stream",
     "text": [
      "[INFO 08-15 06:41:03] Scheduler: Fetching data for trials: 2 - 6 because some metrics on experiment are available while trials are running.\n"
     ]
    },
    {
     "name": "stderr",
     "output_type": "stream",
     "text": [
      "[INFO 08-15 06:41:03] ax.core.metric: MetricFetchE INFO: Initialized MetricFetchE(message=\"No 'scalar' data found for trial in multiplexer mul=<tensorboard.backend.event_processing.plugin_event_multiplexer.EventMultiplexer object at 0x7f2441071990>\")\n"
     ]
    },
    {
     "name": "stderr",
     "output_type": "stream",
     "text": [
      "[INFO 08-15 06:41:03] ax.core.metric: MetricFetchE INFO: Initialized MetricFetchE(message=\"No 'scalar' data found for trial in multiplexer mul=<tensorboard.backend.event_processing.plugin_event_multiplexer.EventMultiplexer object at 0x7f2441072aa0>\")\n"
     ]
    },
    {
     "name": "stderr",
     "output_type": "stream",
     "text": [
      "[INFO 08-15 06:41:03] ax.core.metric: MetricFetchE INFO: Initialized MetricFetchE(message=\"No 'scalar' data found for trial in multiplexer mul=<tensorboard.backend.event_processing.plugin_event_multiplexer.EventMultiplexer object at 0x7f2441072aa0>\")\n"
     ]
    },
    {
     "name": "stderr",
     "output_type": "stream",
     "text": [
      "[INFO 08-15 06:41:03] ax.core.metric: MetricFetchE INFO: Initialized MetricFetchE(message=\"No 'scalar' data found for trial in multiplexer mul=<tensorboard.backend.event_processing.plugin_event_multiplexer.EventMultiplexer object at 0x7f2441072aa0>\")\n"
     ]
    },
    {
     "name": "stderr",
     "output_type": "stream",
     "text": [
      "[INFO 08-15 06:41:03] ax.core.metric: MetricFetchE INFO: Initialized MetricFetchE(message=\"No 'scalar' data found for trial in multiplexer mul=<tensorboard.backend.event_processing.plugin_event_multiplexer.EventMultiplexer object at 0x7f2441072aa0>\")\n"
     ]
    },
    {
     "name": "stderr",
     "output_type": "stream",
     "text": [
      "[ERROR 08-15 06:41:03] ax.core.experiment: Discovered Metric fetching Err while attaching data MetricFetchE(message=\"No 'scalar' data found for trial in multiplexer mul=<tensorboard.backend.event_processing.plugin_event_multiplexer.EventMultiplexer object at 0x7f2441071990>\"). Ignoring for now -- will retry query on next call to fetch.\n"
     ]
    },
    {
     "name": "stderr",
     "output_type": "stream",
     "text": [
      "[ERROR 08-15 06:41:03] ax.core.experiment: Discovered Metric fetching Err while attaching data MetricFetchE(message=\"No 'scalar' data found for trial in multiplexer mul=<tensorboard.backend.event_processing.plugin_event_multiplexer.EventMultiplexer object at 0x7f2441072aa0>\"). Ignoring for now -- will retry query on next call to fetch.\n"
     ]
    },
    {
     "name": "stderr",
     "output_type": "stream",
     "text": [
      "[ERROR 08-15 06:41:03] ax.core.experiment: Discovered Metric fetching Err while attaching data MetricFetchE(message=\"No 'scalar' data found for trial in multiplexer mul=<tensorboard.backend.event_processing.plugin_event_multiplexer.EventMultiplexer object at 0x7f2441072aa0>\"). Ignoring for now -- will retry query on next call to fetch.\n"
     ]
    },
    {
     "name": "stderr",
     "output_type": "stream",
     "text": [
      "[ERROR 08-15 06:41:03] ax.core.experiment: Discovered Metric fetching Err while attaching data MetricFetchE(message=\"No 'scalar' data found for trial in multiplexer mul=<tensorboard.backend.event_processing.plugin_event_multiplexer.EventMultiplexer object at 0x7f2441072aa0>\"). Ignoring for now -- will retry query on next call to fetch.\n"
     ]
    },
    {
     "name": "stderr",
     "output_type": "stream",
     "text": [
      "[ERROR 08-15 06:41:03] ax.core.experiment: Discovered Metric fetching Err while attaching data MetricFetchE(message=\"No 'scalar' data found for trial in multiplexer mul=<tensorboard.backend.event_processing.plugin_event_multiplexer.EventMultiplexer object at 0x7f2441072aa0>\"). Ignoring for now -- will retry query on next call to fetch.\n"
     ]
    },
    {
     "name": "stderr",
     "output_type": "stream",
     "text": [
      "[WARNING 08-15 06:41:03] Scheduler: Failed to fetch val_acc for trial 2, found MetricFetchE(message=\"No 'scalar' data found for trial in multiplexer mul=<tensorboard.backend.event_processing.plugin_event_multiplexer.EventMultiplexer object at 0x7f2441071990>\").\n"
     ]
    },
    {
     "name": "stderr",
     "output_type": "stream",
     "text": [
      "[INFO 08-15 06:41:03] Scheduler: MetricFetchE INFO: Because val_acc is available_while_running and trial 2 is still RUNNING continuing the experiment and retrying on next poll...\n"
     ]
    },
    {
     "name": "stderr",
     "output_type": "stream",
     "text": [
      "[WARNING 08-15 06:41:03] Scheduler: Failed to fetch val_acc for trial 3, found MetricFetchE(message=\"No 'scalar' data found for trial in multiplexer mul=<tensorboard.backend.event_processing.plugin_event_multiplexer.EventMultiplexer object at 0x7f2441072aa0>\").\n"
     ]
    },
    {
     "name": "stderr",
     "output_type": "stream",
     "text": [
      "[INFO 08-15 06:41:03] Scheduler: MetricFetchE INFO: Because val_acc is available_while_running and trial 3 is still RUNNING continuing the experiment and retrying on next poll...\n"
     ]
    },
    {
     "name": "stderr",
     "output_type": "stream",
     "text": [
      "[WARNING 08-15 06:41:03] Scheduler: Failed to fetch val_acc for trial 4, found MetricFetchE(message=\"No 'scalar' data found for trial in multiplexer mul=<tensorboard.backend.event_processing.plugin_event_multiplexer.EventMultiplexer object at 0x7f2441072aa0>\").\n"
     ]
    },
    {
     "name": "stderr",
     "output_type": "stream",
     "text": [
      "[INFO 08-15 06:41:03] Scheduler: MetricFetchE INFO: Because val_acc is available_while_running and trial 4 is still RUNNING continuing the experiment and retrying on next poll...\n"
     ]
    },
    {
     "name": "stderr",
     "output_type": "stream",
     "text": [
      "[WARNING 08-15 06:41:03] Scheduler: Failed to fetch val_acc for trial 5, found MetricFetchE(message=\"No 'scalar' data found for trial in multiplexer mul=<tensorboard.backend.event_processing.plugin_event_multiplexer.EventMultiplexer object at 0x7f2441072aa0>\").\n"
     ]
    },
    {
     "name": "stderr",
     "output_type": "stream",
     "text": [
      "[INFO 08-15 06:41:03] Scheduler: MetricFetchE INFO: Because val_acc is available_while_running and trial 5 is still RUNNING continuing the experiment and retrying on next poll...\n"
     ]
    },
    {
     "name": "stderr",
     "output_type": "stream",
     "text": [
      "[WARNING 08-15 06:41:03] Scheduler: Failed to fetch val_acc for trial 6, found MetricFetchE(message=\"No 'scalar' data found for trial in multiplexer mul=<tensorboard.backend.event_processing.plugin_event_multiplexer.EventMultiplexer object at 0x7f2441072aa0>\").\n"
     ]
    },
    {
     "name": "stderr",
     "output_type": "stream",
     "text": [
      "[INFO 08-15 06:41:03] Scheduler: MetricFetchE INFO: Because val_acc is available_while_running and trial 6 is still RUNNING continuing the experiment and retrying on next poll...\n"
     ]
    },
    {
     "name": "stderr",
     "output_type": "stream",
     "text": [
      "[INFO 08-15 06:41:03] ax.early_stopping.strategies.base: PercentileEarlyStoppingStrategy received empty data. Not stopping any trials.\n"
     ]
    },
    {
     "name": "stderr",
     "output_type": "stream",
     "text": [
      "[INFO 08-15 06:41:03] Scheduler: Waiting for completed trials (for 10 sec, currently running trials: 5).\n"
     ]
    },
    {
     "name": "stderr",
     "output_type": "stream",
     "text": [
      "[INFO 08-15 06:41:13] Scheduler: Fetching data for newly completed trials: [].\n"
     ]
    },
    {
     "name": "stderr",
     "output_type": "stream",
     "text": [
      "[INFO 08-15 06:41:13] Scheduler: Fetching data for trials: 2 - 6 because some metrics on experiment are available while trials are running.\n"
     ]
    },
    {
     "name": "stderr",
     "output_type": "stream",
     "text": [
      "[INFO 08-15 06:41:13] ax.core.metric: MetricFetchE INFO: Initialized MetricFetchE(message=\"No 'scalar' data found for trial in multiplexer mul=<tensorboard.backend.event_processing.plugin_event_multiplexer.EventMultiplexer object at 0x7f24410725c0>\")\n"
     ]
    },
    {
     "name": "stderr",
     "output_type": "stream",
     "text": [
      "[INFO 08-15 06:41:13] ax.core.metric: MetricFetchE INFO: Initialized MetricFetchE(message=\"No 'scalar' data found for trial in multiplexer mul=<tensorboard.backend.event_processing.plugin_event_multiplexer.EventMultiplexer object at 0x7f2441072ad0>\")\n"
     ]
    },
    {
     "name": "stderr",
     "output_type": "stream",
     "text": [
      "[INFO 08-15 06:41:13] ax.core.metric: MetricFetchE INFO: Initialized MetricFetchE(message=\"No 'scalar' data found for trial in multiplexer mul=<tensorboard.backend.event_processing.plugin_event_multiplexer.EventMultiplexer object at 0x7f2441072ad0>\")\n"
     ]
    },
    {
     "name": "stderr",
     "output_type": "stream",
     "text": [
      "[INFO 08-15 06:41:14] ax.core.metric: MetricFetchE INFO: Initialized MetricFetchE(message=\"No 'scalar' data found for trial in multiplexer mul=<tensorboard.backend.event_processing.plugin_event_multiplexer.EventMultiplexer object at 0x7f2441072ad0>\")\n"
     ]
    },
    {
     "name": "stderr",
     "output_type": "stream",
     "text": [
      "[INFO 08-15 06:41:14] ax.core.metric: MetricFetchE INFO: Initialized MetricFetchE(message=\"No 'scalar' data found for trial in multiplexer mul=<tensorboard.backend.event_processing.plugin_event_multiplexer.EventMultiplexer object at 0x7f2441072ad0>\")\n"
     ]
    },
    {
     "name": "stderr",
     "output_type": "stream",
     "text": [
      "[ERROR 08-15 06:41:14] ax.core.experiment: Discovered Metric fetching Err while attaching data MetricFetchE(message=\"No 'scalar' data found for trial in multiplexer mul=<tensorboard.backend.event_processing.plugin_event_multiplexer.EventMultiplexer object at 0x7f24410725c0>\"). Ignoring for now -- will retry query on next call to fetch.\n"
     ]
    },
    {
     "name": "stderr",
     "output_type": "stream",
     "text": [
      "[ERROR 08-15 06:41:14] ax.core.experiment: Discovered Metric fetching Err while attaching data MetricFetchE(message=\"No 'scalar' data found for trial in multiplexer mul=<tensorboard.backend.event_processing.plugin_event_multiplexer.EventMultiplexer object at 0x7f2441072ad0>\"). Ignoring for now -- will retry query on next call to fetch.\n"
     ]
    },
    {
     "name": "stderr",
     "output_type": "stream",
     "text": [
      "[ERROR 08-15 06:41:14] ax.core.experiment: Discovered Metric fetching Err while attaching data MetricFetchE(message=\"No 'scalar' data found for trial in multiplexer mul=<tensorboard.backend.event_processing.plugin_event_multiplexer.EventMultiplexer object at 0x7f2441072ad0>\"). Ignoring for now -- will retry query on next call to fetch.\n"
     ]
    },
    {
     "name": "stderr",
     "output_type": "stream",
     "text": [
      "[ERROR 08-15 06:41:14] ax.core.experiment: Discovered Metric fetching Err while attaching data MetricFetchE(message=\"No 'scalar' data found for trial in multiplexer mul=<tensorboard.backend.event_processing.plugin_event_multiplexer.EventMultiplexer object at 0x7f2441072ad0>\"). Ignoring for now -- will retry query on next call to fetch.\n"
     ]
    },
    {
     "name": "stderr",
     "output_type": "stream",
     "text": [
      "[ERROR 08-15 06:41:14] ax.core.experiment: Discovered Metric fetching Err while attaching data MetricFetchE(message=\"No 'scalar' data found for trial in multiplexer mul=<tensorboard.backend.event_processing.plugin_event_multiplexer.EventMultiplexer object at 0x7f2441072ad0>\"). Ignoring for now -- will retry query on next call to fetch.\n"
     ]
    },
    {
     "name": "stderr",
     "output_type": "stream",
     "text": [
      "[WARNING 08-15 06:41:14] Scheduler: Failed to fetch val_acc for trial 2, found MetricFetchE(message=\"No 'scalar' data found for trial in multiplexer mul=<tensorboard.backend.event_processing.plugin_event_multiplexer.EventMultiplexer object at 0x7f24410725c0>\").\n"
     ]
    },
    {
     "name": "stderr",
     "output_type": "stream",
     "text": [
      "[INFO 08-15 06:41:14] Scheduler: MetricFetchE INFO: Because val_acc is available_while_running and trial 2 is still RUNNING continuing the experiment and retrying on next poll...\n"
     ]
    },
    {
     "name": "stderr",
     "output_type": "stream",
     "text": [
      "[WARNING 08-15 06:41:14] Scheduler: Failed to fetch val_acc for trial 3, found MetricFetchE(message=\"No 'scalar' data found for trial in multiplexer mul=<tensorboard.backend.event_processing.plugin_event_multiplexer.EventMultiplexer object at 0x7f2441072ad0>\").\n"
     ]
    },
    {
     "name": "stderr",
     "output_type": "stream",
     "text": [
      "[INFO 08-15 06:41:14] Scheduler: MetricFetchE INFO: Because val_acc is available_while_running and trial 3 is still RUNNING continuing the experiment and retrying on next poll...\n"
     ]
    },
    {
     "name": "stderr",
     "output_type": "stream",
     "text": [
      "[WARNING 08-15 06:41:14] Scheduler: Failed to fetch val_acc for trial 4, found MetricFetchE(message=\"No 'scalar' data found for trial in multiplexer mul=<tensorboard.backend.event_processing.plugin_event_multiplexer.EventMultiplexer object at 0x7f2441072ad0>\").\n"
     ]
    },
    {
     "name": "stderr",
     "output_type": "stream",
     "text": [
      "[INFO 08-15 06:41:14] Scheduler: MetricFetchE INFO: Because val_acc is available_while_running and trial 4 is still RUNNING continuing the experiment and retrying on next poll...\n"
     ]
    },
    {
     "name": "stderr",
     "output_type": "stream",
     "text": [
      "[WARNING 08-15 06:41:14] Scheduler: Failed to fetch val_acc for trial 5, found MetricFetchE(message=\"No 'scalar' data found for trial in multiplexer mul=<tensorboard.backend.event_processing.plugin_event_multiplexer.EventMultiplexer object at 0x7f2441072ad0>\").\n"
     ]
    },
    {
     "name": "stderr",
     "output_type": "stream",
     "text": [
      "[INFO 08-15 06:41:14] Scheduler: MetricFetchE INFO: Because val_acc is available_while_running and trial 5 is still RUNNING continuing the experiment and retrying on next poll...\n"
     ]
    },
    {
     "name": "stderr",
     "output_type": "stream",
     "text": [
      "[WARNING 08-15 06:41:14] Scheduler: Failed to fetch val_acc for trial 6, found MetricFetchE(message=\"No 'scalar' data found for trial in multiplexer mul=<tensorboard.backend.event_processing.plugin_event_multiplexer.EventMultiplexer object at 0x7f2441072ad0>\").\n"
     ]
    },
    {
     "name": "stderr",
     "output_type": "stream",
     "text": [
      "[INFO 08-15 06:41:14] Scheduler: MetricFetchE INFO: Because val_acc is available_while_running and trial 6 is still RUNNING continuing the experiment and retrying on next poll...\n"
     ]
    },
    {
     "name": "stderr",
     "output_type": "stream",
     "text": [
      "[INFO 08-15 06:41:14] ax.early_stopping.strategies.base: PercentileEarlyStoppingStrategy received empty data. Not stopping any trials.\n"
     ]
    },
    {
     "name": "stderr",
     "output_type": "stream",
     "text": [
      "[INFO 08-15 06:41:14] Scheduler: Waiting for completed trials (for 10 sec, currently running trials: 5).\n"
     ]
    },
    {
     "name": "stderr",
     "output_type": "stream",
     "text": [
      "[INFO 08-15 06:41:24] Scheduler: Fetching data for newly completed trials: [].\n"
     ]
    },
    {
     "name": "stderr",
     "output_type": "stream",
     "text": [
      "[INFO 08-15 06:41:24] Scheduler: Fetching data for trials: 2 - 6 because some metrics on experiment are available while trials are running.\n"
     ]
    },
    {
     "name": "stderr",
     "output_type": "stream",
     "text": [
      "[INFO 08-15 06:41:24] ax.core.metric: MetricFetchE INFO: Initialized MetricFetchE(message=\"No 'scalar' data found for trial in multiplexer mul=<tensorboard.backend.event_processing.plugin_event_multiplexer.EventMultiplexer object at 0x7f2441072020>\")\n"
     ]
    },
    {
     "name": "stderr",
     "output_type": "stream",
     "text": [
      "[INFO 08-15 06:41:24] ax.core.metric: MetricFetchE INFO: Initialized MetricFetchE(message=\"No 'scalar' data found for trial in multiplexer mul=<tensorboard.backend.event_processing.plugin_event_multiplexer.EventMultiplexer object at 0x7f2441071e40>\")\n"
     ]
    },
    {
     "name": "stderr",
     "output_type": "stream",
     "text": [
      "[INFO 08-15 06:41:24] ax.core.metric: MetricFetchE INFO: Initialized MetricFetchE(message=\"No 'scalar' data found for trial in multiplexer mul=<tensorboard.backend.event_processing.plugin_event_multiplexer.EventMultiplexer object at 0x7f2441070790>\")\n"
     ]
    },
    {
     "name": "stderr",
     "output_type": "stream",
     "text": [
      "[INFO 08-15 06:41:24] ax.core.metric: MetricFetchE INFO: Initialized MetricFetchE(message=\"No 'scalar' data found for trial in multiplexer mul=<tensorboard.backend.event_processing.plugin_event_multiplexer.EventMultiplexer object at 0x7f2441073ca0>\")\n"
     ]
    },
    {
     "name": "stderr",
     "output_type": "stream",
     "text": [
      "[INFO 08-15 06:41:24] ax.core.metric: MetricFetchE INFO: Initialized MetricFetchE(message=\"No 'scalar' data found for trial in multiplexer mul=<tensorboard.backend.event_processing.plugin_event_multiplexer.EventMultiplexer object at 0x7f2441071360>\")\n"
     ]
    },
    {
     "name": "stderr",
     "output_type": "stream",
     "text": [
      "[ERROR 08-15 06:41:24] ax.core.experiment: Discovered Metric fetching Err while attaching data MetricFetchE(message=\"No 'scalar' data found for trial in multiplexer mul=<tensorboard.backend.event_processing.plugin_event_multiplexer.EventMultiplexer object at 0x7f2441072020>\"). Ignoring for now -- will retry query on next call to fetch.\n"
     ]
    },
    {
     "name": "stderr",
     "output_type": "stream",
     "text": [
      "[ERROR 08-15 06:41:24] ax.core.experiment: Discovered Metric fetching Err while attaching data MetricFetchE(message=\"No 'scalar' data found for trial in multiplexer mul=<tensorboard.backend.event_processing.plugin_event_multiplexer.EventMultiplexer object at 0x7f2441071e40>\"). Ignoring for now -- will retry query on next call to fetch.\n"
     ]
    },
    {
     "name": "stderr",
     "output_type": "stream",
     "text": [
      "[ERROR 08-15 06:41:24] ax.core.experiment: Discovered Metric fetching Err while attaching data MetricFetchE(message=\"No 'scalar' data found for trial in multiplexer mul=<tensorboard.backend.event_processing.plugin_event_multiplexer.EventMultiplexer object at 0x7f2441070790>\"). Ignoring for now -- will retry query on next call to fetch.\n"
     ]
    },
    {
     "name": "stderr",
     "output_type": "stream",
     "text": [
      "[ERROR 08-15 06:41:24] ax.core.experiment: Discovered Metric fetching Err while attaching data MetricFetchE(message=\"No 'scalar' data found for trial in multiplexer mul=<tensorboard.backend.event_processing.plugin_event_multiplexer.EventMultiplexer object at 0x7f2441073ca0>\"). Ignoring for now -- will retry query on next call to fetch.\n"
     ]
    },
    {
     "name": "stderr",
     "output_type": "stream",
     "text": [
      "[ERROR 08-15 06:41:24] ax.core.experiment: Discovered Metric fetching Err while attaching data MetricFetchE(message=\"No 'scalar' data found for trial in multiplexer mul=<tensorboard.backend.event_processing.plugin_event_multiplexer.EventMultiplexer object at 0x7f2441071360>\"). Ignoring for now -- will retry query on next call to fetch.\n"
     ]
    },
    {
     "name": "stderr",
     "output_type": "stream",
     "text": [
      "[WARNING 08-15 06:41:24] Scheduler: Failed to fetch val_acc for trial 2, found MetricFetchE(message=\"No 'scalar' data found for trial in multiplexer mul=<tensorboard.backend.event_processing.plugin_event_multiplexer.EventMultiplexer object at 0x7f2441072020>\").\n"
     ]
    },
    {
     "name": "stderr",
     "output_type": "stream",
     "text": [
      "[INFO 08-15 06:41:24] Scheduler: MetricFetchE INFO: Because val_acc is available_while_running and trial 2 is still RUNNING continuing the experiment and retrying on next poll...\n"
     ]
    },
    {
     "name": "stderr",
     "output_type": "stream",
     "text": [
      "[WARNING 08-15 06:41:24] Scheduler: Failed to fetch val_acc for trial 3, found MetricFetchE(message=\"No 'scalar' data found for trial in multiplexer mul=<tensorboard.backend.event_processing.plugin_event_multiplexer.EventMultiplexer object at 0x7f2441071e40>\").\n"
     ]
    },
    {
     "name": "stderr",
     "output_type": "stream",
     "text": [
      "[INFO 08-15 06:41:24] Scheduler: MetricFetchE INFO: Because val_acc is available_while_running and trial 3 is still RUNNING continuing the experiment and retrying on next poll...\n"
     ]
    },
    {
     "name": "stderr",
     "output_type": "stream",
     "text": [
      "[WARNING 08-15 06:41:24] Scheduler: Failed to fetch val_acc for trial 4, found MetricFetchE(message=\"No 'scalar' data found for trial in multiplexer mul=<tensorboard.backend.event_processing.plugin_event_multiplexer.EventMultiplexer object at 0x7f2441070790>\").\n"
     ]
    },
    {
     "name": "stderr",
     "output_type": "stream",
     "text": [
      "[INFO 08-15 06:41:24] Scheduler: MetricFetchE INFO: Because val_acc is available_while_running and trial 4 is still RUNNING continuing the experiment and retrying on next poll...\n"
     ]
    },
    {
     "name": "stderr",
     "output_type": "stream",
     "text": [
      "[WARNING 08-15 06:41:24] Scheduler: Failed to fetch val_acc for trial 5, found MetricFetchE(message=\"No 'scalar' data found for trial in multiplexer mul=<tensorboard.backend.event_processing.plugin_event_multiplexer.EventMultiplexer object at 0x7f2441073ca0>\").\n"
     ]
    },
    {
     "name": "stderr",
     "output_type": "stream",
     "text": [
      "[INFO 08-15 06:41:24] Scheduler: MetricFetchE INFO: Because val_acc is available_while_running and trial 5 is still RUNNING continuing the experiment and retrying on next poll...\n"
     ]
    },
    {
     "name": "stderr",
     "output_type": "stream",
     "text": [
      "[WARNING 08-15 06:41:24] Scheduler: Failed to fetch val_acc for trial 6, found MetricFetchE(message=\"No 'scalar' data found for trial in multiplexer mul=<tensorboard.backend.event_processing.plugin_event_multiplexer.EventMultiplexer object at 0x7f2441071360>\").\n"
     ]
    },
    {
     "name": "stderr",
     "output_type": "stream",
     "text": [
      "[INFO 08-15 06:41:24] Scheduler: MetricFetchE INFO: Because val_acc is available_while_running and trial 6 is still RUNNING continuing the experiment and retrying on next poll...\n"
     ]
    },
    {
     "name": "stderr",
     "output_type": "stream",
     "text": [
      "[INFO 08-15 06:41:24] ax.early_stopping.strategies.base: PercentileEarlyStoppingStrategy received empty data. Not stopping any trials.\n"
     ]
    },
    {
     "name": "stderr",
     "output_type": "stream",
     "text": [
      "[INFO 08-15 06:41:24] Scheduler: Waiting for completed trials (for 10 sec, currently running trials: 5).\n"
     ]
    },
    {
     "name": "stderr",
     "output_type": "stream",
     "text": [
      "[INFO 08-15 06:41:34] Scheduler: Fetching data for newly completed trials: [].\n"
     ]
    },
    {
     "name": "stderr",
     "output_type": "stream",
     "text": [
      "[INFO 08-15 06:41:34] Scheduler: Fetching data for trials: 2 - 6 because some metrics on experiment are available while trials are running.\n"
     ]
    },
    {
     "name": "stderr",
     "output_type": "stream",
     "text": [
      "[INFO 08-15 06:41:34] ax.core.metric: MetricFetchE INFO: Initialized MetricFetchE(message=\"No 'scalar' data found for trial in multiplexer mul=<tensorboard.backend.event_processing.plugin_event_multiplexer.EventMultiplexer object at 0x7f24410738e0>\")\n"
     ]
    },
    {
     "name": "stderr",
     "output_type": "stream",
     "text": [
      "[INFO 08-15 06:41:34] ax.core.metric: MetricFetchE INFO: Initialized MetricFetchE(message=\"No 'scalar' data found for trial in multiplexer mul=<tensorboard.backend.event_processing.plugin_event_multiplexer.EventMultiplexer object at 0x7f2441072e60>\")\n"
     ]
    },
    {
     "name": "stderr",
     "output_type": "stream",
     "text": [
      "[INFO 08-15 06:41:34] ax.core.metric: MetricFetchE INFO: Initialized MetricFetchE(message=\"No 'scalar' data found for trial in multiplexer mul=<tensorboard.backend.event_processing.plugin_event_multiplexer.EventMultiplexer object at 0x7f2441072c20>\")\n"
     ]
    },
    {
     "name": "stderr",
     "output_type": "stream",
     "text": [
      "[INFO 08-15 06:41:34] ax.core.metric: MetricFetchE INFO: Initialized MetricFetchE(message=\"No 'scalar' data found for trial in multiplexer mul=<tensorboard.backend.event_processing.plugin_event_multiplexer.EventMultiplexer object at 0x7f2441071240>\")\n"
     ]
    },
    {
     "name": "stderr",
     "output_type": "stream",
     "text": [
      "[INFO 08-15 06:41:34] ax.core.metric: MetricFetchE INFO: Initialized MetricFetchE(message=\"No 'scalar' data found for trial in multiplexer mul=<tensorboard.backend.event_processing.plugin_event_multiplexer.EventMultiplexer object at 0x7f2441073fd0>\")\n"
     ]
    },
    {
     "name": "stderr",
     "output_type": "stream",
     "text": [
      "[ERROR 08-15 06:41:34] ax.core.experiment: Discovered Metric fetching Err while attaching data MetricFetchE(message=\"No 'scalar' data found for trial in multiplexer mul=<tensorboard.backend.event_processing.plugin_event_multiplexer.EventMultiplexer object at 0x7f24410738e0>\"). Ignoring for now -- will retry query on next call to fetch.\n"
     ]
    },
    {
     "name": "stderr",
     "output_type": "stream",
     "text": [
      "[ERROR 08-15 06:41:34] ax.core.experiment: Discovered Metric fetching Err while attaching data MetricFetchE(message=\"No 'scalar' data found for trial in multiplexer mul=<tensorboard.backend.event_processing.plugin_event_multiplexer.EventMultiplexer object at 0x7f2441072e60>\"). Ignoring for now -- will retry query on next call to fetch.\n"
     ]
    },
    {
     "name": "stderr",
     "output_type": "stream",
     "text": [
      "[ERROR 08-15 06:41:34] ax.core.experiment: Discovered Metric fetching Err while attaching data MetricFetchE(message=\"No 'scalar' data found for trial in multiplexer mul=<tensorboard.backend.event_processing.plugin_event_multiplexer.EventMultiplexer object at 0x7f2441072c20>\"). Ignoring for now -- will retry query on next call to fetch.\n"
     ]
    },
    {
     "name": "stderr",
     "output_type": "stream",
     "text": [
      "[ERROR 08-15 06:41:34] ax.core.experiment: Discovered Metric fetching Err while attaching data MetricFetchE(message=\"No 'scalar' data found for trial in multiplexer mul=<tensorboard.backend.event_processing.plugin_event_multiplexer.EventMultiplexer object at 0x7f2441071240>\"). Ignoring for now -- will retry query on next call to fetch.\n"
     ]
    },
    {
     "name": "stderr",
     "output_type": "stream",
     "text": [
      "[ERROR 08-15 06:41:34] ax.core.experiment: Discovered Metric fetching Err while attaching data MetricFetchE(message=\"No 'scalar' data found for trial in multiplexer mul=<tensorboard.backend.event_processing.plugin_event_multiplexer.EventMultiplexer object at 0x7f2441073fd0>\"). Ignoring for now -- will retry query on next call to fetch.\n"
     ]
    },
    {
     "name": "stderr",
     "output_type": "stream",
     "text": [
      "[WARNING 08-15 06:41:34] Scheduler: Failed to fetch val_acc for trial 2, found MetricFetchE(message=\"No 'scalar' data found for trial in multiplexer mul=<tensorboard.backend.event_processing.plugin_event_multiplexer.EventMultiplexer object at 0x7f24410738e0>\").\n"
     ]
    },
    {
     "name": "stderr",
     "output_type": "stream",
     "text": [
      "[INFO 08-15 06:41:34] Scheduler: MetricFetchE INFO: Because val_acc is available_while_running and trial 2 is still RUNNING continuing the experiment and retrying on next poll...\n"
     ]
    },
    {
     "name": "stderr",
     "output_type": "stream",
     "text": [
      "[WARNING 08-15 06:41:34] Scheduler: Failed to fetch val_acc for trial 3, found MetricFetchE(message=\"No 'scalar' data found for trial in multiplexer mul=<tensorboard.backend.event_processing.plugin_event_multiplexer.EventMultiplexer object at 0x7f2441072e60>\").\n"
     ]
    },
    {
     "name": "stderr",
     "output_type": "stream",
     "text": [
      "[INFO 08-15 06:41:34] Scheduler: MetricFetchE INFO: Because val_acc is available_while_running and trial 3 is still RUNNING continuing the experiment and retrying on next poll...\n"
     ]
    },
    {
     "name": "stderr",
     "output_type": "stream",
     "text": [
      "[WARNING 08-15 06:41:34] Scheduler: Failed to fetch val_acc for trial 4, found MetricFetchE(message=\"No 'scalar' data found for trial in multiplexer mul=<tensorboard.backend.event_processing.plugin_event_multiplexer.EventMultiplexer object at 0x7f2441072c20>\").\n"
     ]
    },
    {
     "name": "stderr",
     "output_type": "stream",
     "text": [
      "[INFO 08-15 06:41:34] Scheduler: MetricFetchE INFO: Because val_acc is available_while_running and trial 4 is still RUNNING continuing the experiment and retrying on next poll...\n"
     ]
    },
    {
     "name": "stderr",
     "output_type": "stream",
     "text": [
      "[WARNING 08-15 06:41:34] Scheduler: Failed to fetch val_acc for trial 5, found MetricFetchE(message=\"No 'scalar' data found for trial in multiplexer mul=<tensorboard.backend.event_processing.plugin_event_multiplexer.EventMultiplexer object at 0x7f2441071240>\").\n"
     ]
    },
    {
     "name": "stderr",
     "output_type": "stream",
     "text": [
      "[INFO 08-15 06:41:34] Scheduler: MetricFetchE INFO: Because val_acc is available_while_running and trial 5 is still RUNNING continuing the experiment and retrying on next poll...\n"
     ]
    },
    {
     "name": "stderr",
     "output_type": "stream",
     "text": [
      "[WARNING 08-15 06:41:34] Scheduler: Failed to fetch val_acc for trial 6, found MetricFetchE(message=\"No 'scalar' data found for trial in multiplexer mul=<tensorboard.backend.event_processing.plugin_event_multiplexer.EventMultiplexer object at 0x7f2441073fd0>\").\n"
     ]
    },
    {
     "name": "stderr",
     "output_type": "stream",
     "text": [
      "[INFO 08-15 06:41:34] Scheduler: MetricFetchE INFO: Because val_acc is available_while_running and trial 6 is still RUNNING continuing the experiment and retrying on next poll...\n"
     ]
    },
    {
     "name": "stderr",
     "output_type": "stream",
     "text": [
      "[INFO 08-15 06:41:34] ax.early_stopping.strategies.base: PercentileEarlyStoppingStrategy received empty data. Not stopping any trials.\n"
     ]
    },
    {
     "name": "stderr",
     "output_type": "stream",
     "text": [
      "[INFO 08-15 06:41:34] Scheduler: Waiting for completed trials (for 10 sec, currently running trials: 5).\n"
     ]
    },
    {
     "name": "stderr",
     "output_type": "stream",
     "text": [
      "[INFO 08-15 06:41:44] Scheduler: Fetching data for newly completed trials: [].\n"
     ]
    },
    {
     "name": "stderr",
     "output_type": "stream",
     "text": [
      "[INFO 08-15 06:41:44] Scheduler: Fetching data for trials: 2 - 6 because some metrics on experiment are available while trials are running.\n"
     ]
    },
    {
     "name": "stderr",
     "output_type": "stream",
     "text": [
      "[INFO 08-15 06:41:44] ax.core.metric: MetricFetchE INFO: Initialized MetricFetchE(message=\"No 'scalar' data found for trial in multiplexer mul=<tensorboard.backend.event_processing.plugin_event_multiplexer.EventMultiplexer object at 0x7f24410730a0>\")\n"
     ]
    },
    {
     "name": "stderr",
     "output_type": "stream",
     "text": [
      "[INFO 08-15 06:41:44] ax.core.metric: MetricFetchE INFO: Initialized MetricFetchE(message=\"No 'scalar' data found for trial in multiplexer mul=<tensorboard.backend.event_processing.plugin_event_multiplexer.EventMultiplexer object at 0x7f24410737c0>\")\n"
     ]
    },
    {
     "name": "stderr",
     "output_type": "stream",
     "text": [
      "[INFO 08-15 06:41:44] ax.core.metric: MetricFetchE INFO: Initialized MetricFetchE(message=\"No 'scalar' data found for trial in multiplexer mul=<tensorboard.backend.event_processing.plugin_event_multiplexer.EventMultiplexer object at 0x7f2441073040>\")\n"
     ]
    },
    {
     "name": "stderr",
     "output_type": "stream",
     "text": [
      "[INFO 08-15 06:41:44] ax.core.metric: MetricFetchE INFO: Initialized MetricFetchE(message=\"No 'scalar' data found for trial in multiplexer mul=<tensorboard.backend.event_processing.plugin_event_multiplexer.EventMultiplexer object at 0x7f2441073d00>\")\n"
     ]
    },
    {
     "name": "stderr",
     "output_type": "stream",
     "text": [
      "[INFO 08-15 06:41:44] ax.core.metric: MetricFetchE INFO: Initialized MetricFetchE(message=\"No 'scalar' data found for trial in multiplexer mul=<tensorboard.backend.event_processing.plugin_event_multiplexer.EventMultiplexer object at 0x7f2441071000>\")\n"
     ]
    },
    {
     "name": "stderr",
     "output_type": "stream",
     "text": [
      "[ERROR 08-15 06:41:44] ax.core.experiment: Discovered Metric fetching Err while attaching data MetricFetchE(message=\"No 'scalar' data found for trial in multiplexer mul=<tensorboard.backend.event_processing.plugin_event_multiplexer.EventMultiplexer object at 0x7f24410730a0>\"). Ignoring for now -- will retry query on next call to fetch.\n"
     ]
    },
    {
     "name": "stderr",
     "output_type": "stream",
     "text": [
      "[ERROR 08-15 06:41:44] ax.core.experiment: Discovered Metric fetching Err while attaching data MetricFetchE(message=\"No 'scalar' data found for trial in multiplexer mul=<tensorboard.backend.event_processing.plugin_event_multiplexer.EventMultiplexer object at 0x7f24410737c0>\"). Ignoring for now -- will retry query on next call to fetch.\n"
     ]
    },
    {
     "name": "stderr",
     "output_type": "stream",
     "text": [
      "[ERROR 08-15 06:41:44] ax.core.experiment: Discovered Metric fetching Err while attaching data MetricFetchE(message=\"No 'scalar' data found for trial in multiplexer mul=<tensorboard.backend.event_processing.plugin_event_multiplexer.EventMultiplexer object at 0x7f2441073040>\"). Ignoring for now -- will retry query on next call to fetch.\n"
     ]
    },
    {
     "name": "stderr",
     "output_type": "stream",
     "text": [
      "[ERROR 08-15 06:41:44] ax.core.experiment: Discovered Metric fetching Err while attaching data MetricFetchE(message=\"No 'scalar' data found for trial in multiplexer mul=<tensorboard.backend.event_processing.plugin_event_multiplexer.EventMultiplexer object at 0x7f2441073d00>\"). Ignoring for now -- will retry query on next call to fetch.\n"
     ]
    },
    {
     "name": "stderr",
     "output_type": "stream",
     "text": [
      "[ERROR 08-15 06:41:44] ax.core.experiment: Discovered Metric fetching Err while attaching data MetricFetchE(message=\"No 'scalar' data found for trial in multiplexer mul=<tensorboard.backend.event_processing.plugin_event_multiplexer.EventMultiplexer object at 0x7f2441071000>\"). Ignoring for now -- will retry query on next call to fetch.\n"
     ]
    },
    {
     "name": "stderr",
     "output_type": "stream",
     "text": [
      "[WARNING 08-15 06:41:44] Scheduler: Failed to fetch val_acc for trial 2, found MetricFetchE(message=\"No 'scalar' data found for trial in multiplexer mul=<tensorboard.backend.event_processing.plugin_event_multiplexer.EventMultiplexer object at 0x7f24410730a0>\").\n"
     ]
    },
    {
     "name": "stderr",
     "output_type": "stream",
     "text": [
      "[INFO 08-15 06:41:44] Scheduler: MetricFetchE INFO: Because val_acc is available_while_running and trial 2 is still RUNNING continuing the experiment and retrying on next poll...\n"
     ]
    },
    {
     "name": "stderr",
     "output_type": "stream",
     "text": [
      "[WARNING 08-15 06:41:44] Scheduler: Failed to fetch val_acc for trial 3, found MetricFetchE(message=\"No 'scalar' data found for trial in multiplexer mul=<tensorboard.backend.event_processing.plugin_event_multiplexer.EventMultiplexer object at 0x7f24410737c0>\").\n"
     ]
    },
    {
     "name": "stderr",
     "output_type": "stream",
     "text": [
      "[INFO 08-15 06:41:44] Scheduler: MetricFetchE INFO: Because val_acc is available_while_running and trial 3 is still RUNNING continuing the experiment and retrying on next poll...\n"
     ]
    },
    {
     "name": "stderr",
     "output_type": "stream",
     "text": [
      "[WARNING 08-15 06:41:44] Scheduler: Failed to fetch val_acc for trial 4, found MetricFetchE(message=\"No 'scalar' data found for trial in multiplexer mul=<tensorboard.backend.event_processing.plugin_event_multiplexer.EventMultiplexer object at 0x7f2441073040>\").\n"
     ]
    },
    {
     "name": "stderr",
     "output_type": "stream",
     "text": [
      "[INFO 08-15 06:41:44] Scheduler: MetricFetchE INFO: Because val_acc is available_while_running and trial 4 is still RUNNING continuing the experiment and retrying on next poll...\n"
     ]
    },
    {
     "name": "stderr",
     "output_type": "stream",
     "text": [
      "[WARNING 08-15 06:41:44] Scheduler: Failed to fetch val_acc for trial 5, found MetricFetchE(message=\"No 'scalar' data found for trial in multiplexer mul=<tensorboard.backend.event_processing.plugin_event_multiplexer.EventMultiplexer object at 0x7f2441073d00>\").\n"
     ]
    },
    {
     "name": "stderr",
     "output_type": "stream",
     "text": [
      "[INFO 08-15 06:41:44] Scheduler: MetricFetchE INFO: Because val_acc is available_while_running and trial 5 is still RUNNING continuing the experiment and retrying on next poll...\n"
     ]
    },
    {
     "name": "stderr",
     "output_type": "stream",
     "text": [
      "[WARNING 08-15 06:41:44] Scheduler: Failed to fetch val_acc for trial 6, found MetricFetchE(message=\"No 'scalar' data found for trial in multiplexer mul=<tensorboard.backend.event_processing.plugin_event_multiplexer.EventMultiplexer object at 0x7f2441071000>\").\n"
     ]
    },
    {
     "name": "stderr",
     "output_type": "stream",
     "text": [
      "[INFO 08-15 06:41:44] Scheduler: MetricFetchE INFO: Because val_acc is available_while_running and trial 6 is still RUNNING continuing the experiment and retrying on next poll...\n"
     ]
    },
    {
     "name": "stderr",
     "output_type": "stream",
     "text": [
      "[INFO 08-15 06:41:44] ax.early_stopping.strategies.base: PercentileEarlyStoppingStrategy received empty data. Not stopping any trials.\n"
     ]
    },
    {
     "name": "stderr",
     "output_type": "stream",
     "text": [
      "[INFO 08-15 06:41:44] Scheduler: Waiting for completed trials (for 10 sec, currently running trials: 5).\n"
     ]
    },
    {
     "name": "stderr",
     "output_type": "stream",
     "text": [
      "[INFO 08-15 06:41:54] Scheduler: Fetching data for newly completed trials: [].\n"
     ]
    },
    {
     "name": "stderr",
     "output_type": "stream",
     "text": [
      "[INFO 08-15 06:41:54] Scheduler: Fetching data for trials: 2 - 6 because some metrics on experiment are available while trials are running.\n"
     ]
    },
    {
     "name": "stderr",
     "output_type": "stream",
     "text": [
      "[INFO 08-15 06:41:54] ax.core.metric: MetricFetchE INFO: Initialized MetricFetchE(message=\"No 'scalar' data found for trial in multiplexer mul=<tensorboard.backend.event_processing.plugin_event_multiplexer.EventMultiplexer object at 0x7f2441073dc0>\")\n"
     ]
    },
    {
     "name": "stderr",
     "output_type": "stream",
     "text": [
      "[INFO 08-15 06:41:54] ax.core.metric: MetricFetchE INFO: Initialized MetricFetchE(message=\"No 'scalar' data found for trial in multiplexer mul=<tensorboard.backend.event_processing.plugin_event_multiplexer.EventMultiplexer object at 0x7f2441073eb0>\")\n"
     ]
    },
    {
     "name": "stderr",
     "output_type": "stream",
     "text": [
      "[INFO 08-15 06:41:54] ax.core.metric: MetricFetchE INFO: Initialized MetricFetchE(message=\"No 'scalar' data found for trial in multiplexer mul=<tensorboard.backend.event_processing.plugin_event_multiplexer.EventMultiplexer object at 0x7f2441071ed0>\")\n"
     ]
    },
    {
     "name": "stderr",
     "output_type": "stream",
     "text": [
      "[ERROR 08-15 06:41:54] ax.core.experiment: Discovered Metric fetching Err while attaching data MetricFetchE(message=\"No 'scalar' data found for trial in multiplexer mul=<tensorboard.backend.event_processing.plugin_event_multiplexer.EventMultiplexer object at 0x7f2441073dc0>\"). Ignoring for now -- will retry query on next call to fetch.\n"
     ]
    },
    {
     "name": "stderr",
     "output_type": "stream",
     "text": [
      "[ERROR 08-15 06:41:54] ax.core.experiment: Discovered Metric fetching Err while attaching data MetricFetchE(message=\"No 'scalar' data found for trial in multiplexer mul=<tensorboard.backend.event_processing.plugin_event_multiplexer.EventMultiplexer object at 0x7f2441073eb0>\"). Ignoring for now -- will retry query on next call to fetch.\n"
     ]
    },
    {
     "name": "stderr",
     "output_type": "stream",
     "text": [
      "[ERROR 08-15 06:41:54] ax.core.experiment: Discovered Metric fetching Err while attaching data MetricFetchE(message=\"No 'scalar' data found for trial in multiplexer mul=<tensorboard.backend.event_processing.plugin_event_multiplexer.EventMultiplexer object at 0x7f2441071ed0>\"). Ignoring for now -- will retry query on next call to fetch.\n"
     ]
    },
    {
     "name": "stderr",
     "output_type": "stream",
     "text": [
      "/tmp/tmp.3Yo4S3ORTG/Ax-main/ax/core/map_data.py:192: FutureWarning: The behavior of DataFrame concatenation with empty or all-NA entries is deprecated. In a future version, this will no longer exclude empty or all-NA columns when determining the result dtypes. To retain the old behavior, exclude the relevant entries before the concat operation.\n",
      "  df = pd.concat(\n",
      "[WARNING 08-15 06:41:54] Scheduler: Failed to fetch val_acc for trial 3, found MetricFetchE(message=\"No 'scalar' data found for trial in multiplexer mul=<tensorboard.backend.event_processing.plugin_event_multiplexer.EventMultiplexer object at 0x7f2441073dc0>\").\n"
     ]
    },
    {
     "name": "stderr",
     "output_type": "stream",
     "text": [
      "[INFO 08-15 06:41:54] Scheduler: MetricFetchE INFO: Because val_acc is available_while_running and trial 3 is still RUNNING continuing the experiment and retrying on next poll...\n"
     ]
    },
    {
     "name": "stderr",
     "output_type": "stream",
     "text": [
      "[WARNING 08-15 06:41:54] Scheduler: Failed to fetch val_acc for trial 5, found MetricFetchE(message=\"No 'scalar' data found for trial in multiplexer mul=<tensorboard.backend.event_processing.plugin_event_multiplexer.EventMultiplexer object at 0x7f2441073eb0>\").\n"
     ]
    },
    {
     "name": "stderr",
     "output_type": "stream",
     "text": [
      "[INFO 08-15 06:41:54] Scheduler: MetricFetchE INFO: Because val_acc is available_while_running and trial 5 is still RUNNING continuing the experiment and retrying on next poll...\n"
     ]
    },
    {
     "name": "stderr",
     "output_type": "stream",
     "text": [
      "[WARNING 08-15 06:41:54] Scheduler: Failed to fetch val_acc for trial 6, found MetricFetchE(message=\"No 'scalar' data found for trial in multiplexer mul=<tensorboard.backend.event_processing.plugin_event_multiplexer.EventMultiplexer object at 0x7f2441071ed0>\").\n"
     ]
    },
    {
     "name": "stderr",
     "output_type": "stream",
     "text": [
      "[INFO 08-15 06:41:54] Scheduler: MetricFetchE INFO: Because val_acc is available_while_running and trial 6 is still RUNNING continuing the experiment and retrying on next poll...\n"
     ]
    },
    {
     "name": "stderr",
     "output_type": "stream",
     "text": [
      "/tmp/tmp.3Yo4S3ORTG/Ax-main/ax/core/map_data.py:192: FutureWarning: The behavior of DataFrame concatenation with empty or all-NA entries is deprecated. In a future version, this will no longer exclude empty or all-NA columns when determining the result dtypes. To retain the old behavior, exclude the relevant entries before the concat operation.\n",
      "  df = pd.concat(\n"
     ]
    },
    {
     "name": "stderr",
     "output_type": "stream",
     "text": [
      "[INFO 08-15 06:41:54] ax.early_stopping.strategies.base: The number of completed trials (0) is less than the minimum number of curves needed for early stopping (5). Not early stopping.\n"
     ]
    },
    {
     "name": "stderr",
     "output_type": "stream",
     "text": [
      "[INFO 08-15 06:41:54] Scheduler: Waiting for completed trials (for 10 sec, currently running trials: 5).\n"
     ]
    },
    {
     "name": "stderr",
     "output_type": "stream",
     "text": [
      "[INFO 08-15 06:42:04] Scheduler: Fetching data for newly completed trials: [].\n"
     ]
    },
    {
     "name": "stderr",
     "output_type": "stream",
     "text": [
      "[INFO 08-15 06:42:04] Scheduler: Fetching data for trials: 2 - 6 because some metrics on experiment are available while trials are running.\n"
     ]
    },
    {
     "name": "stderr",
     "output_type": "stream",
     "text": [
      "[INFO 08-15 06:42:04] ax.core.metric: MetricFetchE INFO: Initialized MetricFetchE(message=\"No 'scalar' data found for trial in multiplexer mul=<tensorboard.backend.event_processing.plugin_event_multiplexer.EventMultiplexer object at 0x7f2441073250>\")\n"
     ]
    },
    {
     "name": "stderr",
     "output_type": "stream",
     "text": [
      "[INFO 08-15 06:42:04] ax.core.metric: MetricFetchE INFO: Initialized MetricFetchE(message=\"No 'scalar' data found for trial in multiplexer mul=<tensorboard.backend.event_processing.plugin_event_multiplexer.EventMultiplexer object at 0x7f2441073fa0>\")\n"
     ]
    },
    {
     "name": "stderr",
     "output_type": "stream",
     "text": [
      "[INFO 08-15 06:42:04] ax.core.metric: MetricFetchE INFO: Initialized MetricFetchE(message=\"No 'scalar' data found for trial in multiplexer mul=<tensorboard.backend.event_processing.plugin_event_multiplexer.EventMultiplexer object at 0x7f2441072200>\")\n"
     ]
    },
    {
     "name": "stderr",
     "output_type": "stream",
     "text": [
      "[ERROR 08-15 06:42:04] ax.core.experiment: Discovered Metric fetching Err while attaching data MetricFetchE(message=\"No 'scalar' data found for trial in multiplexer mul=<tensorboard.backend.event_processing.plugin_event_multiplexer.EventMultiplexer object at 0x7f2441073250>\"). Ignoring for now -- will retry query on next call to fetch.\n"
     ]
    },
    {
     "name": "stderr",
     "output_type": "stream",
     "text": [
      "[ERROR 08-15 06:42:04] ax.core.experiment: Discovered Metric fetching Err while attaching data MetricFetchE(message=\"No 'scalar' data found for trial in multiplexer mul=<tensorboard.backend.event_processing.plugin_event_multiplexer.EventMultiplexer object at 0x7f2441073fa0>\"). Ignoring for now -- will retry query on next call to fetch.\n"
     ]
    },
    {
     "name": "stderr",
     "output_type": "stream",
     "text": [
      "[ERROR 08-15 06:42:04] ax.core.experiment: Discovered Metric fetching Err while attaching data MetricFetchE(message=\"No 'scalar' data found for trial in multiplexer mul=<tensorboard.backend.event_processing.plugin_event_multiplexer.EventMultiplexer object at 0x7f2441072200>\"). Ignoring for now -- will retry query on next call to fetch.\n"
     ]
    },
    {
     "name": "stderr",
     "output_type": "stream",
     "text": [
      "/tmp/tmp.3Yo4S3ORTG/Ax-main/ax/core/map_data.py:192: FutureWarning: The behavior of DataFrame concatenation with empty or all-NA entries is deprecated. In a future version, this will no longer exclude empty or all-NA columns when determining the result dtypes. To retain the old behavior, exclude the relevant entries before the concat operation.\n",
      "  df = pd.concat(\n",
      "[WARNING 08-15 06:42:04] Scheduler: Failed to fetch val_acc for trial 3, found MetricFetchE(message=\"No 'scalar' data found for trial in multiplexer mul=<tensorboard.backend.event_processing.plugin_event_multiplexer.EventMultiplexer object at 0x7f2441073250>\").\n"
     ]
    },
    {
     "name": "stderr",
     "output_type": "stream",
     "text": [
      "[INFO 08-15 06:42:04] Scheduler: MetricFetchE INFO: Because val_acc is available_while_running and trial 3 is still RUNNING continuing the experiment and retrying on next poll...\n"
     ]
    },
    {
     "name": "stderr",
     "output_type": "stream",
     "text": [
      "[WARNING 08-15 06:42:04] Scheduler: Failed to fetch val_acc for trial 5, found MetricFetchE(message=\"No 'scalar' data found for trial in multiplexer mul=<tensorboard.backend.event_processing.plugin_event_multiplexer.EventMultiplexer object at 0x7f2441073fa0>\").\n"
     ]
    },
    {
     "name": "stderr",
     "output_type": "stream",
     "text": [
      "[INFO 08-15 06:42:04] Scheduler: MetricFetchE INFO: Because val_acc is available_while_running and trial 5 is still RUNNING continuing the experiment and retrying on next poll...\n"
     ]
    },
    {
     "name": "stderr",
     "output_type": "stream",
     "text": [
      "[WARNING 08-15 06:42:04] Scheduler: Failed to fetch val_acc for trial 6, found MetricFetchE(message=\"No 'scalar' data found for trial in multiplexer mul=<tensorboard.backend.event_processing.plugin_event_multiplexer.EventMultiplexer object at 0x7f2441072200>\").\n"
     ]
    },
    {
     "name": "stderr",
     "output_type": "stream",
     "text": [
      "[INFO 08-15 06:42:04] Scheduler: MetricFetchE INFO: Because val_acc is available_while_running and trial 6 is still RUNNING continuing the experiment and retrying on next poll...\n"
     ]
    },
    {
     "name": "stderr",
     "output_type": "stream",
     "text": [
      "/tmp/tmp.3Yo4S3ORTG/Ax-main/ax/core/map_data.py:192: FutureWarning: The behavior of DataFrame concatenation with empty or all-NA entries is deprecated. In a future version, this will no longer exclude empty or all-NA columns when determining the result dtypes. To retain the old behavior, exclude the relevant entries before the concat operation.\n",
      "  df = pd.concat(\n",
      "[INFO 08-15 06:42:04] ax.early_stopping.strategies.base: The number of completed trials (0) is less than the minimum number of curves needed for early stopping (5). Not early stopping.\n"
     ]
    },
    {
     "name": "stderr",
     "output_type": "stream",
     "text": [
      "[INFO 08-15 06:42:04] Scheduler: Waiting for completed trials (for 10 sec, currently running trials: 5).\n"
     ]
    },
    {
     "name": "stderr",
     "output_type": "stream",
     "text": [
      "[INFO 08-15 06:42:14] Scheduler: Fetching data for newly completed trials: [].\n"
     ]
    },
    {
     "name": "stderr",
     "output_type": "stream",
     "text": [
      "[INFO 08-15 06:42:14] Scheduler: Fetching data for trials: 2 - 6 because some metrics on experiment are available while trials are running.\n"
     ]
    },
    {
     "name": "stderr",
     "output_type": "stream",
     "text": [
      "[INFO 08-15 06:42:14] ax.core.metric: MetricFetchE INFO: Initialized MetricFetchE(message=\"No 'scalar' data found for trial in multiplexer mul=<tensorboard.backend.event_processing.plugin_event_multiplexer.EventMultiplexer object at 0x7f2441072440>\")\n"
     ]
    },
    {
     "name": "stderr",
     "output_type": "stream",
     "text": [
      "[INFO 08-15 06:42:15] ax.core.metric: MetricFetchE INFO: Initialized MetricFetchE(message=\"No 'scalar' data found for trial in multiplexer mul=<tensorboard.backend.event_processing.plugin_event_multiplexer.EventMultiplexer object at 0x7f2441072b00>\")\n"
     ]
    },
    {
     "name": "stderr",
     "output_type": "stream",
     "text": [
      "[ERROR 08-15 06:42:15] ax.core.experiment: Discovered Metric fetching Err while attaching data MetricFetchE(message=\"No 'scalar' data found for trial in multiplexer mul=<tensorboard.backend.event_processing.plugin_event_multiplexer.EventMultiplexer object at 0x7f2441072440>\"). Ignoring for now -- will retry query on next call to fetch.\n"
     ]
    },
    {
     "name": "stderr",
     "output_type": "stream",
     "text": [
      "[ERROR 08-15 06:42:15] ax.core.experiment: Discovered Metric fetching Err while attaching data MetricFetchE(message=\"No 'scalar' data found for trial in multiplexer mul=<tensorboard.backend.event_processing.plugin_event_multiplexer.EventMultiplexer object at 0x7f2441072b00>\"). Ignoring for now -- will retry query on next call to fetch.\n"
     ]
    },
    {
     "name": "stderr",
     "output_type": "stream",
     "text": [
      "/tmp/tmp.3Yo4S3ORTG/Ax-main/ax/core/map_data.py:192: FutureWarning: The behavior of DataFrame concatenation with empty or all-NA entries is deprecated. In a future version, this will no longer exclude empty or all-NA columns when determining the result dtypes. To retain the old behavior, exclude the relevant entries before the concat operation.\n",
      "  df = pd.concat(\n",
      "[WARNING 08-15 06:42:15] Scheduler: Failed to fetch val_acc for trial 5, found MetricFetchE(message=\"No 'scalar' data found for trial in multiplexer mul=<tensorboard.backend.event_processing.plugin_event_multiplexer.EventMultiplexer object at 0x7f2441072440>\").\n"
     ]
    },
    {
     "name": "stderr",
     "output_type": "stream",
     "text": [
      "[INFO 08-15 06:42:15] Scheduler: MetricFetchE INFO: Because val_acc is available_while_running and trial 5 is still RUNNING continuing the experiment and retrying on next poll...\n"
     ]
    },
    {
     "name": "stderr",
     "output_type": "stream",
     "text": [
      "[WARNING 08-15 06:42:15] Scheduler: Failed to fetch val_acc for trial 6, found MetricFetchE(message=\"No 'scalar' data found for trial in multiplexer mul=<tensorboard.backend.event_processing.plugin_event_multiplexer.EventMultiplexer object at 0x7f2441072b00>\").\n"
     ]
    },
    {
     "name": "stderr",
     "output_type": "stream",
     "text": [
      "[INFO 08-15 06:42:15] Scheduler: MetricFetchE INFO: Because val_acc is available_while_running and trial 6 is still RUNNING continuing the experiment and retrying on next poll...\n"
     ]
    },
    {
     "name": "stderr",
     "output_type": "stream",
     "text": [
      "/tmp/tmp.3Yo4S3ORTG/Ax-main/ax/core/map_data.py:192: FutureWarning: The behavior of DataFrame concatenation with empty or all-NA entries is deprecated. In a future version, this will no longer exclude empty or all-NA columns when determining the result dtypes. To retain the old behavior, exclude the relevant entries before the concat operation.\n",
      "  df = pd.concat(\n",
      "[INFO 08-15 06:42:15] ax.early_stopping.strategies.base: The number of completed trials (0) is less than the minimum number of curves needed for early stopping (5). Not early stopping.\n"
     ]
    },
    {
     "name": "stderr",
     "output_type": "stream",
     "text": [
      "[INFO 08-15 06:42:15] Scheduler: Waiting for completed trials (for 10 sec, currently running trials: 5).\n"
     ]
    },
    {
     "name": "stderr",
     "output_type": "stream",
     "text": [
      "[INFO 08-15 06:42:25] Scheduler: Fetching data for newly completed trials: [].\n"
     ]
    },
    {
     "name": "stderr",
     "output_type": "stream",
     "text": [
      "[INFO 08-15 06:42:25] Scheduler: Fetching data for trials: 2 - 6 because some metrics on experiment are available while trials are running.\n"
     ]
    },
    {
     "name": "stderr",
     "output_type": "stream",
     "text": [
      "[INFO 08-15 06:42:25] ax.core.metric: MetricFetchE INFO: Initialized MetricFetchE(message=\"No 'scalar' data found for trial in multiplexer mul=<tensorboard.backend.event_processing.plugin_event_multiplexer.EventMultiplexer object at 0x7f2441072fb0>\")\n"
     ]
    },
    {
     "name": "stderr",
     "output_type": "stream",
     "text": [
      "[INFO 08-15 06:42:25] ax.core.metric: MetricFetchE INFO: Initialized MetricFetchE(message=\"No 'scalar' data found for trial in multiplexer mul=<tensorboard.backend.event_processing.plugin_event_multiplexer.EventMultiplexer object at 0x7f2441072c50>\")\n"
     ]
    },
    {
     "name": "stderr",
     "output_type": "stream",
     "text": [
      "[ERROR 08-15 06:42:25] ax.core.experiment: Discovered Metric fetching Err while attaching data MetricFetchE(message=\"No 'scalar' data found for trial in multiplexer mul=<tensorboard.backend.event_processing.plugin_event_multiplexer.EventMultiplexer object at 0x7f2441072fb0>\"). Ignoring for now -- will retry query on next call to fetch.\n"
     ]
    },
    {
     "name": "stderr",
     "output_type": "stream",
     "text": [
      "[ERROR 08-15 06:42:25] ax.core.experiment: Discovered Metric fetching Err while attaching data MetricFetchE(message=\"No 'scalar' data found for trial in multiplexer mul=<tensorboard.backend.event_processing.plugin_event_multiplexer.EventMultiplexer object at 0x7f2441072c50>\"). Ignoring for now -- will retry query on next call to fetch.\n"
     ]
    },
    {
     "name": "stderr",
     "output_type": "stream",
     "text": [
      "/tmp/tmp.3Yo4S3ORTG/Ax-main/ax/core/map_data.py:192: FutureWarning: The behavior of DataFrame concatenation with empty or all-NA entries is deprecated. In a future version, this will no longer exclude empty or all-NA columns when determining the result dtypes. To retain the old behavior, exclude the relevant entries before the concat operation.\n",
      "  df = pd.concat(\n",
      "[WARNING 08-15 06:42:25] Scheduler: Failed to fetch val_acc for trial 5, found MetricFetchE(message=\"No 'scalar' data found for trial in multiplexer mul=<tensorboard.backend.event_processing.plugin_event_multiplexer.EventMultiplexer object at 0x7f2441072fb0>\").\n"
     ]
    },
    {
     "name": "stderr",
     "output_type": "stream",
     "text": [
      "[INFO 08-15 06:42:25] Scheduler: MetricFetchE INFO: Because val_acc is available_while_running and trial 5 is still RUNNING continuing the experiment and retrying on next poll...\n"
     ]
    },
    {
     "name": "stderr",
     "output_type": "stream",
     "text": [
      "[WARNING 08-15 06:42:25] Scheduler: Failed to fetch val_acc for trial 6, found MetricFetchE(message=\"No 'scalar' data found for trial in multiplexer mul=<tensorboard.backend.event_processing.plugin_event_multiplexer.EventMultiplexer object at 0x7f2441072c50>\").\n"
     ]
    },
    {
     "name": "stderr",
     "output_type": "stream",
     "text": [
      "[INFO 08-15 06:42:25] Scheduler: MetricFetchE INFO: Because val_acc is available_while_running and trial 6 is still RUNNING continuing the experiment and retrying on next poll...\n"
     ]
    },
    {
     "name": "stderr",
     "output_type": "stream",
     "text": [
      "/tmp/tmp.3Yo4S3ORTG/Ax-main/ax/core/map_data.py:192: FutureWarning: The behavior of DataFrame concatenation with empty or all-NA entries is deprecated. In a future version, this will no longer exclude empty or all-NA columns when determining the result dtypes. To retain the old behavior, exclude the relevant entries before the concat operation.\n",
      "  df = pd.concat(\n"
     ]
    },
    {
     "name": "stderr",
     "output_type": "stream",
     "text": [
      "[INFO 08-15 06:42:25] ax.early_stopping.strategies.base: The number of completed trials (0) is less than the minimum number of curves needed for early stopping (5). Not early stopping.\n"
     ]
    },
    {
     "name": "stderr",
     "output_type": "stream",
     "text": [
      "[INFO 08-15 06:42:25] Scheduler: Waiting for completed trials (for 10 sec, currently running trials: 5).\n"
     ]
    },
    {
     "name": "stderr",
     "output_type": "stream",
     "text": [
      "[INFO 08-15 06:42:35] Scheduler: Fetching data for newly completed trials: [].\n"
     ]
    },
    {
     "name": "stderr",
     "output_type": "stream",
     "text": [
      "[INFO 08-15 06:42:35] Scheduler: Fetching data for trials: 2 - 6 because some metrics on experiment are available while trials are running.\n"
     ]
    },
    {
     "name": "stderr",
     "output_type": "stream",
     "text": [
      "/tmp/tmp.3Yo4S3ORTG/Ax-main/ax/core/map_data.py:192: FutureWarning: The behavior of DataFrame concatenation with empty or all-NA entries is deprecated. In a future version, this will no longer exclude empty or all-NA columns when determining the result dtypes. To retain the old behavior, exclude the relevant entries before the concat operation.\n",
      "  df = pd.concat(\n",
      "/tmp/tmp.3Yo4S3ORTG/Ax-main/ax/core/map_data.py:192: FutureWarning: The behavior of DataFrame concatenation with empty or all-NA entries is deprecated. In a future version, this will no longer exclude empty or all-NA columns when determining the result dtypes. To retain the old behavior, exclude the relevant entries before the concat operation.\n",
      "  df = pd.concat(\n"
     ]
    },
    {
     "name": "stderr",
     "output_type": "stream",
     "text": [
      "[INFO 08-15 06:42:35] ax.early_stopping.strategies.base: The number of completed trials (0) is less than the minimum number of curves needed for early stopping (5). Not early stopping.\n"
     ]
    },
    {
     "name": "stderr",
     "output_type": "stream",
     "text": [
      "[INFO 08-15 06:42:35] Scheduler: Waiting for completed trials (for 10 sec, currently running trials: 5).\n"
     ]
    },
    {
     "name": "stderr",
     "output_type": "stream",
     "text": [
      "[INFO 08-15 06:42:45] Scheduler: Fetching data for newly completed trials: [].\n"
     ]
    },
    {
     "name": "stderr",
     "output_type": "stream",
     "text": [
      "[INFO 08-15 06:42:45] Scheduler: Fetching data for trials: 2 - 6 because some metrics on experiment are available while trials are running.\n"
     ]
    },
    {
     "name": "stderr",
     "output_type": "stream",
     "text": [
      "/tmp/tmp.3Yo4S3ORTG/Ax-main/ax/core/map_data.py:192: FutureWarning: The behavior of DataFrame concatenation with empty or all-NA entries is deprecated. In a future version, this will no longer exclude empty or all-NA columns when determining the result dtypes. To retain the old behavior, exclude the relevant entries before the concat operation.\n",
      "  df = pd.concat(\n"
     ]
    },
    {
     "name": "stderr",
     "output_type": "stream",
     "text": [
      "/tmp/tmp.3Yo4S3ORTG/Ax-main/ax/core/map_data.py:192: FutureWarning: The behavior of DataFrame concatenation with empty or all-NA entries is deprecated. In a future version, this will no longer exclude empty or all-NA columns when determining the result dtypes. To retain the old behavior, exclude the relevant entries before the concat operation.\n",
      "  df = pd.concat(\n",
      "[INFO 08-15 06:42:45] ax.early_stopping.strategies.base: The number of completed trials (0) is less than the minimum number of curves needed for early stopping (5). Not early stopping.\n"
     ]
    },
    {
     "name": "stderr",
     "output_type": "stream",
     "text": [
      "[INFO 08-15 06:42:45] Scheduler: Waiting for completed trials (for 10 sec, currently running trials: 5).\n"
     ]
    },
    {
     "name": "stderr",
     "output_type": "stream",
     "text": [
      "[INFO 08-15 06:42:55] Scheduler: Fetching data for newly completed trials: [].\n"
     ]
    },
    {
     "name": "stderr",
     "output_type": "stream",
     "text": [
      "[INFO 08-15 06:42:55] Scheduler: Fetching data for trials: 2 - 6 because some metrics on experiment are available while trials are running.\n"
     ]
    },
    {
     "name": "stderr",
     "output_type": "stream",
     "text": [
      "/tmp/tmp.3Yo4S3ORTG/Ax-main/ax/core/map_data.py:192: FutureWarning: The behavior of DataFrame concatenation with empty or all-NA entries is deprecated. In a future version, this will no longer exclude empty or all-NA columns when determining the result dtypes. To retain the old behavior, exclude the relevant entries before the concat operation.\n",
      "  df = pd.concat(\n",
      "/tmp/tmp.3Yo4S3ORTG/Ax-main/ax/core/map_data.py:192: FutureWarning: The behavior of DataFrame concatenation with empty or all-NA entries is deprecated. In a future version, this will no longer exclude empty or all-NA columns when determining the result dtypes. To retain the old behavior, exclude the relevant entries before the concat operation.\n",
      "  df = pd.concat(\n"
     ]
    },
    {
     "name": "stderr",
     "output_type": "stream",
     "text": [
      "[INFO 08-15 06:42:56] ax.early_stopping.strategies.base: The number of completed trials (0) is less than the minimum number of curves needed for early stopping (5). Not early stopping.\n"
     ]
    },
    {
     "name": "stderr",
     "output_type": "stream",
     "text": [
      "[INFO 08-15 06:42:56] Scheduler: Waiting for completed trials (for 10 sec, currently running trials: 5).\n"
     ]
    },
    {
     "name": "stderr",
     "output_type": "stream",
     "text": [
      "[INFO 08-15 06:43:06] Scheduler: Fetching data for newly completed trials: [].\n"
     ]
    },
    {
     "name": "stderr",
     "output_type": "stream",
     "text": [
      "[INFO 08-15 06:43:06] Scheduler: Fetching data for trials: 2 - 6 because some metrics on experiment are available while trials are running.\n"
     ]
    },
    {
     "name": "stderr",
     "output_type": "stream",
     "text": [
      "/tmp/tmp.3Yo4S3ORTG/Ax-main/ax/core/map_data.py:192: FutureWarning: The behavior of DataFrame concatenation with empty or all-NA entries is deprecated. In a future version, this will no longer exclude empty or all-NA columns when determining the result dtypes. To retain the old behavior, exclude the relevant entries before the concat operation.\n",
      "  df = pd.concat(\n"
     ]
    },
    {
     "name": "stderr",
     "output_type": "stream",
     "text": [
      "/tmp/tmp.3Yo4S3ORTG/Ax-main/ax/core/map_data.py:192: FutureWarning: The behavior of DataFrame concatenation with empty or all-NA entries is deprecated. In a future version, this will no longer exclude empty or all-NA columns when determining the result dtypes. To retain the old behavior, exclude the relevant entries before the concat operation.\n",
      "  df = pd.concat(\n",
      "[INFO 08-15 06:43:06] ax.early_stopping.strategies.base: The number of completed trials (0) is less than the minimum number of curves needed for early stopping (5). Not early stopping.\n"
     ]
    },
    {
     "name": "stderr",
     "output_type": "stream",
     "text": [
      "[INFO 08-15 06:43:06] Scheduler: Waiting for completed trials (for 10 sec, currently running trials: 5).\n"
     ]
    },
    {
     "name": "stderr",
     "output_type": "stream",
     "text": [
      "[INFO 08-15 06:43:16] Scheduler: Fetching data for newly completed trials: [].\n"
     ]
    },
    {
     "name": "stderr",
     "output_type": "stream",
     "text": [
      "[INFO 08-15 06:43:16] Scheduler: Fetching data for trials: 2 - 6 because some metrics on experiment are available while trials are running.\n"
     ]
    },
    {
     "name": "stderr",
     "output_type": "stream",
     "text": [
      "/tmp/tmp.3Yo4S3ORTG/Ax-main/ax/core/map_data.py:192: FutureWarning: The behavior of DataFrame concatenation with empty or all-NA entries is deprecated. In a future version, this will no longer exclude empty or all-NA columns when determining the result dtypes. To retain the old behavior, exclude the relevant entries before the concat operation.\n",
      "  df = pd.concat(\n"
     ]
    },
    {
     "name": "stderr",
     "output_type": "stream",
     "text": [
      "/tmp/tmp.3Yo4S3ORTG/Ax-main/ax/core/map_data.py:192: FutureWarning: The behavior of DataFrame concatenation with empty or all-NA entries is deprecated. In a future version, this will no longer exclude empty or all-NA columns when determining the result dtypes. To retain the old behavior, exclude the relevant entries before the concat operation.\n",
      "  df = pd.concat(\n",
      "[INFO 08-15 06:43:16] ax.early_stopping.strategies.base: The number of completed trials (0) is less than the minimum number of curves needed for early stopping (5). Not early stopping.\n"
     ]
    },
    {
     "name": "stderr",
     "output_type": "stream",
     "text": [
      "[INFO 08-15 06:43:16] Scheduler: Waiting for completed trials (for 10 sec, currently running trials: 5).\n"
     ]
    },
    {
     "name": "stderr",
     "output_type": "stream",
     "text": [
      "[INFO 08-15 06:43:26] Scheduler: Fetching data for newly completed trials: [].\n"
     ]
    },
    {
     "name": "stderr",
     "output_type": "stream",
     "text": [
      "[INFO 08-15 06:43:26] Scheduler: Fetching data for trials: 2 - 6 because some metrics on experiment are available while trials are running.\n"
     ]
    },
    {
     "name": "stderr",
     "output_type": "stream",
     "text": [
      "/tmp/tmp.3Yo4S3ORTG/Ax-main/ax/core/map_data.py:192: FutureWarning: The behavior of DataFrame concatenation with empty or all-NA entries is deprecated. In a future version, this will no longer exclude empty or all-NA columns when determining the result dtypes. To retain the old behavior, exclude the relevant entries before the concat operation.\n",
      "  df = pd.concat(\n",
      "/tmp/tmp.3Yo4S3ORTG/Ax-main/ax/core/map_data.py:192: FutureWarning: The behavior of DataFrame concatenation with empty or all-NA entries is deprecated. In a future version, this will no longer exclude empty or all-NA columns when determining the result dtypes. To retain the old behavior, exclude the relevant entries before the concat operation.\n",
      "  df = pd.concat(\n"
     ]
    },
    {
     "name": "stderr",
     "output_type": "stream",
     "text": [
      "[INFO 08-15 06:43:26] ax.early_stopping.strategies.base: The number of completed trials (0) is less than the minimum number of curves needed for early stopping (5). Not early stopping.\n"
     ]
    },
    {
     "name": "stderr",
     "output_type": "stream",
     "text": [
      "[INFO 08-15 06:43:26] Scheduler: Waiting for completed trials (for 10 sec, currently running trials: 5).\n"
     ]
    },
    {
     "name": "stderr",
     "output_type": "stream",
     "text": [
      "[INFO 08-15 06:43:36] Scheduler: Fetching data for newly completed trials: [].\n"
     ]
    },
    {
     "name": "stderr",
     "output_type": "stream",
     "text": [
      "[INFO 08-15 06:43:36] Scheduler: Fetching data for trials: 2 - 6 because some metrics on experiment are available while trials are running.\n"
     ]
    },
    {
     "name": "stderr",
     "output_type": "stream",
     "text": [
      "/tmp/tmp.3Yo4S3ORTG/Ax-main/ax/core/map_data.py:192: FutureWarning: The behavior of DataFrame concatenation with empty or all-NA entries is deprecated. In a future version, this will no longer exclude empty or all-NA columns when determining the result dtypes. To retain the old behavior, exclude the relevant entries before the concat operation.\n",
      "  df = pd.concat(\n"
     ]
    },
    {
     "name": "stderr",
     "output_type": "stream",
     "text": [
      "/tmp/tmp.3Yo4S3ORTG/Ax-main/ax/core/map_data.py:192: FutureWarning: The behavior of DataFrame concatenation with empty or all-NA entries is deprecated. In a future version, this will no longer exclude empty or all-NA columns when determining the result dtypes. To retain the old behavior, exclude the relevant entries before the concat operation.\n",
      "  df = pd.concat(\n",
      "[INFO 08-15 06:43:37] ax.early_stopping.strategies.base: The number of completed trials (0) is less than the minimum number of curves needed for early stopping (5). Not early stopping.\n"
     ]
    },
    {
     "name": "stderr",
     "output_type": "stream",
     "text": [
      "[INFO 08-15 06:43:37] Scheduler: Waiting for completed trials (for 10 sec, currently running trials: 5).\n"
     ]
    },
    {
     "name": "stderr",
     "output_type": "stream",
     "text": [
      "[INFO 08-15 06:43:47] Scheduler: Fetching data for newly completed trials: [].\n"
     ]
    },
    {
     "name": "stderr",
     "output_type": "stream",
     "text": [
      "[INFO 08-15 06:43:47] Scheduler: Fetching data for trials: 2 - 6 because some metrics on experiment are available while trials are running.\n"
     ]
    },
    {
     "name": "stderr",
     "output_type": "stream",
     "text": [
      "/tmp/tmp.3Yo4S3ORTG/Ax-main/ax/core/map_data.py:192: FutureWarning: The behavior of DataFrame concatenation with empty or all-NA entries is deprecated. In a future version, this will no longer exclude empty or all-NA columns when determining the result dtypes. To retain the old behavior, exclude the relevant entries before the concat operation.\n",
      "  df = pd.concat(\n"
     ]
    },
    {
     "name": "stderr",
     "output_type": "stream",
     "text": [
      "/tmp/tmp.3Yo4S3ORTG/Ax-main/ax/core/map_data.py:192: FutureWarning: The behavior of DataFrame concatenation with empty or all-NA entries is deprecated. In a future version, this will no longer exclude empty or all-NA columns when determining the result dtypes. To retain the old behavior, exclude the relevant entries before the concat operation.\n",
      "  df = pd.concat(\n",
      "[INFO 08-15 06:43:47] ax.early_stopping.strategies.base: The number of completed trials (0) is less than the minimum number of curves needed for early stopping (5). Not early stopping.\n"
     ]
    },
    {
     "name": "stderr",
     "output_type": "stream",
     "text": [
      "[INFO 08-15 06:43:47] Scheduler: Waiting for completed trials (for 10 sec, currently running trials: 5).\n"
     ]
    },
    {
     "name": "stderr",
     "output_type": "stream",
     "text": [
      "[INFO 08-15 06:43:57] Scheduler: Fetching data for newly completed trials: [].\n"
     ]
    },
    {
     "name": "stderr",
     "output_type": "stream",
     "text": [
      "[INFO 08-15 06:43:57] Scheduler: Fetching data for trials: 2 - 6 because some metrics on experiment are available while trials are running.\n"
     ]
    },
    {
     "name": "stderr",
     "output_type": "stream",
     "text": [
      "/tmp/tmp.3Yo4S3ORTG/Ax-main/ax/core/map_data.py:192: FutureWarning: The behavior of DataFrame concatenation with empty or all-NA entries is deprecated. In a future version, this will no longer exclude empty or all-NA columns when determining the result dtypes. To retain the old behavior, exclude the relevant entries before the concat operation.\n",
      "  df = pd.concat(\n"
     ]
    },
    {
     "name": "stderr",
     "output_type": "stream",
     "text": [
      "/tmp/tmp.3Yo4S3ORTG/Ax-main/ax/core/map_data.py:192: FutureWarning: The behavior of DataFrame concatenation with empty or all-NA entries is deprecated. In a future version, this will no longer exclude empty or all-NA columns when determining the result dtypes. To retain the old behavior, exclude the relevant entries before the concat operation.\n",
      "  df = pd.concat(\n",
      "[INFO 08-15 06:43:57] ax.early_stopping.strategies.base: The number of completed trials (0) is less than the minimum number of curves needed for early stopping (5). Not early stopping.\n"
     ]
    },
    {
     "name": "stderr",
     "output_type": "stream",
     "text": [
      "[INFO 08-15 06:43:57] Scheduler: Waiting for completed trials (for 10 sec, currently running trials: 5).\n"
     ]
    },
    {
     "name": "stderr",
     "output_type": "stream",
     "text": [
      "[INFO 08-15 06:44:07] Scheduler: Fetching data for newly completed trials: [].\n"
     ]
    },
    {
     "name": "stderr",
     "output_type": "stream",
     "text": [
      "[INFO 08-15 06:44:07] Scheduler: Fetching data for trials: 2 - 6 because some metrics on experiment are available while trials are running.\n"
     ]
    },
    {
     "name": "stderr",
     "output_type": "stream",
     "text": [
      "/tmp/tmp.3Yo4S3ORTG/Ax-main/ax/core/map_data.py:192: FutureWarning: The behavior of DataFrame concatenation with empty or all-NA entries is deprecated. In a future version, this will no longer exclude empty or all-NA columns when determining the result dtypes. To retain the old behavior, exclude the relevant entries before the concat operation.\n",
      "  df = pd.concat(\n"
     ]
    },
    {
     "name": "stderr",
     "output_type": "stream",
     "text": [
      "/tmp/tmp.3Yo4S3ORTG/Ax-main/ax/core/map_data.py:192: FutureWarning: The behavior of DataFrame concatenation with empty or all-NA entries is deprecated. In a future version, this will no longer exclude empty or all-NA columns when determining the result dtypes. To retain the old behavior, exclude the relevant entries before the concat operation.\n",
      "  df = pd.concat(\n",
      "[INFO 08-15 06:44:07] ax.early_stopping.strategies.base: The number of completed trials (0) is less than the minimum number of curves needed for early stopping (5). Not early stopping.\n"
     ]
    },
    {
     "name": "stderr",
     "output_type": "stream",
     "text": [
      "[INFO 08-15 06:44:07] Scheduler: Waiting for completed trials (for 10 sec, currently running trials: 5).\n"
     ]
    },
    {
     "name": "stderr",
     "output_type": "stream",
     "text": [
      "[INFO 08-15 06:44:17] Scheduler: Fetching data for newly completed trials: [].\n"
     ]
    },
    {
     "name": "stderr",
     "output_type": "stream",
     "text": [
      "[INFO 08-15 06:44:17] Scheduler: Fetching data for trials: 2 - 6 because some metrics on experiment are available while trials are running.\n"
     ]
    },
    {
     "name": "stderr",
     "output_type": "stream",
     "text": [
      "/tmp/tmp.3Yo4S3ORTG/Ax-main/ax/core/map_data.py:192: FutureWarning: The behavior of DataFrame concatenation with empty or all-NA entries is deprecated. In a future version, this will no longer exclude empty or all-NA columns when determining the result dtypes. To retain the old behavior, exclude the relevant entries before the concat operation.\n",
      "  df = pd.concat(\n"
     ]
    },
    {
     "name": "stderr",
     "output_type": "stream",
     "text": [
      "/tmp/tmp.3Yo4S3ORTG/Ax-main/ax/core/map_data.py:192: FutureWarning: The behavior of DataFrame concatenation with empty or all-NA entries is deprecated. In a future version, this will no longer exclude empty or all-NA columns when determining the result dtypes. To retain the old behavior, exclude the relevant entries before the concat operation.\n",
      "  df = pd.concat(\n",
      "[INFO 08-15 06:44:18] ax.early_stopping.strategies.base: The number of completed trials (0) is less than the minimum number of curves needed for early stopping (5). Not early stopping.\n"
     ]
    },
    {
     "name": "stderr",
     "output_type": "stream",
     "text": [
      "[INFO 08-15 06:44:18] Scheduler: Waiting for completed trials (for 10 sec, currently running trials: 5).\n"
     ]
    },
    {
     "name": "stderr",
     "output_type": "stream",
     "text": [
      "[INFO 08-15 06:44:28] Scheduler: Fetching data for newly completed trials: [].\n"
     ]
    },
    {
     "name": "stderr",
     "output_type": "stream",
     "text": [
      "[INFO 08-15 06:44:28] Scheduler: Fetching data for trials: 2 - 6 because some metrics on experiment are available while trials are running.\n"
     ]
    },
    {
     "name": "stderr",
     "output_type": "stream",
     "text": [
      "/tmp/tmp.3Yo4S3ORTG/Ax-main/ax/core/map_data.py:192: FutureWarning: The behavior of DataFrame concatenation with empty or all-NA entries is deprecated. In a future version, this will no longer exclude empty or all-NA columns when determining the result dtypes. To retain the old behavior, exclude the relevant entries before the concat operation.\n",
      "  df = pd.concat(\n"
     ]
    },
    {
     "name": "stderr",
     "output_type": "stream",
     "text": [
      "/tmp/tmp.3Yo4S3ORTG/Ax-main/ax/core/map_data.py:192: FutureWarning: The behavior of DataFrame concatenation with empty or all-NA entries is deprecated. In a future version, this will no longer exclude empty or all-NA columns when determining the result dtypes. To retain the old behavior, exclude the relevant entries before the concat operation.\n",
      "  df = pd.concat(\n",
      "[INFO 08-15 06:44:28] ax.early_stopping.strategies.base: The number of completed trials (0) is less than the minimum number of curves needed for early stopping (5). Not early stopping.\n"
     ]
    },
    {
     "name": "stderr",
     "output_type": "stream",
     "text": [
      "[INFO 08-15 06:44:28] Scheduler: Waiting for completed trials (for 10 sec, currently running trials: 5).\n"
     ]
    },
    {
     "name": "stderr",
     "output_type": "stream",
     "text": [
      "[INFO 08-15 06:44:38] Scheduler: Fetching data for newly completed trials: [].\n"
     ]
    },
    {
     "name": "stderr",
     "output_type": "stream",
     "text": [
      "[INFO 08-15 06:44:38] Scheduler: Fetching data for trials: 2 - 6 because some metrics on experiment are available while trials are running.\n"
     ]
    },
    {
     "name": "stderr",
     "output_type": "stream",
     "text": [
      "/tmp/tmp.3Yo4S3ORTG/Ax-main/ax/core/map_data.py:192: FutureWarning: The behavior of DataFrame concatenation with empty or all-NA entries is deprecated. In a future version, this will no longer exclude empty or all-NA columns when determining the result dtypes. To retain the old behavior, exclude the relevant entries before the concat operation.\n",
      "  df = pd.concat(\n"
     ]
    },
    {
     "name": "stderr",
     "output_type": "stream",
     "text": [
      "/tmp/tmp.3Yo4S3ORTG/Ax-main/ax/core/map_data.py:192: FutureWarning: The behavior of DataFrame concatenation with empty or all-NA entries is deprecated. In a future version, this will no longer exclude empty or all-NA columns when determining the result dtypes. To retain the old behavior, exclude the relevant entries before the concat operation.\n",
      "  df = pd.concat(\n",
      "[INFO 08-15 06:44:38] ax.early_stopping.strategies.base: The number of completed trials (0) is less than the minimum number of curves needed for early stopping (5). Not early stopping.\n"
     ]
    },
    {
     "name": "stderr",
     "output_type": "stream",
     "text": [
      "[INFO 08-15 06:44:38] Scheduler: Waiting for completed trials (for 10 sec, currently running trials: 5).\n"
     ]
    },
    {
     "name": "stderr",
     "output_type": "stream",
     "text": [
      "[INFO 08-15 06:44:48] Scheduler: Fetching data for newly completed trials: [].\n"
     ]
    },
    {
     "name": "stderr",
     "output_type": "stream",
     "text": [
      "[INFO 08-15 06:44:48] Scheduler: Fetching data for trials: 2 - 6 because some metrics on experiment are available while trials are running.\n"
     ]
    },
    {
     "name": "stderr",
     "output_type": "stream",
     "text": [
      "/tmp/tmp.3Yo4S3ORTG/Ax-main/ax/core/map_data.py:192: FutureWarning: The behavior of DataFrame concatenation with empty or all-NA entries is deprecated. In a future version, this will no longer exclude empty or all-NA columns when determining the result dtypes. To retain the old behavior, exclude the relevant entries before the concat operation.\n",
      "  df = pd.concat(\n"
     ]
    },
    {
     "name": "stderr",
     "output_type": "stream",
     "text": [
      "/tmp/tmp.3Yo4S3ORTG/Ax-main/ax/core/map_data.py:192: FutureWarning: The behavior of DataFrame concatenation with empty or all-NA entries is deprecated. In a future version, this will no longer exclude empty or all-NA columns when determining the result dtypes. To retain the old behavior, exclude the relevant entries before the concat operation.\n",
      "  df = pd.concat(\n",
      "[INFO 08-15 06:44:48] ax.early_stopping.strategies.base: The number of completed trials (0) is less than the minimum number of curves needed for early stopping (5). Not early stopping.\n"
     ]
    },
    {
     "name": "stderr",
     "output_type": "stream",
     "text": [
      "[INFO 08-15 06:44:48] Scheduler: Waiting for completed trials (for 10 sec, currently running trials: 5).\n"
     ]
    },
    {
     "name": "stderr",
     "output_type": "stream",
     "text": [
      "[INFO 08-15 06:44:58] Scheduler: Fetching data for newly completed trials: [].\n"
     ]
    },
    {
     "name": "stderr",
     "output_type": "stream",
     "text": [
      "[INFO 08-15 06:44:58] Scheduler: Fetching data for trials: 2 - 6 because some metrics on experiment are available while trials are running.\n"
     ]
    },
    {
     "name": "stderr",
     "output_type": "stream",
     "text": [
      "/tmp/tmp.3Yo4S3ORTG/Ax-main/ax/core/map_data.py:192: FutureWarning: The behavior of DataFrame concatenation with empty or all-NA entries is deprecated. In a future version, this will no longer exclude empty or all-NA columns when determining the result dtypes. To retain the old behavior, exclude the relevant entries before the concat operation.\n",
      "  df = pd.concat(\n"
     ]
    },
    {
     "name": "stderr",
     "output_type": "stream",
     "text": [
      "/tmp/tmp.3Yo4S3ORTG/Ax-main/ax/core/map_data.py:192: FutureWarning: The behavior of DataFrame concatenation with empty or all-NA entries is deprecated. In a future version, this will no longer exclude empty or all-NA columns when determining the result dtypes. To retain the old behavior, exclude the relevant entries before the concat operation.\n",
      "  df = pd.concat(\n",
      "[INFO 08-15 06:44:59] ax.early_stopping.strategies.base: The number of completed trials (0) is less than the minimum number of curves needed for early stopping (5). Not early stopping.\n"
     ]
    },
    {
     "name": "stderr",
     "output_type": "stream",
     "text": [
      "[INFO 08-15 06:44:59] Scheduler: Waiting for completed trials (for 10 sec, currently running trials: 5).\n"
     ]
    },
    {
     "name": "stderr",
     "output_type": "stream",
     "text": [
      "[INFO 08-15 06:45:09] Scheduler: Fetching data for newly completed trials: [].\n"
     ]
    },
    {
     "name": "stderr",
     "output_type": "stream",
     "text": [
      "[INFO 08-15 06:45:09] Scheduler: Fetching data for trials: 2 - 6 because some metrics on experiment are available while trials are running.\n"
     ]
    },
    {
     "name": "stderr",
     "output_type": "stream",
     "text": [
      "/tmp/tmp.3Yo4S3ORTG/Ax-main/ax/core/map_data.py:192: FutureWarning: The behavior of DataFrame concatenation with empty or all-NA entries is deprecated. In a future version, this will no longer exclude empty or all-NA columns when determining the result dtypes. To retain the old behavior, exclude the relevant entries before the concat operation.\n",
      "  df = pd.concat(\n"
     ]
    },
    {
     "name": "stderr",
     "output_type": "stream",
     "text": [
      "/tmp/tmp.3Yo4S3ORTG/Ax-main/ax/core/map_data.py:192: FutureWarning: The behavior of DataFrame concatenation with empty or all-NA entries is deprecated. In a future version, this will no longer exclude empty or all-NA columns when determining the result dtypes. To retain the old behavior, exclude the relevant entries before the concat operation.\n",
      "  df = pd.concat(\n",
      "[INFO 08-15 06:45:09] ax.early_stopping.strategies.base: The number of completed trials (0) is less than the minimum number of curves needed for early stopping (5). Not early stopping.\n"
     ]
    },
    {
     "name": "stderr",
     "output_type": "stream",
     "text": [
      "[INFO 08-15 06:45:09] Scheduler: Waiting for completed trials (for 10 sec, currently running trials: 5).\n"
     ]
    },
    {
     "name": "stderr",
     "output_type": "stream",
     "text": [
      "[INFO 08-15 06:45:19] Scheduler: Fetching data for newly completed trials: [].\n"
     ]
    },
    {
     "name": "stderr",
     "output_type": "stream",
     "text": [
      "[INFO 08-15 06:45:19] Scheduler: Fetching data for trials: 2 - 6 because some metrics on experiment are available while trials are running.\n"
     ]
    },
    {
     "name": "stderr",
     "output_type": "stream",
     "text": [
      "/tmp/tmp.3Yo4S3ORTG/Ax-main/ax/core/map_data.py:192: FutureWarning: The behavior of DataFrame concatenation with empty or all-NA entries is deprecated. In a future version, this will no longer exclude empty or all-NA columns when determining the result dtypes. To retain the old behavior, exclude the relevant entries before the concat operation.\n",
      "  df = pd.concat(\n"
     ]
    },
    {
     "name": "stderr",
     "output_type": "stream",
     "text": [
      "/tmp/tmp.3Yo4S3ORTG/Ax-main/ax/core/map_data.py:192: FutureWarning: The behavior of DataFrame concatenation with empty or all-NA entries is deprecated. In a future version, this will no longer exclude empty or all-NA columns when determining the result dtypes. To retain the old behavior, exclude the relevant entries before the concat operation.\n",
      "  df = pd.concat(\n",
      "[INFO 08-15 06:45:19] ax.early_stopping.strategies.base: The number of completed trials (0) is less than the minimum number of curves needed for early stopping (5). Not early stopping.\n"
     ]
    },
    {
     "name": "stderr",
     "output_type": "stream",
     "text": [
      "[INFO 08-15 06:45:19] Scheduler: Waiting for completed trials (for 10 sec, currently running trials: 5).\n"
     ]
    },
    {
     "name": "stderr",
     "output_type": "stream",
     "text": [
      "[INFO 08-15 06:45:29] Scheduler: Fetching data for newly completed trials: [].\n"
     ]
    },
    {
     "name": "stderr",
     "output_type": "stream",
     "text": [
      "[INFO 08-15 06:45:29] Scheduler: Fetching data for trials: 2 - 6 because some metrics on experiment are available while trials are running.\n"
     ]
    },
    {
     "name": "stderr",
     "output_type": "stream",
     "text": [
      "/tmp/tmp.3Yo4S3ORTG/Ax-main/ax/core/map_data.py:192: FutureWarning: The behavior of DataFrame concatenation with empty or all-NA entries is deprecated. In a future version, this will no longer exclude empty or all-NA columns when determining the result dtypes. To retain the old behavior, exclude the relevant entries before the concat operation.\n",
      "  df = pd.concat(\n",
      "/tmp/tmp.3Yo4S3ORTG/Ax-main/ax/core/map_data.py:192: FutureWarning: The behavior of DataFrame concatenation with empty or all-NA entries is deprecated. In a future version, this will no longer exclude empty or all-NA columns when determining the result dtypes. To retain the old behavior, exclude the relevant entries before the concat operation.\n",
      "  df = pd.concat(\n"
     ]
    },
    {
     "name": "stderr",
     "output_type": "stream",
     "text": [
      "[INFO 08-15 06:45:30] ax.early_stopping.strategies.base: The number of completed trials (0) is less than the minimum number of curves needed for early stopping (5). Not early stopping.\n"
     ]
    },
    {
     "name": "stderr",
     "output_type": "stream",
     "text": [
      "[INFO 08-15 06:45:30] Scheduler: Waiting for completed trials (for 10 sec, currently running trials: 5).\n"
     ]
    },
    {
     "name": "stderr",
     "output_type": "stream",
     "text": [
      "[INFO 08-15 06:45:40] Scheduler: Fetching data for newly completed trials: [].\n"
     ]
    },
    {
     "name": "stderr",
     "output_type": "stream",
     "text": [
      "[INFO 08-15 06:45:40] Scheduler: Fetching data for trials: 2 - 6 because some metrics on experiment are available while trials are running.\n"
     ]
    },
    {
     "name": "stderr",
     "output_type": "stream",
     "text": [
      "/tmp/tmp.3Yo4S3ORTG/Ax-main/ax/core/map_data.py:192: FutureWarning: The behavior of DataFrame concatenation with empty or all-NA entries is deprecated. In a future version, this will no longer exclude empty or all-NA columns when determining the result dtypes. To retain the old behavior, exclude the relevant entries before the concat operation.\n",
      "  df = pd.concat(\n"
     ]
    },
    {
     "name": "stderr",
     "output_type": "stream",
     "text": [
      "/tmp/tmp.3Yo4S3ORTG/Ax-main/ax/core/map_data.py:192: FutureWarning: The behavior of DataFrame concatenation with empty or all-NA entries is deprecated. In a future version, this will no longer exclude empty or all-NA columns when determining the result dtypes. To retain the old behavior, exclude the relevant entries before the concat operation.\n",
      "  df = pd.concat(\n",
      "[INFO 08-15 06:45:40] ax.early_stopping.strategies.base: The number of completed trials (0) is less than the minimum number of curves needed for early stopping (5). Not early stopping.\n"
     ]
    },
    {
     "name": "stderr",
     "output_type": "stream",
     "text": [
      "[INFO 08-15 06:45:40] Scheduler: Waiting for completed trials (for 10 sec, currently running trials: 5).\n"
     ]
    },
    {
     "name": "stderr",
     "output_type": "stream",
     "text": [
      "[INFO 08-15 06:45:50] Scheduler: Fetching data for newly completed trials: [].\n"
     ]
    },
    {
     "name": "stderr",
     "output_type": "stream",
     "text": [
      "[INFO 08-15 06:45:50] Scheduler: Fetching data for trials: 2 - 6 because some metrics on experiment are available while trials are running.\n"
     ]
    },
    {
     "name": "stderr",
     "output_type": "stream",
     "text": [
      "/tmp/tmp.3Yo4S3ORTG/Ax-main/ax/core/map_data.py:192: FutureWarning: The behavior of DataFrame concatenation with empty or all-NA entries is deprecated. In a future version, this will no longer exclude empty or all-NA columns when determining the result dtypes. To retain the old behavior, exclude the relevant entries before the concat operation.\n",
      "  df = pd.concat(\n"
     ]
    },
    {
     "name": "stderr",
     "output_type": "stream",
     "text": [
      "/tmp/tmp.3Yo4S3ORTG/Ax-main/ax/core/map_data.py:192: FutureWarning: The behavior of DataFrame concatenation with empty or all-NA entries is deprecated. In a future version, this will no longer exclude empty or all-NA columns when determining the result dtypes. To retain the old behavior, exclude the relevant entries before the concat operation.\n",
      "  df = pd.concat(\n",
      "[INFO 08-15 06:45:50] ax.early_stopping.strategies.base: The number of completed trials (0) is less than the minimum number of curves needed for early stopping (5). Not early stopping.\n"
     ]
    },
    {
     "name": "stderr",
     "output_type": "stream",
     "text": [
      "[INFO 08-15 06:45:50] Scheduler: Waiting for completed trials (for 10 sec, currently running trials: 5).\n"
     ]
    },
    {
     "name": "stderr",
     "output_type": "stream",
     "text": [
      "[INFO 08-15 06:46:00] Scheduler: Fetching data for newly completed trials: [].\n"
     ]
    },
    {
     "name": "stderr",
     "output_type": "stream",
     "text": [
      "[INFO 08-15 06:46:00] Scheduler: Fetching data for trials: 2 - 6 because some metrics on experiment are available while trials are running.\n"
     ]
    },
    {
     "name": "stderr",
     "output_type": "stream",
     "text": [
      "/tmp/tmp.3Yo4S3ORTG/Ax-main/ax/core/map_data.py:192: FutureWarning: The behavior of DataFrame concatenation with empty or all-NA entries is deprecated. In a future version, this will no longer exclude empty or all-NA columns when determining the result dtypes. To retain the old behavior, exclude the relevant entries before the concat operation.\n",
      "  df = pd.concat(\n"
     ]
    },
    {
     "name": "stderr",
     "output_type": "stream",
     "text": [
      "/tmp/tmp.3Yo4S3ORTG/Ax-main/ax/core/map_data.py:192: FutureWarning: The behavior of DataFrame concatenation with empty or all-NA entries is deprecated. In a future version, this will no longer exclude empty or all-NA columns when determining the result dtypes. To retain the old behavior, exclude the relevant entries before the concat operation.\n",
      "  df = pd.concat(\n",
      "[INFO 08-15 06:46:00] ax.early_stopping.strategies.base: The number of completed trials (0) is less than the minimum number of curves needed for early stopping (5). Not early stopping.\n"
     ]
    },
    {
     "name": "stderr",
     "output_type": "stream",
     "text": [
      "[INFO 08-15 06:46:00] Scheduler: Waiting for completed trials (for 10 sec, currently running trials: 5).\n"
     ]
    },
    {
     "name": "stderr",
     "output_type": "stream",
     "text": [
      "[INFO 08-15 06:46:10] Scheduler: Fetching data for newly completed trials: [].\n"
     ]
    },
    {
     "name": "stderr",
     "output_type": "stream",
     "text": [
      "[INFO 08-15 06:46:10] Scheduler: Fetching data for trials: 2 - 6 because some metrics on experiment are available while trials are running.\n"
     ]
    },
    {
     "name": "stderr",
     "output_type": "stream",
     "text": [
      "/tmp/tmp.3Yo4S3ORTG/Ax-main/ax/core/map_data.py:192: FutureWarning: The behavior of DataFrame concatenation with empty or all-NA entries is deprecated. In a future version, this will no longer exclude empty or all-NA columns when determining the result dtypes. To retain the old behavior, exclude the relevant entries before the concat operation.\n",
      "  df = pd.concat(\n",
      "/tmp/tmp.3Yo4S3ORTG/Ax-main/ax/core/map_data.py:192: FutureWarning: The behavior of DataFrame concatenation with empty or all-NA entries is deprecated. In a future version, this will no longer exclude empty or all-NA columns when determining the result dtypes. To retain the old behavior, exclude the relevant entries before the concat operation.\n",
      "  df = pd.concat(\n"
     ]
    },
    {
     "name": "stderr",
     "output_type": "stream",
     "text": [
      "[INFO 08-15 06:46:11] ax.early_stopping.strategies.base: The number of completed trials (0) is less than the minimum number of curves needed for early stopping (5). Not early stopping.\n"
     ]
    },
    {
     "name": "stderr",
     "output_type": "stream",
     "text": [
      "[INFO 08-15 06:46:11] Scheduler: Waiting for completed trials (for 10 sec, currently running trials: 5).\n"
     ]
    },
    {
     "name": "stderr",
     "output_type": "stream",
     "text": [
      "[INFO 08-15 06:46:21] Scheduler: Fetching data for newly completed trials: [].\n"
     ]
    },
    {
     "name": "stderr",
     "output_type": "stream",
     "text": [
      "[INFO 08-15 06:46:21] Scheduler: Fetching data for trials: 2 - 6 because some metrics on experiment are available while trials are running.\n"
     ]
    },
    {
     "name": "stderr",
     "output_type": "stream",
     "text": [
      "/tmp/tmp.3Yo4S3ORTG/Ax-main/ax/core/map_data.py:192: FutureWarning: The behavior of DataFrame concatenation with empty or all-NA entries is deprecated. In a future version, this will no longer exclude empty or all-NA columns when determining the result dtypes. To retain the old behavior, exclude the relevant entries before the concat operation.\n",
      "  df = pd.concat(\n"
     ]
    },
    {
     "name": "stderr",
     "output_type": "stream",
     "text": [
      "/tmp/tmp.3Yo4S3ORTG/Ax-main/ax/core/map_data.py:192: FutureWarning: The behavior of DataFrame concatenation with empty or all-NA entries is deprecated. In a future version, this will no longer exclude empty or all-NA columns when determining the result dtypes. To retain the old behavior, exclude the relevant entries before the concat operation.\n",
      "  df = pd.concat(\n",
      "[INFO 08-15 06:46:21] ax.early_stopping.strategies.base: The number of completed trials (0) is less than the minimum number of curves needed for early stopping (5). Not early stopping.\n"
     ]
    },
    {
     "name": "stderr",
     "output_type": "stream",
     "text": [
      "[INFO 08-15 06:46:21] Scheduler: Waiting for completed trials (for 10 sec, currently running trials: 5).\n"
     ]
    },
    {
     "name": "stderr",
     "output_type": "stream",
     "text": [
      "[INFO 08-15 06:46:31] Scheduler: Fetching data for newly completed trials: [].\n"
     ]
    },
    {
     "name": "stderr",
     "output_type": "stream",
     "text": [
      "[INFO 08-15 06:46:31] Scheduler: Fetching data for trials: 2 - 6 because some metrics on experiment are available while trials are running.\n"
     ]
    },
    {
     "name": "stderr",
     "output_type": "stream",
     "text": [
      "/tmp/tmp.3Yo4S3ORTG/Ax-main/ax/core/map_data.py:192: FutureWarning: The behavior of DataFrame concatenation with empty or all-NA entries is deprecated. In a future version, this will no longer exclude empty or all-NA columns when determining the result dtypes. To retain the old behavior, exclude the relevant entries before the concat operation.\n",
      "  df = pd.concat(\n"
     ]
    },
    {
     "name": "stderr",
     "output_type": "stream",
     "text": [
      "/tmp/tmp.3Yo4S3ORTG/Ax-main/ax/core/map_data.py:192: FutureWarning: The behavior of DataFrame concatenation with empty or all-NA entries is deprecated. In a future version, this will no longer exclude empty or all-NA columns when determining the result dtypes. To retain the old behavior, exclude the relevant entries before the concat operation.\n",
      "  df = pd.concat(\n",
      "[INFO 08-15 06:46:31] ax.early_stopping.strategies.base: The number of completed trials (0) is less than the minimum number of curves needed for early stopping (5). Not early stopping.\n"
     ]
    },
    {
     "name": "stderr",
     "output_type": "stream",
     "text": [
      "[INFO 08-15 06:46:31] Scheduler: Waiting for completed trials (for 10 sec, currently running trials: 5).\n"
     ]
    },
    {
     "name": "stderr",
     "output_type": "stream",
     "text": [
      "[INFO 08-15 06:46:41] Scheduler: Fetching data for newly completed trials: [].\n"
     ]
    },
    {
     "name": "stderr",
     "output_type": "stream",
     "text": [
      "[INFO 08-15 06:46:41] Scheduler: Fetching data for trials: 2 - 6 because some metrics on experiment are available while trials are running.\n"
     ]
    },
    {
     "name": "stderr",
     "output_type": "stream",
     "text": [
      "/tmp/tmp.3Yo4S3ORTG/Ax-main/ax/core/map_data.py:192: FutureWarning: The behavior of DataFrame concatenation with empty or all-NA entries is deprecated. In a future version, this will no longer exclude empty or all-NA columns when determining the result dtypes. To retain the old behavior, exclude the relevant entries before the concat operation.\n",
      "  df = pd.concat(\n",
      "/tmp/tmp.3Yo4S3ORTG/Ax-main/ax/core/map_data.py:192: FutureWarning: The behavior of DataFrame concatenation with empty or all-NA entries is deprecated. In a future version, this will no longer exclude empty or all-NA columns when determining the result dtypes. To retain the old behavior, exclude the relevant entries before the concat operation.\n",
      "  df = pd.concat(\n"
     ]
    },
    {
     "name": "stderr",
     "output_type": "stream",
     "text": [
      "[INFO 08-15 06:46:41] ax.early_stopping.strategies.base: The number of completed trials (0) is less than the minimum number of curves needed for early stopping (5). Not early stopping.\n"
     ]
    },
    {
     "name": "stderr",
     "output_type": "stream",
     "text": [
      "[INFO 08-15 06:46:41] Scheduler: Waiting for completed trials (for 10 sec, currently running trials: 5).\n"
     ]
    },
    {
     "name": "stderr",
     "output_type": "stream",
     "text": [
      "[INFO 08-15 06:46:51] Scheduler: Fetching data for newly completed trials: [].\n"
     ]
    },
    {
     "name": "stderr",
     "output_type": "stream",
     "text": [
      "[INFO 08-15 06:46:51] Scheduler: Fetching data for trials: 2 - 6 because some metrics on experiment are available while trials are running.\n"
     ]
    },
    {
     "name": "stderr",
     "output_type": "stream",
     "text": [
      "/tmp/tmp.3Yo4S3ORTG/Ax-main/ax/core/map_data.py:192: FutureWarning: The behavior of DataFrame concatenation with empty or all-NA entries is deprecated. In a future version, this will no longer exclude empty or all-NA columns when determining the result dtypes. To retain the old behavior, exclude the relevant entries before the concat operation.\n",
      "  df = pd.concat(\n"
     ]
    },
    {
     "name": "stderr",
     "output_type": "stream",
     "text": [
      "/tmp/tmp.3Yo4S3ORTG/Ax-main/ax/core/map_data.py:192: FutureWarning: The behavior of DataFrame concatenation with empty or all-NA entries is deprecated. In a future version, this will no longer exclude empty or all-NA columns when determining the result dtypes. To retain the old behavior, exclude the relevant entries before the concat operation.\n",
      "  df = pd.concat(\n",
      "[INFO 08-15 06:46:52] ax.early_stopping.strategies.base: The number of completed trials (0) is less than the minimum number of curves needed for early stopping (5). Not early stopping.\n"
     ]
    },
    {
     "name": "stderr",
     "output_type": "stream",
     "text": [
      "[INFO 08-15 06:46:52] Scheduler: Waiting for completed trials (for 10 sec, currently running trials: 5).\n"
     ]
    },
    {
     "name": "stderr",
     "output_type": "stream",
     "text": [
      "[INFO 08-15 06:47:02] Scheduler: Fetching data for newly completed trials: [].\n"
     ]
    },
    {
     "name": "stderr",
     "output_type": "stream",
     "text": [
      "[INFO 08-15 06:47:02] Scheduler: Fetching data for trials: 2 - 6 because some metrics on experiment are available while trials are running.\n"
     ]
    },
    {
     "name": "stderr",
     "output_type": "stream",
     "text": [
      "/tmp/tmp.3Yo4S3ORTG/Ax-main/ax/core/map_data.py:192: FutureWarning: The behavior of DataFrame concatenation with empty or all-NA entries is deprecated. In a future version, this will no longer exclude empty or all-NA columns when determining the result dtypes. To retain the old behavior, exclude the relevant entries before the concat operation.\n",
      "  df = pd.concat(\n"
     ]
    },
    {
     "name": "stderr",
     "output_type": "stream",
     "text": [
      "/tmp/tmp.3Yo4S3ORTG/Ax-main/ax/core/map_data.py:192: FutureWarning: The behavior of DataFrame concatenation with empty or all-NA entries is deprecated. In a future version, this will no longer exclude empty or all-NA columns when determining the result dtypes. To retain the old behavior, exclude the relevant entries before the concat operation.\n",
      "  df = pd.concat(\n",
      "[INFO 08-15 06:47:02] ax.early_stopping.strategies.base: The number of completed trials (0) is less than the minimum number of curves needed for early stopping (5). Not early stopping.\n"
     ]
    },
    {
     "name": "stderr",
     "output_type": "stream",
     "text": [
      "[INFO 08-15 06:47:02] Scheduler: Waiting for completed trials (for 10 sec, currently running trials: 5).\n"
     ]
    },
    {
     "name": "stderr",
     "output_type": "stream",
     "text": [
      "[INFO 08-15 06:47:12] Scheduler: Fetching data for newly completed trials: [].\n"
     ]
    },
    {
     "name": "stderr",
     "output_type": "stream",
     "text": [
      "[INFO 08-15 06:47:12] Scheduler: Fetching data for trials: 2 - 6 because some metrics on experiment are available while trials are running.\n"
     ]
    },
    {
     "name": "stderr",
     "output_type": "stream",
     "text": [
      "/tmp/tmp.3Yo4S3ORTG/Ax-main/ax/core/map_data.py:192: FutureWarning: The behavior of DataFrame concatenation with empty or all-NA entries is deprecated. In a future version, this will no longer exclude empty or all-NA columns when determining the result dtypes. To retain the old behavior, exclude the relevant entries before the concat operation.\n",
      "  df = pd.concat(\n"
     ]
    },
    {
     "name": "stderr",
     "output_type": "stream",
     "text": [
      "/tmp/tmp.3Yo4S3ORTG/Ax-main/ax/core/map_data.py:192: FutureWarning: The behavior of DataFrame concatenation with empty or all-NA entries is deprecated. In a future version, this will no longer exclude empty or all-NA columns when determining the result dtypes. To retain the old behavior, exclude the relevant entries before the concat operation.\n",
      "  df = pd.concat(\n",
      "[INFO 08-15 06:47:12] ax.early_stopping.strategies.base: The number of completed trials (0) is less than the minimum number of curves needed for early stopping (5). Not early stopping.\n"
     ]
    },
    {
     "name": "stderr",
     "output_type": "stream",
     "text": [
      "[INFO 08-15 06:47:12] Scheduler: Waiting for completed trials (for 10 sec, currently running trials: 5).\n"
     ]
    },
    {
     "name": "stderr",
     "output_type": "stream",
     "text": [
      "[INFO 08-15 06:47:22] Scheduler: Fetching data for newly completed trials: [].\n"
     ]
    },
    {
     "name": "stderr",
     "output_type": "stream",
     "text": [
      "[INFO 08-15 06:47:22] Scheduler: Fetching data for trials: 2 - 6 because some metrics on experiment are available while trials are running.\n"
     ]
    },
    {
     "name": "stderr",
     "output_type": "stream",
     "text": [
      "/tmp/tmp.3Yo4S3ORTG/Ax-main/ax/core/map_data.py:192: FutureWarning: The behavior of DataFrame concatenation with empty or all-NA entries is deprecated. In a future version, this will no longer exclude empty or all-NA columns when determining the result dtypes. To retain the old behavior, exclude the relevant entries before the concat operation.\n",
      "  df = pd.concat(\n",
      "/tmp/tmp.3Yo4S3ORTG/Ax-main/ax/core/map_data.py:192: FutureWarning: The behavior of DataFrame concatenation with empty or all-NA entries is deprecated. In a future version, this will no longer exclude empty or all-NA columns when determining the result dtypes. To retain the old behavior, exclude the relevant entries before the concat operation.\n",
      "  df = pd.concat(\n"
     ]
    },
    {
     "name": "stderr",
     "output_type": "stream",
     "text": [
      "[INFO 08-15 06:47:22] ax.early_stopping.strategies.base: The number of completed trials (0) is less than the minimum number of curves needed for early stopping (5). Not early stopping.\n"
     ]
    },
    {
     "name": "stderr",
     "output_type": "stream",
     "text": [
      "[INFO 08-15 06:47:22] Scheduler: Waiting for completed trials (for 10 sec, currently running trials: 5).\n"
     ]
    },
    {
     "name": "stderr",
     "output_type": "stream",
     "text": [
      "[INFO 08-15 06:47:32] Scheduler: Fetching data for newly completed trials: [].\n"
     ]
    },
    {
     "name": "stderr",
     "output_type": "stream",
     "text": [
      "[INFO 08-15 06:47:32] Scheduler: Fetching data for trials: 2 - 6 because some metrics on experiment are available while trials are running.\n"
     ]
    },
    {
     "name": "stderr",
     "output_type": "stream",
     "text": [
      "/tmp/tmp.3Yo4S3ORTG/Ax-main/ax/core/map_data.py:192: FutureWarning: The behavior of DataFrame concatenation with empty or all-NA entries is deprecated. In a future version, this will no longer exclude empty or all-NA columns when determining the result dtypes. To retain the old behavior, exclude the relevant entries before the concat operation.\n",
      "  df = pd.concat(\n"
     ]
    },
    {
     "name": "stderr",
     "output_type": "stream",
     "text": [
      "/tmp/tmp.3Yo4S3ORTG/Ax-main/ax/core/map_data.py:192: FutureWarning: The behavior of DataFrame concatenation with empty or all-NA entries is deprecated. In a future version, this will no longer exclude empty or all-NA columns when determining the result dtypes. To retain the old behavior, exclude the relevant entries before the concat operation.\n",
      "  df = pd.concat(\n",
      "[INFO 08-15 06:47:33] ax.early_stopping.strategies.base: The number of completed trials (0) is less than the minimum number of curves needed for early stopping (5). Not early stopping.\n"
     ]
    },
    {
     "name": "stderr",
     "output_type": "stream",
     "text": [
      "[INFO 08-15 06:47:33] Scheduler: Waiting for completed trials (for 10 sec, currently running trials: 5).\n"
     ]
    },
    {
     "name": "stderr",
     "output_type": "stream",
     "text": [
      "[INFO 08-15 06:47:43] Scheduler: Fetching data for newly completed trials: [].\n"
     ]
    },
    {
     "name": "stderr",
     "output_type": "stream",
     "text": [
      "[INFO 08-15 06:47:43] Scheduler: Fetching data for trials: 2 - 6 because some metrics on experiment are available while trials are running.\n"
     ]
    },
    {
     "name": "stderr",
     "output_type": "stream",
     "text": [
      "/tmp/tmp.3Yo4S3ORTG/Ax-main/ax/core/map_data.py:192: FutureWarning: The behavior of DataFrame concatenation with empty or all-NA entries is deprecated. In a future version, this will no longer exclude empty or all-NA columns when determining the result dtypes. To retain the old behavior, exclude the relevant entries before the concat operation.\n",
      "  df = pd.concat(\n"
     ]
    },
    {
     "name": "stderr",
     "output_type": "stream",
     "text": [
      "/tmp/tmp.3Yo4S3ORTG/Ax-main/ax/core/map_data.py:192: FutureWarning: The behavior of DataFrame concatenation with empty or all-NA entries is deprecated. In a future version, this will no longer exclude empty or all-NA columns when determining the result dtypes. To retain the old behavior, exclude the relevant entries before the concat operation.\n",
      "  df = pd.concat(\n",
      "[INFO 08-15 06:47:43] ax.early_stopping.strategies.base: The number of completed trials (0) is less than the minimum number of curves needed for early stopping (5). Not early stopping.\n"
     ]
    },
    {
     "name": "stderr",
     "output_type": "stream",
     "text": [
      "[INFO 08-15 06:47:43] Scheduler: Waiting for completed trials (for 10 sec, currently running trials: 5).\n"
     ]
    },
    {
     "name": "stderr",
     "output_type": "stream",
     "text": [
      "[INFO 08-15 06:47:53] Scheduler: Fetching data for newly completed trials: [].\n"
     ]
    },
    {
     "name": "stderr",
     "output_type": "stream",
     "text": [
      "[INFO 08-15 06:47:53] Scheduler: Fetching data for trials: 2 - 6 because some metrics on experiment are available while trials are running.\n"
     ]
    },
    {
     "name": "stderr",
     "output_type": "stream",
     "text": [
      "/tmp/tmp.3Yo4S3ORTG/Ax-main/ax/core/map_data.py:192: FutureWarning: The behavior of DataFrame concatenation with empty or all-NA entries is deprecated. In a future version, this will no longer exclude empty or all-NA columns when determining the result dtypes. To retain the old behavior, exclude the relevant entries before the concat operation.\n",
      "  df = pd.concat(\n"
     ]
    },
    {
     "name": "stderr",
     "output_type": "stream",
     "text": [
      "/tmp/tmp.3Yo4S3ORTG/Ax-main/ax/core/map_data.py:192: FutureWarning: The behavior of DataFrame concatenation with empty or all-NA entries is deprecated. In a future version, this will no longer exclude empty or all-NA columns when determining the result dtypes. To retain the old behavior, exclude the relevant entries before the concat operation.\n",
      "  df = pd.concat(\n",
      "[INFO 08-15 06:47:53] ax.early_stopping.strategies.base: The number of completed trials (0) is less than the minimum number of curves needed for early stopping (5). Not early stopping.\n"
     ]
    },
    {
     "name": "stderr",
     "output_type": "stream",
     "text": [
      "[INFO 08-15 06:47:53] Scheduler: Waiting for completed trials (for 10 sec, currently running trials: 5).\n"
     ]
    },
    {
     "name": "stderr",
     "output_type": "stream",
     "text": [
      "[INFO 08-15 06:48:03] Scheduler: Fetching data for newly completed trials: [].\n"
     ]
    },
    {
     "name": "stderr",
     "output_type": "stream",
     "text": [
      "[INFO 08-15 06:48:03] Scheduler: Fetching data for trials: 2 - 6 because some metrics on experiment are available while trials are running.\n"
     ]
    },
    {
     "name": "stderr",
     "output_type": "stream",
     "text": [
      "/tmp/tmp.3Yo4S3ORTG/Ax-main/ax/core/map_data.py:192: FutureWarning: The behavior of DataFrame concatenation with empty or all-NA entries is deprecated. In a future version, this will no longer exclude empty or all-NA columns when determining the result dtypes. To retain the old behavior, exclude the relevant entries before the concat operation.\n",
      "  df = pd.concat(\n"
     ]
    },
    {
     "name": "stderr",
     "output_type": "stream",
     "text": [
      "/tmp/tmp.3Yo4S3ORTG/Ax-main/ax/core/map_data.py:192: FutureWarning: The behavior of DataFrame concatenation with empty or all-NA entries is deprecated. In a future version, this will no longer exclude empty or all-NA columns when determining the result dtypes. To retain the old behavior, exclude the relevant entries before the concat operation.\n",
      "  df = pd.concat(\n",
      "[INFO 08-15 06:48:03] ax.early_stopping.strategies.base: The number of completed trials (0) is less than the minimum number of curves needed for early stopping (5). Not early stopping.\n"
     ]
    },
    {
     "name": "stderr",
     "output_type": "stream",
     "text": [
      "[INFO 08-15 06:48:03] Scheduler: Waiting for completed trials (for 10 sec, currently running trials: 5).\n"
     ]
    },
    {
     "name": "stderr",
     "output_type": "stream",
     "text": [
      "[INFO 08-15 06:48:13] Scheduler: Fetching data for newly completed trials: [].\n"
     ]
    },
    {
     "name": "stderr",
     "output_type": "stream",
     "text": [
      "[INFO 08-15 06:48:13] Scheduler: Fetching data for trials: 2 - 6 because some metrics on experiment are available while trials are running.\n"
     ]
    },
    {
     "name": "stderr",
     "output_type": "stream",
     "text": [
      "/tmp/tmp.3Yo4S3ORTG/Ax-main/ax/core/map_data.py:192: FutureWarning: The behavior of DataFrame concatenation with empty or all-NA entries is deprecated. In a future version, this will no longer exclude empty or all-NA columns when determining the result dtypes. To retain the old behavior, exclude the relevant entries before the concat operation.\n",
      "  df = pd.concat(\n"
     ]
    },
    {
     "name": "stderr",
     "output_type": "stream",
     "text": [
      "/tmp/tmp.3Yo4S3ORTG/Ax-main/ax/core/map_data.py:192: FutureWarning: The behavior of DataFrame concatenation with empty or all-NA entries is deprecated. In a future version, this will no longer exclude empty or all-NA columns when determining the result dtypes. To retain the old behavior, exclude the relevant entries before the concat operation.\n",
      "  df = pd.concat(\n",
      "[INFO 08-15 06:48:14] ax.early_stopping.strategies.base: The number of completed trials (0) is less than the minimum number of curves needed for early stopping (5). Not early stopping.\n"
     ]
    },
    {
     "name": "stderr",
     "output_type": "stream",
     "text": [
      "[INFO 08-15 06:48:14] Scheduler: Waiting for completed trials (for 10 sec, currently running trials: 5).\n"
     ]
    },
    {
     "name": "stderr",
     "output_type": "stream",
     "text": [
      "[INFO 08-15 06:48:24] Scheduler: Fetching data for newly completed trials: [].\n"
     ]
    },
    {
     "name": "stderr",
     "output_type": "stream",
     "text": [
      "[INFO 08-15 06:48:24] Scheduler: Fetching data for trials: 2 - 6 because some metrics on experiment are available while trials are running.\n"
     ]
    },
    {
     "name": "stderr",
     "output_type": "stream",
     "text": [
      "/tmp/tmp.3Yo4S3ORTG/Ax-main/ax/core/map_data.py:192: FutureWarning: The behavior of DataFrame concatenation with empty or all-NA entries is deprecated. In a future version, this will no longer exclude empty or all-NA columns when determining the result dtypes. To retain the old behavior, exclude the relevant entries before the concat operation.\n",
      "  df = pd.concat(\n"
     ]
    },
    {
     "name": "stderr",
     "output_type": "stream",
     "text": [
      "/tmp/tmp.3Yo4S3ORTG/Ax-main/ax/core/map_data.py:192: FutureWarning: The behavior of DataFrame concatenation with empty or all-NA entries is deprecated. In a future version, this will no longer exclude empty or all-NA columns when determining the result dtypes. To retain the old behavior, exclude the relevant entries before the concat operation.\n",
      "  df = pd.concat(\n",
      "[INFO 08-15 06:48:24] ax.early_stopping.strategies.base: The number of completed trials (0) is less than the minimum number of curves needed for early stopping (5). Not early stopping.\n"
     ]
    },
    {
     "name": "stderr",
     "output_type": "stream",
     "text": [
      "[INFO 08-15 06:48:24] Scheduler: Waiting for completed trials (for 10 sec, currently running trials: 5).\n"
     ]
    },
    {
     "name": "stderr",
     "output_type": "stream",
     "text": [
      "[INFO 08-15 06:48:34] Scheduler: Fetching data for newly completed trials: [].\n"
     ]
    },
    {
     "name": "stderr",
     "output_type": "stream",
     "text": [
      "[INFO 08-15 06:48:34] Scheduler: Fetching data for trials: 2 - 6 because some metrics on experiment are available while trials are running.\n"
     ]
    },
    {
     "name": "stderr",
     "output_type": "stream",
     "text": [
      "/tmp/tmp.3Yo4S3ORTG/Ax-main/ax/core/map_data.py:192: FutureWarning: The behavior of DataFrame concatenation with empty or all-NA entries is deprecated. In a future version, this will no longer exclude empty or all-NA columns when determining the result dtypes. To retain the old behavior, exclude the relevant entries before the concat operation.\n",
      "  df = pd.concat(\n"
     ]
    },
    {
     "name": "stderr",
     "output_type": "stream",
     "text": [
      "/tmp/tmp.3Yo4S3ORTG/Ax-main/ax/core/map_data.py:192: FutureWarning: The behavior of DataFrame concatenation with empty or all-NA entries is deprecated. In a future version, this will no longer exclude empty or all-NA columns when determining the result dtypes. To retain the old behavior, exclude the relevant entries before the concat operation.\n",
      "  df = pd.concat(\n",
      "[INFO 08-15 06:48:34] ax.early_stopping.strategies.base: The number of completed trials (0) is less than the minimum number of curves needed for early stopping (5). Not early stopping.\n"
     ]
    },
    {
     "name": "stderr",
     "output_type": "stream",
     "text": [
      "[INFO 08-15 06:48:34] Scheduler: Waiting for completed trials (for 10 sec, currently running trials: 5).\n"
     ]
    },
    {
     "name": "stderr",
     "output_type": "stream",
     "text": [
      "[INFO 08-15 06:48:44] Scheduler: Fetching data for newly completed trials: [].\n"
     ]
    },
    {
     "name": "stderr",
     "output_type": "stream",
     "text": [
      "[INFO 08-15 06:48:44] Scheduler: Fetching data for trials: 2 - 6 because some metrics on experiment are available while trials are running.\n"
     ]
    },
    {
     "name": "stderr",
     "output_type": "stream",
     "text": [
      "/tmp/tmp.3Yo4S3ORTG/Ax-main/ax/core/map_data.py:192: FutureWarning: The behavior of DataFrame concatenation with empty or all-NA entries is deprecated. In a future version, this will no longer exclude empty or all-NA columns when determining the result dtypes. To retain the old behavior, exclude the relevant entries before the concat operation.\n",
      "  df = pd.concat(\n"
     ]
    },
    {
     "name": "stderr",
     "output_type": "stream",
     "text": [
      "/tmp/tmp.3Yo4S3ORTG/Ax-main/ax/core/map_data.py:192: FutureWarning: The behavior of DataFrame concatenation with empty or all-NA entries is deprecated. In a future version, this will no longer exclude empty or all-NA columns when determining the result dtypes. To retain the old behavior, exclude the relevant entries before the concat operation.\n",
      "  df = pd.concat(\n",
      "[INFO 08-15 06:48:44] ax.early_stopping.strategies.base: The number of completed trials (0) is less than the minimum number of curves needed for early stopping (5). Not early stopping.\n"
     ]
    },
    {
     "name": "stderr",
     "output_type": "stream",
     "text": [
      "[INFO 08-15 06:48:44] Scheduler: Waiting for completed trials (for 10 sec, currently running trials: 5).\n"
     ]
    },
    {
     "name": "stderr",
     "output_type": "stream",
     "text": [
      "[INFO 08-15 06:48:54] Scheduler: Fetching data for newly completed trials: [].\n"
     ]
    },
    {
     "name": "stderr",
     "output_type": "stream",
     "text": [
      "[INFO 08-15 06:48:54] Scheduler: Fetching data for trials: 2 - 6 because some metrics on experiment are available while trials are running.\n"
     ]
    },
    {
     "name": "stderr",
     "output_type": "stream",
     "text": [
      "/tmp/tmp.3Yo4S3ORTG/Ax-main/ax/core/map_data.py:192: FutureWarning: The behavior of DataFrame concatenation with empty or all-NA entries is deprecated. In a future version, this will no longer exclude empty or all-NA columns when determining the result dtypes. To retain the old behavior, exclude the relevant entries before the concat operation.\n",
      "  df = pd.concat(\n"
     ]
    },
    {
     "name": "stderr",
     "output_type": "stream",
     "text": [
      "/tmp/tmp.3Yo4S3ORTG/Ax-main/ax/core/map_data.py:192: FutureWarning: The behavior of DataFrame concatenation with empty or all-NA entries is deprecated. In a future version, this will no longer exclude empty or all-NA columns when determining the result dtypes. To retain the old behavior, exclude the relevant entries before the concat operation.\n",
      "  df = pd.concat(\n",
      "[INFO 08-15 06:48:55] ax.early_stopping.strategies.base: The number of completed trials (0) is less than the minimum number of curves needed for early stopping (5). Not early stopping.\n"
     ]
    },
    {
     "name": "stderr",
     "output_type": "stream",
     "text": [
      "[INFO 08-15 06:48:55] Scheduler: Waiting for completed trials (for 10 sec, currently running trials: 5).\n"
     ]
    },
    {
     "name": "stderr",
     "output_type": "stream",
     "text": [
      "[INFO 08-15 06:49:05] Scheduler: Fetching data for newly completed trials: [].\n"
     ]
    },
    {
     "name": "stderr",
     "output_type": "stream",
     "text": [
      "[INFO 08-15 06:49:05] Scheduler: Fetching data for trials: 2 - 6 because some metrics on experiment are available while trials are running.\n"
     ]
    },
    {
     "name": "stderr",
     "output_type": "stream",
     "text": [
      "/tmp/tmp.3Yo4S3ORTG/Ax-main/ax/core/map_data.py:192: FutureWarning: The behavior of DataFrame concatenation with empty or all-NA entries is deprecated. In a future version, this will no longer exclude empty or all-NA columns when determining the result dtypes. To retain the old behavior, exclude the relevant entries before the concat operation.\n",
      "  df = pd.concat(\n"
     ]
    },
    {
     "name": "stderr",
     "output_type": "stream",
     "text": [
      "/tmp/tmp.3Yo4S3ORTG/Ax-main/ax/core/map_data.py:192: FutureWarning: The behavior of DataFrame concatenation with empty or all-NA entries is deprecated. In a future version, this will no longer exclude empty or all-NA columns when determining the result dtypes. To retain the old behavior, exclude the relevant entries before the concat operation.\n",
      "  df = pd.concat(\n",
      "[INFO 08-15 06:49:05] ax.early_stopping.strategies.base: The number of completed trials (0) is less than the minimum number of curves needed for early stopping (5). Not early stopping.\n"
     ]
    },
    {
     "name": "stderr",
     "output_type": "stream",
     "text": [
      "[INFO 08-15 06:49:05] Scheduler: Waiting for completed trials (for 10 sec, currently running trials: 5).\n"
     ]
    },
    {
     "name": "stderr",
     "output_type": "stream",
     "text": [
      "[INFO 08-15 06:49:15] Scheduler: Fetching data for newly completed trials: [].\n"
     ]
    },
    {
     "name": "stderr",
     "output_type": "stream",
     "text": [
      "[INFO 08-15 06:49:15] Scheduler: Fetching data for trials: 2 - 6 because some metrics on experiment are available while trials are running.\n"
     ]
    },
    {
     "name": "stderr",
     "output_type": "stream",
     "text": [
      "/tmp/tmp.3Yo4S3ORTG/Ax-main/ax/core/map_data.py:192: FutureWarning: The behavior of DataFrame concatenation with empty or all-NA entries is deprecated. In a future version, this will no longer exclude empty or all-NA columns when determining the result dtypes. To retain the old behavior, exclude the relevant entries before the concat operation.\n",
      "  df = pd.concat(\n",
      "/tmp/tmp.3Yo4S3ORTG/Ax-main/ax/core/map_data.py:192: FutureWarning: The behavior of DataFrame concatenation with empty or all-NA entries is deprecated. In a future version, this will no longer exclude empty or all-NA columns when determining the result dtypes. To retain the old behavior, exclude the relevant entries before the concat operation.\n",
      "  df = pd.concat(\n"
     ]
    },
    {
     "name": "stderr",
     "output_type": "stream",
     "text": [
      "[INFO 08-15 06:49:15] ax.early_stopping.strategies.base: The number of completed trials (0) is less than the minimum number of curves needed for early stopping (5). Not early stopping.\n"
     ]
    },
    {
     "name": "stderr",
     "output_type": "stream",
     "text": [
      "[INFO 08-15 06:49:15] Scheduler: Waiting for completed trials (for 10 sec, currently running trials: 5).\n"
     ]
    },
    {
     "name": "stderr",
     "output_type": "stream",
     "text": [
      "[INFO 08-15 06:49:25] Scheduler: Fetching data for newly completed trials: [].\n"
     ]
    },
    {
     "name": "stderr",
     "output_type": "stream",
     "text": [
      "[INFO 08-15 06:49:25] Scheduler: Fetching data for trials: 2 - 6 because some metrics on experiment are available while trials are running.\n"
     ]
    },
    {
     "name": "stderr",
     "output_type": "stream",
     "text": [
      "/tmp/tmp.3Yo4S3ORTG/Ax-main/ax/core/map_data.py:192: FutureWarning: The behavior of DataFrame concatenation with empty or all-NA entries is deprecated. In a future version, this will no longer exclude empty or all-NA columns when determining the result dtypes. To retain the old behavior, exclude the relevant entries before the concat operation.\n",
      "  df = pd.concat(\n"
     ]
    },
    {
     "name": "stderr",
     "output_type": "stream",
     "text": [
      "/tmp/tmp.3Yo4S3ORTG/Ax-main/ax/core/map_data.py:192: FutureWarning: The behavior of DataFrame concatenation with empty or all-NA entries is deprecated. In a future version, this will no longer exclude empty or all-NA columns when determining the result dtypes. To retain the old behavior, exclude the relevant entries before the concat operation.\n",
      "  df = pd.concat(\n",
      "[INFO 08-15 06:49:25] ax.early_stopping.strategies.base: The number of completed trials (0) is less than the minimum number of curves needed for early stopping (5). Not early stopping.\n"
     ]
    },
    {
     "name": "stderr",
     "output_type": "stream",
     "text": [
      "[INFO 08-15 06:49:25] Scheduler: Waiting for completed trials (for 10 sec, currently running trials: 5).\n"
     ]
    },
    {
     "name": "stderr",
     "output_type": "stream",
     "text": [
      "[INFO 08-15 06:49:35] Scheduler: Fetching data for newly completed trials: [].\n"
     ]
    },
    {
     "name": "stderr",
     "output_type": "stream",
     "text": [
      "[INFO 08-15 06:49:35] Scheduler: Fetching data for trials: 2 - 6 because some metrics on experiment are available while trials are running.\n"
     ]
    },
    {
     "name": "stderr",
     "output_type": "stream",
     "text": [
      "/tmp/tmp.3Yo4S3ORTG/Ax-main/ax/core/map_data.py:192: FutureWarning: The behavior of DataFrame concatenation with empty or all-NA entries is deprecated. In a future version, this will no longer exclude empty or all-NA columns when determining the result dtypes. To retain the old behavior, exclude the relevant entries before the concat operation.\n",
      "  df = pd.concat(\n"
     ]
    },
    {
     "name": "stderr",
     "output_type": "stream",
     "text": [
      "/tmp/tmp.3Yo4S3ORTG/Ax-main/ax/core/map_data.py:192: FutureWarning: The behavior of DataFrame concatenation with empty or all-NA entries is deprecated. In a future version, this will no longer exclude empty or all-NA columns when determining the result dtypes. To retain the old behavior, exclude the relevant entries before the concat operation.\n",
      "  df = pd.concat(\n",
      "[INFO 08-15 06:49:36] ax.early_stopping.strategies.base: The number of completed trials (0) is less than the minimum number of curves needed for early stopping (5). Not early stopping.\n"
     ]
    },
    {
     "name": "stderr",
     "output_type": "stream",
     "text": [
      "[INFO 08-15 06:49:36] Scheduler: Waiting for completed trials (for 10 sec, currently running trials: 5).\n"
     ]
    },
    {
     "name": "stderr",
     "output_type": "stream",
     "text": [
      "[INFO 08-15 06:49:46] Scheduler: Fetching data for newly completed trials: [].\n"
     ]
    },
    {
     "name": "stderr",
     "output_type": "stream",
     "text": [
      "[INFO 08-15 06:49:46] Scheduler: Fetching data for trials: 2 - 6 because some metrics on experiment are available while trials are running.\n"
     ]
    },
    {
     "name": "stderr",
     "output_type": "stream",
     "text": [
      "/tmp/tmp.3Yo4S3ORTG/Ax-main/ax/core/map_data.py:192: FutureWarning: The behavior of DataFrame concatenation with empty or all-NA entries is deprecated. In a future version, this will no longer exclude empty or all-NA columns when determining the result dtypes. To retain the old behavior, exclude the relevant entries before the concat operation.\n",
      "  df = pd.concat(\n"
     ]
    },
    {
     "name": "stderr",
     "output_type": "stream",
     "text": [
      "/tmp/tmp.3Yo4S3ORTG/Ax-main/ax/core/map_data.py:192: FutureWarning: The behavior of DataFrame concatenation with empty or all-NA entries is deprecated. In a future version, this will no longer exclude empty or all-NA columns when determining the result dtypes. To retain the old behavior, exclude the relevant entries before the concat operation.\n",
      "  df = pd.concat(\n",
      "[INFO 08-15 06:49:46] ax.early_stopping.strategies.base: The number of completed trials (0) is less than the minimum number of curves needed for early stopping (5). Not early stopping.\n"
     ]
    },
    {
     "name": "stderr",
     "output_type": "stream",
     "text": [
      "[INFO 08-15 06:49:46] Scheduler: Waiting for completed trials (for 10 sec, currently running trials: 5).\n"
     ]
    },
    {
     "name": "stderr",
     "output_type": "stream",
     "text": [
      "[INFO 08-15 06:49:56] Scheduler: Fetching data for newly completed trials: [].\n"
     ]
    },
    {
     "name": "stderr",
     "output_type": "stream",
     "text": [
      "[INFO 08-15 06:49:56] Scheduler: Fetching data for trials: 2 - 6 because some metrics on experiment are available while trials are running.\n"
     ]
    },
    {
     "name": "stderr",
     "output_type": "stream",
     "text": [
      "/tmp/tmp.3Yo4S3ORTG/Ax-main/ax/core/map_data.py:192: FutureWarning: The behavior of DataFrame concatenation with empty or all-NA entries is deprecated. In a future version, this will no longer exclude empty or all-NA columns when determining the result dtypes. To retain the old behavior, exclude the relevant entries before the concat operation.\n",
      "  df = pd.concat(\n"
     ]
    },
    {
     "name": "stderr",
     "output_type": "stream",
     "text": [
      "/tmp/tmp.3Yo4S3ORTG/Ax-main/ax/core/map_data.py:192: FutureWarning: The behavior of DataFrame concatenation with empty or all-NA entries is deprecated. In a future version, this will no longer exclude empty or all-NA columns when determining the result dtypes. To retain the old behavior, exclude the relevant entries before the concat operation.\n",
      "  df = pd.concat(\n",
      "[INFO 08-15 06:49:56] ax.early_stopping.strategies.base: The number of completed trials (0) is less than the minimum number of curves needed for early stopping (5). Not early stopping.\n"
     ]
    },
    {
     "name": "stderr",
     "output_type": "stream",
     "text": [
      "[INFO 08-15 06:49:56] Scheduler: Waiting for completed trials (for 10 sec, currently running trials: 5).\n"
     ]
    },
    {
     "name": "stderr",
     "output_type": "stream",
     "text": [
      "[INFO 08-15 06:50:06] Scheduler: Fetching data for newly completed trials: [].\n"
     ]
    },
    {
     "name": "stderr",
     "output_type": "stream",
     "text": [
      "[INFO 08-15 06:50:06] Scheduler: Fetching data for trials: 2 - 6 because some metrics on experiment are available while trials are running.\n"
     ]
    },
    {
     "name": "stderr",
     "output_type": "stream",
     "text": [
      "/tmp/tmp.3Yo4S3ORTG/Ax-main/ax/core/map_data.py:192: FutureWarning: The behavior of DataFrame concatenation with empty or all-NA entries is deprecated. In a future version, this will no longer exclude empty or all-NA columns when determining the result dtypes. To retain the old behavior, exclude the relevant entries before the concat operation.\n",
      "  df = pd.concat(\n",
      "/tmp/tmp.3Yo4S3ORTG/Ax-main/ax/core/map_data.py:192: FutureWarning: The behavior of DataFrame concatenation with empty or all-NA entries is deprecated. In a future version, this will no longer exclude empty or all-NA columns when determining the result dtypes. To retain the old behavior, exclude the relevant entries before the concat operation.\n",
      "  df = pd.concat(\n"
     ]
    },
    {
     "name": "stderr",
     "output_type": "stream",
     "text": [
      "[INFO 08-15 06:50:07] ax.early_stopping.strategies.base: The number of completed trials (0) is less than the minimum number of curves needed for early stopping (5). Not early stopping.\n"
     ]
    },
    {
     "name": "stderr",
     "output_type": "stream",
     "text": [
      "[INFO 08-15 06:50:07] Scheduler: Waiting for completed trials (for 10 sec, currently running trials: 5).\n"
     ]
    },
    {
     "name": "stderr",
     "output_type": "stream",
     "text": [
      "[INFO 08-15 06:50:17] Scheduler: Fetching data for newly completed trials: [].\n"
     ]
    },
    {
     "name": "stderr",
     "output_type": "stream",
     "text": [
      "[INFO 08-15 06:50:17] Scheduler: Fetching data for trials: 2 - 6 because some metrics on experiment are available while trials are running.\n"
     ]
    },
    {
     "name": "stderr",
     "output_type": "stream",
     "text": [
      "/tmp/tmp.3Yo4S3ORTG/Ax-main/ax/core/map_data.py:192: FutureWarning: The behavior of DataFrame concatenation with empty or all-NA entries is deprecated. In a future version, this will no longer exclude empty or all-NA columns when determining the result dtypes. To retain the old behavior, exclude the relevant entries before the concat operation.\n",
      "  df = pd.concat(\n",
      "/tmp/tmp.3Yo4S3ORTG/Ax-main/ax/core/map_data.py:192: FutureWarning: The behavior of DataFrame concatenation with empty or all-NA entries is deprecated. In a future version, this will no longer exclude empty or all-NA columns when determining the result dtypes. To retain the old behavior, exclude the relevant entries before the concat operation.\n",
      "  df = pd.concat(\n"
     ]
    },
    {
     "name": "stderr",
     "output_type": "stream",
     "text": [
      "[INFO 08-15 06:50:17] ax.early_stopping.strategies.base: The number of completed trials (0) is less than the minimum number of curves needed for early stopping (5). Not early stopping.\n"
     ]
    },
    {
     "name": "stderr",
     "output_type": "stream",
     "text": [
      "[INFO 08-15 06:50:17] Scheduler: Waiting for completed trials (for 10 sec, currently running trials: 5).\n"
     ]
    },
    {
     "name": "stderr",
     "output_type": "stream",
     "text": [
      "[INFO 08-15 06:50:27] Scheduler: Fetching data for newly completed trials: [].\n"
     ]
    },
    {
     "name": "stderr",
     "output_type": "stream",
     "text": [
      "[INFO 08-15 06:50:27] Scheduler: Fetching data for trials: 2 - 6 because some metrics on experiment are available while trials are running.\n"
     ]
    },
    {
     "name": "stderr",
     "output_type": "stream",
     "text": [
      "/tmp/tmp.3Yo4S3ORTG/Ax-main/ax/core/map_data.py:192: FutureWarning: The behavior of DataFrame concatenation with empty or all-NA entries is deprecated. In a future version, this will no longer exclude empty or all-NA columns when determining the result dtypes. To retain the old behavior, exclude the relevant entries before the concat operation.\n",
      "  df = pd.concat(\n"
     ]
    },
    {
     "name": "stderr",
     "output_type": "stream",
     "text": [
      "/tmp/tmp.3Yo4S3ORTG/Ax-main/ax/core/map_data.py:192: FutureWarning: The behavior of DataFrame concatenation with empty or all-NA entries is deprecated. In a future version, this will no longer exclude empty or all-NA columns when determining the result dtypes. To retain the old behavior, exclude the relevant entries before the concat operation.\n",
      "  df = pd.concat(\n"
     ]
    },
    {
     "name": "stderr",
     "output_type": "stream",
     "text": [
      "[INFO 08-15 06:50:27] ax.early_stopping.strategies.base: The number of completed trials (0) is less than the minimum number of curves needed for early stopping (5). Not early stopping.\n"
     ]
    },
    {
     "name": "stderr",
     "output_type": "stream",
     "text": [
      "[INFO 08-15 06:50:27] Scheduler: Waiting for completed trials (for 10 sec, currently running trials: 5).\n"
     ]
    },
    {
     "name": "stderr",
     "output_type": "stream",
     "text": [
      "[INFO 08-15 06:50:37] Scheduler: Fetching data for newly completed trials: [].\n"
     ]
    },
    {
     "name": "stderr",
     "output_type": "stream",
     "text": [
      "[INFO 08-15 06:50:37] Scheduler: Fetching data for trials: 2 - 6 because some metrics on experiment are available while trials are running.\n"
     ]
    },
    {
     "name": "stderr",
     "output_type": "stream",
     "text": [
      "/tmp/tmp.3Yo4S3ORTG/Ax-main/ax/core/map_data.py:192: FutureWarning: The behavior of DataFrame concatenation with empty or all-NA entries is deprecated. In a future version, this will no longer exclude empty or all-NA columns when determining the result dtypes. To retain the old behavior, exclude the relevant entries before the concat operation.\n",
      "  df = pd.concat(\n",
      "/tmp/tmp.3Yo4S3ORTG/Ax-main/ax/core/map_data.py:192: FutureWarning: The behavior of DataFrame concatenation with empty or all-NA entries is deprecated. In a future version, this will no longer exclude empty or all-NA columns when determining the result dtypes. To retain the old behavior, exclude the relevant entries before the concat operation.\n",
      "  df = pd.concat(\n"
     ]
    },
    {
     "name": "stderr",
     "output_type": "stream",
     "text": [
      "[INFO 08-15 06:50:37] ax.early_stopping.strategies.base: The number of completed trials (0) is less than the minimum number of curves needed for early stopping (5). Not early stopping.\n"
     ]
    },
    {
     "name": "stderr",
     "output_type": "stream",
     "text": [
      "[INFO 08-15 06:50:37] Scheduler: Waiting for completed trials (for 10 sec, currently running trials: 5).\n"
     ]
    },
    {
     "name": "stderr",
     "output_type": "stream",
     "text": [
      "[INFO 08-15 06:50:47] Scheduler: Fetching data for newly completed trials: [].\n"
     ]
    },
    {
     "name": "stderr",
     "output_type": "stream",
     "text": [
      "[INFO 08-15 06:50:47] Scheduler: Fetching data for trials: 2 - 6 because some metrics on experiment are available while trials are running.\n"
     ]
    },
    {
     "name": "stderr",
     "output_type": "stream",
     "text": [
      "/tmp/tmp.3Yo4S3ORTG/Ax-main/ax/core/map_data.py:192: FutureWarning: The behavior of DataFrame concatenation with empty or all-NA entries is deprecated. In a future version, this will no longer exclude empty or all-NA columns when determining the result dtypes. To retain the old behavior, exclude the relevant entries before the concat operation.\n",
      "  df = pd.concat(\n"
     ]
    },
    {
     "name": "stderr",
     "output_type": "stream",
     "text": [
      "/tmp/tmp.3Yo4S3ORTG/Ax-main/ax/core/map_data.py:192: FutureWarning: The behavior of DataFrame concatenation with empty or all-NA entries is deprecated. In a future version, this will no longer exclude empty or all-NA columns when determining the result dtypes. To retain the old behavior, exclude the relevant entries before the concat operation.\n",
      "  df = pd.concat(\n",
      "[INFO 08-15 06:50:48] ax.early_stopping.strategies.base: The number of completed trials (0) is less than the minimum number of curves needed for early stopping (5). Not early stopping.\n"
     ]
    },
    {
     "name": "stderr",
     "output_type": "stream",
     "text": [
      "[INFO 08-15 06:50:48] Scheduler: Waiting for completed trials (for 10 sec, currently running trials: 5).\n"
     ]
    },
    {
     "name": "stderr",
     "output_type": "stream",
     "text": [
      "[INFO 08-15 06:50:58] Scheduler: Fetching data for newly completed trials: [].\n"
     ]
    },
    {
     "name": "stderr",
     "output_type": "stream",
     "text": [
      "[INFO 08-15 06:50:58] Scheduler: Fetching data for trials: 2 - 6 because some metrics on experiment are available while trials are running.\n"
     ]
    },
    {
     "name": "stderr",
     "output_type": "stream",
     "text": [
      "/tmp/tmp.3Yo4S3ORTG/Ax-main/ax/core/map_data.py:192: FutureWarning: The behavior of DataFrame concatenation with empty or all-NA entries is deprecated. In a future version, this will no longer exclude empty or all-NA columns when determining the result dtypes. To retain the old behavior, exclude the relevant entries before the concat operation.\n",
      "  df = pd.concat(\n"
     ]
    },
    {
     "name": "stderr",
     "output_type": "stream",
     "text": [
      "/tmp/tmp.3Yo4S3ORTG/Ax-main/ax/core/map_data.py:192: FutureWarning: The behavior of DataFrame concatenation with empty or all-NA entries is deprecated. In a future version, this will no longer exclude empty or all-NA columns when determining the result dtypes. To retain the old behavior, exclude the relevant entries before the concat operation.\n",
      "  df = pd.concat(\n",
      "[INFO 08-15 06:50:58] ax.early_stopping.strategies.base: The number of completed trials (0) is less than the minimum number of curves needed for early stopping (5). Not early stopping.\n"
     ]
    },
    {
     "name": "stderr",
     "output_type": "stream",
     "text": [
      "[INFO 08-15 06:50:58] Scheduler: Waiting for completed trials (for 10 sec, currently running trials: 5).\n"
     ]
    },
    {
     "name": "stderr",
     "output_type": "stream",
     "text": [
      "[INFO 08-15 06:51:08] Scheduler: Fetching data for newly completed trials: [].\n"
     ]
    },
    {
     "name": "stderr",
     "output_type": "stream",
     "text": [
      "[INFO 08-15 06:51:08] Scheduler: Fetching data for trials: 2 - 6 because some metrics on experiment are available while trials are running.\n"
     ]
    },
    {
     "name": "stderr",
     "output_type": "stream",
     "text": [
      "/tmp/tmp.3Yo4S3ORTG/Ax-main/ax/core/map_data.py:192: FutureWarning: The behavior of DataFrame concatenation with empty or all-NA entries is deprecated. In a future version, this will no longer exclude empty or all-NA columns when determining the result dtypes. To retain the old behavior, exclude the relevant entries before the concat operation.\n",
      "  df = pd.concat(\n"
     ]
    },
    {
     "name": "stderr",
     "output_type": "stream",
     "text": [
      "/tmp/tmp.3Yo4S3ORTG/Ax-main/ax/core/map_data.py:192: FutureWarning: The behavior of DataFrame concatenation with empty or all-NA entries is deprecated. In a future version, this will no longer exclude empty or all-NA columns when determining the result dtypes. To retain the old behavior, exclude the relevant entries before the concat operation.\n",
      "  df = pd.concat(\n",
      "[INFO 08-15 06:51:08] ax.early_stopping.strategies.base: The number of completed trials (0) is less than the minimum number of curves needed for early stopping (5). Not early stopping.\n"
     ]
    },
    {
     "name": "stderr",
     "output_type": "stream",
     "text": [
      "[INFO 08-15 06:51:08] Scheduler: Waiting for completed trials (for 10 sec, currently running trials: 5).\n"
     ]
    },
    {
     "name": "stderr",
     "output_type": "stream",
     "text": [
      "[INFO 08-15 06:51:18] Scheduler: Fetching data for newly completed trials: [].\n"
     ]
    },
    {
     "name": "stderr",
     "output_type": "stream",
     "text": [
      "[INFO 08-15 06:51:18] Scheduler: Fetching data for trials: 2 - 6 because some metrics on experiment are available while trials are running.\n"
     ]
    },
    {
     "name": "stderr",
     "output_type": "stream",
     "text": [
      "/tmp/tmp.3Yo4S3ORTG/Ax-main/ax/core/map_data.py:192: FutureWarning: The behavior of DataFrame concatenation with empty or all-NA entries is deprecated. In a future version, this will no longer exclude empty or all-NA columns when determining the result dtypes. To retain the old behavior, exclude the relevant entries before the concat operation.\n",
      "  df = pd.concat(\n"
     ]
    },
    {
     "name": "stderr",
     "output_type": "stream",
     "text": [
      "/tmp/tmp.3Yo4S3ORTG/Ax-main/ax/core/map_data.py:192: FutureWarning: The behavior of DataFrame concatenation with empty or all-NA entries is deprecated. In a future version, this will no longer exclude empty or all-NA columns when determining the result dtypes. To retain the old behavior, exclude the relevant entries before the concat operation.\n",
      "  df = pd.concat(\n",
      "[INFO 08-15 06:51:18] ax.early_stopping.strategies.base: The number of completed trials (0) is less than the minimum number of curves needed for early stopping (5). Not early stopping.\n"
     ]
    },
    {
     "name": "stderr",
     "output_type": "stream",
     "text": [
      "[INFO 08-15 06:51:18] Scheduler: Waiting for completed trials (for 10 sec, currently running trials: 5).\n"
     ]
    },
    {
     "name": "stderr",
     "output_type": "stream",
     "text": [
      "[INFO 08-15 06:51:28] Scheduler: Fetching data for newly completed trials: [].\n"
     ]
    },
    {
     "name": "stderr",
     "output_type": "stream",
     "text": [
      "[INFO 08-15 06:51:28] Scheduler: Fetching data for trials: 2 - 6 because some metrics on experiment are available while trials are running.\n"
     ]
    },
    {
     "name": "stderr",
     "output_type": "stream",
     "text": [
      "/tmp/tmp.3Yo4S3ORTG/Ax-main/ax/core/map_data.py:192: FutureWarning: The behavior of DataFrame concatenation with empty or all-NA entries is deprecated. In a future version, this will no longer exclude empty or all-NA columns when determining the result dtypes. To retain the old behavior, exclude the relevant entries before the concat operation.\n",
      "  df = pd.concat(\n",
      "/tmp/tmp.3Yo4S3ORTG/Ax-main/ax/core/map_data.py:192: FutureWarning: The behavior of DataFrame concatenation with empty or all-NA entries is deprecated. In a future version, this will no longer exclude empty or all-NA columns when determining the result dtypes. To retain the old behavior, exclude the relevant entries before the concat operation.\n",
      "  df = pd.concat(\n"
     ]
    },
    {
     "name": "stderr",
     "output_type": "stream",
     "text": [
      "[INFO 08-15 06:51:29] ax.early_stopping.strategies.base: The number of completed trials (0) is less than the minimum number of curves needed for early stopping (5). Not early stopping.\n"
     ]
    },
    {
     "name": "stderr",
     "output_type": "stream",
     "text": [
      "[INFO 08-15 06:51:29] Scheduler: Waiting for completed trials (for 10 sec, currently running trials: 5).\n"
     ]
    },
    {
     "name": "stderr",
     "output_type": "stream",
     "text": [
      "[INFO 08-15 06:51:39] Scheduler: Fetching data for newly completed trials: [].\n"
     ]
    },
    {
     "name": "stderr",
     "output_type": "stream",
     "text": [
      "[INFO 08-15 06:51:39] Scheduler: Fetching data for trials: 2 - 6 because some metrics on experiment are available while trials are running.\n"
     ]
    },
    {
     "name": "stderr",
     "output_type": "stream",
     "text": [
      "/tmp/tmp.3Yo4S3ORTG/Ax-main/ax/core/map_data.py:192: FutureWarning: The behavior of DataFrame concatenation with empty or all-NA entries is deprecated. In a future version, this will no longer exclude empty or all-NA columns when determining the result dtypes. To retain the old behavior, exclude the relevant entries before the concat operation.\n",
      "  df = pd.concat(\n"
     ]
    },
    {
     "name": "stderr",
     "output_type": "stream",
     "text": [
      "/tmp/tmp.3Yo4S3ORTG/Ax-main/ax/core/map_data.py:192: FutureWarning: The behavior of DataFrame concatenation with empty or all-NA entries is deprecated. In a future version, this will no longer exclude empty or all-NA columns when determining the result dtypes. To retain the old behavior, exclude the relevant entries before the concat operation.\n",
      "  df = pd.concat(\n",
      "[INFO 08-15 06:51:39] ax.early_stopping.strategies.base: The number of completed trials (0) is less than the minimum number of curves needed for early stopping (5). Not early stopping.\n"
     ]
    },
    {
     "name": "stderr",
     "output_type": "stream",
     "text": [
      "[INFO 08-15 06:51:39] Scheduler: Waiting for completed trials (for 10 sec, currently running trials: 5).\n"
     ]
    },
    {
     "name": "stderr",
     "output_type": "stream",
     "text": [
      "[INFO 08-15 06:51:49] Scheduler: Fetching data for newly completed trials: [].\n"
     ]
    },
    {
     "name": "stderr",
     "output_type": "stream",
     "text": [
      "[INFO 08-15 06:51:49] Scheduler: Fetching data for trials: 2 - 6 because some metrics on experiment are available while trials are running.\n"
     ]
    },
    {
     "name": "stderr",
     "output_type": "stream",
     "text": [
      "/tmp/tmp.3Yo4S3ORTG/Ax-main/ax/core/map_data.py:192: FutureWarning: The behavior of DataFrame concatenation with empty or all-NA entries is deprecated. In a future version, this will no longer exclude empty or all-NA columns when determining the result dtypes. To retain the old behavior, exclude the relevant entries before the concat operation.\n",
      "  df = pd.concat(\n",
      "/tmp/tmp.3Yo4S3ORTG/Ax-main/ax/core/map_data.py:192: FutureWarning: The behavior of DataFrame concatenation with empty or all-NA entries is deprecated. In a future version, this will no longer exclude empty or all-NA columns when determining the result dtypes. To retain the old behavior, exclude the relevant entries before the concat operation.\n",
      "  df = pd.concat(\n"
     ]
    },
    {
     "name": "stderr",
     "output_type": "stream",
     "text": [
      "[INFO 08-15 06:51:49] ax.early_stopping.strategies.base: The number of completed trials (0) is less than the minimum number of curves needed for early stopping (5). Not early stopping.\n"
     ]
    },
    {
     "name": "stderr",
     "output_type": "stream",
     "text": [
      "[INFO 08-15 06:51:49] Scheduler: Waiting for completed trials (for 10 sec, currently running trials: 5).\n"
     ]
    },
    {
     "name": "stderr",
     "output_type": "stream",
     "text": [
      "[INFO 08-15 06:51:59] Scheduler: Fetching data for newly completed trials: [].\n"
     ]
    },
    {
     "name": "stderr",
     "output_type": "stream",
     "text": [
      "[INFO 08-15 06:51:59] Scheduler: Fetching data for trials: 2 - 6 because some metrics on experiment are available while trials are running.\n"
     ]
    },
    {
     "name": "stderr",
     "output_type": "stream",
     "text": [
      "/tmp/tmp.3Yo4S3ORTG/Ax-main/ax/core/map_data.py:192: FutureWarning: The behavior of DataFrame concatenation with empty or all-NA entries is deprecated. In a future version, this will no longer exclude empty or all-NA columns when determining the result dtypes. To retain the old behavior, exclude the relevant entries before the concat operation.\n",
      "  df = pd.concat(\n"
     ]
    },
    {
     "name": "stderr",
     "output_type": "stream",
     "text": [
      "/tmp/tmp.3Yo4S3ORTG/Ax-main/ax/core/map_data.py:192: FutureWarning: The behavior of DataFrame concatenation with empty or all-NA entries is deprecated. In a future version, this will no longer exclude empty or all-NA columns when determining the result dtypes. To retain the old behavior, exclude the relevant entries before the concat operation.\n",
      "  df = pd.concat(\n",
      "[INFO 08-15 06:51:59] ax.early_stopping.strategies.base: The number of completed trials (0) is less than the minimum number of curves needed for early stopping (5). Not early stopping.\n"
     ]
    },
    {
     "name": "stderr",
     "output_type": "stream",
     "text": [
      "[INFO 08-15 06:51:59] Scheduler: Waiting for completed trials (for 10 sec, currently running trials: 5).\n"
     ]
    },
    {
     "name": "stderr",
     "output_type": "stream",
     "text": [
      "[INFO 08-15 06:52:09] Scheduler: Fetching data for newly completed trials: [].\n"
     ]
    },
    {
     "name": "stderr",
     "output_type": "stream",
     "text": [
      "[INFO 08-15 06:52:09] Scheduler: Fetching data for trials: 2 - 6 because some metrics on experiment are available while trials are running.\n"
     ]
    },
    {
     "name": "stderr",
     "output_type": "stream",
     "text": [
      "/tmp/tmp.3Yo4S3ORTG/Ax-main/ax/core/map_data.py:192: FutureWarning: The behavior of DataFrame concatenation with empty or all-NA entries is deprecated. In a future version, this will no longer exclude empty or all-NA columns when determining the result dtypes. To retain the old behavior, exclude the relevant entries before the concat operation.\n",
      "  df = pd.concat(\n"
     ]
    },
    {
     "name": "stderr",
     "output_type": "stream",
     "text": [
      "/tmp/tmp.3Yo4S3ORTG/Ax-main/ax/core/map_data.py:192: FutureWarning: The behavior of DataFrame concatenation with empty or all-NA entries is deprecated. In a future version, this will no longer exclude empty or all-NA columns when determining the result dtypes. To retain the old behavior, exclude the relevant entries before the concat operation.\n",
      "  df = pd.concat(\n",
      "[INFO 08-15 06:52:10] ax.early_stopping.strategies.base: The number of completed trials (0) is less than the minimum number of curves needed for early stopping (5). Not early stopping.\n"
     ]
    },
    {
     "name": "stderr",
     "output_type": "stream",
     "text": [
      "[INFO 08-15 06:52:10] Scheduler: Waiting for completed trials (for 10 sec, currently running trials: 5).\n"
     ]
    },
    {
     "name": "stderr",
     "output_type": "stream",
     "text": [
      "[INFO 08-15 06:52:20] Scheduler: Fetching data for newly completed trials: [].\n"
     ]
    },
    {
     "name": "stderr",
     "output_type": "stream",
     "text": [
      "[INFO 08-15 06:52:20] Scheduler: Fetching data for trials: 2 - 6 because some metrics on experiment are available while trials are running.\n"
     ]
    },
    {
     "name": "stderr",
     "output_type": "stream",
     "text": [
      "/tmp/tmp.3Yo4S3ORTG/Ax-main/ax/core/map_data.py:192: FutureWarning: The behavior of DataFrame concatenation with empty or all-NA entries is deprecated. In a future version, this will no longer exclude empty or all-NA columns when determining the result dtypes. To retain the old behavior, exclude the relevant entries before the concat operation.\n",
      "  df = pd.concat(\n"
     ]
    },
    {
     "name": "stderr",
     "output_type": "stream",
     "text": [
      "/tmp/tmp.3Yo4S3ORTG/Ax-main/ax/core/map_data.py:192: FutureWarning: The behavior of DataFrame concatenation with empty or all-NA entries is deprecated. In a future version, this will no longer exclude empty or all-NA columns when determining the result dtypes. To retain the old behavior, exclude the relevant entries before the concat operation.\n",
      "  df = pd.concat(\n",
      "[INFO 08-15 06:52:20] ax.early_stopping.strategies.base: The number of completed trials (0) is less than the minimum number of curves needed for early stopping (5). Not early stopping.\n"
     ]
    },
    {
     "name": "stderr",
     "output_type": "stream",
     "text": [
      "[INFO 08-15 06:52:20] Scheduler: Waiting for completed trials (for 10 sec, currently running trials: 5).\n"
     ]
    },
    {
     "name": "stderr",
     "output_type": "stream",
     "text": [
      "[INFO 08-15 06:52:30] Scheduler: Fetching data for newly completed trials: [].\n"
     ]
    },
    {
     "name": "stderr",
     "output_type": "stream",
     "text": [
      "[INFO 08-15 06:52:30] Scheduler: Fetching data for trials: 2 - 6 because some metrics on experiment are available while trials are running.\n"
     ]
    },
    {
     "name": "stderr",
     "output_type": "stream",
     "text": [
      "/tmp/tmp.3Yo4S3ORTG/Ax-main/ax/core/map_data.py:192: FutureWarning: The behavior of DataFrame concatenation with empty or all-NA entries is deprecated. In a future version, this will no longer exclude empty or all-NA columns when determining the result dtypes. To retain the old behavior, exclude the relevant entries before the concat operation.\n",
      "  df = pd.concat(\n",
      "/tmp/tmp.3Yo4S3ORTG/Ax-main/ax/core/map_data.py:192: FutureWarning: The behavior of DataFrame concatenation with empty or all-NA entries is deprecated. In a future version, this will no longer exclude empty or all-NA columns when determining the result dtypes. To retain the old behavior, exclude the relevant entries before the concat operation.\n",
      "  df = pd.concat(\n",
      "[INFO 08-15 06:52:30] ax.early_stopping.strategies.base: The number of completed trials (0) is less than the minimum number of curves needed for early stopping (5). Not early stopping.\n"
     ]
    },
    {
     "name": "stderr",
     "output_type": "stream",
     "text": [
      "[INFO 08-15 06:52:30] Scheduler: Waiting for completed trials (for 10 sec, currently running trials: 5).\n"
     ]
    },
    {
     "name": "stderr",
     "output_type": "stream",
     "text": [
      "[INFO 08-15 06:52:40] Scheduler: Fetching data for newly completed trials: [].\n"
     ]
    },
    {
     "name": "stderr",
     "output_type": "stream",
     "text": [
      "[INFO 08-15 06:52:40] Scheduler: Fetching data for trials: 2 - 6 because some metrics on experiment are available while trials are running.\n"
     ]
    },
    {
     "name": "stderr",
     "output_type": "stream",
     "text": [
      "/tmp/tmp.3Yo4S3ORTG/Ax-main/ax/core/map_data.py:192: FutureWarning: The behavior of DataFrame concatenation with empty or all-NA entries is deprecated. In a future version, this will no longer exclude empty or all-NA columns when determining the result dtypes. To retain the old behavior, exclude the relevant entries before the concat operation.\n",
      "  df = pd.concat(\n"
     ]
    },
    {
     "name": "stderr",
     "output_type": "stream",
     "text": [
      "/tmp/tmp.3Yo4S3ORTG/Ax-main/ax/core/map_data.py:192: FutureWarning: The behavior of DataFrame concatenation with empty or all-NA entries is deprecated. In a future version, this will no longer exclude empty or all-NA columns when determining the result dtypes. To retain the old behavior, exclude the relevant entries before the concat operation.\n",
      "  df = pd.concat(\n",
      "[INFO 08-15 06:52:40] ax.early_stopping.strategies.base: The number of completed trials (0) is less than the minimum number of curves needed for early stopping (5). Not early stopping.\n"
     ]
    },
    {
     "name": "stderr",
     "output_type": "stream",
     "text": [
      "[INFO 08-15 06:52:40] Scheduler: Waiting for completed trials (for 10 sec, currently running trials: 5).\n"
     ]
    },
    {
     "name": "stderr",
     "output_type": "stream",
     "text": [
      "[INFO 08-15 06:52:50] Scheduler: Fetching data for newly completed trials: [].\n"
     ]
    },
    {
     "name": "stderr",
     "output_type": "stream",
     "text": [
      "[INFO 08-15 06:52:50] Scheduler: Fetching data for trials: 2 - 6 because some metrics on experiment are available while trials are running.\n"
     ]
    },
    {
     "name": "stderr",
     "output_type": "stream",
     "text": [
      "/tmp/tmp.3Yo4S3ORTG/Ax-main/ax/core/map_data.py:192: FutureWarning: The behavior of DataFrame concatenation with empty or all-NA entries is deprecated. In a future version, this will no longer exclude empty or all-NA columns when determining the result dtypes. To retain the old behavior, exclude the relevant entries before the concat operation.\n",
      "  df = pd.concat(\n"
     ]
    },
    {
     "name": "stderr",
     "output_type": "stream",
     "text": [
      "/tmp/tmp.3Yo4S3ORTG/Ax-main/ax/core/map_data.py:192: FutureWarning: The behavior of DataFrame concatenation with empty or all-NA entries is deprecated. In a future version, this will no longer exclude empty or all-NA columns when determining the result dtypes. To retain the old behavior, exclude the relevant entries before the concat operation.\n",
      "  df = pd.concat(\n",
      "[INFO 08-15 06:52:51] ax.early_stopping.strategies.base: The number of completed trials (0) is less than the minimum number of curves needed for early stopping (5). Not early stopping.\n"
     ]
    },
    {
     "name": "stderr",
     "output_type": "stream",
     "text": [
      "[INFO 08-15 06:52:51] Scheduler: Waiting for completed trials (for 10 sec, currently running trials: 5).\n"
     ]
    },
    {
     "name": "stderr",
     "output_type": "stream",
     "text": [
      "[INFO 08-15 06:53:01] Scheduler: Fetching data for newly completed trials: [].\n"
     ]
    },
    {
     "name": "stderr",
     "output_type": "stream",
     "text": [
      "[INFO 08-15 06:53:01] Scheduler: Fetching data for trials: 2 - 6 because some metrics on experiment are available while trials are running.\n"
     ]
    },
    {
     "name": "stderr",
     "output_type": "stream",
     "text": [
      "/tmp/tmp.3Yo4S3ORTG/Ax-main/ax/core/map_data.py:192: FutureWarning: The behavior of DataFrame concatenation with empty or all-NA entries is deprecated. In a future version, this will no longer exclude empty or all-NA columns when determining the result dtypes. To retain the old behavior, exclude the relevant entries before the concat operation.\n",
      "  df = pd.concat(\n"
     ]
    },
    {
     "name": "stderr",
     "output_type": "stream",
     "text": [
      "/tmp/tmp.3Yo4S3ORTG/Ax-main/ax/core/map_data.py:192: FutureWarning: The behavior of DataFrame concatenation with empty or all-NA entries is deprecated. In a future version, this will no longer exclude empty or all-NA columns when determining the result dtypes. To retain the old behavior, exclude the relevant entries before the concat operation.\n",
      "  df = pd.concat(\n",
      "[INFO 08-15 06:53:01] ax.early_stopping.strategies.base: The number of completed trials (0) is less than the minimum number of curves needed for early stopping (5). Not early stopping.\n"
     ]
    },
    {
     "name": "stderr",
     "output_type": "stream",
     "text": [
      "[INFO 08-15 06:53:01] Scheduler: Waiting for completed trials (for 10 sec, currently running trials: 5).\n"
     ]
    },
    {
     "name": "stderr",
     "output_type": "stream",
     "text": [
      "[INFO 08-15 06:53:11] Scheduler: Fetching data for newly completed trials: [].\n"
     ]
    },
    {
     "name": "stderr",
     "output_type": "stream",
     "text": [
      "[INFO 08-15 06:53:11] Scheduler: Fetching data for trials: 2 - 6 because some metrics on experiment are available while trials are running.\n"
     ]
    },
    {
     "name": "stderr",
     "output_type": "stream",
     "text": [
      "/tmp/tmp.3Yo4S3ORTG/Ax-main/ax/core/map_data.py:192: FutureWarning: The behavior of DataFrame concatenation with empty or all-NA entries is deprecated. In a future version, this will no longer exclude empty or all-NA columns when determining the result dtypes. To retain the old behavior, exclude the relevant entries before the concat operation.\n",
      "  df = pd.concat(\n"
     ]
    },
    {
     "name": "stderr",
     "output_type": "stream",
     "text": [
      "/tmp/tmp.3Yo4S3ORTG/Ax-main/ax/core/map_data.py:192: FutureWarning: The behavior of DataFrame concatenation with empty or all-NA entries is deprecated. In a future version, this will no longer exclude empty or all-NA columns when determining the result dtypes. To retain the old behavior, exclude the relevant entries before the concat operation.\n",
      "  df = pd.concat(\n",
      "[INFO 08-15 06:53:11] ax.early_stopping.strategies.base: The number of completed trials (0) is less than the minimum number of curves needed for early stopping (5). Not early stopping.\n"
     ]
    },
    {
     "name": "stderr",
     "output_type": "stream",
     "text": [
      "[INFO 08-15 06:53:11] Scheduler: Waiting for completed trials (for 10 sec, currently running trials: 5).\n"
     ]
    },
    {
     "name": "stderr",
     "output_type": "stream",
     "text": [
      "[INFO 08-15 06:53:21] Scheduler: Fetching data for newly completed trials: [].\n"
     ]
    },
    {
     "name": "stderr",
     "output_type": "stream",
     "text": [
      "[INFO 08-15 06:53:21] Scheduler: Fetching data for trials: 2 - 6 because some metrics on experiment are available while trials are running.\n"
     ]
    },
    {
     "name": "stderr",
     "output_type": "stream",
     "text": [
      "/tmp/tmp.3Yo4S3ORTG/Ax-main/ax/core/map_data.py:192: FutureWarning: The behavior of DataFrame concatenation with empty or all-NA entries is deprecated. In a future version, this will no longer exclude empty or all-NA columns when determining the result dtypes. To retain the old behavior, exclude the relevant entries before the concat operation.\n",
      "  df = pd.concat(\n"
     ]
    },
    {
     "name": "stderr",
     "output_type": "stream",
     "text": [
      "/tmp/tmp.3Yo4S3ORTG/Ax-main/ax/core/map_data.py:192: FutureWarning: The behavior of DataFrame concatenation with empty or all-NA entries is deprecated. In a future version, this will no longer exclude empty or all-NA columns when determining the result dtypes. To retain the old behavior, exclude the relevant entries before the concat operation.\n",
      "  df = pd.concat(\n",
      "[INFO 08-15 06:53:22] ax.early_stopping.strategies.base: The number of completed trials (0) is less than the minimum number of curves needed for early stopping (5). Not early stopping.\n"
     ]
    },
    {
     "name": "stderr",
     "output_type": "stream",
     "text": [
      "[INFO 08-15 06:53:22] Scheduler: Waiting for completed trials (for 10 sec, currently running trials: 5).\n"
     ]
    },
    {
     "name": "stderr",
     "output_type": "stream",
     "text": [
      "[INFO 08-15 06:53:32] Scheduler: Fetching data for newly completed trials: [].\n"
     ]
    },
    {
     "name": "stderr",
     "output_type": "stream",
     "text": [
      "[INFO 08-15 06:53:32] Scheduler: Fetching data for trials: 2 - 6 because some metrics on experiment are available while trials are running.\n"
     ]
    },
    {
     "name": "stderr",
     "output_type": "stream",
     "text": [
      "/tmp/tmp.3Yo4S3ORTG/Ax-main/ax/core/map_data.py:192: FutureWarning: The behavior of DataFrame concatenation with empty or all-NA entries is deprecated. In a future version, this will no longer exclude empty or all-NA columns when determining the result dtypes. To retain the old behavior, exclude the relevant entries before the concat operation.\n",
      "  df = pd.concat(\n",
      "/tmp/tmp.3Yo4S3ORTG/Ax-main/ax/core/map_data.py:192: FutureWarning: The behavior of DataFrame concatenation with empty or all-NA entries is deprecated. In a future version, this will no longer exclude empty or all-NA columns when determining the result dtypes. To retain the old behavior, exclude the relevant entries before the concat operation.\n",
      "  df = pd.concat(\n"
     ]
    },
    {
     "name": "stderr",
     "output_type": "stream",
     "text": [
      "[INFO 08-15 06:53:32] ax.early_stopping.strategies.base: The number of completed trials (0) is less than the minimum number of curves needed for early stopping (5). Not early stopping.\n"
     ]
    },
    {
     "name": "stderr",
     "output_type": "stream",
     "text": [
      "[INFO 08-15 06:53:32] Scheduler: Waiting for completed trials (for 10 sec, currently running trials: 5).\n"
     ]
    },
    {
     "name": "stderr",
     "output_type": "stream",
     "text": [
      "[INFO 08-15 06:53:42] Scheduler: Fetching data for newly completed trials: [].\n"
     ]
    },
    {
     "name": "stderr",
     "output_type": "stream",
     "text": [
      "[INFO 08-15 06:53:42] Scheduler: Fetching data for trials: 2 - 6 because some metrics on experiment are available while trials are running.\n"
     ]
    },
    {
     "name": "stderr",
     "output_type": "stream",
     "text": [
      "/tmp/tmp.3Yo4S3ORTG/Ax-main/ax/core/map_data.py:192: FutureWarning: The behavior of DataFrame concatenation with empty or all-NA entries is deprecated. In a future version, this will no longer exclude empty or all-NA columns when determining the result dtypes. To retain the old behavior, exclude the relevant entries before the concat operation.\n",
      "  df = pd.concat(\n",
      "/tmp/tmp.3Yo4S3ORTG/Ax-main/ax/core/map_data.py:192: FutureWarning: The behavior of DataFrame concatenation with empty or all-NA entries is deprecated. In a future version, this will no longer exclude empty or all-NA columns when determining the result dtypes. To retain the old behavior, exclude the relevant entries before the concat operation.\n",
      "  df = pd.concat(\n"
     ]
    },
    {
     "name": "stderr",
     "output_type": "stream",
     "text": [
      "[INFO 08-15 06:53:42] ax.early_stopping.strategies.base: The number of completed trials (0) is less than the minimum number of curves needed for early stopping (5). Not early stopping.\n"
     ]
    },
    {
     "name": "stderr",
     "output_type": "stream",
     "text": [
      "[INFO 08-15 06:53:42] Scheduler: Waiting for completed trials (for 10 sec, currently running trials: 5).\n"
     ]
    },
    {
     "name": "stderr",
     "output_type": "stream",
     "text": [
      "[INFO 08-15 06:53:52] Scheduler: Fetching data for newly completed trials: [].\n"
     ]
    },
    {
     "name": "stderr",
     "output_type": "stream",
     "text": [
      "[INFO 08-15 06:53:52] Scheduler: Fetching data for trials: 2 - 6 because some metrics on experiment are available while trials are running.\n"
     ]
    },
    {
     "name": "stderr",
     "output_type": "stream",
     "text": [
      "/tmp/tmp.3Yo4S3ORTG/Ax-main/ax/core/map_data.py:192: FutureWarning: The behavior of DataFrame concatenation with empty or all-NA entries is deprecated. In a future version, this will no longer exclude empty or all-NA columns when determining the result dtypes. To retain the old behavior, exclude the relevant entries before the concat operation.\n",
      "  df = pd.concat(\n"
     ]
    },
    {
     "name": "stderr",
     "output_type": "stream",
     "text": [
      "/tmp/tmp.3Yo4S3ORTG/Ax-main/ax/core/map_data.py:192: FutureWarning: The behavior of DataFrame concatenation with empty or all-NA entries is deprecated. In a future version, this will no longer exclude empty or all-NA columns when determining the result dtypes. To retain the old behavior, exclude the relevant entries before the concat operation.\n",
      "  df = pd.concat(\n",
      "[INFO 08-15 06:53:52] ax.early_stopping.strategies.base: The number of completed trials (0) is less than the minimum number of curves needed for early stopping (5). Not early stopping.\n"
     ]
    },
    {
     "name": "stderr",
     "output_type": "stream",
     "text": [
      "[INFO 08-15 06:53:52] Scheduler: Waiting for completed trials (for 10 sec, currently running trials: 5).\n"
     ]
    },
    {
     "name": "stderr",
     "output_type": "stream",
     "text": [
      "[INFO 08-15 06:54:02] Scheduler: Fetching data for newly completed trials: [].\n"
     ]
    },
    {
     "name": "stderr",
     "output_type": "stream",
     "text": [
      "[INFO 08-15 06:54:02] Scheduler: Fetching data for trials: 2 - 6 because some metrics on experiment are available while trials are running.\n"
     ]
    },
    {
     "name": "stderr",
     "output_type": "stream",
     "text": [
      "/tmp/tmp.3Yo4S3ORTG/Ax-main/ax/core/map_data.py:192: FutureWarning: The behavior of DataFrame concatenation with empty or all-NA entries is deprecated. In a future version, this will no longer exclude empty or all-NA columns when determining the result dtypes. To retain the old behavior, exclude the relevant entries before the concat operation.\n",
      "  df = pd.concat(\n"
     ]
    },
    {
     "name": "stderr",
     "output_type": "stream",
     "text": [
      "/tmp/tmp.3Yo4S3ORTG/Ax-main/ax/core/map_data.py:192: FutureWarning: The behavior of DataFrame concatenation with empty or all-NA entries is deprecated. In a future version, this will no longer exclude empty or all-NA columns when determining the result dtypes. To retain the old behavior, exclude the relevant entries before the concat operation.\n",
      "  df = pd.concat(\n",
      "[INFO 08-15 06:54:03] ax.early_stopping.strategies.base: The number of completed trials (0) is less than the minimum number of curves needed for early stopping (5). Not early stopping.\n"
     ]
    },
    {
     "name": "stderr",
     "output_type": "stream",
     "text": [
      "[INFO 08-15 06:54:03] Scheduler: Waiting for completed trials (for 10 sec, currently running trials: 5).\n"
     ]
    },
    {
     "name": "stderr",
     "output_type": "stream",
     "text": [
      "[INFO 08-15 06:54:13] Scheduler: Fetching data for newly completed trials: [].\n"
     ]
    },
    {
     "name": "stderr",
     "output_type": "stream",
     "text": [
      "[INFO 08-15 06:54:13] Scheduler: Fetching data for trials: 2 - 6 because some metrics on experiment are available while trials are running.\n"
     ]
    },
    {
     "name": "stderr",
     "output_type": "stream",
     "text": [
      "/tmp/tmp.3Yo4S3ORTG/Ax-main/ax/core/map_data.py:192: FutureWarning: The behavior of DataFrame concatenation with empty or all-NA entries is deprecated. In a future version, this will no longer exclude empty or all-NA columns when determining the result dtypes. To retain the old behavior, exclude the relevant entries before the concat operation.\n",
      "  df = pd.concat(\n"
     ]
    },
    {
     "name": "stderr",
     "output_type": "stream",
     "text": [
      "/tmp/tmp.3Yo4S3ORTG/Ax-main/ax/core/map_data.py:192: FutureWarning: The behavior of DataFrame concatenation with empty or all-NA entries is deprecated. In a future version, this will no longer exclude empty or all-NA columns when determining the result dtypes. To retain the old behavior, exclude the relevant entries before the concat operation.\n",
      "  df = pd.concat(\n",
      "[INFO 08-15 06:54:13] ax.early_stopping.strategies.base: The number of completed trials (0) is less than the minimum number of curves needed for early stopping (5). Not early stopping.\n"
     ]
    },
    {
     "name": "stderr",
     "output_type": "stream",
     "text": [
      "[INFO 08-15 06:54:13] Scheduler: Waiting for completed trials (for 10 sec, currently running trials: 5).\n"
     ]
    },
    {
     "name": "stderr",
     "output_type": "stream",
     "text": [
      "[INFO 08-15 06:54:23] Scheduler: Fetching data for newly completed trials: [].\n"
     ]
    },
    {
     "name": "stderr",
     "output_type": "stream",
     "text": [
      "[INFO 08-15 06:54:23] Scheduler: Fetching data for trials: 2 - 6 because some metrics on experiment are available while trials are running.\n"
     ]
    },
    {
     "name": "stderr",
     "output_type": "stream",
     "text": [
      "/tmp/tmp.3Yo4S3ORTG/Ax-main/ax/core/map_data.py:192: FutureWarning: The behavior of DataFrame concatenation with empty or all-NA entries is deprecated. In a future version, this will no longer exclude empty or all-NA columns when determining the result dtypes. To retain the old behavior, exclude the relevant entries before the concat operation.\n",
      "  df = pd.concat(\n"
     ]
    },
    {
     "name": "stderr",
     "output_type": "stream",
     "text": [
      "/tmp/tmp.3Yo4S3ORTG/Ax-main/ax/core/map_data.py:192: FutureWarning: The behavior of DataFrame concatenation with empty or all-NA entries is deprecated. In a future version, this will no longer exclude empty or all-NA columns when determining the result dtypes. To retain the old behavior, exclude the relevant entries before the concat operation.\n",
      "  df = pd.concat(\n",
      "[INFO 08-15 06:54:23] ax.early_stopping.strategies.base: The number of completed trials (0) is less than the minimum number of curves needed for early stopping (5). Not early stopping.\n"
     ]
    },
    {
     "name": "stderr",
     "output_type": "stream",
     "text": [
      "[INFO 08-15 06:54:23] Scheduler: Waiting for completed trials (for 10 sec, currently running trials: 5).\n"
     ]
    },
    {
     "name": "stderr",
     "output_type": "stream",
     "text": [
      "[INFO 08-15 06:54:33] Scheduler: Fetching data for newly completed trials: [].\n"
     ]
    },
    {
     "name": "stderr",
     "output_type": "stream",
     "text": [
      "[INFO 08-15 06:54:33] Scheduler: Fetching data for trials: 2 - 6 because some metrics on experiment are available while trials are running.\n"
     ]
    },
    {
     "name": "stderr",
     "output_type": "stream",
     "text": [
      "/tmp/tmp.3Yo4S3ORTG/Ax-main/ax/core/map_data.py:192: FutureWarning: The behavior of DataFrame concatenation with empty or all-NA entries is deprecated. In a future version, this will no longer exclude empty or all-NA columns when determining the result dtypes. To retain the old behavior, exclude the relevant entries before the concat operation.\n",
      "  df = pd.concat(\n"
     ]
    },
    {
     "name": "stderr",
     "output_type": "stream",
     "text": [
      "/tmp/tmp.3Yo4S3ORTG/Ax-main/ax/core/map_data.py:192: FutureWarning: The behavior of DataFrame concatenation with empty or all-NA entries is deprecated. In a future version, this will no longer exclude empty or all-NA columns when determining the result dtypes. To retain the old behavior, exclude the relevant entries before the concat operation.\n",
      "  df = pd.concat(\n",
      "[INFO 08-15 06:54:33] ax.early_stopping.strategies.base: The number of completed trials (0) is less than the minimum number of curves needed for early stopping (5). Not early stopping.\n"
     ]
    },
    {
     "name": "stderr",
     "output_type": "stream",
     "text": [
      "[INFO 08-15 06:54:33] Scheduler: Waiting for completed trials (for 10 sec, currently running trials: 5).\n"
     ]
    },
    {
     "name": "stderr",
     "output_type": "stream",
     "text": [
      "[INFO 08-15 06:54:43] Scheduler: Fetching data for newly completed trials: [].\n"
     ]
    },
    {
     "name": "stderr",
     "output_type": "stream",
     "text": [
      "[INFO 08-15 06:54:43] Scheduler: Fetching data for trials: 2 - 6 because some metrics on experiment are available while trials are running.\n"
     ]
    },
    {
     "name": "stderr",
     "output_type": "stream",
     "text": [
      "/tmp/tmp.3Yo4S3ORTG/Ax-main/ax/core/map_data.py:192: FutureWarning: The behavior of DataFrame concatenation with empty or all-NA entries is deprecated. In a future version, this will no longer exclude empty or all-NA columns when determining the result dtypes. To retain the old behavior, exclude the relevant entries before the concat operation.\n",
      "  df = pd.concat(\n"
     ]
    },
    {
     "name": "stderr",
     "output_type": "stream",
     "text": [
      "/tmp/tmp.3Yo4S3ORTG/Ax-main/ax/core/map_data.py:192: FutureWarning: The behavior of DataFrame concatenation with empty or all-NA entries is deprecated. In a future version, this will no longer exclude empty or all-NA columns when determining the result dtypes. To retain the old behavior, exclude the relevant entries before the concat operation.\n",
      "  df = pd.concat(\n",
      "[INFO 08-15 06:54:44] ax.early_stopping.strategies.base: The number of completed trials (0) is less than the minimum number of curves needed for early stopping (5). Not early stopping.\n"
     ]
    },
    {
     "name": "stderr",
     "output_type": "stream",
     "text": [
      "[INFO 08-15 06:54:44] Scheduler: Waiting for completed trials (for 10 sec, currently running trials: 5).\n"
     ]
    },
    {
     "name": "stderr",
     "output_type": "stream",
     "text": [
      "[INFO 08-15 06:54:54] Scheduler: Fetching data for newly completed trials: [].\n"
     ]
    },
    {
     "name": "stderr",
     "output_type": "stream",
     "text": [
      "[INFO 08-15 06:54:54] Scheduler: Fetching data for trials: 2 - 6 because some metrics on experiment are available while trials are running.\n"
     ]
    },
    {
     "name": "stderr",
     "output_type": "stream",
     "text": [
      "/tmp/tmp.3Yo4S3ORTG/Ax-main/ax/core/map_data.py:192: FutureWarning: The behavior of DataFrame concatenation with empty or all-NA entries is deprecated. In a future version, this will no longer exclude empty or all-NA columns when determining the result dtypes. To retain the old behavior, exclude the relevant entries before the concat operation.\n",
      "  df = pd.concat(\n",
      "/tmp/tmp.3Yo4S3ORTG/Ax-main/ax/core/map_data.py:192: FutureWarning: The behavior of DataFrame concatenation with empty or all-NA entries is deprecated. In a future version, this will no longer exclude empty or all-NA columns when determining the result dtypes. To retain the old behavior, exclude the relevant entries before the concat operation.\n",
      "  df = pd.concat(\n",
      "[INFO 08-15 06:54:54] ax.early_stopping.strategies.base: The number of completed trials (0) is less than the minimum number of curves needed for early stopping (5). Not early stopping.\n"
     ]
    },
    {
     "name": "stderr",
     "output_type": "stream",
     "text": [
      "[INFO 08-15 06:54:54] Scheduler: Waiting for completed trials (for 10 sec, currently running trials: 5).\n"
     ]
    },
    {
     "name": "stderr",
     "output_type": "stream",
     "text": [
      "[INFO 08-15 06:55:04] Scheduler: Fetching data for newly completed trials: [].\n"
     ]
    },
    {
     "name": "stderr",
     "output_type": "stream",
     "text": [
      "[INFO 08-15 06:55:04] Scheduler: Fetching data for trials: 2 - 6 because some metrics on experiment are available while trials are running.\n"
     ]
    },
    {
     "name": "stderr",
     "output_type": "stream",
     "text": [
      "/tmp/tmp.3Yo4S3ORTG/Ax-main/ax/core/map_data.py:192: FutureWarning: The behavior of DataFrame concatenation with empty or all-NA entries is deprecated. In a future version, this will no longer exclude empty or all-NA columns when determining the result dtypes. To retain the old behavior, exclude the relevant entries before the concat operation.\n",
      "  df = pd.concat(\n"
     ]
    },
    {
     "name": "stderr",
     "output_type": "stream",
     "text": [
      "/tmp/tmp.3Yo4S3ORTG/Ax-main/ax/core/map_data.py:192: FutureWarning: The behavior of DataFrame concatenation with empty or all-NA entries is deprecated. In a future version, this will no longer exclude empty or all-NA columns when determining the result dtypes. To retain the old behavior, exclude the relevant entries before the concat operation.\n",
      "  df = pd.concat(\n",
      "[INFO 08-15 06:55:04] ax.early_stopping.strategies.base: The number of completed trials (0) is less than the minimum number of curves needed for early stopping (5). Not early stopping.\n"
     ]
    },
    {
     "name": "stderr",
     "output_type": "stream",
     "text": [
      "[INFO 08-15 06:55:04] Scheduler: Waiting for completed trials (for 10 sec, currently running trials: 5).\n"
     ]
    },
    {
     "name": "stderr",
     "output_type": "stream",
     "text": [
      "[INFO 08-15 06:55:14] Scheduler: Fetching data for newly completed trials: [].\n"
     ]
    },
    {
     "name": "stderr",
     "output_type": "stream",
     "text": [
      "[INFO 08-15 06:55:14] Scheduler: Fetching data for trials: 2 - 6 because some metrics on experiment are available while trials are running.\n"
     ]
    },
    {
     "name": "stderr",
     "output_type": "stream",
     "text": [
      "/tmp/tmp.3Yo4S3ORTG/Ax-main/ax/core/map_data.py:192: FutureWarning: The behavior of DataFrame concatenation with empty or all-NA entries is deprecated. In a future version, this will no longer exclude empty or all-NA columns when determining the result dtypes. To retain the old behavior, exclude the relevant entries before the concat operation.\n",
      "  df = pd.concat(\n"
     ]
    },
    {
     "name": "stderr",
     "output_type": "stream",
     "text": [
      "/tmp/tmp.3Yo4S3ORTG/Ax-main/ax/core/map_data.py:192: FutureWarning: The behavior of DataFrame concatenation with empty or all-NA entries is deprecated. In a future version, this will no longer exclude empty or all-NA columns when determining the result dtypes. To retain the old behavior, exclude the relevant entries before the concat operation.\n",
      "  df = pd.concat(\n",
      "[INFO 08-15 06:55:14] ax.early_stopping.strategies.base: The number of completed trials (0) is less than the minimum number of curves needed for early stopping (5). Not early stopping.\n"
     ]
    },
    {
     "name": "stderr",
     "output_type": "stream",
     "text": [
      "[INFO 08-15 06:55:15] Scheduler: Waiting for completed trials (for 10 sec, currently running trials: 5).\n"
     ]
    },
    {
     "name": "stderr",
     "output_type": "stream",
     "text": [
      "[INFO 08-15 06:55:25] Scheduler: Fetching data for newly completed trials: [].\n"
     ]
    },
    {
     "name": "stderr",
     "output_type": "stream",
     "text": [
      "[INFO 08-15 06:55:25] Scheduler: Fetching data for trials: 2 - 6 because some metrics on experiment are available while trials are running.\n"
     ]
    },
    {
     "name": "stderr",
     "output_type": "stream",
     "text": [
      "/tmp/tmp.3Yo4S3ORTG/Ax-main/ax/core/map_data.py:192: FutureWarning: The behavior of DataFrame concatenation with empty or all-NA entries is deprecated. In a future version, this will no longer exclude empty or all-NA columns when determining the result dtypes. To retain the old behavior, exclude the relevant entries before the concat operation.\n",
      "  df = pd.concat(\n"
     ]
    },
    {
     "name": "stderr",
     "output_type": "stream",
     "text": [
      "/tmp/tmp.3Yo4S3ORTG/Ax-main/ax/core/map_data.py:192: FutureWarning: The behavior of DataFrame concatenation with empty or all-NA entries is deprecated. In a future version, this will no longer exclude empty or all-NA columns when determining the result dtypes. To retain the old behavior, exclude the relevant entries before the concat operation.\n",
      "  df = pd.concat(\n",
      "[INFO 08-15 06:55:25] ax.early_stopping.strategies.base: The number of completed trials (0) is less than the minimum number of curves needed for early stopping (5). Not early stopping.\n"
     ]
    },
    {
     "name": "stderr",
     "output_type": "stream",
     "text": [
      "[INFO 08-15 06:55:25] Scheduler: Waiting for completed trials (for 10 sec, currently running trials: 5).\n"
     ]
    },
    {
     "name": "stderr",
     "output_type": "stream",
     "text": [
      "[INFO 08-15 06:55:35] Scheduler: Fetching data for newly completed trials: [].\n"
     ]
    },
    {
     "name": "stderr",
     "output_type": "stream",
     "text": [
      "[INFO 08-15 06:55:35] Scheduler: Fetching data for trials: 2 - 6 because some metrics on experiment are available while trials are running.\n"
     ]
    },
    {
     "name": "stderr",
     "output_type": "stream",
     "text": [
      "/tmp/tmp.3Yo4S3ORTG/Ax-main/ax/core/map_data.py:192: FutureWarning: The behavior of DataFrame concatenation with empty or all-NA entries is deprecated. In a future version, this will no longer exclude empty or all-NA columns when determining the result dtypes. To retain the old behavior, exclude the relevant entries before the concat operation.\n",
      "  df = pd.concat(\n"
     ]
    },
    {
     "name": "stderr",
     "output_type": "stream",
     "text": [
      "/tmp/tmp.3Yo4S3ORTG/Ax-main/ax/core/map_data.py:192: FutureWarning: The behavior of DataFrame concatenation with empty or all-NA entries is deprecated. In a future version, this will no longer exclude empty or all-NA columns when determining the result dtypes. To retain the old behavior, exclude the relevant entries before the concat operation.\n",
      "  df = pd.concat(\n",
      "[INFO 08-15 06:55:35] ax.early_stopping.strategies.base: The number of completed trials (0) is less than the minimum number of curves needed for early stopping (5). Not early stopping.\n"
     ]
    },
    {
     "name": "stderr",
     "output_type": "stream",
     "text": [
      "[INFO 08-15 06:55:35] Scheduler: Waiting for completed trials (for 10 sec, currently running trials: 5).\n"
     ]
    },
    {
     "name": "stderr",
     "output_type": "stream",
     "text": [
      "[INFO 08-15 06:55:45] Scheduler: Fetching data for newly completed trials: [].\n"
     ]
    },
    {
     "name": "stderr",
     "output_type": "stream",
     "text": [
      "[INFO 08-15 06:55:45] Scheduler: Fetching data for trials: 2 - 6 because some metrics on experiment are available while trials are running.\n"
     ]
    },
    {
     "name": "stderr",
     "output_type": "stream",
     "text": [
      "/tmp/tmp.3Yo4S3ORTG/Ax-main/ax/core/map_data.py:192: FutureWarning: The behavior of DataFrame concatenation with empty or all-NA entries is deprecated. In a future version, this will no longer exclude empty or all-NA columns when determining the result dtypes. To retain the old behavior, exclude the relevant entries before the concat operation.\n",
      "  df = pd.concat(\n"
     ]
    },
    {
     "name": "stderr",
     "output_type": "stream",
     "text": [
      "/tmp/tmp.3Yo4S3ORTG/Ax-main/ax/core/map_data.py:192: FutureWarning: The behavior of DataFrame concatenation with empty or all-NA entries is deprecated. In a future version, this will no longer exclude empty or all-NA columns when determining the result dtypes. To retain the old behavior, exclude the relevant entries before the concat operation.\n",
      "  df = pd.concat(\n",
      "[INFO 08-15 06:55:45] ax.early_stopping.strategies.base: The number of completed trials (0) is less than the minimum number of curves needed for early stopping (5). Not early stopping.\n"
     ]
    },
    {
     "name": "stderr",
     "output_type": "stream",
     "text": [
      "[INFO 08-15 06:55:45] Scheduler: Waiting for completed trials (for 10 sec, currently running trials: 5).\n"
     ]
    },
    {
     "name": "stderr",
     "output_type": "stream",
     "text": [
      "[INFO 08-15 06:55:55] Scheduler: Fetching data for newly completed trials: [].\n"
     ]
    },
    {
     "name": "stderr",
     "output_type": "stream",
     "text": [
      "[INFO 08-15 06:55:55] Scheduler: Fetching data for trials: 2 - 6 because some metrics on experiment are available while trials are running.\n"
     ]
    },
    {
     "name": "stderr",
     "output_type": "stream",
     "text": [
      "/tmp/tmp.3Yo4S3ORTG/Ax-main/ax/core/map_data.py:192: FutureWarning: The behavior of DataFrame concatenation with empty or all-NA entries is deprecated. In a future version, this will no longer exclude empty or all-NA columns when determining the result dtypes. To retain the old behavior, exclude the relevant entries before the concat operation.\n",
      "  df = pd.concat(\n"
     ]
    },
    {
     "name": "stderr",
     "output_type": "stream",
     "text": [
      "/tmp/tmp.3Yo4S3ORTG/Ax-main/ax/core/map_data.py:192: FutureWarning: The behavior of DataFrame concatenation with empty or all-NA entries is deprecated. In a future version, this will no longer exclude empty or all-NA columns when determining the result dtypes. To retain the old behavior, exclude the relevant entries before the concat operation.\n",
      "  df = pd.concat(\n",
      "[INFO 08-15 06:55:56] ax.early_stopping.strategies.base: The number of completed trials (0) is less than the minimum number of curves needed for early stopping (5). Not early stopping.\n"
     ]
    },
    {
     "name": "stderr",
     "output_type": "stream",
     "text": [
      "[WARNING 08-15 06:55:56] Scheduler: Both `init_seconds_between_polls` and `early_stopping_strategy supplied. `init_seconds_between_polls=1` will be overrridden by `early_stopping_strategy.seconds_between_polls=10` and polling will take place at a constant rate.\n"
     ]
    },
    {
     "name": "stderr",
     "output_type": "stream",
     "text": [
      "[INFO 08-15 06:55:56] Scheduler: Fetching data for newly completed trials: [].\n"
     ]
    },
    {
     "name": "stderr",
     "output_type": "stream",
     "text": [
      "[INFO 08-15 06:55:56] Scheduler: Fetching data for trials: 2 - 6 because some metrics on experiment are available while trials are running.\n"
     ]
    },
    {
     "name": "stderr",
     "output_type": "stream",
     "text": [
      "/tmp/tmp.3Yo4S3ORTG/Ax-main/ax/core/map_data.py:192: FutureWarning: The behavior of DataFrame concatenation with empty or all-NA entries is deprecated. In a future version, this will no longer exclude empty or all-NA columns when determining the result dtypes. To retain the old behavior, exclude the relevant entries before the concat operation.\n",
      "  df = pd.concat(\n"
     ]
    },
    {
     "name": "stderr",
     "output_type": "stream",
     "text": [
      "/tmp/tmp.3Yo4S3ORTG/Ax-main/ax/core/map_data.py:192: FutureWarning: The behavior of DataFrame concatenation with empty or all-NA entries is deprecated. In a future version, this will no longer exclude empty or all-NA columns when determining the result dtypes. To retain the old behavior, exclude the relevant entries before the concat operation.\n",
      "  df = pd.concat(\n",
      "[INFO 08-15 06:55:56] ax.early_stopping.strategies.base: The number of completed trials (0) is less than the minimum number of curves needed for early stopping (5). Not early stopping.\n"
     ]
    },
    {
     "name": "stderr",
     "output_type": "stream",
     "text": [
      "[INFO 08-15 06:55:56] Scheduler: Waiting for completed trials (for 10 sec, currently running trials: 5).\n"
     ]
    },
    {
     "name": "stderr",
     "output_type": "stream",
     "text": [
      "[INFO 08-15 06:56:06] Scheduler: Fetching data for newly completed trials: [].\n"
     ]
    },
    {
     "name": "stderr",
     "output_type": "stream",
     "text": [
      "[INFO 08-15 06:56:06] Scheduler: Fetching data for trials: 2 - 6 because some metrics on experiment are available while trials are running.\n"
     ]
    },
    {
     "name": "stderr",
     "output_type": "stream",
     "text": [
      "/tmp/tmp.3Yo4S3ORTG/Ax-main/ax/core/map_data.py:192: FutureWarning: The behavior of DataFrame concatenation with empty or all-NA entries is deprecated. In a future version, this will no longer exclude empty or all-NA columns when determining the result dtypes. To retain the old behavior, exclude the relevant entries before the concat operation.\n",
      "  df = pd.concat(\n"
     ]
    },
    {
     "name": "stderr",
     "output_type": "stream",
     "text": [
      "/tmp/tmp.3Yo4S3ORTG/Ax-main/ax/core/map_data.py:192: FutureWarning: The behavior of DataFrame concatenation with empty or all-NA entries is deprecated. In a future version, this will no longer exclude empty or all-NA columns when determining the result dtypes. To retain the old behavior, exclude the relevant entries before the concat operation.\n",
      "  df = pd.concat(\n",
      "[INFO 08-15 06:56:06] ax.early_stopping.strategies.base: The number of completed trials (0) is less than the minimum number of curves needed for early stopping (5). Not early stopping.\n"
     ]
    },
    {
     "name": "stderr",
     "output_type": "stream",
     "text": [
      "[INFO 08-15 06:56:06] Scheduler: Waiting for completed trials (for 10 sec, currently running trials: 5).\n"
     ]
    },
    {
     "name": "stderr",
     "output_type": "stream",
     "text": [
      "[INFO 08-15 06:56:16] Scheduler: Fetching data for newly completed trials: [].\n"
     ]
    },
    {
     "name": "stderr",
     "output_type": "stream",
     "text": [
      "[INFO 08-15 06:56:16] Scheduler: Fetching data for trials: 2 - 6 because some metrics on experiment are available while trials are running.\n"
     ]
    },
    {
     "name": "stderr",
     "output_type": "stream",
     "text": [
      "/tmp/tmp.3Yo4S3ORTG/Ax-main/ax/core/map_data.py:192: FutureWarning: The behavior of DataFrame concatenation with empty or all-NA entries is deprecated. In a future version, this will no longer exclude empty or all-NA columns when determining the result dtypes. To retain the old behavior, exclude the relevant entries before the concat operation.\n",
      "  df = pd.concat(\n"
     ]
    },
    {
     "name": "stderr",
     "output_type": "stream",
     "text": [
      "/tmp/tmp.3Yo4S3ORTG/Ax-main/ax/core/map_data.py:192: FutureWarning: The behavior of DataFrame concatenation with empty or all-NA entries is deprecated. In a future version, this will no longer exclude empty or all-NA columns when determining the result dtypes. To retain the old behavior, exclude the relevant entries before the concat operation.\n",
      "  df = pd.concat(\n",
      "[INFO 08-15 06:56:16] ax.early_stopping.strategies.base: The number of completed trials (0) is less than the minimum number of curves needed for early stopping (5). Not early stopping.\n"
     ]
    },
    {
     "name": "stderr",
     "output_type": "stream",
     "text": [
      "[INFO 08-15 06:56:16] Scheduler: Waiting for completed trials (for 10 sec, currently running trials: 5).\n"
     ]
    },
    {
     "name": "stderr",
     "output_type": "stream",
     "text": [
      "[INFO 08-15 06:56:26] Scheduler: Fetching data for newly completed trials: [].\n"
     ]
    },
    {
     "name": "stderr",
     "output_type": "stream",
     "text": [
      "[INFO 08-15 06:56:26] Scheduler: Fetching data for trials: 2 - 6 because some metrics on experiment are available while trials are running.\n"
     ]
    },
    {
     "name": "stderr",
     "output_type": "stream",
     "text": [
      "/tmp/tmp.3Yo4S3ORTG/Ax-main/ax/core/map_data.py:192: FutureWarning: The behavior of DataFrame concatenation with empty or all-NA entries is deprecated. In a future version, this will no longer exclude empty or all-NA columns when determining the result dtypes. To retain the old behavior, exclude the relevant entries before the concat operation.\n",
      "  df = pd.concat(\n"
     ]
    },
    {
     "name": "stderr",
     "output_type": "stream",
     "text": [
      "/tmp/tmp.3Yo4S3ORTG/Ax-main/ax/core/map_data.py:192: FutureWarning: The behavior of DataFrame concatenation with empty or all-NA entries is deprecated. In a future version, this will no longer exclude empty or all-NA columns when determining the result dtypes. To retain the old behavior, exclude the relevant entries before the concat operation.\n",
      "  df = pd.concat(\n",
      "[INFO 08-15 06:56:27] ax.early_stopping.strategies.base: The number of completed trials (0) is less than the minimum number of curves needed for early stopping (5). Not early stopping.\n"
     ]
    },
    {
     "name": "stderr",
     "output_type": "stream",
     "text": [
      "[INFO 08-15 06:56:27] Scheduler: Waiting for completed trials (for 10 sec, currently running trials: 5).\n"
     ]
    },
    {
     "name": "stderr",
     "output_type": "stream",
     "text": [
      "[INFO 08-15 06:56:37] Scheduler: Fetching data for newly completed trials: [].\n"
     ]
    },
    {
     "name": "stderr",
     "output_type": "stream",
     "text": [
      "[INFO 08-15 06:56:37] Scheduler: Fetching data for trials: 2 - 6 because some metrics on experiment are available while trials are running.\n"
     ]
    },
    {
     "name": "stderr",
     "output_type": "stream",
     "text": [
      "/tmp/tmp.3Yo4S3ORTG/Ax-main/ax/core/map_data.py:192: FutureWarning: The behavior of DataFrame concatenation with empty or all-NA entries is deprecated. In a future version, this will no longer exclude empty or all-NA columns when determining the result dtypes. To retain the old behavior, exclude the relevant entries before the concat operation.\n",
      "  df = pd.concat(\n"
     ]
    },
    {
     "name": "stderr",
     "output_type": "stream",
     "text": [
      "/tmp/tmp.3Yo4S3ORTG/Ax-main/ax/core/map_data.py:192: FutureWarning: The behavior of DataFrame concatenation with empty or all-NA entries is deprecated. In a future version, this will no longer exclude empty or all-NA columns when determining the result dtypes. To retain the old behavior, exclude the relevant entries before the concat operation.\n",
      "  df = pd.concat(\n",
      "[INFO 08-15 06:56:37] ax.early_stopping.strategies.base: The number of completed trials (0) is less than the minimum number of curves needed for early stopping (5). Not early stopping.\n"
     ]
    },
    {
     "name": "stderr",
     "output_type": "stream",
     "text": [
      "[INFO 08-15 06:56:37] Scheduler: Waiting for completed trials (for 10 sec, currently running trials: 5).\n"
     ]
    },
    {
     "name": "stderr",
     "output_type": "stream",
     "text": [
      "[INFO 08-15 06:56:47] Scheduler: Fetching data for newly completed trials: [].\n"
     ]
    },
    {
     "name": "stderr",
     "output_type": "stream",
     "text": [
      "[INFO 08-15 06:56:47] Scheduler: Fetching data for trials: 2 - 6 because some metrics on experiment are available while trials are running.\n"
     ]
    },
    {
     "name": "stderr",
     "output_type": "stream",
     "text": [
      "/tmp/tmp.3Yo4S3ORTG/Ax-main/ax/core/map_data.py:192: FutureWarning: The behavior of DataFrame concatenation with empty or all-NA entries is deprecated. In a future version, this will no longer exclude empty or all-NA columns when determining the result dtypes. To retain the old behavior, exclude the relevant entries before the concat operation.\n",
      "  df = pd.concat(\n"
     ]
    },
    {
     "name": "stderr",
     "output_type": "stream",
     "text": [
      "/tmp/tmp.3Yo4S3ORTG/Ax-main/ax/core/map_data.py:192: FutureWarning: The behavior of DataFrame concatenation with empty or all-NA entries is deprecated. In a future version, this will no longer exclude empty or all-NA columns when determining the result dtypes. To retain the old behavior, exclude the relevant entries before the concat operation.\n",
      "  df = pd.concat(\n",
      "[INFO 08-15 06:56:47] ax.early_stopping.strategies.base: The number of completed trials (0) is less than the minimum number of curves needed for early stopping (5). Not early stopping.\n"
     ]
    },
    {
     "name": "stderr",
     "output_type": "stream",
     "text": [
      "[INFO 08-15 06:56:47] Scheduler: Waiting for completed trials (for 10 sec, currently running trials: 5).\n"
     ]
    },
    {
     "name": "stderr",
     "output_type": "stream",
     "text": [
      "[INFO 08-15 06:56:57] Scheduler: Fetching data for newly completed trials: [].\n"
     ]
    },
    {
     "name": "stderr",
     "output_type": "stream",
     "text": [
      "[INFO 08-15 06:56:57] Scheduler: Fetching data for trials: 2 - 6 because some metrics on experiment are available while trials are running.\n"
     ]
    },
    {
     "name": "stderr",
     "output_type": "stream",
     "text": [
      "/tmp/tmp.3Yo4S3ORTG/Ax-main/ax/core/map_data.py:192: FutureWarning: The behavior of DataFrame concatenation with empty or all-NA entries is deprecated. In a future version, this will no longer exclude empty or all-NA columns when determining the result dtypes. To retain the old behavior, exclude the relevant entries before the concat operation.\n",
      "  df = pd.concat(\n"
     ]
    },
    {
     "name": "stderr",
     "output_type": "stream",
     "text": [
      "/tmp/tmp.3Yo4S3ORTG/Ax-main/ax/core/map_data.py:192: FutureWarning: The behavior of DataFrame concatenation with empty or all-NA entries is deprecated. In a future version, this will no longer exclude empty or all-NA columns when determining the result dtypes. To retain the old behavior, exclude the relevant entries before the concat operation.\n",
      "  df = pd.concat(\n",
      "[INFO 08-15 06:56:58] ax.early_stopping.strategies.base: The number of completed trials (0) is less than the minimum number of curves needed for early stopping (5). Not early stopping.\n"
     ]
    },
    {
     "name": "stderr",
     "output_type": "stream",
     "text": [
      "[INFO 08-15 06:56:58] Scheduler: Waiting for completed trials (for 10 sec, currently running trials: 5).\n"
     ]
    },
    {
     "name": "stderr",
     "output_type": "stream",
     "text": [
      "[INFO 08-15 06:57:08] Scheduler: Fetching data for newly completed trials: [].\n"
     ]
    },
    {
     "name": "stderr",
     "output_type": "stream",
     "text": [
      "[INFO 08-15 06:57:08] Scheduler: Fetching data for trials: 2 - 6 because some metrics on experiment are available while trials are running.\n"
     ]
    },
    {
     "name": "stderr",
     "output_type": "stream",
     "text": [
      "/tmp/tmp.3Yo4S3ORTG/Ax-main/ax/core/map_data.py:192: FutureWarning: The behavior of DataFrame concatenation with empty or all-NA entries is deprecated. In a future version, this will no longer exclude empty or all-NA columns when determining the result dtypes. To retain the old behavior, exclude the relevant entries before the concat operation.\n",
      "  df = pd.concat(\n"
     ]
    },
    {
     "name": "stderr",
     "output_type": "stream",
     "text": [
      "/tmp/tmp.3Yo4S3ORTG/Ax-main/ax/core/map_data.py:192: FutureWarning: The behavior of DataFrame concatenation with empty or all-NA entries is deprecated. In a future version, this will no longer exclude empty or all-NA columns when determining the result dtypes. To retain the old behavior, exclude the relevant entries before the concat operation.\n",
      "  df = pd.concat(\n",
      "[INFO 08-15 06:57:08] ax.early_stopping.strategies.base: The number of completed trials (0) is less than the minimum number of curves needed for early stopping (5). Not early stopping.\n"
     ]
    },
    {
     "name": "stderr",
     "output_type": "stream",
     "text": [
      "[INFO 08-15 06:57:08] Scheduler: Waiting for completed trials (for 10 sec, currently running trials: 5).\n"
     ]
    },
    {
     "name": "stderr",
     "output_type": "stream",
     "text": [
      "[INFO 08-15 06:57:18] Scheduler: Fetching data for newly completed trials: [].\n"
     ]
    },
    {
     "name": "stderr",
     "output_type": "stream",
     "text": [
      "[INFO 08-15 06:57:18] Scheduler: Fetching data for trials: 2 - 6 because some metrics on experiment are available while trials are running.\n"
     ]
    },
    {
     "name": "stderr",
     "output_type": "stream",
     "text": [
      "/tmp/tmp.3Yo4S3ORTG/Ax-main/ax/core/map_data.py:192: FutureWarning: The behavior of DataFrame concatenation with empty or all-NA entries is deprecated. In a future version, this will no longer exclude empty or all-NA columns when determining the result dtypes. To retain the old behavior, exclude the relevant entries before the concat operation.\n",
      "  df = pd.concat(\n"
     ]
    },
    {
     "name": "stderr",
     "output_type": "stream",
     "text": [
      "/tmp/tmp.3Yo4S3ORTG/Ax-main/ax/core/map_data.py:192: FutureWarning: The behavior of DataFrame concatenation with empty or all-NA entries is deprecated. In a future version, this will no longer exclude empty or all-NA columns when determining the result dtypes. To retain the old behavior, exclude the relevant entries before the concat operation.\n",
      "  df = pd.concat(\n",
      "[INFO 08-15 06:57:18] ax.early_stopping.strategies.base: The number of completed trials (0) is less than the minimum number of curves needed for early stopping (5). Not early stopping.\n"
     ]
    },
    {
     "name": "stderr",
     "output_type": "stream",
     "text": [
      "[INFO 08-15 06:57:18] Scheduler: Waiting for completed trials (for 10 sec, currently running trials: 5).\n"
     ]
    },
    {
     "name": "stderr",
     "output_type": "stream",
     "text": [
      "[INFO 08-15 06:57:28] Scheduler: Fetching data for newly completed trials: [].\n"
     ]
    },
    {
     "name": "stderr",
     "output_type": "stream",
     "text": [
      "[INFO 08-15 06:57:28] Scheduler: Fetching data for trials: 2 - 6 because some metrics on experiment are available while trials are running.\n"
     ]
    },
    {
     "name": "stderr",
     "output_type": "stream",
     "text": [
      "/tmp/tmp.3Yo4S3ORTG/Ax-main/ax/core/map_data.py:192: FutureWarning: The behavior of DataFrame concatenation with empty or all-NA entries is deprecated. In a future version, this will no longer exclude empty or all-NA columns when determining the result dtypes. To retain the old behavior, exclude the relevant entries before the concat operation.\n",
      "  df = pd.concat(\n"
     ]
    },
    {
     "name": "stderr",
     "output_type": "stream",
     "text": [
      "/tmp/tmp.3Yo4S3ORTG/Ax-main/ax/core/map_data.py:192: FutureWarning: The behavior of DataFrame concatenation with empty or all-NA entries is deprecated. In a future version, this will no longer exclude empty or all-NA columns when determining the result dtypes. To retain the old behavior, exclude the relevant entries before the concat operation.\n",
      "  df = pd.concat(\n",
      "[INFO 08-15 06:57:28] ax.early_stopping.strategies.base: The number of completed trials (0) is less than the minimum number of curves needed for early stopping (5). Not early stopping.\n"
     ]
    },
    {
     "name": "stderr",
     "output_type": "stream",
     "text": [
      "[INFO 08-15 06:57:28] Scheduler: Waiting for completed trials (for 10 sec, currently running trials: 5).\n"
     ]
    },
    {
     "name": "stderr",
     "output_type": "stream",
     "text": [
      "[INFO 08-15 06:57:38] Scheduler: Fetching data for newly completed trials: [].\n"
     ]
    },
    {
     "name": "stderr",
     "output_type": "stream",
     "text": [
      "[INFO 08-15 06:57:38] Scheduler: Fetching data for trials: 2 - 6 because some metrics on experiment are available while trials are running.\n"
     ]
    },
    {
     "name": "stderr",
     "output_type": "stream",
     "text": [
      "/tmp/tmp.3Yo4S3ORTG/Ax-main/ax/core/map_data.py:192: FutureWarning: The behavior of DataFrame concatenation with empty or all-NA entries is deprecated. In a future version, this will no longer exclude empty or all-NA columns when determining the result dtypes. To retain the old behavior, exclude the relevant entries before the concat operation.\n",
      "  df = pd.concat(\n"
     ]
    },
    {
     "name": "stderr",
     "output_type": "stream",
     "text": [
      "/tmp/tmp.3Yo4S3ORTG/Ax-main/ax/core/map_data.py:192: FutureWarning: The behavior of DataFrame concatenation with empty or all-NA entries is deprecated. In a future version, this will no longer exclude empty or all-NA columns when determining the result dtypes. To retain the old behavior, exclude the relevant entries before the concat operation.\n",
      "  df = pd.concat(\n",
      "[INFO 08-15 06:57:39] ax.early_stopping.strategies.base: The number of completed trials (0) is less than the minimum number of curves needed for early stopping (5). Not early stopping.\n"
     ]
    },
    {
     "name": "stderr",
     "output_type": "stream",
     "text": [
      "[INFO 08-15 06:57:39] Scheduler: Waiting for completed trials (for 10 sec, currently running trials: 5).\n"
     ]
    },
    {
     "name": "stderr",
     "output_type": "stream",
     "text": [
      "[INFO 08-15 06:57:49] Scheduler: Fetching data for newly completed trials: [].\n"
     ]
    },
    {
     "name": "stderr",
     "output_type": "stream",
     "text": [
      "[INFO 08-15 06:57:49] Scheduler: Fetching data for trials: 2 - 6 because some metrics on experiment are available while trials are running.\n"
     ]
    },
    {
     "name": "stderr",
     "output_type": "stream",
     "text": [
      "/tmp/tmp.3Yo4S3ORTG/Ax-main/ax/core/map_data.py:192: FutureWarning: The behavior of DataFrame concatenation with empty or all-NA entries is deprecated. In a future version, this will no longer exclude empty or all-NA columns when determining the result dtypes. To retain the old behavior, exclude the relevant entries before the concat operation.\n",
      "  df = pd.concat(\n"
     ]
    },
    {
     "name": "stderr",
     "output_type": "stream",
     "text": [
      "/tmp/tmp.3Yo4S3ORTG/Ax-main/ax/core/map_data.py:192: FutureWarning: The behavior of DataFrame concatenation with empty or all-NA entries is deprecated. In a future version, this will no longer exclude empty or all-NA columns when determining the result dtypes. To retain the old behavior, exclude the relevant entries before the concat operation.\n",
      "  df = pd.concat(\n",
      "[INFO 08-15 06:57:49] ax.early_stopping.strategies.base: The number of completed trials (0) is less than the minimum number of curves needed for early stopping (5). Not early stopping.\n"
     ]
    },
    {
     "name": "stderr",
     "output_type": "stream",
     "text": [
      "[INFO 08-15 06:57:49] Scheduler: Waiting for completed trials (for 10 sec, currently running trials: 5).\n"
     ]
    },
    {
     "name": "stderr",
     "output_type": "stream",
     "text": [
      "[INFO 08-15 06:57:59] Scheduler: Fetching data for newly completed trials: [].\n"
     ]
    },
    {
     "name": "stderr",
     "output_type": "stream",
     "text": [
      "[INFO 08-15 06:57:59] Scheduler: Fetching data for trials: 2 - 6 because some metrics on experiment are available while trials are running.\n"
     ]
    },
    {
     "name": "stderr",
     "output_type": "stream",
     "text": [
      "/tmp/tmp.3Yo4S3ORTG/Ax-main/ax/core/map_data.py:192: FutureWarning: The behavior of DataFrame concatenation with empty or all-NA entries is deprecated. In a future version, this will no longer exclude empty or all-NA columns when determining the result dtypes. To retain the old behavior, exclude the relevant entries before the concat operation.\n",
      "  df = pd.concat(\n"
     ]
    },
    {
     "name": "stderr",
     "output_type": "stream",
     "text": [
      "/tmp/tmp.3Yo4S3ORTG/Ax-main/ax/core/map_data.py:192: FutureWarning: The behavior of DataFrame concatenation with empty or all-NA entries is deprecated. In a future version, this will no longer exclude empty or all-NA columns when determining the result dtypes. To retain the old behavior, exclude the relevant entries before the concat operation.\n",
      "  df = pd.concat(\n"
     ]
    },
    {
     "name": "stderr",
     "output_type": "stream",
     "text": [
      "[INFO 08-15 06:57:59] ax.early_stopping.strategies.base: The number of completed trials (0) is less than the minimum number of curves needed for early stopping (5). Not early stopping.\n"
     ]
    },
    {
     "name": "stderr",
     "output_type": "stream",
     "text": [
      "[INFO 08-15 06:57:59] Scheduler: Waiting for completed trials (for 10 sec, currently running trials: 5).\n"
     ]
    },
    {
     "name": "stderr",
     "output_type": "stream",
     "text": [
      "[INFO 08-15 06:58:09] Scheduler: Fetching data for newly completed trials: [].\n"
     ]
    },
    {
     "name": "stderr",
     "output_type": "stream",
     "text": [
      "[INFO 08-15 06:58:09] Scheduler: Fetching data for trials: 2 - 6 because some metrics on experiment are available while trials are running.\n"
     ]
    },
    {
     "name": "stderr",
     "output_type": "stream",
     "text": [
      "/tmp/tmp.3Yo4S3ORTG/Ax-main/ax/core/map_data.py:192: FutureWarning: The behavior of DataFrame concatenation with empty or all-NA entries is deprecated. In a future version, this will no longer exclude empty or all-NA columns when determining the result dtypes. To retain the old behavior, exclude the relevant entries before the concat operation.\n",
      "  df = pd.concat(\n"
     ]
    },
    {
     "name": "stderr",
     "output_type": "stream",
     "text": [
      "/tmp/tmp.3Yo4S3ORTG/Ax-main/ax/core/map_data.py:192: FutureWarning: The behavior of DataFrame concatenation with empty or all-NA entries is deprecated. In a future version, this will no longer exclude empty or all-NA columns when determining the result dtypes. To retain the old behavior, exclude the relevant entries before the concat operation.\n",
      "  df = pd.concat(\n",
      "[INFO 08-15 06:58:10] ax.early_stopping.strategies.base: The number of completed trials (0) is less than the minimum number of curves needed for early stopping (5). Not early stopping.\n"
     ]
    },
    {
     "name": "stderr",
     "output_type": "stream",
     "text": [
      "[INFO 08-15 06:58:10] Scheduler: Waiting for completed trials (for 10 sec, currently running trials: 5).\n"
     ]
    },
    {
     "name": "stderr",
     "output_type": "stream",
     "text": [
      "[INFO 08-15 06:58:20] Scheduler: Fetching data for newly completed trials: [].\n"
     ]
    },
    {
     "name": "stderr",
     "output_type": "stream",
     "text": [
      "[INFO 08-15 06:58:20] Scheduler: Fetching data for trials: 2 - 6 because some metrics on experiment are available while trials are running.\n"
     ]
    },
    {
     "name": "stderr",
     "output_type": "stream",
     "text": [
      "/tmp/tmp.3Yo4S3ORTG/Ax-main/ax/core/map_data.py:192: FutureWarning: The behavior of DataFrame concatenation with empty or all-NA entries is deprecated. In a future version, this will no longer exclude empty or all-NA columns when determining the result dtypes. To retain the old behavior, exclude the relevant entries before the concat operation.\n",
      "  df = pd.concat(\n",
      "/tmp/tmp.3Yo4S3ORTG/Ax-main/ax/core/map_data.py:192: FutureWarning: The behavior of DataFrame concatenation with empty or all-NA entries is deprecated. In a future version, this will no longer exclude empty or all-NA columns when determining the result dtypes. To retain the old behavior, exclude the relevant entries before the concat operation.\n",
      "  df = pd.concat(\n",
      "[INFO 08-15 06:58:20] ax.early_stopping.strategies.base: The number of completed trials (0) is less than the minimum number of curves needed for early stopping (5). Not early stopping.\n"
     ]
    },
    {
     "name": "stderr",
     "output_type": "stream",
     "text": [
      "[INFO 08-15 06:58:20] Scheduler: Waiting for completed trials (for 10 sec, currently running trials: 5).\n"
     ]
    },
    {
     "name": "stderr",
     "output_type": "stream",
     "text": [
      "[INFO 08-15 06:58:30] Scheduler: Fetching data for newly completed trials: [].\n"
     ]
    },
    {
     "name": "stderr",
     "output_type": "stream",
     "text": [
      "[INFO 08-15 06:58:30] Scheduler: Fetching data for trials: 2 - 6 because some metrics on experiment are available while trials are running.\n"
     ]
    },
    {
     "name": "stderr",
     "output_type": "stream",
     "text": [
      "/tmp/tmp.3Yo4S3ORTG/Ax-main/ax/core/map_data.py:192: FutureWarning: The behavior of DataFrame concatenation with empty or all-NA entries is deprecated. In a future version, this will no longer exclude empty or all-NA columns when determining the result dtypes. To retain the old behavior, exclude the relevant entries before the concat operation.\n",
      "  df = pd.concat(\n"
     ]
    },
    {
     "name": "stderr",
     "output_type": "stream",
     "text": [
      "/tmp/tmp.3Yo4S3ORTG/Ax-main/ax/core/map_data.py:192: FutureWarning: The behavior of DataFrame concatenation with empty or all-NA entries is deprecated. In a future version, this will no longer exclude empty or all-NA columns when determining the result dtypes. To retain the old behavior, exclude the relevant entries before the concat operation.\n",
      "  df = pd.concat(\n",
      "[INFO 08-15 06:58:31] ax.early_stopping.strategies.base: The number of completed trials (0) is less than the minimum number of curves needed for early stopping (5). Not early stopping.\n"
     ]
    },
    {
     "name": "stderr",
     "output_type": "stream",
     "text": [
      "[INFO 08-15 06:58:31] Scheduler: Waiting for completed trials (for 10 sec, currently running trials: 5).\n"
     ]
    },
    {
     "name": "stderr",
     "output_type": "stream",
     "text": [
      "[INFO 08-15 06:58:41] Scheduler: Fetching data for newly completed trials: [].\n"
     ]
    },
    {
     "name": "stderr",
     "output_type": "stream",
     "text": [
      "[INFO 08-15 06:58:41] Scheduler: Fetching data for trials: 2 - 6 because some metrics on experiment are available while trials are running.\n"
     ]
    },
    {
     "name": "stderr",
     "output_type": "stream",
     "text": [
      "/tmp/tmp.3Yo4S3ORTG/Ax-main/ax/core/map_data.py:192: FutureWarning: The behavior of DataFrame concatenation with empty or all-NA entries is deprecated. In a future version, this will no longer exclude empty or all-NA columns when determining the result dtypes. To retain the old behavior, exclude the relevant entries before the concat operation.\n",
      "  df = pd.concat(\n"
     ]
    },
    {
     "name": "stderr",
     "output_type": "stream",
     "text": [
      "/tmp/tmp.3Yo4S3ORTG/Ax-main/ax/core/map_data.py:192: FutureWarning: The behavior of DataFrame concatenation with empty or all-NA entries is deprecated. In a future version, this will no longer exclude empty or all-NA columns when determining the result dtypes. To retain the old behavior, exclude the relevant entries before the concat operation.\n",
      "  df = pd.concat(\n",
      "[INFO 08-15 06:58:41] ax.early_stopping.strategies.base: The number of completed trials (0) is less than the minimum number of curves needed for early stopping (5). Not early stopping.\n"
     ]
    },
    {
     "name": "stderr",
     "output_type": "stream",
     "text": [
      "[INFO 08-15 06:58:41] Scheduler: Waiting for completed trials (for 10 sec, currently running trials: 5).\n"
     ]
    },
    {
     "name": "stderr",
     "output_type": "stream",
     "text": [
      "[INFO 08-15 06:58:51] Scheduler: Fetching data for newly completed trials: [3].\n"
     ]
    },
    {
     "name": "stderr",
     "output_type": "stream",
     "text": [
      "[INFO 08-15 06:58:51] Scheduler: Fetching data for trials: [2, 4, 5, 6] because some metrics on experiment are available while trials are running.\n"
     ]
    },
    {
     "name": "stderr",
     "output_type": "stream",
     "text": [
      "[INFO 08-15 06:58:51] Scheduler: Retrieved COMPLETED trials: [3].\n"
     ]
    },
    {
     "name": "stderr",
     "output_type": "stream",
     "text": [
      "/tmp/tmp.3Yo4S3ORTG/Ax-main/ax/core/map_data.py:192: FutureWarning: The behavior of DataFrame concatenation with empty or all-NA entries is deprecated. In a future version, this will no longer exclude empty or all-NA columns when determining the result dtypes. To retain the old behavior, exclude the relevant entries before the concat operation.\n",
      "  df = pd.concat(\n"
     ]
    },
    {
     "name": "stderr",
     "output_type": "stream",
     "text": [
      "/tmp/tmp.3Yo4S3ORTG/Ax-main/ax/core/map_data.py:192: FutureWarning: The behavior of DataFrame concatenation with empty or all-NA entries is deprecated. In a future version, this will no longer exclude empty or all-NA columns when determining the result dtypes. To retain the old behavior, exclude the relevant entries before the concat operation.\n",
      "  df = pd.concat(\n",
      "[INFO 08-15 06:58:51] ax.early_stopping.strategies.base: The number of completed trials (1) is less than the minimum number of curves needed for early stopping (5). Not early stopping.\n"
     ]
    },
    {
     "name": "stderr",
     "output_type": "stream",
     "text": [
      "[WARNING 08-15 06:58:51] Scheduler: Both `init_seconds_between_polls` and `early_stopping_strategy supplied. `init_seconds_between_polls=1` will be overrridden by `early_stopping_strategy.seconds_between_polls=10` and polling will take place at a constant rate.\n"
     ]
    },
    {
     "name": "stderr",
     "output_type": "stream",
     "text": [
      "[INFO 08-15 06:58:51] Scheduler: Fetching data for newly completed trials: [].\n"
     ]
    },
    {
     "name": "stderr",
     "output_type": "stream",
     "text": [
      "[INFO 08-15 06:58:51] Scheduler: Fetching data for trials: [2, 4, 5, 6] because some metrics on experiment are available while trials are running.\n"
     ]
    },
    {
     "name": "stderr",
     "output_type": "stream",
     "text": [
      "/tmp/tmp.3Yo4S3ORTG/Ax-main/ax/core/map_data.py:192: FutureWarning: The behavior of DataFrame concatenation with empty or all-NA entries is deprecated. In a future version, this will no longer exclude empty or all-NA columns when determining the result dtypes. To retain the old behavior, exclude the relevant entries before the concat operation.\n",
      "  df = pd.concat(\n"
     ]
    },
    {
     "name": "stderr",
     "output_type": "stream",
     "text": [
      "/tmp/tmp.3Yo4S3ORTG/Ax-main/ax/core/map_data.py:192: FutureWarning: The behavior of DataFrame concatenation with empty or all-NA entries is deprecated. In a future version, this will no longer exclude empty or all-NA columns when determining the result dtypes. To retain the old behavior, exclude the relevant entries before the concat operation.\n",
      "  df = pd.concat(\n"
     ]
    },
    {
     "name": "stderr",
     "output_type": "stream",
     "text": [
      "[INFO 08-15 06:58:52] ax.early_stopping.strategies.base: The number of completed trials (1) is less than the minimum number of curves needed for early stopping (5). Not early stopping.\n"
     ]
    },
    {
     "name": "stderr",
     "output_type": "stream",
     "text": [
      "[INFO 08-15 06:58:52] Scheduler: Waiting for completed trials (for 10 sec, currently running trials: 4).\n"
     ]
    },
    {
     "name": "stderr",
     "output_type": "stream",
     "text": [
      "[INFO 08-15 06:59:02] Scheduler: Fetching data for newly completed trials: [].\n"
     ]
    },
    {
     "name": "stderr",
     "output_type": "stream",
     "text": [
      "[INFO 08-15 06:59:02] Scheduler: Fetching data for trials: [2, 4, 5, 6] because some metrics on experiment are available while trials are running.\n"
     ]
    },
    {
     "name": "stderr",
     "output_type": "stream",
     "text": [
      "/tmp/tmp.3Yo4S3ORTG/Ax-main/ax/core/map_data.py:192: FutureWarning: The behavior of DataFrame concatenation with empty or all-NA entries is deprecated. In a future version, this will no longer exclude empty or all-NA columns when determining the result dtypes. To retain the old behavior, exclude the relevant entries before the concat operation.\n",
      "  df = pd.concat(\n",
      "/tmp/tmp.3Yo4S3ORTG/Ax-main/ax/core/map_data.py:192: FutureWarning: The behavior of DataFrame concatenation with empty or all-NA entries is deprecated. In a future version, this will no longer exclude empty or all-NA columns when determining the result dtypes. To retain the old behavior, exclude the relevant entries before the concat operation.\n",
      "  df = pd.concat(\n",
      "[INFO 08-15 06:59:02] ax.early_stopping.strategies.base: The number of completed trials (1) is less than the minimum number of curves needed for early stopping (5). Not early stopping.\n"
     ]
    },
    {
     "name": "stderr",
     "output_type": "stream",
     "text": [
      "[INFO 08-15 06:59:02] Scheduler: Waiting for completed trials (for 10 sec, currently running trials: 4).\n"
     ]
    },
    {
     "name": "stderr",
     "output_type": "stream",
     "text": [
      "[INFO 08-15 06:59:12] Scheduler: Fetching data for newly completed trials: [6].\n"
     ]
    },
    {
     "name": "stderr",
     "output_type": "stream",
     "text": [
      "[INFO 08-15 06:59:12] Scheduler: Fetching data for trials: [2, 4, 5] because some metrics on experiment are available while trials are running.\n"
     ]
    },
    {
     "name": "stderr",
     "output_type": "stream",
     "text": [
      "[INFO 08-15 06:59:12] Scheduler: Retrieved COMPLETED trials: [6].\n"
     ]
    },
    {
     "name": "stderr",
     "output_type": "stream",
     "text": [
      "/tmp/tmp.3Yo4S3ORTG/Ax-main/ax/core/map_data.py:192: FutureWarning: The behavior of DataFrame concatenation with empty or all-NA entries is deprecated. In a future version, this will no longer exclude empty or all-NA columns when determining the result dtypes. To retain the old behavior, exclude the relevant entries before the concat operation.\n",
      "  df = pd.concat(\n",
      "/tmp/tmp.3Yo4S3ORTG/Ax-main/ax/core/map_data.py:192: FutureWarning: The behavior of DataFrame concatenation with empty or all-NA entries is deprecated. In a future version, this will no longer exclude empty or all-NA columns when determining the result dtypes. To retain the old behavior, exclude the relevant entries before the concat operation.\n",
      "  df = pd.concat(\n",
      "[INFO 08-15 06:59:12] ax.early_stopping.strategies.base: The number of completed trials (2) is less than the minimum number of curves needed for early stopping (5). Not early stopping.\n"
     ]
    },
    {
     "name": "stderr",
     "output_type": "stream",
     "text": [
      "[WARNING 08-15 06:59:12] Scheduler: Both `init_seconds_between_polls` and `early_stopping_strategy supplied. `init_seconds_between_polls=1` will be overrridden by `early_stopping_strategy.seconds_between_polls=10` and polling will take place at a constant rate.\n"
     ]
    },
    {
     "name": "stderr",
     "output_type": "stream",
     "text": [
      "[INFO 08-15 06:59:12] Scheduler: Fetching data for newly completed trials: [].\n"
     ]
    },
    {
     "name": "stderr",
     "output_type": "stream",
     "text": [
      "[INFO 08-15 06:59:12] Scheduler: Fetching data for trials: [2, 4, 5] because some metrics on experiment are available while trials are running.\n"
     ]
    },
    {
     "name": "stderr",
     "output_type": "stream",
     "text": [
      "/tmp/tmp.3Yo4S3ORTG/Ax-main/ax/core/map_data.py:192: FutureWarning: The behavior of DataFrame concatenation with empty or all-NA entries is deprecated. In a future version, this will no longer exclude empty or all-NA columns when determining the result dtypes. To retain the old behavior, exclude the relevant entries before the concat operation.\n",
      "  df = pd.concat(\n",
      "/tmp/tmp.3Yo4S3ORTG/Ax-main/ax/core/map_data.py:192: FutureWarning: The behavior of DataFrame concatenation with empty or all-NA entries is deprecated. In a future version, this will no longer exclude empty or all-NA columns when determining the result dtypes. To retain the old behavior, exclude the relevant entries before the concat operation.\n",
      "  df = pd.concat(\n"
     ]
    },
    {
     "name": "stderr",
     "output_type": "stream",
     "text": [
      "[INFO 08-15 06:59:12] ax.early_stopping.strategies.base: The number of completed trials (2) is less than the minimum number of curves needed for early stopping (5). Not early stopping.\n"
     ]
    },
    {
     "name": "stderr",
     "output_type": "stream",
     "text": [
      "[INFO 08-15 06:59:12] Scheduler: Waiting for completed trials (for 10 sec, currently running trials: 3).\n"
     ]
    },
    {
     "name": "stderr",
     "output_type": "stream",
     "text": [
      "[INFO 08-15 06:59:22] Scheduler: Fetching data for newly completed trials: [4].\n"
     ]
    },
    {
     "name": "stderr",
     "output_type": "stream",
     "text": [
      "[INFO 08-15 06:59:22] Scheduler: Fetching data for trials: [2, 5] because some metrics on experiment are available while trials are running.\n"
     ]
    },
    {
     "name": "stderr",
     "output_type": "stream",
     "text": [
      "[INFO 08-15 06:59:22] Scheduler: Retrieved COMPLETED trials: [4].\n"
     ]
    },
    {
     "name": "stderr",
     "output_type": "stream",
     "text": [
      "/tmp/tmp.3Yo4S3ORTG/Ax-main/ax/core/map_data.py:192: FutureWarning: The behavior of DataFrame concatenation with empty or all-NA entries is deprecated. In a future version, this will no longer exclude empty or all-NA columns when determining the result dtypes. To retain the old behavior, exclude the relevant entries before the concat operation.\n",
      "  df = pd.concat(\n",
      "/tmp/tmp.3Yo4S3ORTG/Ax-main/ax/core/map_data.py:192: FutureWarning: The behavior of DataFrame concatenation with empty or all-NA entries is deprecated. In a future version, this will no longer exclude empty or all-NA columns when determining the result dtypes. To retain the old behavior, exclude the relevant entries before the concat operation.\n",
      "  df = pd.concat(\n",
      "[INFO 08-15 06:59:22] ax.early_stopping.strategies.base: The number of completed trials (3) is less than the minimum number of curves needed for early stopping (5). Not early stopping.\n"
     ]
    },
    {
     "name": "stderr",
     "output_type": "stream",
     "text": [
      "/tmp/tmp.3Yo4S3ORTG/Ax-main/ax/core/map_data.py:192: FutureWarning: The behavior of DataFrame concatenation with empty or all-NA entries is deprecated. In a future version, this will no longer exclude empty or all-NA columns when determining the result dtypes. To retain the old behavior, exclude the relevant entries before the concat operation.\n",
      "  df = pd.concat(\n"
     ]
    },
    {
     "name": "stderr",
     "output_type": "stream",
     "text": [
      "[INFO 08-15 06:59:26] Scheduler: Running trials [7]...\n"
     ]
    },
    {
     "name": "stderr",
     "output_type": "stream",
     "text": [
      "/tmp/tmp.3Yo4S3ORTG/Ax-main/ax/core/map_data.py:192: FutureWarning: The behavior of DataFrame concatenation with empty or all-NA entries is deprecated. In a future version, this will no longer exclude empty or all-NA columns when determining the result dtypes. To retain the old behavior, exclude the relevant entries before the concat operation.\n",
      "  df = pd.concat(\n"
     ]
    },
    {
     "name": "stderr",
     "output_type": "stream",
     "text": [
      "[INFO 08-15 06:59:30] Scheduler: Running trials [8]...\n"
     ]
    },
    {
     "name": "stderr",
     "output_type": "stream",
     "text": [
      "/tmp/tmp.3Yo4S3ORTG/Ax-main/ax/core/map_data.py:192: FutureWarning: The behavior of DataFrame concatenation with empty or all-NA entries is deprecated. In a future version, this will no longer exclude empty or all-NA columns when determining the result dtypes. To retain the old behavior, exclude the relevant entries before the concat operation.\n",
      "  df = pd.concat(\n"
     ]
    },
    {
     "name": "stderr",
     "output_type": "stream",
     "text": [
      "[INFO 08-15 06:59:36] Scheduler: Running trials [9]...\n"
     ]
    },
    {
     "name": "stderr",
     "output_type": "stream",
     "text": [
      "[WARNING 08-15 06:59:37] Scheduler: Both `init_seconds_between_polls` and `early_stopping_strategy supplied. `init_seconds_between_polls=1` will be overrridden by `early_stopping_strategy.seconds_between_polls=10` and polling will take place at a constant rate.\n"
     ]
    },
    {
     "name": "stderr",
     "output_type": "stream",
     "text": [
      "[INFO 08-15 06:59:37] Scheduler: Fetching data for newly completed trials: [2].\n"
     ]
    },
    {
     "name": "stderr",
     "output_type": "stream",
     "text": [
      "[INFO 08-15 06:59:37] Scheduler: Fetching data for trials: [5, 7, 8, 9] because some metrics on experiment are available while trials are running.\n"
     ]
    },
    {
     "name": "stderr",
     "output_type": "stream",
     "text": [
      "[INFO 08-15 06:59:37] Scheduler: Retrieved COMPLETED trials: [2].\n"
     ]
    },
    {
     "name": "stderr",
     "output_type": "stream",
     "text": [
      "[INFO 08-15 06:59:37] ax.core.metric: MetricFetchE INFO: Initialized MetricFetchE(message=\"No 'scalar' data found for trial in multiplexer mul=<tensorboard.backend.event_processing.plugin_event_multiplexer.EventMultiplexer object at 0x7f243cf3f3a0>\")\n"
     ]
    },
    {
     "name": "stderr",
     "output_type": "stream",
     "text": [
      "[INFO 08-15 06:59:37] ax.core.metric: MetricFetchE INFO: Initialized MetricFetchE(message=\"No 'scalar' data found for trial in multiplexer mul=<tensorboard.backend.event_processing.plugin_event_multiplexer.EventMultiplexer object at 0x7f243cf3d900>\")\n"
     ]
    },
    {
     "name": "stderr",
     "output_type": "stream",
     "text": [
      "[INFO 08-15 06:59:37] ax.core.metric: MetricFetchE INFO: Initialized MetricFetchE(message=\"No 'scalar' data found for trial in multiplexer mul=<tensorboard.backend.event_processing.plugin_event_multiplexer.EventMultiplexer object at 0x7f243cf3efe0>\")\n"
     ]
    },
    {
     "name": "stderr",
     "output_type": "stream",
     "text": [
      "[ERROR 08-15 06:59:37] ax.core.experiment: Discovered Metric fetching Err while attaching data MetricFetchE(message=\"No 'scalar' data found for trial in multiplexer mul=<tensorboard.backend.event_processing.plugin_event_multiplexer.EventMultiplexer object at 0x7f243cf3f3a0>\"). Ignoring for now -- will retry query on next call to fetch.\n"
     ]
    },
    {
     "name": "stderr",
     "output_type": "stream",
     "text": [
      "[ERROR 08-15 06:59:37] ax.core.experiment: Discovered Metric fetching Err while attaching data MetricFetchE(message=\"No 'scalar' data found for trial in multiplexer mul=<tensorboard.backend.event_processing.plugin_event_multiplexer.EventMultiplexer object at 0x7f243cf3d900>\"). Ignoring for now -- will retry query on next call to fetch.\n"
     ]
    },
    {
     "name": "stderr",
     "output_type": "stream",
     "text": [
      "[ERROR 08-15 06:59:37] ax.core.experiment: Discovered Metric fetching Err while attaching data MetricFetchE(message=\"No 'scalar' data found for trial in multiplexer mul=<tensorboard.backend.event_processing.plugin_event_multiplexer.EventMultiplexer object at 0x7f243cf3efe0>\"). Ignoring for now -- will retry query on next call to fetch.\n"
     ]
    },
    {
     "name": "stderr",
     "output_type": "stream",
     "text": [
      "/tmp/tmp.3Yo4S3ORTG/Ax-main/ax/core/map_data.py:192: FutureWarning: The behavior of DataFrame concatenation with empty or all-NA entries is deprecated. In a future version, this will no longer exclude empty or all-NA columns when determining the result dtypes. To retain the old behavior, exclude the relevant entries before the concat operation.\n",
      "  df = pd.concat(\n",
      "[WARNING 08-15 06:59:37] Scheduler: Failed to fetch val_acc for trial 7, found MetricFetchE(message=\"No 'scalar' data found for trial in multiplexer mul=<tensorboard.backend.event_processing.plugin_event_multiplexer.EventMultiplexer object at 0x7f243cf3f3a0>\").\n"
     ]
    },
    {
     "name": "stderr",
     "output_type": "stream",
     "text": [
      "[INFO 08-15 06:59:37] Scheduler: MetricFetchE INFO: Because val_acc is available_while_running and trial 7 is still RUNNING continuing the experiment and retrying on next poll...\n"
     ]
    },
    {
     "name": "stderr",
     "output_type": "stream",
     "text": [
      "[WARNING 08-15 06:59:37] Scheduler: Failed to fetch val_acc for trial 8, found MetricFetchE(message=\"No 'scalar' data found for trial in multiplexer mul=<tensorboard.backend.event_processing.plugin_event_multiplexer.EventMultiplexer object at 0x7f243cf3d900>\").\n"
     ]
    },
    {
     "name": "stderr",
     "output_type": "stream",
     "text": [
      "[INFO 08-15 06:59:37] Scheduler: MetricFetchE INFO: Because val_acc is available_while_running and trial 8 is still RUNNING continuing the experiment and retrying on next poll...\n"
     ]
    },
    {
     "name": "stderr",
     "output_type": "stream",
     "text": [
      "[WARNING 08-15 06:59:37] Scheduler: Failed to fetch val_acc for trial 9, found MetricFetchE(message=\"No 'scalar' data found for trial in multiplexer mul=<tensorboard.backend.event_processing.plugin_event_multiplexer.EventMultiplexer object at 0x7f243cf3efe0>\").\n"
     ]
    },
    {
     "name": "stderr",
     "output_type": "stream",
     "text": [
      "[INFO 08-15 06:59:37] Scheduler: MetricFetchE INFO: Because val_acc is available_while_running and trial 9 is still RUNNING continuing the experiment and retrying on next poll...\n"
     ]
    },
    {
     "name": "stderr",
     "output_type": "stream",
     "text": [
      "/tmp/tmp.3Yo4S3ORTG/Ax-main/ax/core/map_data.py:192: FutureWarning: The behavior of DataFrame concatenation with empty or all-NA entries is deprecated. In a future version, this will no longer exclude empty or all-NA columns when determining the result dtypes. To retain the old behavior, exclude the relevant entries before the concat operation.\n",
      "  df = pd.concat(\n",
      "[INFO 08-15 06:59:37] ax.early_stopping.strategies.base: The number of completed trials (4) is less than the minimum number of curves needed for early stopping (5). Not early stopping.\n"
     ]
    },
    {
     "name": "stderr",
     "output_type": "stream",
     "text": [
      "/tmp/tmp.3Yo4S3ORTG/Ax-main/ax/core/map_data.py:192: FutureWarning: The behavior of DataFrame concatenation with empty or all-NA entries is deprecated. In a future version, this will no longer exclude empty or all-NA columns when determining the result dtypes. To retain the old behavior, exclude the relevant entries before the concat operation.\n",
      "  df = pd.concat(\n"
     ]
    },
    {
     "name": "stderr",
     "output_type": "stream",
     "text": [
      "[WARNING 08-15 06:59:38] Scheduler: Both `init_seconds_between_polls` and `early_stopping_strategy supplied. `init_seconds_between_polls=1` will be overrridden by `early_stopping_strategy.seconds_between_polls=10` and polling will take place at a constant rate.\n"
     ]
    },
    {
     "name": "stderr",
     "output_type": "stream",
     "text": [
      "[INFO 08-15 06:59:38] Scheduler: Fetching data for newly completed trials: [5].\n"
     ]
    },
    {
     "name": "stderr",
     "output_type": "stream",
     "text": [
      "[INFO 08-15 06:59:38] Scheduler: Fetching data for trials: 7 - 9 because some metrics on experiment are available while trials are running.\n"
     ]
    },
    {
     "name": "stderr",
     "output_type": "stream",
     "text": [
      "[INFO 08-15 06:59:38] Scheduler: Retrieved COMPLETED trials: [5].\n"
     ]
    },
    {
     "name": "stderr",
     "output_type": "stream",
     "text": [
      "[INFO 08-15 06:59:38] ax.core.metric: MetricFetchE INFO: Initialized MetricFetchE(message=\"No 'scalar' data found for trial in multiplexer mul=<tensorboard.backend.event_processing.plugin_event_multiplexer.EventMultiplexer object at 0x7f243cf3e290>\")\n"
     ]
    },
    {
     "name": "stderr",
     "output_type": "stream",
     "text": [
      "[INFO 08-15 06:59:38] ax.core.metric: MetricFetchE INFO: Initialized MetricFetchE(message=\"No 'scalar' data found for trial in multiplexer mul=<tensorboard.backend.event_processing.plugin_event_multiplexer.EventMultiplexer object at 0x7f243cf3d7e0>\")\n"
     ]
    },
    {
     "name": "stderr",
     "output_type": "stream",
     "text": [
      "[INFO 08-15 06:59:38] ax.core.metric: MetricFetchE INFO: Initialized MetricFetchE(message=\"No 'scalar' data found for trial in multiplexer mul=<tensorboard.backend.event_processing.plugin_event_multiplexer.EventMultiplexer object at 0x7f243ced50f0>\")\n"
     ]
    },
    {
     "name": "stderr",
     "output_type": "stream",
     "text": [
      "[ERROR 08-15 06:59:38] ax.core.experiment: Discovered Metric fetching Err while attaching data MetricFetchE(message=\"No 'scalar' data found for trial in multiplexer mul=<tensorboard.backend.event_processing.plugin_event_multiplexer.EventMultiplexer object at 0x7f243cf3e290>\"). Ignoring for now -- will retry query on next call to fetch.\n"
     ]
    },
    {
     "name": "stderr",
     "output_type": "stream",
     "text": [
      "[ERROR 08-15 06:59:38] ax.core.experiment: Discovered Metric fetching Err while attaching data MetricFetchE(message=\"No 'scalar' data found for trial in multiplexer mul=<tensorboard.backend.event_processing.plugin_event_multiplexer.EventMultiplexer object at 0x7f243cf3d7e0>\"). Ignoring for now -- will retry query on next call to fetch.\n"
     ]
    },
    {
     "name": "stderr",
     "output_type": "stream",
     "text": [
      "[ERROR 08-15 06:59:38] ax.core.experiment: Discovered Metric fetching Err while attaching data MetricFetchE(message=\"No 'scalar' data found for trial in multiplexer mul=<tensorboard.backend.event_processing.plugin_event_multiplexer.EventMultiplexer object at 0x7f243ced50f0>\"). Ignoring for now -- will retry query on next call to fetch.\n"
     ]
    },
    {
     "name": "stderr",
     "output_type": "stream",
     "text": [
      "/tmp/tmp.3Yo4S3ORTG/Ax-main/ax/core/map_data.py:192: FutureWarning: The behavior of DataFrame concatenation with empty or all-NA entries is deprecated. In a future version, this will no longer exclude empty or all-NA columns when determining the result dtypes. To retain the old behavior, exclude the relevant entries before the concat operation.\n",
      "  df = pd.concat(\n",
      "[WARNING 08-15 06:59:38] Scheduler: Failed to fetch val_acc for trial 8, found MetricFetchE(message=\"No 'scalar' data found for trial in multiplexer mul=<tensorboard.backend.event_processing.plugin_event_multiplexer.EventMultiplexer object at 0x7f243cf3e290>\").\n"
     ]
    },
    {
     "name": "stderr",
     "output_type": "stream",
     "text": [
      "[INFO 08-15 06:59:38] Scheduler: MetricFetchE INFO: Because val_acc is available_while_running and trial 8 is still RUNNING continuing the experiment and retrying on next poll...\n"
     ]
    },
    {
     "name": "stderr",
     "output_type": "stream",
     "text": [
      "[WARNING 08-15 06:59:38] Scheduler: Failed to fetch val_acc for trial 9, found MetricFetchE(message=\"No 'scalar' data found for trial in multiplexer mul=<tensorboard.backend.event_processing.plugin_event_multiplexer.EventMultiplexer object at 0x7f243cf3d7e0>\").\n"
     ]
    },
    {
     "name": "stderr",
     "output_type": "stream",
     "text": [
      "[INFO 08-15 06:59:38] Scheduler: MetricFetchE INFO: Because val_acc is available_while_running and trial 9 is still RUNNING continuing the experiment and retrying on next poll...\n"
     ]
    },
    {
     "name": "stderr",
     "output_type": "stream",
     "text": [
      "[WARNING 08-15 06:59:38] Scheduler: Failed to fetch val_acc for trial 7, found MetricFetchE(message=\"No 'scalar' data found for trial in multiplexer mul=<tensorboard.backend.event_processing.plugin_event_multiplexer.EventMultiplexer object at 0x7f243ced50f0>\").\n"
     ]
    },
    {
     "name": "stderr",
     "output_type": "stream",
     "text": [
      "[INFO 08-15 06:59:38] Scheduler: MetricFetchE INFO: Because val_acc is available_while_running and trial 7 is still RUNNING continuing the experiment and retrying on next poll...\n"
     ]
    },
    {
     "name": "stderr",
     "output_type": "stream",
     "text": [
      "/tmp/tmp.3Yo4S3ORTG/Ax-main/ax/core/map_data.py:192: FutureWarning: The behavior of DataFrame concatenation with empty or all-NA entries is deprecated. In a future version, this will no longer exclude empty or all-NA columns when determining the result dtypes. To retain the old behavior, exclude the relevant entries before the concat operation.\n",
      "  df = pd.concat(\n",
      "[INFO 08-15 06:59:38] ax.early_stopping.strategies.base: Last progression of any candidate for trial stopping is 0.\n"
     ]
    },
    {
     "name": "stderr",
     "output_type": "stream",
     "text": [
      "[INFO 08-15 06:59:38] ax.early_stopping.strategies.base: No trials have reached 0.3. Not stopping any trials.\n"
     ]
    },
    {
     "name": "stderr",
     "output_type": "stream",
     "text": [
      "/tmp/tmp.3Yo4S3ORTG/Ax-main/ax/core/map_data.py:192: FutureWarning: The behavior of DataFrame concatenation with empty or all-NA entries is deprecated. In a future version, this will no longer exclude empty or all-NA columns when determining the result dtypes. To retain the old behavior, exclude the relevant entries before the concat operation.\n",
      "  df = pd.concat(\n"
     ]
    },
    {
     "name": "stderr",
     "output_type": "stream",
     "text": [
      "[WARNING 08-15 06:59:40] Scheduler: Both `init_seconds_between_polls` and `early_stopping_strategy supplied. `init_seconds_between_polls=1` will be overrridden by `early_stopping_strategy.seconds_between_polls=10` and polling will take place at a constant rate.\n"
     ]
    },
    {
     "name": "stderr",
     "output_type": "stream",
     "text": [
      "[INFO 08-15 06:59:40] Scheduler: Fetching data for newly completed trials: [].\n"
     ]
    },
    {
     "name": "stderr",
     "output_type": "stream",
     "text": [
      "[INFO 08-15 06:59:40] Scheduler: Fetching data for trials: 7 - 9 because some metrics on experiment are available while trials are running.\n"
     ]
    },
    {
     "name": "stderr",
     "output_type": "stream",
     "text": [
      "[INFO 08-15 06:59:40] ax.core.metric: MetricFetchE INFO: Initialized MetricFetchE(message=\"No 'scalar' data found for trial in multiplexer mul=<tensorboard.backend.event_processing.plugin_event_multiplexer.EventMultiplexer object at 0x7f243ced58a0>\")\n"
     ]
    },
    {
     "name": "stderr",
     "output_type": "stream",
     "text": [
      "[INFO 08-15 06:59:40] ax.core.metric: MetricFetchE INFO: Initialized MetricFetchE(message=\"No 'scalar' data found for trial in multiplexer mul=<tensorboard.backend.event_processing.plugin_event_multiplexer.EventMultiplexer object at 0x7f243ced58a0>\")\n"
     ]
    },
    {
     "name": "stderr",
     "output_type": "stream",
     "text": [
      "[INFO 08-15 06:59:40] ax.core.metric: MetricFetchE INFO: Initialized MetricFetchE(message=\"No 'scalar' data found for trial in multiplexer mul=<tensorboard.backend.event_processing.plugin_event_multiplexer.EventMultiplexer object at 0x7f243ced58a0>\")\n"
     ]
    },
    {
     "name": "stderr",
     "output_type": "stream",
     "text": [
      "[ERROR 08-15 06:59:40] ax.core.experiment: Discovered Metric fetching Err while attaching data MetricFetchE(message=\"No 'scalar' data found for trial in multiplexer mul=<tensorboard.backend.event_processing.plugin_event_multiplexer.EventMultiplexer object at 0x7f243ced58a0>\"). Ignoring for now -- will retry query on next call to fetch.\n"
     ]
    },
    {
     "name": "stderr",
     "output_type": "stream",
     "text": [
      "[ERROR 08-15 06:59:40] ax.core.experiment: Discovered Metric fetching Err while attaching data MetricFetchE(message=\"No 'scalar' data found for trial in multiplexer mul=<tensorboard.backend.event_processing.plugin_event_multiplexer.EventMultiplexer object at 0x7f243ced58a0>\"). Ignoring for now -- will retry query on next call to fetch.\n"
     ]
    },
    {
     "name": "stderr",
     "output_type": "stream",
     "text": [
      "[ERROR 08-15 06:59:40] ax.core.experiment: Discovered Metric fetching Err while attaching data MetricFetchE(message=\"No 'scalar' data found for trial in multiplexer mul=<tensorboard.backend.event_processing.plugin_event_multiplexer.EventMultiplexer object at 0x7f243ced58a0>\"). Ignoring for now -- will retry query on next call to fetch.\n"
     ]
    },
    {
     "name": "stderr",
     "output_type": "stream",
     "text": [
      "[WARNING 08-15 06:59:40] Scheduler: Failed to fetch val_acc for trial 8, found MetricFetchE(message=\"No 'scalar' data found for trial in multiplexer mul=<tensorboard.backend.event_processing.plugin_event_multiplexer.EventMultiplexer object at 0x7f243ced58a0>\").\n"
     ]
    },
    {
     "name": "stderr",
     "output_type": "stream",
     "text": [
      "[INFO 08-15 06:59:40] Scheduler: MetricFetchE INFO: Because val_acc is available_while_running and trial 8 is still RUNNING continuing the experiment and retrying on next poll...\n"
     ]
    },
    {
     "name": "stderr",
     "output_type": "stream",
     "text": [
      "[WARNING 08-15 06:59:40] Scheduler: Failed to fetch val_acc for trial 9, found MetricFetchE(message=\"No 'scalar' data found for trial in multiplexer mul=<tensorboard.backend.event_processing.plugin_event_multiplexer.EventMultiplexer object at 0x7f243ced58a0>\").\n"
     ]
    },
    {
     "name": "stderr",
     "output_type": "stream",
     "text": [
      "[INFO 08-15 06:59:40] Scheduler: MetricFetchE INFO: Because val_acc is available_while_running and trial 9 is still RUNNING continuing the experiment and retrying on next poll...\n"
     ]
    },
    {
     "name": "stderr",
     "output_type": "stream",
     "text": [
      "[WARNING 08-15 06:59:40] Scheduler: Failed to fetch val_acc for trial 7, found MetricFetchE(message=\"No 'scalar' data found for trial in multiplexer mul=<tensorboard.backend.event_processing.plugin_event_multiplexer.EventMultiplexer object at 0x7f243ced58a0>\").\n"
     ]
    },
    {
     "name": "stderr",
     "output_type": "stream",
     "text": [
      "[INFO 08-15 06:59:40] Scheduler: MetricFetchE INFO: Because val_acc is available_while_running and trial 7 is still RUNNING continuing the experiment and retrying on next poll...\n"
     ]
    },
    {
     "name": "stderr",
     "output_type": "stream",
     "text": [
      "/tmp/tmp.3Yo4S3ORTG/Ax-main/ax/core/map_data.py:192: FutureWarning: The behavior of DataFrame concatenation with empty or all-NA entries is deprecated. In a future version, this will no longer exclude empty or all-NA columns when determining the result dtypes. To retain the old behavior, exclude the relevant entries before the concat operation.\n",
      "  df = pd.concat(\n",
      "[INFO 08-15 06:59:40] ax.early_stopping.strategies.base: Last progression of any candidate for trial stopping is 0.\n"
     ]
    },
    {
     "name": "stderr",
     "output_type": "stream",
     "text": [
      "[INFO 08-15 06:59:40] ax.early_stopping.strategies.base: No trials have reached 0.3. Not stopping any trials.\n"
     ]
    },
    {
     "name": "stderr",
     "output_type": "stream",
     "text": [
      "[INFO 08-15 06:59:40] Scheduler: Waiting for completed trials (for 10 sec, currently running trials: 3).\n"
     ]
    },
    {
     "name": "stderr",
     "output_type": "stream",
     "text": [
      "[INFO 08-15 06:59:50] Scheduler: Fetching data for newly completed trials: [].\n"
     ]
    },
    {
     "name": "stderr",
     "output_type": "stream",
     "text": [
      "[INFO 08-15 06:59:50] Scheduler: Fetching data for trials: 7 - 9 because some metrics on experiment are available while trials are running.\n"
     ]
    },
    {
     "name": "stderr",
     "output_type": "stream",
     "text": [
      "[INFO 08-15 06:59:50] ax.core.metric: MetricFetchE INFO: Initialized MetricFetchE(message=\"No 'scalar' data found for trial in multiplexer mul=<tensorboard.backend.event_processing.plugin_event_multiplexer.EventMultiplexer object at 0x7f2441072ef0>\")\n"
     ]
    },
    {
     "name": "stderr",
     "output_type": "stream",
     "text": [
      "[INFO 08-15 06:59:50] ax.core.metric: MetricFetchE INFO: Initialized MetricFetchE(message=\"No 'scalar' data found for trial in multiplexer mul=<tensorboard.backend.event_processing.plugin_event_multiplexer.EventMultiplexer object at 0x7f2441070100>\")\n"
     ]
    },
    {
     "name": "stderr",
     "output_type": "stream",
     "text": [
      "[INFO 08-15 06:59:50] ax.core.metric: MetricFetchE INFO: Initialized MetricFetchE(message=\"No 'scalar' data found for trial in multiplexer mul=<tensorboard.backend.event_processing.plugin_event_multiplexer.EventMultiplexer object at 0x7f2441073340>\")\n"
     ]
    },
    {
     "name": "stderr",
     "output_type": "stream",
     "text": [
      "[ERROR 08-15 06:59:50] ax.core.experiment: Discovered Metric fetching Err while attaching data MetricFetchE(message=\"No 'scalar' data found for trial in multiplexer mul=<tensorboard.backend.event_processing.plugin_event_multiplexer.EventMultiplexer object at 0x7f2441072ef0>\"). Ignoring for now -- will retry query on next call to fetch.\n"
     ]
    },
    {
     "name": "stderr",
     "output_type": "stream",
     "text": [
      "[ERROR 08-15 06:59:50] ax.core.experiment: Discovered Metric fetching Err while attaching data MetricFetchE(message=\"No 'scalar' data found for trial in multiplexer mul=<tensorboard.backend.event_processing.plugin_event_multiplexer.EventMultiplexer object at 0x7f2441070100>\"). Ignoring for now -- will retry query on next call to fetch.\n"
     ]
    },
    {
     "name": "stderr",
     "output_type": "stream",
     "text": [
      "[ERROR 08-15 06:59:50] ax.core.experiment: Discovered Metric fetching Err while attaching data MetricFetchE(message=\"No 'scalar' data found for trial in multiplexer mul=<tensorboard.backend.event_processing.plugin_event_multiplexer.EventMultiplexer object at 0x7f2441073340>\"). Ignoring for now -- will retry query on next call to fetch.\n"
     ]
    },
    {
     "name": "stderr",
     "output_type": "stream",
     "text": [
      "[WARNING 08-15 06:59:50] Scheduler: Failed to fetch val_acc for trial 8, found MetricFetchE(message=\"No 'scalar' data found for trial in multiplexer mul=<tensorboard.backend.event_processing.plugin_event_multiplexer.EventMultiplexer object at 0x7f2441072ef0>\").\n"
     ]
    },
    {
     "name": "stderr",
     "output_type": "stream",
     "text": [
      "[INFO 08-15 06:59:50] Scheduler: MetricFetchE INFO: Because val_acc is available_while_running and trial 8 is still RUNNING continuing the experiment and retrying on next poll...\n"
     ]
    },
    {
     "name": "stderr",
     "output_type": "stream",
     "text": [
      "[WARNING 08-15 06:59:50] Scheduler: Failed to fetch val_acc for trial 9, found MetricFetchE(message=\"No 'scalar' data found for trial in multiplexer mul=<tensorboard.backend.event_processing.plugin_event_multiplexer.EventMultiplexer object at 0x7f2441070100>\").\n"
     ]
    },
    {
     "name": "stderr",
     "output_type": "stream",
     "text": [
      "[INFO 08-15 06:59:50] Scheduler: MetricFetchE INFO: Because val_acc is available_while_running and trial 9 is still RUNNING continuing the experiment and retrying on next poll...\n"
     ]
    },
    {
     "name": "stderr",
     "output_type": "stream",
     "text": [
      "[WARNING 08-15 06:59:50] Scheduler: Failed to fetch val_acc for trial 7, found MetricFetchE(message=\"No 'scalar' data found for trial in multiplexer mul=<tensorboard.backend.event_processing.plugin_event_multiplexer.EventMultiplexer object at 0x7f2441073340>\").\n"
     ]
    },
    {
     "name": "stderr",
     "output_type": "stream",
     "text": [
      "[INFO 08-15 06:59:50] Scheduler: MetricFetchE INFO: Because val_acc is available_while_running and trial 7 is still RUNNING continuing the experiment and retrying on next poll...\n"
     ]
    },
    {
     "name": "stderr",
     "output_type": "stream",
     "text": [
      "/tmp/tmp.3Yo4S3ORTG/Ax-main/ax/core/map_data.py:192: FutureWarning: The behavior of DataFrame concatenation with empty or all-NA entries is deprecated. In a future version, this will no longer exclude empty or all-NA columns when determining the result dtypes. To retain the old behavior, exclude the relevant entries before the concat operation.\n",
      "  df = pd.concat(\n",
      "[INFO 08-15 06:59:50] ax.early_stopping.strategies.base: Last progression of any candidate for trial stopping is 0.\n"
     ]
    },
    {
     "name": "stderr",
     "output_type": "stream",
     "text": [
      "[INFO 08-15 06:59:50] ax.early_stopping.strategies.base: No trials have reached 0.3. Not stopping any trials.\n"
     ]
    },
    {
     "name": "stderr",
     "output_type": "stream",
     "text": [
      "[INFO 08-15 06:59:50] Scheduler: Waiting for completed trials (for 10 sec, currently running trials: 3).\n"
     ]
    },
    {
     "name": "stderr",
     "output_type": "stream",
     "text": [
      "[INFO 08-15 07:00:00] Scheduler: Fetching data for newly completed trials: [].\n"
     ]
    },
    {
     "name": "stderr",
     "output_type": "stream",
     "text": [
      "[INFO 08-15 07:00:00] Scheduler: Fetching data for trials: 7 - 9 because some metrics on experiment are available while trials are running.\n"
     ]
    },
    {
     "name": "stderr",
     "output_type": "stream",
     "text": [
      "[INFO 08-15 07:00:00] ax.core.metric: MetricFetchE INFO: Initialized MetricFetchE(message=\"No 'scalar' data found for trial in multiplexer mul=<tensorboard.backend.event_processing.plugin_event_multiplexer.EventMultiplexer object at 0x7f24410709d0>\")\n"
     ]
    },
    {
     "name": "stderr",
     "output_type": "stream",
     "text": [
      "[INFO 08-15 07:00:00] ax.core.metric: MetricFetchE INFO: Initialized MetricFetchE(message=\"No 'scalar' data found for trial in multiplexer mul=<tensorboard.backend.event_processing.plugin_event_multiplexer.EventMultiplexer object at 0x7f24410709d0>\")\n"
     ]
    },
    {
     "name": "stderr",
     "output_type": "stream",
     "text": [
      "[INFO 08-15 07:00:00] ax.core.metric: MetricFetchE INFO: Initialized MetricFetchE(message=\"No 'scalar' data found for trial in multiplexer mul=<tensorboard.backend.event_processing.plugin_event_multiplexer.EventMultiplexer object at 0x7f24410709d0>\")\n"
     ]
    },
    {
     "name": "stderr",
     "output_type": "stream",
     "text": [
      "[ERROR 08-15 07:00:00] ax.core.experiment: Discovered Metric fetching Err while attaching data MetricFetchE(message=\"No 'scalar' data found for trial in multiplexer mul=<tensorboard.backend.event_processing.plugin_event_multiplexer.EventMultiplexer object at 0x7f24410709d0>\"). Ignoring for now -- will retry query on next call to fetch.\n"
     ]
    },
    {
     "name": "stderr",
     "output_type": "stream",
     "text": [
      "[ERROR 08-15 07:00:00] ax.core.experiment: Discovered Metric fetching Err while attaching data MetricFetchE(message=\"No 'scalar' data found for trial in multiplexer mul=<tensorboard.backend.event_processing.plugin_event_multiplexer.EventMultiplexer object at 0x7f24410709d0>\"). Ignoring for now -- will retry query on next call to fetch.\n"
     ]
    },
    {
     "name": "stderr",
     "output_type": "stream",
     "text": [
      "[ERROR 08-15 07:00:00] ax.core.experiment: Discovered Metric fetching Err while attaching data MetricFetchE(message=\"No 'scalar' data found for trial in multiplexer mul=<tensorboard.backend.event_processing.plugin_event_multiplexer.EventMultiplexer object at 0x7f24410709d0>\"). Ignoring for now -- will retry query on next call to fetch.\n"
     ]
    },
    {
     "name": "stderr",
     "output_type": "stream",
     "text": [
      "[WARNING 08-15 07:00:00] Scheduler: Failed to fetch val_acc for trial 8, found MetricFetchE(message=\"No 'scalar' data found for trial in multiplexer mul=<tensorboard.backend.event_processing.plugin_event_multiplexer.EventMultiplexer object at 0x7f24410709d0>\").\n"
     ]
    },
    {
     "name": "stderr",
     "output_type": "stream",
     "text": [
      "[INFO 08-15 07:00:00] Scheduler: MetricFetchE INFO: Because val_acc is available_while_running and trial 8 is still RUNNING continuing the experiment and retrying on next poll...\n"
     ]
    },
    {
     "name": "stderr",
     "output_type": "stream",
     "text": [
      "[WARNING 08-15 07:00:00] Scheduler: Failed to fetch val_acc for trial 9, found MetricFetchE(message=\"No 'scalar' data found for trial in multiplexer mul=<tensorboard.backend.event_processing.plugin_event_multiplexer.EventMultiplexer object at 0x7f24410709d0>\").\n"
     ]
    },
    {
     "name": "stderr",
     "output_type": "stream",
     "text": [
      "[INFO 08-15 07:00:00] Scheduler: MetricFetchE INFO: Because val_acc is available_while_running and trial 9 is still RUNNING continuing the experiment and retrying on next poll...\n"
     ]
    },
    {
     "name": "stderr",
     "output_type": "stream",
     "text": [
      "[WARNING 08-15 07:00:00] Scheduler: Failed to fetch val_acc for trial 7, found MetricFetchE(message=\"No 'scalar' data found for trial in multiplexer mul=<tensorboard.backend.event_processing.plugin_event_multiplexer.EventMultiplexer object at 0x7f24410709d0>\").\n"
     ]
    },
    {
     "name": "stderr",
     "output_type": "stream",
     "text": [
      "[INFO 08-15 07:00:00] Scheduler: MetricFetchE INFO: Because val_acc is available_while_running and trial 7 is still RUNNING continuing the experiment and retrying on next poll...\n"
     ]
    },
    {
     "name": "stderr",
     "output_type": "stream",
     "text": [
      "/tmp/tmp.3Yo4S3ORTG/Ax-main/ax/core/map_data.py:192: FutureWarning: The behavior of DataFrame concatenation with empty or all-NA entries is deprecated. In a future version, this will no longer exclude empty or all-NA columns when determining the result dtypes. To retain the old behavior, exclude the relevant entries before the concat operation.\n",
      "  df = pd.concat(\n",
      "[INFO 08-15 07:00:00] ax.early_stopping.strategies.base: Last progression of any candidate for trial stopping is 0.\n"
     ]
    },
    {
     "name": "stderr",
     "output_type": "stream",
     "text": [
      "[INFO 08-15 07:00:00] ax.early_stopping.strategies.base: No trials have reached 0.3. Not stopping any trials.\n"
     ]
    },
    {
     "name": "stderr",
     "output_type": "stream",
     "text": [
      "[INFO 08-15 07:00:00] Scheduler: Waiting for completed trials (for 10 sec, currently running trials: 3).\n"
     ]
    },
    {
     "name": "stderr",
     "output_type": "stream",
     "text": [
      "[INFO 08-15 07:00:10] Scheduler: Fetching data for newly completed trials: [].\n"
     ]
    },
    {
     "name": "stderr",
     "output_type": "stream",
     "text": [
      "[INFO 08-15 07:00:10] Scheduler: Fetching data for trials: 7 - 9 because some metrics on experiment are available while trials are running.\n"
     ]
    },
    {
     "name": "stderr",
     "output_type": "stream",
     "text": [
      "[INFO 08-15 07:00:10] ax.core.metric: MetricFetchE INFO: Initialized MetricFetchE(message=\"No 'scalar' data found for trial in multiplexer mul=<tensorboard.backend.event_processing.plugin_event_multiplexer.EventMultiplexer object at 0x7f243cf1db70>\")\n"
     ]
    },
    {
     "name": "stderr",
     "output_type": "stream",
     "text": [
      "[INFO 08-15 07:00:10] ax.core.metric: MetricFetchE INFO: Initialized MetricFetchE(message=\"No 'scalar' data found for trial in multiplexer mul=<tensorboard.backend.event_processing.plugin_event_multiplexer.EventMultiplexer object at 0x7f243cf1e4a0>\")\n"
     ]
    },
    {
     "name": "stderr",
     "output_type": "stream",
     "text": [
      "[INFO 08-15 07:00:10] ax.core.metric: MetricFetchE INFO: Initialized MetricFetchE(message=\"No 'scalar' data found for trial in multiplexer mul=<tensorboard.backend.event_processing.plugin_event_multiplexer.EventMultiplexer object at 0x7f243cf1e4a0>\")\n"
     ]
    },
    {
     "name": "stderr",
     "output_type": "stream",
     "text": [
      "[ERROR 08-15 07:00:10] ax.core.experiment: Discovered Metric fetching Err while attaching data MetricFetchE(message=\"No 'scalar' data found for trial in multiplexer mul=<tensorboard.backend.event_processing.plugin_event_multiplexer.EventMultiplexer object at 0x7f243cf1db70>\"). Ignoring for now -- will retry query on next call to fetch.\n"
     ]
    },
    {
     "name": "stderr",
     "output_type": "stream",
     "text": [
      "[ERROR 08-15 07:00:10] ax.core.experiment: Discovered Metric fetching Err while attaching data MetricFetchE(message=\"No 'scalar' data found for trial in multiplexer mul=<tensorboard.backend.event_processing.plugin_event_multiplexer.EventMultiplexer object at 0x7f243cf1e4a0>\"). Ignoring for now -- will retry query on next call to fetch.\n"
     ]
    },
    {
     "name": "stderr",
     "output_type": "stream",
     "text": [
      "[ERROR 08-15 07:00:10] ax.core.experiment: Discovered Metric fetching Err while attaching data MetricFetchE(message=\"No 'scalar' data found for trial in multiplexer mul=<tensorboard.backend.event_processing.plugin_event_multiplexer.EventMultiplexer object at 0x7f243cf1e4a0>\"). Ignoring for now -- will retry query on next call to fetch.\n"
     ]
    },
    {
     "name": "stderr",
     "output_type": "stream",
     "text": [
      "[WARNING 08-15 07:00:10] Scheduler: Failed to fetch val_acc for trial 8, found MetricFetchE(message=\"No 'scalar' data found for trial in multiplexer mul=<tensorboard.backend.event_processing.plugin_event_multiplexer.EventMultiplexer object at 0x7f243cf1db70>\").\n"
     ]
    },
    {
     "name": "stderr",
     "output_type": "stream",
     "text": [
      "[INFO 08-15 07:00:10] Scheduler: MetricFetchE INFO: Because val_acc is available_while_running and trial 8 is still RUNNING continuing the experiment and retrying on next poll...\n"
     ]
    },
    {
     "name": "stderr",
     "output_type": "stream",
     "text": [
      "[WARNING 08-15 07:00:10] Scheduler: Failed to fetch val_acc for trial 9, found MetricFetchE(message=\"No 'scalar' data found for trial in multiplexer mul=<tensorboard.backend.event_processing.plugin_event_multiplexer.EventMultiplexer object at 0x7f243cf1e4a0>\").\n"
     ]
    },
    {
     "name": "stderr",
     "output_type": "stream",
     "text": [
      "[INFO 08-15 07:00:10] Scheduler: MetricFetchE INFO: Because val_acc is available_while_running and trial 9 is still RUNNING continuing the experiment and retrying on next poll...\n"
     ]
    },
    {
     "name": "stderr",
     "output_type": "stream",
     "text": [
      "[WARNING 08-15 07:00:10] Scheduler: Failed to fetch val_acc for trial 7, found MetricFetchE(message=\"No 'scalar' data found for trial in multiplexer mul=<tensorboard.backend.event_processing.plugin_event_multiplexer.EventMultiplexer object at 0x7f243cf1e4a0>\").\n"
     ]
    },
    {
     "name": "stderr",
     "output_type": "stream",
     "text": [
      "[INFO 08-15 07:00:10] Scheduler: MetricFetchE INFO: Because val_acc is available_while_running and trial 7 is still RUNNING continuing the experiment and retrying on next poll...\n"
     ]
    },
    {
     "name": "stderr",
     "output_type": "stream",
     "text": [
      "/tmp/tmp.3Yo4S3ORTG/Ax-main/ax/core/map_data.py:192: FutureWarning: The behavior of DataFrame concatenation with empty or all-NA entries is deprecated. In a future version, this will no longer exclude empty or all-NA columns when determining the result dtypes. To retain the old behavior, exclude the relevant entries before the concat operation.\n",
      "  df = pd.concat(\n",
      "[INFO 08-15 07:00:10] ax.early_stopping.strategies.base: Last progression of any candidate for trial stopping is 0.\n"
     ]
    },
    {
     "name": "stderr",
     "output_type": "stream",
     "text": [
      "[INFO 08-15 07:00:10] ax.early_stopping.strategies.base: No trials have reached 0.3. Not stopping any trials.\n"
     ]
    },
    {
     "name": "stderr",
     "output_type": "stream",
     "text": [
      "[INFO 08-15 07:00:10] Scheduler: Waiting for completed trials (for 10 sec, currently running trials: 3).\n"
     ]
    },
    {
     "name": "stderr",
     "output_type": "stream",
     "text": [
      "[INFO 08-15 07:00:20] Scheduler: Fetching data for newly completed trials: [].\n"
     ]
    },
    {
     "name": "stderr",
     "output_type": "stream",
     "text": [
      "[INFO 08-15 07:00:20] Scheduler: Fetching data for trials: 7 - 9 because some metrics on experiment are available while trials are running.\n"
     ]
    },
    {
     "name": "stderr",
     "output_type": "stream",
     "text": [
      "[INFO 08-15 07:00:20] ax.core.metric: MetricFetchE INFO: Initialized MetricFetchE(message=\"No 'scalar' data found for trial in multiplexer mul=<tensorboard.backend.event_processing.plugin_event_multiplexer.EventMultiplexer object at 0x7f243ced7f10>\")\n"
     ]
    },
    {
     "name": "stderr",
     "output_type": "stream",
     "text": [
      "[ERROR 08-15 07:00:20] ax.core.experiment: Discovered Metric fetching Err while attaching data MetricFetchE(message=\"No 'scalar' data found for trial in multiplexer mul=<tensorboard.backend.event_processing.plugin_event_multiplexer.EventMultiplexer object at 0x7f243ced7f10>\"). Ignoring for now -- will retry query on next call to fetch.\n"
     ]
    },
    {
     "name": "stderr",
     "output_type": "stream",
     "text": [
      "/tmp/tmp.3Yo4S3ORTG/Ax-main/ax/core/map_data.py:192: FutureWarning: The behavior of DataFrame concatenation with empty or all-NA entries is deprecated. In a future version, this will no longer exclude empty or all-NA columns when determining the result dtypes. To retain the old behavior, exclude the relevant entries before the concat operation.\n",
      "  df = pd.concat(\n",
      "[WARNING 08-15 07:00:20] Scheduler: Failed to fetch val_acc for trial 9, found MetricFetchE(message=\"No 'scalar' data found for trial in multiplexer mul=<tensorboard.backend.event_processing.plugin_event_multiplexer.EventMultiplexer object at 0x7f243ced7f10>\").\n"
     ]
    },
    {
     "name": "stderr",
     "output_type": "stream",
     "text": [
      "[INFO 08-15 07:00:20] Scheduler: MetricFetchE INFO: Because val_acc is available_while_running and trial 9 is still RUNNING continuing the experiment and retrying on next poll...\n"
     ]
    },
    {
     "name": "stderr",
     "output_type": "stream",
     "text": [
      "/tmp/tmp.3Yo4S3ORTG/Ax-main/ax/core/map_data.py:192: FutureWarning: The behavior of DataFrame concatenation with empty or all-NA entries is deprecated. In a future version, this will no longer exclude empty or all-NA columns when determining the result dtypes. To retain the old behavior, exclude the relevant entries before the concat operation.\n",
      "  df = pd.concat(\n",
      "[INFO 08-15 07:00:20] ax.early_stopping.strategies.base: Last progression of any candidate for trial stopping is 0.09994666666666667.\n"
     ]
    },
    {
     "name": "stderr",
     "output_type": "stream",
     "text": [
      "[INFO 08-15 07:00:20] ax.early_stopping.strategies.base: No trials have reached 0.3. Not stopping any trials.\n"
     ]
    },
    {
     "name": "stderr",
     "output_type": "stream",
     "text": [
      "[INFO 08-15 07:00:20] Scheduler: Waiting for completed trials (for 10 sec, currently running trials: 3).\n"
     ]
    },
    {
     "name": "stderr",
     "output_type": "stream",
     "text": [
      "[INFO 08-15 07:00:30] Scheduler: Fetching data for newly completed trials: [].\n"
     ]
    },
    {
     "name": "stderr",
     "output_type": "stream",
     "text": [
      "[INFO 08-15 07:00:30] Scheduler: Fetching data for trials: 7 - 9 because some metrics on experiment are available while trials are running.\n"
     ]
    },
    {
     "name": "stderr",
     "output_type": "stream",
     "text": [
      "/tmp/tmp.3Yo4S3ORTG/Ax-main/ax/core/map_data.py:192: FutureWarning: The behavior of DataFrame concatenation with empty or all-NA entries is deprecated. In a future version, this will no longer exclude empty or all-NA columns when determining the result dtypes. To retain the old behavior, exclude the relevant entries before the concat operation.\n",
      "  df = pd.concat(\n",
      "/tmp/tmp.3Yo4S3ORTG/Ax-main/ax/core/map_data.py:192: FutureWarning: The behavior of DataFrame concatenation with empty or all-NA entries is deprecated. In a future version, this will no longer exclude empty or all-NA columns when determining the result dtypes. To retain the old behavior, exclude the relevant entries before the concat operation.\n",
      "  df = pd.concat(\n",
      "[INFO 08-15 07:00:31] ax.early_stopping.strategies.base: Last progression of any candidate for trial stopping is 0.09994666666666667.\n"
     ]
    },
    {
     "name": "stderr",
     "output_type": "stream",
     "text": [
      "[INFO 08-15 07:00:31] ax.early_stopping.strategies.base: No trials have reached 0.3. Not stopping any trials.\n"
     ]
    },
    {
     "name": "stderr",
     "output_type": "stream",
     "text": [
      "[INFO 08-15 07:00:31] Scheduler: Waiting for completed trials (for 10 sec, currently running trials: 3).\n"
     ]
    },
    {
     "name": "stderr",
     "output_type": "stream",
     "text": [
      "[INFO 08-15 07:00:41] Scheduler: Fetching data for newly completed trials: [].\n"
     ]
    },
    {
     "name": "stderr",
     "output_type": "stream",
     "text": [
      "[INFO 08-15 07:00:41] Scheduler: Fetching data for trials: 7 - 9 because some metrics on experiment are available while trials are running.\n"
     ]
    },
    {
     "name": "stderr",
     "output_type": "stream",
     "text": [
      "/tmp/tmp.3Yo4S3ORTG/Ax-main/ax/core/map_data.py:192: FutureWarning: The behavior of DataFrame concatenation with empty or all-NA entries is deprecated. In a future version, this will no longer exclude empty or all-NA columns when determining the result dtypes. To retain the old behavior, exclude the relevant entries before the concat operation.\n",
      "  df = pd.concat(\n",
      "/tmp/tmp.3Yo4S3ORTG/Ax-main/ax/core/map_data.py:192: FutureWarning: The behavior of DataFrame concatenation with empty or all-NA entries is deprecated. In a future version, this will no longer exclude empty or all-NA columns when determining the result dtypes. To retain the old behavior, exclude the relevant entries before the concat operation.\n",
      "  df = pd.concat(\n",
      "[INFO 08-15 07:00:41] ax.early_stopping.strategies.base: Last progression of any candidate for trial stopping is 0.09994666666666667.\n"
     ]
    },
    {
     "name": "stderr",
     "output_type": "stream",
     "text": [
      "[INFO 08-15 07:00:41] ax.early_stopping.strategies.base: No trials have reached 0.3. Not stopping any trials.\n"
     ]
    },
    {
     "name": "stderr",
     "output_type": "stream",
     "text": [
      "[INFO 08-15 07:00:41] Scheduler: Waiting for completed trials (for 10 sec, currently running trials: 3).\n"
     ]
    },
    {
     "name": "stderr",
     "output_type": "stream",
     "text": [
      "[INFO 08-15 07:00:51] Scheduler: Fetching data for newly completed trials: [].\n"
     ]
    },
    {
     "name": "stderr",
     "output_type": "stream",
     "text": [
      "[INFO 08-15 07:00:51] Scheduler: Fetching data for trials: 7 - 9 because some metrics on experiment are available while trials are running.\n"
     ]
    },
    {
     "name": "stderr",
     "output_type": "stream",
     "text": [
      "/tmp/tmp.3Yo4S3ORTG/Ax-main/ax/core/map_data.py:192: FutureWarning: The behavior of DataFrame concatenation with empty or all-NA entries is deprecated. In a future version, this will no longer exclude empty or all-NA columns when determining the result dtypes. To retain the old behavior, exclude the relevant entries before the concat operation.\n",
      "  df = pd.concat(\n",
      "/tmp/tmp.3Yo4S3ORTG/Ax-main/ax/core/map_data.py:192: FutureWarning: The behavior of DataFrame concatenation with empty or all-NA entries is deprecated. In a future version, this will no longer exclude empty or all-NA columns when determining the result dtypes. To retain the old behavior, exclude the relevant entries before the concat operation.\n",
      "  df = pd.concat(\n",
      "[INFO 08-15 07:00:51] ax.early_stopping.strategies.base: Last progression of any candidate for trial stopping is 0.09994666666666667.\n"
     ]
    },
    {
     "name": "stderr",
     "output_type": "stream",
     "text": [
      "[INFO 08-15 07:00:51] ax.early_stopping.strategies.base: No trials have reached 0.3. Not stopping any trials.\n"
     ]
    },
    {
     "name": "stderr",
     "output_type": "stream",
     "text": [
      "[INFO 08-15 07:00:51] Scheduler: Waiting for completed trials (for 10 sec, currently running trials: 3).\n"
     ]
    },
    {
     "name": "stderr",
     "output_type": "stream",
     "text": [
      "[INFO 08-15 07:01:01] Scheduler: Fetching data for newly completed trials: [].\n"
     ]
    },
    {
     "name": "stderr",
     "output_type": "stream",
     "text": [
      "[INFO 08-15 07:01:01] Scheduler: Fetching data for trials: 7 - 9 because some metrics on experiment are available while trials are running.\n"
     ]
    },
    {
     "name": "stderr",
     "output_type": "stream",
     "text": [
      "/tmp/tmp.3Yo4S3ORTG/Ax-main/ax/core/map_data.py:192: FutureWarning: The behavior of DataFrame concatenation with empty or all-NA entries is deprecated. In a future version, this will no longer exclude empty or all-NA columns when determining the result dtypes. To retain the old behavior, exclude the relevant entries before the concat operation.\n",
      "  df = pd.concat(\n",
      "/tmp/tmp.3Yo4S3ORTG/Ax-main/ax/core/map_data.py:192: FutureWarning: The behavior of DataFrame concatenation with empty or all-NA entries is deprecated. In a future version, this will no longer exclude empty or all-NA columns when determining the result dtypes. To retain the old behavior, exclude the relevant entries before the concat operation.\n",
      "  df = pd.concat(\n",
      "[INFO 08-15 07:01:01] ax.early_stopping.strategies.base: Last progression of any candidate for trial stopping is 0.19994666666666666.\n"
     ]
    },
    {
     "name": "stderr",
     "output_type": "stream",
     "text": [
      "[INFO 08-15 07:01:01] ax.early_stopping.strategies.base: No trials have reached 0.3. Not stopping any trials.\n"
     ]
    },
    {
     "name": "stderr",
     "output_type": "stream",
     "text": [
      "[INFO 08-15 07:01:01] Scheduler: Waiting for completed trials (for 10 sec, currently running trials: 3).\n"
     ]
    },
    {
     "name": "stderr",
     "output_type": "stream",
     "text": [
      "[INFO 08-15 07:01:11] Scheduler: Fetching data for newly completed trials: [].\n"
     ]
    },
    {
     "name": "stderr",
     "output_type": "stream",
     "text": [
      "[INFO 08-15 07:01:11] Scheduler: Fetching data for trials: 7 - 9 because some metrics on experiment are available while trials are running.\n"
     ]
    },
    {
     "name": "stderr",
     "output_type": "stream",
     "text": [
      "/tmp/tmp.3Yo4S3ORTG/Ax-main/ax/core/map_data.py:192: FutureWarning: The behavior of DataFrame concatenation with empty or all-NA entries is deprecated. In a future version, this will no longer exclude empty or all-NA columns when determining the result dtypes. To retain the old behavior, exclude the relevant entries before the concat operation.\n",
      "  df = pd.concat(\n",
      "/tmp/tmp.3Yo4S3ORTG/Ax-main/ax/core/map_data.py:192: FutureWarning: The behavior of DataFrame concatenation with empty or all-NA entries is deprecated. In a future version, this will no longer exclude empty or all-NA columns when determining the result dtypes. To retain the old behavior, exclude the relevant entries before the concat operation.\n",
      "  df = pd.concat(\n",
      "[INFO 08-15 07:01:11] ax.early_stopping.strategies.base: Last progression of any candidate for trial stopping is 0.19994666666666666.\n"
     ]
    },
    {
     "name": "stderr",
     "output_type": "stream",
     "text": [
      "[INFO 08-15 07:01:11] ax.early_stopping.strategies.base: No trials have reached 0.3. Not stopping any trials.\n"
     ]
    },
    {
     "name": "stderr",
     "output_type": "stream",
     "text": [
      "[INFO 08-15 07:01:11] Scheduler: Waiting for completed trials (for 10 sec, currently running trials: 3).\n"
     ]
    },
    {
     "name": "stderr",
     "output_type": "stream",
     "text": [
      "[INFO 08-15 07:01:21] Scheduler: Fetching data for newly completed trials: [].\n"
     ]
    },
    {
     "name": "stderr",
     "output_type": "stream",
     "text": [
      "[INFO 08-15 07:01:21] Scheduler: Fetching data for trials: 7 - 9 because some metrics on experiment are available while trials are running.\n"
     ]
    },
    {
     "name": "stderr",
     "output_type": "stream",
     "text": [
      "/tmp/tmp.3Yo4S3ORTG/Ax-main/ax/core/map_data.py:192: FutureWarning: The behavior of DataFrame concatenation with empty or all-NA entries is deprecated. In a future version, this will no longer exclude empty or all-NA columns when determining the result dtypes. To retain the old behavior, exclude the relevant entries before the concat operation.\n",
      "  df = pd.concat(\n",
      "/tmp/tmp.3Yo4S3ORTG/Ax-main/ax/core/map_data.py:192: FutureWarning: The behavior of DataFrame concatenation with empty or all-NA entries is deprecated. In a future version, this will no longer exclude empty or all-NA columns when determining the result dtypes. To retain the old behavior, exclude the relevant entries before the concat operation.\n",
      "  df = pd.concat(\n",
      "[INFO 08-15 07:01:21] ax.early_stopping.strategies.base: Last progression of any candidate for trial stopping is 0.19994666666666666.\n"
     ]
    },
    {
     "name": "stderr",
     "output_type": "stream",
     "text": [
      "[INFO 08-15 07:01:21] ax.early_stopping.strategies.base: No trials have reached 0.3. Not stopping any trials.\n"
     ]
    },
    {
     "name": "stderr",
     "output_type": "stream",
     "text": [
      "[INFO 08-15 07:01:21] Scheduler: Waiting for completed trials (for 10 sec, currently running trials: 3).\n"
     ]
    },
    {
     "name": "stderr",
     "output_type": "stream",
     "text": [
      "[INFO 08-15 07:01:31] Scheduler: Fetching data for newly completed trials: [].\n"
     ]
    },
    {
     "name": "stderr",
     "output_type": "stream",
     "text": [
      "[INFO 08-15 07:01:31] Scheduler: Fetching data for trials: 7 - 9 because some metrics on experiment are available while trials are running.\n"
     ]
    },
    {
     "name": "stderr",
     "output_type": "stream",
     "text": [
      "/tmp/tmp.3Yo4S3ORTG/Ax-main/ax/core/map_data.py:192: FutureWarning: The behavior of DataFrame concatenation with empty or all-NA entries is deprecated. In a future version, this will no longer exclude empty or all-NA columns when determining the result dtypes. To retain the old behavior, exclude the relevant entries before the concat operation.\n",
      "  df = pd.concat(\n",
      "/tmp/tmp.3Yo4S3ORTG/Ax-main/ax/core/map_data.py:192: FutureWarning: The behavior of DataFrame concatenation with empty or all-NA entries is deprecated. In a future version, this will no longer exclude empty or all-NA columns when determining the result dtypes. To retain the old behavior, exclude the relevant entries before the concat operation.\n",
      "  df = pd.concat(\n",
      "[INFO 08-15 07:01:31] ax.early_stopping.strategies.base: Last progression of any candidate for trial stopping is 0.19994666666666666.\n"
     ]
    },
    {
     "name": "stderr",
     "output_type": "stream",
     "text": [
      "[INFO 08-15 07:01:31] ax.early_stopping.strategies.base: No trials have reached 0.3. Not stopping any trials.\n"
     ]
    },
    {
     "name": "stderr",
     "output_type": "stream",
     "text": [
      "[INFO 08-15 07:01:31] Scheduler: Waiting for completed trials (for 10 sec, currently running trials: 3).\n"
     ]
    },
    {
     "name": "stderr",
     "output_type": "stream",
     "text": [
      "[INFO 08-15 07:01:41] Scheduler: Fetching data for newly completed trials: [].\n"
     ]
    },
    {
     "name": "stderr",
     "output_type": "stream",
     "text": [
      "[INFO 08-15 07:01:41] Scheduler: Fetching data for trials: 7 - 9 because some metrics on experiment are available while trials are running.\n"
     ]
    },
    {
     "name": "stderr",
     "output_type": "stream",
     "text": [
      "/tmp/tmp.3Yo4S3ORTG/Ax-main/ax/core/map_data.py:192: FutureWarning: The behavior of DataFrame concatenation with empty or all-NA entries is deprecated. In a future version, this will no longer exclude empty or all-NA columns when determining the result dtypes. To retain the old behavior, exclude the relevant entries before the concat operation.\n",
      "  df = pd.concat(\n",
      "/tmp/tmp.3Yo4S3ORTG/Ax-main/ax/core/map_data.py:192: FutureWarning: The behavior of DataFrame concatenation with empty or all-NA entries is deprecated. In a future version, this will no longer exclude empty or all-NA columns when determining the result dtypes. To retain the old behavior, exclude the relevant entries before the concat operation.\n",
      "  df = pd.concat(\n",
      "[INFO 08-15 07:01:41] ax.early_stopping.strategies.base: Last progression of any candidate for trial stopping is 0.29994666666666664.\n"
     ]
    },
    {
     "name": "stderr",
     "output_type": "stream",
     "text": [
      "[INFO 08-15 07:01:41] ax.early_stopping.strategies.base: No trials have reached 0.3. Not stopping any trials.\n"
     ]
    },
    {
     "name": "stderr",
     "output_type": "stream",
     "text": [
      "[INFO 08-15 07:01:41] Scheduler: Waiting for completed trials (for 10 sec, currently running trials: 3).\n"
     ]
    },
    {
     "name": "stderr",
     "output_type": "stream",
     "text": [
      "[INFO 08-15 07:01:51] Scheduler: Fetching data for newly completed trials: [].\n"
     ]
    },
    {
     "name": "stderr",
     "output_type": "stream",
     "text": [
      "[INFO 08-15 07:01:51] Scheduler: Fetching data for trials: 7 - 9 because some metrics on experiment are available while trials are running.\n"
     ]
    },
    {
     "name": "stderr",
     "output_type": "stream",
     "text": [
      "/tmp/tmp.3Yo4S3ORTG/Ax-main/ax/core/map_data.py:192: FutureWarning: The behavior of DataFrame concatenation with empty or all-NA entries is deprecated. In a future version, this will no longer exclude empty or all-NA columns when determining the result dtypes. To retain the old behavior, exclude the relevant entries before the concat operation.\n",
      "  df = pd.concat(\n",
      "/tmp/tmp.3Yo4S3ORTG/Ax-main/ax/core/map_data.py:192: FutureWarning: The behavior of DataFrame concatenation with empty or all-NA entries is deprecated. In a future version, this will no longer exclude empty or all-NA columns when determining the result dtypes. To retain the old behavior, exclude the relevant entries before the concat operation.\n",
      "  df = pd.concat(\n",
      "[INFO 08-15 07:01:52] ax.early_stopping.strategies.base: Last progression of any candidate for trial stopping is 0.29994666666666664.\n"
     ]
    },
    {
     "name": "stderr",
     "output_type": "stream",
     "text": [
      "[INFO 08-15 07:01:52] ax.early_stopping.strategies.base: No trials have reached 0.3. Not stopping any trials.\n"
     ]
    },
    {
     "name": "stderr",
     "output_type": "stream",
     "text": [
      "[INFO 08-15 07:01:52] Scheduler: Waiting for completed trials (for 10 sec, currently running trials: 3).\n"
     ]
    },
    {
     "name": "stderr",
     "output_type": "stream",
     "text": [
      "[INFO 08-15 07:02:02] Scheduler: Fetching data for newly completed trials: [].\n"
     ]
    },
    {
     "name": "stderr",
     "output_type": "stream",
     "text": [
      "[INFO 08-15 07:02:02] Scheduler: Fetching data for trials: 7 - 9 because some metrics on experiment are available while trials are running.\n"
     ]
    },
    {
     "name": "stderr",
     "output_type": "stream",
     "text": [
      "/tmp/tmp.3Yo4S3ORTG/Ax-main/ax/core/map_data.py:192: FutureWarning: The behavior of DataFrame concatenation with empty or all-NA entries is deprecated. In a future version, this will no longer exclude empty or all-NA columns when determining the result dtypes. To retain the old behavior, exclude the relevant entries before the concat operation.\n",
      "  df = pd.concat(\n",
      "/tmp/tmp.3Yo4S3ORTG/Ax-main/ax/core/map_data.py:192: FutureWarning: The behavior of DataFrame concatenation with empty or all-NA entries is deprecated. In a future version, this will no longer exclude empty or all-NA columns when determining the result dtypes. To retain the old behavior, exclude the relevant entries before the concat operation.\n",
      "  df = pd.concat(\n",
      "[INFO 08-15 07:02:02] ax.early_stopping.strategies.base: Last progression of any candidate for trial stopping is 0.29994666666666664.\n"
     ]
    },
    {
     "name": "stderr",
     "output_type": "stream",
     "text": [
      "[INFO 08-15 07:02:02] ax.early_stopping.strategies.base: No trials have reached 0.3. Not stopping any trials.\n"
     ]
    },
    {
     "name": "stderr",
     "output_type": "stream",
     "text": [
      "[INFO 08-15 07:02:02] Scheduler: Waiting for completed trials (for 10 sec, currently running trials: 3).\n"
     ]
    },
    {
     "name": "stderr",
     "output_type": "stream",
     "text": [
      "[INFO 08-15 07:02:12] Scheduler: Fetching data for newly completed trials: [].\n"
     ]
    },
    {
     "name": "stderr",
     "output_type": "stream",
     "text": [
      "[INFO 08-15 07:02:12] Scheduler: Fetching data for trials: 7 - 9 because some metrics on experiment are available while trials are running.\n"
     ]
    },
    {
     "name": "stderr",
     "output_type": "stream",
     "text": [
      "/tmp/tmp.3Yo4S3ORTG/Ax-main/ax/core/map_data.py:192: FutureWarning: The behavior of DataFrame concatenation with empty or all-NA entries is deprecated. In a future version, this will no longer exclude empty or all-NA columns when determining the result dtypes. To retain the old behavior, exclude the relevant entries before the concat operation.\n",
      "  df = pd.concat(\n",
      "/tmp/tmp.3Yo4S3ORTG/Ax-main/ax/core/map_data.py:192: FutureWarning: The behavior of DataFrame concatenation with empty or all-NA entries is deprecated. In a future version, this will no longer exclude empty or all-NA columns when determining the result dtypes. To retain the old behavior, exclude the relevant entries before the concat operation.\n",
      "  df = pd.concat(\n",
      "[INFO 08-15 07:02:12] ax.early_stopping.strategies.base: Last progression of any candidate for trial stopping is 0.29994666666666664.\n"
     ]
    },
    {
     "name": "stderr",
     "output_type": "stream",
     "text": [
      "[INFO 08-15 07:02:12] ax.early_stopping.strategies.base: No trials have reached 0.3. Not stopping any trials.\n"
     ]
    },
    {
     "name": "stderr",
     "output_type": "stream",
     "text": [
      "[INFO 08-15 07:02:12] Scheduler: Waiting for completed trials (for 10 sec, currently running trials: 3).\n"
     ]
    },
    {
     "name": "stderr",
     "output_type": "stream",
     "text": [
      "[INFO 08-15 07:02:22] Scheduler: Fetching data for newly completed trials: [].\n"
     ]
    },
    {
     "name": "stderr",
     "output_type": "stream",
     "text": [
      "[INFO 08-15 07:02:22] Scheduler: Fetching data for trials: 7 - 9 because some metrics on experiment are available while trials are running.\n"
     ]
    },
    {
     "name": "stderr",
     "output_type": "stream",
     "text": [
      "/tmp/tmp.3Yo4S3ORTG/Ax-main/ax/core/map_data.py:192: FutureWarning: The behavior of DataFrame concatenation with empty or all-NA entries is deprecated. In a future version, this will no longer exclude empty or all-NA columns when determining the result dtypes. To retain the old behavior, exclude the relevant entries before the concat operation.\n",
      "  df = pd.concat(\n",
      "/tmp/tmp.3Yo4S3ORTG/Ax-main/ax/core/map_data.py:192: FutureWarning: The behavior of DataFrame concatenation with empty or all-NA entries is deprecated. In a future version, this will no longer exclude empty or all-NA columns when determining the result dtypes. To retain the old behavior, exclude the relevant entries before the concat operation.\n",
      "  df = pd.concat(\n",
      "[INFO 08-15 07:02:22] ax.early_stopping.strategies.base: Last progression of any candidate for trial stopping is 0.3999466666666667.\n"
     ]
    },
    {
     "name": "stderr",
     "output_type": "stream",
     "text": [
      "[INFO 08-15 07:02:22] ax.early_stopping.strategies.percentile: Considering trial 7 for early stopping.\n"
     ]
    },
    {
     "name": "stderr",
     "output_type": "stream",
     "text": [
      "[INFO 08-15 07:02:22] ax.early_stopping.strategies.base: Last progression of Trial 7 is 0.3999466666666667.\n"
     ]
    },
    {
     "name": "stderr",
     "output_type": "stream",
     "text": [
      "[INFO 08-15 07:02:22] ax.early_stopping.strategies.percentile: Early stopping objective at last progression is:\n",
      "2    0.932674\n",
      "3    0.893837\n",
      "4    0.889785\n",
      "5    0.941975\n",
      "6    0.934073\n",
      "7    0.918798\n",
      "Name: 0.3999466666666667, dtype: float64.\n"
     ]
    },
    {
     "name": "stderr",
     "output_type": "stream",
     "text": [
      "[INFO 08-15 07:02:22] ax.early_stopping.strategies.percentile: Early stopping decision for 7: True. Reason: Trial objective value 0.918798053205894 is worse than 70.0-th percentile (0.9333739671213873) across comparable trials.\n"
     ]
    },
    {
     "name": "stderr",
     "output_type": "stream",
     "text": [
      "[INFO 08-15 07:02:22] ax.early_stopping.strategies.percentile: Considering trial 8 for early stopping.\n"
     ]
    },
    {
     "name": "stderr",
     "output_type": "stream",
     "text": [
      "[INFO 08-15 07:02:22] ax.early_stopping.strategies.base: Last progression of Trial 8 is 0.29994666666666664.\n"
     ]
    },
    {
     "name": "stderr",
     "output_type": "stream",
     "text": [
      "[INFO 08-15 07:02:22] ax.early_stopping.strategies.base: Trial 8's most recent progression (0.29994666666666664) that is available for metric val_acc falls out of the min/max_progression range (0.3, None). Not early stopping this trial.\n"
     ]
    },
    {
     "name": "stderr",
     "output_type": "stream",
     "text": [
      "[INFO 08-15 07:02:22] ax.early_stopping.strategies.percentile: Considering trial 9 for early stopping.\n"
     ]
    },
    {
     "name": "stderr",
     "output_type": "stream",
     "text": [
      "[INFO 08-15 07:02:22] ax.early_stopping.strategies.base: Last progression of Trial 9 is 0.29994666666666664.\n"
     ]
    },
    {
     "name": "stderr",
     "output_type": "stream",
     "text": [
      "[INFO 08-15 07:02:22] ax.early_stopping.strategies.base: Trial 9's most recent progression (0.29994666666666664) that is available for metric val_acc falls out of the min/max_progression range (0.3, None). Not early stopping this trial.\n"
     ]
    },
    {
     "name": "stderr",
     "output_type": "stream",
     "text": [
      "/tmp/tmp.3Yo4S3ORTG/Ax-main/ax/core/map_data.py:192: FutureWarning: The behavior of DataFrame concatenation with empty or all-NA entries is deprecated. In a future version, this will no longer exclude empty or all-NA columns when determining the result dtypes. To retain the old behavior, exclude the relevant entries before the concat operation.\n",
      "  df = pd.concat(\n"
     ]
    },
    {
     "name": "stderr",
     "output_type": "stream",
     "text": [
      "[INFO 08-15 07:02:29] Scheduler: Running trials [10]...\n"
     ]
    },
    {
     "name": "stderr",
     "output_type": "stream",
     "text": [
      "/tmp/tmp.3Yo4S3ORTG/Ax-main/ax/core/map_data.py:192: FutureWarning: The behavior of DataFrame concatenation with empty or all-NA entries is deprecated. In a future version, this will no longer exclude empty or all-NA columns when determining the result dtypes. To retain the old behavior, exclude the relevant entries before the concat operation.\n",
      "  df = pd.concat(\n"
     ]
    },
    {
     "name": "stderr",
     "output_type": "stream",
     "text": [
      "[INFO 08-15 07:02:31] Scheduler: Generated all trials that can be generated currently. Max parallelism currently reached.\n"
     ]
    },
    {
     "name": "stderr",
     "output_type": "stream",
     "text": [
      "[WARNING 08-15 07:02:31] Scheduler: Both `init_seconds_between_polls` and `early_stopping_strategy supplied. `init_seconds_between_polls=1` will be overrridden by `early_stopping_strategy.seconds_between_polls=10` and polling will take place at a constant rate.\n"
     ]
    },
    {
     "name": "stderr",
     "output_type": "stream",
     "text": [
      "[INFO 08-15 07:02:31] Scheduler: Fetching data for newly completed trials: [].\n"
     ]
    },
    {
     "name": "stderr",
     "output_type": "stream",
     "text": [
      "[INFO 08-15 07:02:31] Scheduler: Fetching data for trials: 8 - 10 because some metrics on experiment are available while trials are running.\n"
     ]
    },
    {
     "name": "stderr",
     "output_type": "stream",
     "text": [
      "[INFO 08-15 07:02:31] ax.core.metric: MetricFetchE INFO: Initialized MetricFetchE(message=\"No 'scalar' data found for trial in multiplexer mul=<tensorboard.backend.event_processing.plugin_event_multiplexer.EventMultiplexer object at 0x7f24410717b0>\")\n"
     ]
    },
    {
     "name": "stderr",
     "output_type": "stream",
     "text": [
      "[ERROR 08-15 07:02:31] ax.core.experiment: Discovered Metric fetching Err while attaching data MetricFetchE(message=\"No 'scalar' data found for trial in multiplexer mul=<tensorboard.backend.event_processing.plugin_event_multiplexer.EventMultiplexer object at 0x7f24410717b0>\"). Ignoring for now -- will retry query on next call to fetch.\n"
     ]
    },
    {
     "name": "stderr",
     "output_type": "stream",
     "text": [
      "/tmp/tmp.3Yo4S3ORTG/Ax-main/ax/core/map_data.py:192: FutureWarning: The behavior of DataFrame concatenation with empty or all-NA entries is deprecated. In a future version, this will no longer exclude empty or all-NA columns when determining the result dtypes. To retain the old behavior, exclude the relevant entries before the concat operation.\n",
      "  df = pd.concat(\n",
      "[WARNING 08-15 07:02:31] Scheduler: Failed to fetch val_acc for trial 10, found MetricFetchE(message=\"No 'scalar' data found for trial in multiplexer mul=<tensorboard.backend.event_processing.plugin_event_multiplexer.EventMultiplexer object at 0x7f24410717b0>\").\n"
     ]
    },
    {
     "name": "stderr",
     "output_type": "stream",
     "text": [
      "[INFO 08-15 07:02:31] Scheduler: MetricFetchE INFO: Because val_acc is available_while_running and trial 10 is still RUNNING continuing the experiment and retrying on next poll...\n"
     ]
    },
    {
     "name": "stderr",
     "output_type": "stream",
     "text": [
      "/tmp/tmp.3Yo4S3ORTG/Ax-main/ax/core/map_data.py:192: FutureWarning: The behavior of DataFrame concatenation with empty or all-NA entries is deprecated. In a future version, this will no longer exclude empty or all-NA columns when determining the result dtypes. To retain the old behavior, exclude the relevant entries before the concat operation.\n",
      "  df = pd.concat(\n",
      "[INFO 08-15 07:02:31] ax.early_stopping.strategies.base: Last progression of any candidate for trial stopping is 0.3999466666666667.\n"
     ]
    },
    {
     "name": "stderr",
     "output_type": "stream",
     "text": [
      "[INFO 08-15 07:02:31] ax.early_stopping.strategies.percentile: Considering trial 8 for early stopping.\n"
     ]
    },
    {
     "name": "stderr",
     "output_type": "stream",
     "text": [
      "[INFO 08-15 07:02:31] ax.early_stopping.strategies.base: Last progression of Trial 8 is 0.3999466666666667.\n"
     ]
    },
    {
     "name": "stderr",
     "output_type": "stream",
     "text": [
      "[INFO 08-15 07:02:31] ax.early_stopping.strategies.percentile: Early stopping objective at last progression is:\n",
      "2    0.932674\n",
      "3    0.893837\n",
      "4    0.889785\n",
      "5    0.941975\n",
      "6    0.934073\n",
      "7    0.918798\n",
      "8    0.926481\n",
      "9    0.950839\n",
      "Name: 0.3999466666666667, dtype: float64.\n"
     ]
    },
    {
     "name": "stderr",
     "output_type": "stream",
     "text": [
      "[INFO 08-15 07:02:31] ax.early_stopping.strategies.percentile: Early stopping decision for 8: True. Reason: Trial objective value 0.9264814102003727 is worse than 70.0-th percentile (0.933933562304586) across comparable trials.\n"
     ]
    },
    {
     "name": "stderr",
     "output_type": "stream",
     "text": [
      "[INFO 08-15 07:02:31] ax.early_stopping.strategies.percentile: Considering trial 9 for early stopping.\n"
     ]
    },
    {
     "name": "stderr",
     "output_type": "stream",
     "text": [
      "[INFO 08-15 07:02:31] ax.early_stopping.strategies.base: Last progression of Trial 9 is 0.3999466666666667.\n"
     ]
    },
    {
     "name": "stderr",
     "output_type": "stream",
     "text": [
      "[INFO 08-15 07:02:31] ax.early_stopping.strategies.percentile: Early stopping objective at last progression is:\n",
      "2    0.932674\n",
      "3    0.893837\n",
      "4    0.889785\n",
      "5    0.941975\n",
      "6    0.934073\n",
      "7    0.918798\n",
      "8    0.926481\n",
      "9    0.950839\n",
      "Name: 0.3999466666666667, dtype: float64.\n"
     ]
    },
    {
     "name": "stderr",
     "output_type": "stream",
     "text": [
      "[INFO 08-15 07:02:32] ax.early_stopping.strategies.percentile: Early stopping decision for 9: False. Reason: Trial objective value 0.9508391407323001 is better than 70.0-th percentile (0.933933562304586) across comparable trials.\n"
     ]
    },
    {
     "name": "stderr",
     "output_type": "stream",
     "text": [
      "[INFO 08-15 07:02:32] ax.early_stopping.strategies.percentile: Considering trial 10 for early stopping.\n"
     ]
    },
    {
     "name": "stderr",
     "output_type": "stream",
     "text": [
      "[INFO 08-15 07:02:32] ax.early_stopping.strategies.base: There is not yet any data associated with trial 10 and metric val_acc. Not early stopping this trial.\n"
     ]
    },
    {
     "name": "stderr",
     "output_type": "stream",
     "text": [
      "/tmp/tmp.3Yo4S3ORTG/Ax-main/ax/core/map_data.py:192: FutureWarning: The behavior of DataFrame concatenation with empty or all-NA entries is deprecated. In a future version, this will no longer exclude empty or all-NA columns when determining the result dtypes. To retain the old behavior, exclude the relevant entries before the concat operation.\n",
      "  df = pd.concat(\n"
     ]
    },
    {
     "name": "stderr",
     "output_type": "stream",
     "text": [
      "[INFO 08-15 07:02:34] Scheduler: Running trials [11]...\n"
     ]
    },
    {
     "name": "stderr",
     "output_type": "stream",
     "text": [
      "/tmp/tmp.3Yo4S3ORTG/Ax-main/ax/core/map_data.py:192: FutureWarning: The behavior of DataFrame concatenation with empty or all-NA entries is deprecated. In a future version, this will no longer exclude empty or all-NA columns when determining the result dtypes. To retain the old behavior, exclude the relevant entries before the concat operation.\n",
      "  df = pd.concat(\n"
     ]
    },
    {
     "name": "stderr",
     "output_type": "stream",
     "text": [
      "[INFO 08-15 07:02:36] Scheduler: Generated all trials that can be generated currently. Max parallelism currently reached.\n"
     ]
    },
    {
     "name": "stderr",
     "output_type": "stream",
     "text": [
      "[WARNING 08-15 07:02:36] Scheduler: Both `init_seconds_between_polls` and `early_stopping_strategy supplied. `init_seconds_between_polls=1` will be overrridden by `early_stopping_strategy.seconds_between_polls=10` and polling will take place at a constant rate.\n"
     ]
    },
    {
     "name": "stderr",
     "output_type": "stream",
     "text": [
      "[INFO 08-15 07:02:36] Scheduler: Fetching data for newly completed trials: [].\n"
     ]
    },
    {
     "name": "stderr",
     "output_type": "stream",
     "text": [
      "[INFO 08-15 07:02:36] Scheduler: Fetching data for trials: 9 - 11 because some metrics on experiment are available while trials are running.\n"
     ]
    },
    {
     "name": "stderr",
     "output_type": "stream",
     "text": [
      "[INFO 08-15 07:02:36] ax.core.metric: MetricFetchE INFO: Initialized MetricFetchE(message=\"No 'scalar' data found for trial in multiplexer mul=<tensorboard.backend.event_processing.plugin_event_multiplexer.EventMultiplexer object at 0x7f243cf32770>\")\n"
     ]
    },
    {
     "name": "stderr",
     "output_type": "stream",
     "text": [
      "[INFO 08-15 07:02:36] ax.core.metric: MetricFetchE INFO: Initialized MetricFetchE(message=\"No 'scalar' data found for trial in multiplexer mul=<tensorboard.backend.event_processing.plugin_event_multiplexer.EventMultiplexer object at 0x7f243cf32770>\")\n"
     ]
    },
    {
     "name": "stderr",
     "output_type": "stream",
     "text": [
      "[ERROR 08-15 07:02:36] ax.core.experiment: Discovered Metric fetching Err while attaching data MetricFetchE(message=\"No 'scalar' data found for trial in multiplexer mul=<tensorboard.backend.event_processing.plugin_event_multiplexer.EventMultiplexer object at 0x7f243cf32770>\"). Ignoring for now -- will retry query on next call to fetch.\n"
     ]
    },
    {
     "name": "stderr",
     "output_type": "stream",
     "text": [
      "[ERROR 08-15 07:02:36] ax.core.experiment: Discovered Metric fetching Err while attaching data MetricFetchE(message=\"No 'scalar' data found for trial in multiplexer mul=<tensorboard.backend.event_processing.plugin_event_multiplexer.EventMultiplexer object at 0x7f243cf32770>\"). Ignoring for now -- will retry query on next call to fetch.\n"
     ]
    },
    {
     "name": "stderr",
     "output_type": "stream",
     "text": [
      "/tmp/tmp.3Yo4S3ORTG/Ax-main/ax/core/map_data.py:192: FutureWarning: The behavior of DataFrame concatenation with empty or all-NA entries is deprecated. In a future version, this will no longer exclude empty or all-NA columns when determining the result dtypes. To retain the old behavior, exclude the relevant entries before the concat operation.\n",
      "  df = pd.concat(\n",
      "[WARNING 08-15 07:02:36] Scheduler: Failed to fetch val_acc for trial 10, found MetricFetchE(message=\"No 'scalar' data found for trial in multiplexer mul=<tensorboard.backend.event_processing.plugin_event_multiplexer.EventMultiplexer object at 0x7f243cf32770>\").\n"
     ]
    },
    {
     "name": "stderr",
     "output_type": "stream",
     "text": [
      "[INFO 08-15 07:02:36] Scheduler: MetricFetchE INFO: Because val_acc is available_while_running and trial 10 is still RUNNING continuing the experiment and retrying on next poll...\n"
     ]
    },
    {
     "name": "stderr",
     "output_type": "stream",
     "text": [
      "[WARNING 08-15 07:02:36] Scheduler: Failed to fetch val_acc for trial 11, found MetricFetchE(message=\"No 'scalar' data found for trial in multiplexer mul=<tensorboard.backend.event_processing.plugin_event_multiplexer.EventMultiplexer object at 0x7f243cf32770>\").\n"
     ]
    },
    {
     "name": "stderr",
     "output_type": "stream",
     "text": [
      "[INFO 08-15 07:02:36] Scheduler: MetricFetchE INFO: Because val_acc is available_while_running and trial 11 is still RUNNING continuing the experiment and retrying on next poll...\n"
     ]
    },
    {
     "name": "stderr",
     "output_type": "stream",
     "text": [
      "/tmp/tmp.3Yo4S3ORTG/Ax-main/ax/core/map_data.py:192: FutureWarning: The behavior of DataFrame concatenation with empty or all-NA entries is deprecated. In a future version, this will no longer exclude empty or all-NA columns when determining the result dtypes. To retain the old behavior, exclude the relevant entries before the concat operation.\n",
      "  df = pd.concat(\n",
      "[INFO 08-15 07:02:36] ax.early_stopping.strategies.base: Last progression of any candidate for trial stopping is 0.3999466666666667.\n"
     ]
    },
    {
     "name": "stderr",
     "output_type": "stream",
     "text": [
      "[INFO 08-15 07:02:36] ax.early_stopping.strategies.percentile: Considering trial 9 for early stopping.\n"
     ]
    },
    {
     "name": "stderr",
     "output_type": "stream",
     "text": [
      "[INFO 08-15 07:02:36] ax.early_stopping.strategies.base: Last progression of Trial 9 is 0.3999466666666667.\n"
     ]
    },
    {
     "name": "stderr",
     "output_type": "stream",
     "text": [
      "[INFO 08-15 07:02:36] ax.early_stopping.strategies.percentile: Early stopping objective at last progression is:\n",
      "2    0.932674\n",
      "3    0.893837\n",
      "4    0.889785\n",
      "5    0.941975\n",
      "6    0.934073\n",
      "7    0.918798\n",
      "8    0.926481\n",
      "9    0.950839\n",
      "Name: 0.3999466666666667, dtype: float64.\n"
     ]
    },
    {
     "name": "stderr",
     "output_type": "stream",
     "text": [
      "[INFO 08-15 07:02:36] ax.early_stopping.strategies.percentile: Early stopping decision for 9: False. Reason: Trial objective value 0.9508391407323001 is better than 70.0-th percentile (0.933933562304586) across comparable trials.\n"
     ]
    },
    {
     "name": "stderr",
     "output_type": "stream",
     "text": [
      "[INFO 08-15 07:02:36] ax.early_stopping.strategies.percentile: Considering trial 10 for early stopping.\n"
     ]
    },
    {
     "name": "stderr",
     "output_type": "stream",
     "text": [
      "[INFO 08-15 07:02:36] ax.early_stopping.strategies.base: There is not yet any data associated with trial 10 and metric val_acc. Not early stopping this trial.\n"
     ]
    },
    {
     "name": "stderr",
     "output_type": "stream",
     "text": [
      "[INFO 08-15 07:02:36] ax.early_stopping.strategies.percentile: Considering trial 11 for early stopping.\n"
     ]
    },
    {
     "name": "stderr",
     "output_type": "stream",
     "text": [
      "[INFO 08-15 07:02:36] ax.early_stopping.strategies.base: There is not yet any data associated with trial 11 and metric val_acc. Not early stopping this trial.\n"
     ]
    },
    {
     "name": "stderr",
     "output_type": "stream",
     "text": [
      "[INFO 08-15 07:02:36] Scheduler: Waiting for completed trials (for 10 sec, currently running trials: 3).\n"
     ]
    },
    {
     "name": "stderr",
     "output_type": "stream",
     "text": [
      "[INFO 08-15 07:02:46] Scheduler: Fetching data for newly completed trials: [].\n"
     ]
    },
    {
     "name": "stderr",
     "output_type": "stream",
     "text": [
      "[INFO 08-15 07:02:46] Scheduler: Fetching data for trials: 9 - 11 because some metrics on experiment are available while trials are running.\n"
     ]
    },
    {
     "name": "stderr",
     "output_type": "stream",
     "text": [
      "[INFO 08-15 07:02:46] ax.core.metric: MetricFetchE INFO: Initialized MetricFetchE(message=\"No 'scalar' data found for trial in multiplexer mul=<tensorboard.backend.event_processing.plugin_event_multiplexer.EventMultiplexer object at 0x7f243cf3cd00>\")\n"
     ]
    },
    {
     "name": "stderr",
     "output_type": "stream",
     "text": [
      "[INFO 08-15 07:02:46] ax.core.metric: MetricFetchE INFO: Initialized MetricFetchE(message=\"No 'scalar' data found for trial in multiplexer mul=<tensorboard.backend.event_processing.plugin_event_multiplexer.EventMultiplexer object at 0x7f243cf3d690>\")\n"
     ]
    },
    {
     "name": "stderr",
     "output_type": "stream",
     "text": [
      "[ERROR 08-15 07:02:46] ax.core.experiment: Discovered Metric fetching Err while attaching data MetricFetchE(message=\"No 'scalar' data found for trial in multiplexer mul=<tensorboard.backend.event_processing.plugin_event_multiplexer.EventMultiplexer object at 0x7f243cf3cd00>\"). Ignoring for now -- will retry query on next call to fetch.\n"
     ]
    },
    {
     "name": "stderr",
     "output_type": "stream",
     "text": [
      "[ERROR 08-15 07:02:46] ax.core.experiment: Discovered Metric fetching Err while attaching data MetricFetchE(message=\"No 'scalar' data found for trial in multiplexer mul=<tensorboard.backend.event_processing.plugin_event_multiplexer.EventMultiplexer object at 0x7f243cf3d690>\"). Ignoring for now -- will retry query on next call to fetch.\n"
     ]
    },
    {
     "name": "stderr",
     "output_type": "stream",
     "text": [
      "/tmp/tmp.3Yo4S3ORTG/Ax-main/ax/core/map_data.py:192: FutureWarning: The behavior of DataFrame concatenation with empty or all-NA entries is deprecated. In a future version, this will no longer exclude empty or all-NA columns when determining the result dtypes. To retain the old behavior, exclude the relevant entries before the concat operation.\n",
      "  df = pd.concat(\n",
      "[WARNING 08-15 07:02:46] Scheduler: Failed to fetch val_acc for trial 10, found MetricFetchE(message=\"No 'scalar' data found for trial in multiplexer mul=<tensorboard.backend.event_processing.plugin_event_multiplexer.EventMultiplexer object at 0x7f243cf3cd00>\").\n"
     ]
    },
    {
     "name": "stderr",
     "output_type": "stream",
     "text": [
      "[INFO 08-15 07:02:46] Scheduler: MetricFetchE INFO: Because val_acc is available_while_running and trial 10 is still RUNNING continuing the experiment and retrying on next poll...\n"
     ]
    },
    {
     "name": "stderr",
     "output_type": "stream",
     "text": [
      "[WARNING 08-15 07:02:46] Scheduler: Failed to fetch val_acc for trial 11, found MetricFetchE(message=\"No 'scalar' data found for trial in multiplexer mul=<tensorboard.backend.event_processing.plugin_event_multiplexer.EventMultiplexer object at 0x7f243cf3d690>\").\n"
     ]
    },
    {
     "name": "stderr",
     "output_type": "stream",
     "text": [
      "[INFO 08-15 07:02:46] Scheduler: MetricFetchE INFO: Because val_acc is available_while_running and trial 11 is still RUNNING continuing the experiment and retrying on next poll...\n"
     ]
    },
    {
     "name": "stderr",
     "output_type": "stream",
     "text": [
      "/tmp/tmp.3Yo4S3ORTG/Ax-main/ax/core/map_data.py:192: FutureWarning: The behavior of DataFrame concatenation with empty or all-NA entries is deprecated. In a future version, this will no longer exclude empty or all-NA columns when determining the result dtypes. To retain the old behavior, exclude the relevant entries before the concat operation.\n",
      "  df = pd.concat(\n",
      "[INFO 08-15 07:02:46] ax.early_stopping.strategies.base: Last progression of any candidate for trial stopping is 0.3999466666666667.\n"
     ]
    },
    {
     "name": "stderr",
     "output_type": "stream",
     "text": [
      "[INFO 08-15 07:02:46] ax.early_stopping.strategies.percentile: Considering trial 9 for early stopping.\n"
     ]
    },
    {
     "name": "stderr",
     "output_type": "stream",
     "text": [
      "[INFO 08-15 07:02:46] ax.early_stopping.strategies.base: Last progression of Trial 9 is 0.3999466666666667.\n"
     ]
    },
    {
     "name": "stderr",
     "output_type": "stream",
     "text": [
      "[INFO 08-15 07:02:46] ax.early_stopping.strategies.percentile: Early stopping objective at last progression is:\n",
      "2    0.932674\n",
      "3    0.893837\n",
      "4    0.889785\n",
      "5    0.941975\n",
      "6    0.934073\n",
      "7    0.918798\n",
      "8    0.926481\n",
      "9    0.950839\n",
      "Name: 0.3999466666666667, dtype: float64.\n"
     ]
    },
    {
     "name": "stderr",
     "output_type": "stream",
     "text": [
      "[INFO 08-15 07:02:46] ax.early_stopping.strategies.percentile: Early stopping decision for 9: False. Reason: Trial objective value 0.9508391407323001 is better than 70.0-th percentile (0.933933562304586) across comparable trials.\n"
     ]
    },
    {
     "name": "stderr",
     "output_type": "stream",
     "text": [
      "[INFO 08-15 07:02:46] ax.early_stopping.strategies.percentile: Considering trial 10 for early stopping.\n"
     ]
    },
    {
     "name": "stderr",
     "output_type": "stream",
     "text": [
      "[INFO 08-15 07:02:46] ax.early_stopping.strategies.base: There is not yet any data associated with trial 10 and metric val_acc. Not early stopping this trial.\n"
     ]
    },
    {
     "name": "stderr",
     "output_type": "stream",
     "text": [
      "[INFO 08-15 07:02:46] ax.early_stopping.strategies.percentile: Considering trial 11 for early stopping.\n"
     ]
    },
    {
     "name": "stderr",
     "output_type": "stream",
     "text": [
      "[INFO 08-15 07:02:46] ax.early_stopping.strategies.base: There is not yet any data associated with trial 11 and metric val_acc. Not early stopping this trial.\n"
     ]
    },
    {
     "name": "stderr",
     "output_type": "stream",
     "text": [
      "[INFO 08-15 07:02:46] Scheduler: Waiting for completed trials (for 10 sec, currently running trials: 3).\n"
     ]
    },
    {
     "name": "stderr",
     "output_type": "stream",
     "text": [
      "[INFO 08-15 07:02:56] Scheduler: Fetching data for newly completed trials: [].\n"
     ]
    },
    {
     "name": "stderr",
     "output_type": "stream",
     "text": [
      "[INFO 08-15 07:02:56] Scheduler: Fetching data for trials: 9 - 11 because some metrics on experiment are available while trials are running.\n"
     ]
    },
    {
     "name": "stderr",
     "output_type": "stream",
     "text": [
      "[INFO 08-15 07:02:56] ax.core.metric: MetricFetchE INFO: Initialized MetricFetchE(message=\"No 'scalar' data found for trial in multiplexer mul=<tensorboard.backend.event_processing.plugin_event_multiplexer.EventMultiplexer object at 0x7f243cddba60>\")\n"
     ]
    },
    {
     "name": "stderr",
     "output_type": "stream",
     "text": [
      "[INFO 08-15 07:02:56] ax.core.metric: MetricFetchE INFO: Initialized MetricFetchE(message=\"No 'scalar' data found for trial in multiplexer mul=<tensorboard.backend.event_processing.plugin_event_multiplexer.EventMultiplexer object at 0x7f243cddb4c0>\")\n"
     ]
    },
    {
     "name": "stderr",
     "output_type": "stream",
     "text": [
      "[ERROR 08-15 07:02:56] ax.core.experiment: Discovered Metric fetching Err while attaching data MetricFetchE(message=\"No 'scalar' data found for trial in multiplexer mul=<tensorboard.backend.event_processing.plugin_event_multiplexer.EventMultiplexer object at 0x7f243cddba60>\"). Ignoring for now -- will retry query on next call to fetch.\n"
     ]
    },
    {
     "name": "stderr",
     "output_type": "stream",
     "text": [
      "[ERROR 08-15 07:02:56] ax.core.experiment: Discovered Metric fetching Err while attaching data MetricFetchE(message=\"No 'scalar' data found for trial in multiplexer mul=<tensorboard.backend.event_processing.plugin_event_multiplexer.EventMultiplexer object at 0x7f243cddb4c0>\"). Ignoring for now -- will retry query on next call to fetch.\n"
     ]
    },
    {
     "name": "stderr",
     "output_type": "stream",
     "text": [
      "/tmp/tmp.3Yo4S3ORTG/Ax-main/ax/core/map_data.py:192: FutureWarning: The behavior of DataFrame concatenation with empty or all-NA entries is deprecated. In a future version, this will no longer exclude empty or all-NA columns when determining the result dtypes. To retain the old behavior, exclude the relevant entries before the concat operation.\n",
      "  df = pd.concat(\n",
      "[WARNING 08-15 07:02:56] Scheduler: Failed to fetch val_acc for trial 10, found MetricFetchE(message=\"No 'scalar' data found for trial in multiplexer mul=<tensorboard.backend.event_processing.plugin_event_multiplexer.EventMultiplexer object at 0x7f243cddba60>\").\n"
     ]
    },
    {
     "name": "stderr",
     "output_type": "stream",
     "text": [
      "[INFO 08-15 07:02:56] Scheduler: MetricFetchE INFO: Because val_acc is available_while_running and trial 10 is still RUNNING continuing the experiment and retrying on next poll...\n"
     ]
    },
    {
     "name": "stderr",
     "output_type": "stream",
     "text": [
      "[WARNING 08-15 07:02:56] Scheduler: Failed to fetch val_acc for trial 11, found MetricFetchE(message=\"No 'scalar' data found for trial in multiplexer mul=<tensorboard.backend.event_processing.plugin_event_multiplexer.EventMultiplexer object at 0x7f243cddb4c0>\").\n"
     ]
    },
    {
     "name": "stderr",
     "output_type": "stream",
     "text": [
      "[INFO 08-15 07:02:56] Scheduler: MetricFetchE INFO: Because val_acc is available_while_running and trial 11 is still RUNNING continuing the experiment and retrying on next poll...\n"
     ]
    },
    {
     "name": "stderr",
     "output_type": "stream",
     "text": [
      "/tmp/tmp.3Yo4S3ORTG/Ax-main/ax/core/map_data.py:192: FutureWarning: The behavior of DataFrame concatenation with empty or all-NA entries is deprecated. In a future version, this will no longer exclude empty or all-NA columns when determining the result dtypes. To retain the old behavior, exclude the relevant entries before the concat operation.\n",
      "  df = pd.concat(\n",
      "[INFO 08-15 07:02:56] ax.early_stopping.strategies.base: Last progression of any candidate for trial stopping is 0.3999466666666667.\n"
     ]
    },
    {
     "name": "stderr",
     "output_type": "stream",
     "text": [
      "[INFO 08-15 07:02:57] ax.early_stopping.strategies.percentile: Considering trial 9 for early stopping.\n"
     ]
    },
    {
     "name": "stderr",
     "output_type": "stream",
     "text": [
      "[INFO 08-15 07:02:57] ax.early_stopping.strategies.base: Last progression of Trial 9 is 0.3999466666666667.\n"
     ]
    },
    {
     "name": "stderr",
     "output_type": "stream",
     "text": [
      "[INFO 08-15 07:02:57] ax.early_stopping.strategies.percentile: Early stopping objective at last progression is:\n",
      "2    0.932674\n",
      "3    0.893837\n",
      "4    0.889785\n",
      "5    0.941975\n",
      "6    0.934073\n",
      "7    0.918798\n",
      "8    0.926481\n",
      "9    0.950839\n",
      "Name: 0.3999466666666667, dtype: float64.\n"
     ]
    },
    {
     "name": "stderr",
     "output_type": "stream",
     "text": [
      "[INFO 08-15 07:02:57] ax.early_stopping.strategies.percentile: Early stopping decision for 9: False. Reason: Trial objective value 0.9508391407323001 is better than 70.0-th percentile (0.933933562304586) across comparable trials.\n"
     ]
    },
    {
     "name": "stderr",
     "output_type": "stream",
     "text": [
      "[INFO 08-15 07:02:57] ax.early_stopping.strategies.percentile: Considering trial 10 for early stopping.\n"
     ]
    },
    {
     "name": "stderr",
     "output_type": "stream",
     "text": [
      "[INFO 08-15 07:02:57] ax.early_stopping.strategies.base: There is not yet any data associated with trial 10 and metric val_acc. Not early stopping this trial.\n"
     ]
    },
    {
     "name": "stderr",
     "output_type": "stream",
     "text": [
      "[INFO 08-15 07:02:57] ax.early_stopping.strategies.percentile: Considering trial 11 for early stopping.\n"
     ]
    },
    {
     "name": "stderr",
     "output_type": "stream",
     "text": [
      "[INFO 08-15 07:02:57] ax.early_stopping.strategies.base: There is not yet any data associated with trial 11 and metric val_acc. Not early stopping this trial.\n"
     ]
    },
    {
     "name": "stderr",
     "output_type": "stream",
     "text": [
      "[INFO 08-15 07:02:57] Scheduler: Waiting for completed trials (for 10 sec, currently running trials: 3).\n"
     ]
    },
    {
     "name": "stderr",
     "output_type": "stream",
     "text": [
      "[INFO 08-15 07:03:07] Scheduler: Fetching data for newly completed trials: [].\n"
     ]
    },
    {
     "name": "stderr",
     "output_type": "stream",
     "text": [
      "[INFO 08-15 07:03:07] Scheduler: Fetching data for trials: 9 - 11 because some metrics on experiment are available while trials are running.\n"
     ]
    },
    {
     "name": "stderr",
     "output_type": "stream",
     "text": [
      "[INFO 08-15 07:03:07] ax.core.metric: MetricFetchE INFO: Initialized MetricFetchE(message=\"No 'scalar' data found for trial in multiplexer mul=<tensorboard.backend.event_processing.plugin_event_multiplexer.EventMultiplexer object at 0x7f243cf2d660>\")\n"
     ]
    },
    {
     "name": "stderr",
     "output_type": "stream",
     "text": [
      "[INFO 08-15 07:03:07] ax.core.metric: MetricFetchE INFO: Initialized MetricFetchE(message=\"No 'scalar' data found for trial in multiplexer mul=<tensorboard.backend.event_processing.plugin_event_multiplexer.EventMultiplexer object at 0x7f243ced66b0>\")\n"
     ]
    },
    {
     "name": "stderr",
     "output_type": "stream",
     "text": [
      "[ERROR 08-15 07:03:07] ax.core.experiment: Discovered Metric fetching Err while attaching data MetricFetchE(message=\"No 'scalar' data found for trial in multiplexer mul=<tensorboard.backend.event_processing.plugin_event_multiplexer.EventMultiplexer object at 0x7f243cf2d660>\"). Ignoring for now -- will retry query on next call to fetch.\n"
     ]
    },
    {
     "name": "stderr",
     "output_type": "stream",
     "text": [
      "[ERROR 08-15 07:03:07] ax.core.experiment: Discovered Metric fetching Err while attaching data MetricFetchE(message=\"No 'scalar' data found for trial in multiplexer mul=<tensorboard.backend.event_processing.plugin_event_multiplexer.EventMultiplexer object at 0x7f243ced66b0>\"). Ignoring for now -- will retry query on next call to fetch.\n"
     ]
    },
    {
     "name": "stderr",
     "output_type": "stream",
     "text": [
      "/tmp/tmp.3Yo4S3ORTG/Ax-main/ax/core/map_data.py:192: FutureWarning: The behavior of DataFrame concatenation with empty or all-NA entries is deprecated. In a future version, this will no longer exclude empty or all-NA columns when determining the result dtypes. To retain the old behavior, exclude the relevant entries before the concat operation.\n",
      "  df = pd.concat(\n",
      "[WARNING 08-15 07:03:07] Scheduler: Failed to fetch val_acc for trial 10, found MetricFetchE(message=\"No 'scalar' data found for trial in multiplexer mul=<tensorboard.backend.event_processing.plugin_event_multiplexer.EventMultiplexer object at 0x7f243cf2d660>\").\n"
     ]
    },
    {
     "name": "stderr",
     "output_type": "stream",
     "text": [
      "[INFO 08-15 07:03:07] Scheduler: MetricFetchE INFO: Because val_acc is available_while_running and trial 10 is still RUNNING continuing the experiment and retrying on next poll...\n"
     ]
    },
    {
     "name": "stderr",
     "output_type": "stream",
     "text": [
      "[WARNING 08-15 07:03:07] Scheduler: Failed to fetch val_acc for trial 11, found MetricFetchE(message=\"No 'scalar' data found for trial in multiplexer mul=<tensorboard.backend.event_processing.plugin_event_multiplexer.EventMultiplexer object at 0x7f243ced66b0>\").\n"
     ]
    },
    {
     "name": "stderr",
     "output_type": "stream",
     "text": [
      "[INFO 08-15 07:03:07] Scheduler: MetricFetchE INFO: Because val_acc is available_while_running and trial 11 is still RUNNING continuing the experiment and retrying on next poll...\n"
     ]
    },
    {
     "name": "stderr",
     "output_type": "stream",
     "text": [
      "/tmp/tmp.3Yo4S3ORTG/Ax-main/ax/core/map_data.py:192: FutureWarning: The behavior of DataFrame concatenation with empty or all-NA entries is deprecated. In a future version, this will no longer exclude empty or all-NA columns when determining the result dtypes. To retain the old behavior, exclude the relevant entries before the concat operation.\n",
      "  df = pd.concat(\n",
      "[INFO 08-15 07:03:07] ax.early_stopping.strategies.base: Last progression of any candidate for trial stopping is 0.49994666666666665.\n"
     ]
    },
    {
     "name": "stderr",
     "output_type": "stream",
     "text": [
      "[INFO 08-15 07:03:07] ax.early_stopping.strategies.percentile: Considering trial 9 for early stopping.\n"
     ]
    },
    {
     "name": "stderr",
     "output_type": "stream",
     "text": [
      "[INFO 08-15 07:03:07] ax.early_stopping.strategies.base: Last progression of Trial 9 is 0.49994666666666665.\n"
     ]
    },
    {
     "name": "stderr",
     "output_type": "stream",
     "text": [
      "[INFO 08-15 07:03:07] ax.early_stopping.strategies.percentile: Early stopping objective at last progression is:\n",
      "2    0.938710\n",
      "3    0.896044\n",
      "4    0.892600\n",
      "5    0.946234\n",
      "6    0.938752\n",
      "9    0.954568\n",
      "Name: 0.49994666666666665, dtype: float64.\n"
     ]
    },
    {
     "name": "stderr",
     "output_type": "stream",
     "text": [
      "[INFO 08-15 07:03:07] ax.early_stopping.strategies.percentile: Early stopping decision for 9: False. Reason: Trial objective value 0.9545683461872846 is better than 70.0-th percentile (0.9424927597422836) across comparable trials.\n"
     ]
    },
    {
     "name": "stderr",
     "output_type": "stream",
     "text": [
      "[INFO 08-15 07:03:07] ax.early_stopping.strategies.percentile: Considering trial 10 for early stopping.\n"
     ]
    },
    {
     "name": "stderr",
     "output_type": "stream",
     "text": [
      "[INFO 08-15 07:03:07] ax.early_stopping.strategies.base: There is not yet any data associated with trial 10 and metric val_acc. Not early stopping this trial.\n"
     ]
    },
    {
     "name": "stderr",
     "output_type": "stream",
     "text": [
      "[INFO 08-15 07:03:07] ax.early_stopping.strategies.percentile: Considering trial 11 for early stopping.\n"
     ]
    },
    {
     "name": "stderr",
     "output_type": "stream",
     "text": [
      "[INFO 08-15 07:03:07] ax.early_stopping.strategies.base: There is not yet any data associated with trial 11 and metric val_acc. Not early stopping this trial.\n"
     ]
    },
    {
     "name": "stderr",
     "output_type": "stream",
     "text": [
      "[INFO 08-15 07:03:07] Scheduler: Waiting for completed trials (for 10 sec, currently running trials: 3).\n"
     ]
    },
    {
     "name": "stderr",
     "output_type": "stream",
     "text": [
      "[INFO 08-15 07:03:17] Scheduler: Fetching data for newly completed trials: [].\n"
     ]
    },
    {
     "name": "stderr",
     "output_type": "stream",
     "text": [
      "[INFO 08-15 07:03:17] Scheduler: Fetching data for trials: 9 - 11 because some metrics on experiment are available while trials are running.\n"
     ]
    },
    {
     "name": "stderr",
     "output_type": "stream",
     "text": [
      "[INFO 08-15 07:03:17] ax.core.metric: MetricFetchE INFO: Initialized MetricFetchE(message=\"No 'scalar' data found for trial in multiplexer mul=<tensorboard.backend.event_processing.plugin_event_multiplexer.EventMultiplexer object at 0x7f243ced66b0>\")\n"
     ]
    },
    {
     "name": "stderr",
     "output_type": "stream",
     "text": [
      "[INFO 08-15 07:03:17] ax.core.metric: MetricFetchE INFO: Initialized MetricFetchE(message=\"No 'scalar' data found for trial in multiplexer mul=<tensorboard.backend.event_processing.plugin_event_multiplexer.EventMultiplexer object at 0x7f2441071630>\")\n"
     ]
    },
    {
     "name": "stderr",
     "output_type": "stream",
     "text": [
      "[ERROR 08-15 07:03:17] ax.core.experiment: Discovered Metric fetching Err while attaching data MetricFetchE(message=\"No 'scalar' data found for trial in multiplexer mul=<tensorboard.backend.event_processing.plugin_event_multiplexer.EventMultiplexer object at 0x7f243ced66b0>\"). Ignoring for now -- will retry query on next call to fetch.\n"
     ]
    },
    {
     "name": "stderr",
     "output_type": "stream",
     "text": [
      "[ERROR 08-15 07:03:17] ax.core.experiment: Discovered Metric fetching Err while attaching data MetricFetchE(message=\"No 'scalar' data found for trial in multiplexer mul=<tensorboard.backend.event_processing.plugin_event_multiplexer.EventMultiplexer object at 0x7f2441071630>\"). Ignoring for now -- will retry query on next call to fetch.\n"
     ]
    },
    {
     "name": "stderr",
     "output_type": "stream",
     "text": [
      "/tmp/tmp.3Yo4S3ORTG/Ax-main/ax/core/map_data.py:192: FutureWarning: The behavior of DataFrame concatenation with empty or all-NA entries is deprecated. In a future version, this will no longer exclude empty or all-NA columns when determining the result dtypes. To retain the old behavior, exclude the relevant entries before the concat operation.\n",
      "  df = pd.concat(\n",
      "[WARNING 08-15 07:03:17] Scheduler: Failed to fetch val_acc for trial 10, found MetricFetchE(message=\"No 'scalar' data found for trial in multiplexer mul=<tensorboard.backend.event_processing.plugin_event_multiplexer.EventMultiplexer object at 0x7f243ced66b0>\").\n"
     ]
    },
    {
     "name": "stderr",
     "output_type": "stream",
     "text": [
      "[INFO 08-15 07:03:17] Scheduler: MetricFetchE INFO: Because val_acc is available_while_running and trial 10 is still RUNNING continuing the experiment and retrying on next poll...\n"
     ]
    },
    {
     "name": "stderr",
     "output_type": "stream",
     "text": [
      "[WARNING 08-15 07:03:17] Scheduler: Failed to fetch val_acc for trial 11, found MetricFetchE(message=\"No 'scalar' data found for trial in multiplexer mul=<tensorboard.backend.event_processing.plugin_event_multiplexer.EventMultiplexer object at 0x7f2441071630>\").\n"
     ]
    },
    {
     "name": "stderr",
     "output_type": "stream",
     "text": [
      "[INFO 08-15 07:03:17] Scheduler: MetricFetchE INFO: Because val_acc is available_while_running and trial 11 is still RUNNING continuing the experiment and retrying on next poll...\n"
     ]
    },
    {
     "name": "stderr",
     "output_type": "stream",
     "text": [
      "/tmp/tmp.3Yo4S3ORTG/Ax-main/ax/core/map_data.py:192: FutureWarning: The behavior of DataFrame concatenation with empty or all-NA entries is deprecated. In a future version, this will no longer exclude empty or all-NA columns when determining the result dtypes. To retain the old behavior, exclude the relevant entries before the concat operation.\n",
      "  df = pd.concat(\n",
      "[INFO 08-15 07:03:17] ax.early_stopping.strategies.base: Last progression of any candidate for trial stopping is 0.49994666666666665.\n"
     ]
    },
    {
     "name": "stderr",
     "output_type": "stream",
     "text": [
      "[INFO 08-15 07:03:17] ax.early_stopping.strategies.percentile: Considering trial 9 for early stopping.\n"
     ]
    },
    {
     "name": "stderr",
     "output_type": "stream",
     "text": [
      "[INFO 08-15 07:03:17] ax.early_stopping.strategies.base: Last progression of Trial 9 is 0.49994666666666665.\n"
     ]
    },
    {
     "name": "stderr",
     "output_type": "stream",
     "text": [
      "[INFO 08-15 07:03:17] ax.early_stopping.strategies.percentile: Early stopping objective at last progression is:\n",
      "2    0.938710\n",
      "3    0.896044\n",
      "4    0.892600\n",
      "5    0.946234\n",
      "6    0.938752\n",
      "9    0.954568\n",
      "Name: 0.49994666666666665, dtype: float64.\n"
     ]
    },
    {
     "name": "stderr",
     "output_type": "stream",
     "text": [
      "[INFO 08-15 07:03:17] ax.early_stopping.strategies.percentile: Early stopping decision for 9: False. Reason: Trial objective value 0.9545683461872846 is better than 70.0-th percentile (0.9424927597422836) across comparable trials.\n"
     ]
    },
    {
     "name": "stderr",
     "output_type": "stream",
     "text": [
      "[INFO 08-15 07:03:17] ax.early_stopping.strategies.percentile: Considering trial 10 for early stopping.\n"
     ]
    },
    {
     "name": "stderr",
     "output_type": "stream",
     "text": [
      "[INFO 08-15 07:03:17] ax.early_stopping.strategies.base: There is not yet any data associated with trial 10 and metric val_acc. Not early stopping this trial.\n"
     ]
    },
    {
     "name": "stderr",
     "output_type": "stream",
     "text": [
      "[INFO 08-15 07:03:17] ax.early_stopping.strategies.percentile: Considering trial 11 for early stopping.\n"
     ]
    },
    {
     "name": "stderr",
     "output_type": "stream",
     "text": [
      "[INFO 08-15 07:03:17] ax.early_stopping.strategies.base: There is not yet any data associated with trial 11 and metric val_acc. Not early stopping this trial.\n"
     ]
    },
    {
     "name": "stderr",
     "output_type": "stream",
     "text": [
      "[INFO 08-15 07:03:17] Scheduler: Waiting for completed trials (for 10 sec, currently running trials: 3).\n"
     ]
    },
    {
     "name": "stderr",
     "output_type": "stream",
     "text": [
      "[INFO 08-15 07:03:27] Scheduler: Fetching data for newly completed trials: [].\n"
     ]
    },
    {
     "name": "stderr",
     "output_type": "stream",
     "text": [
      "[INFO 08-15 07:03:27] Scheduler: Fetching data for trials: 9 - 11 because some metrics on experiment are available while trials are running.\n"
     ]
    },
    {
     "name": "stderr",
     "output_type": "stream",
     "text": [
      "/tmp/tmp.3Yo4S3ORTG/Ax-main/ax/core/map_data.py:192: FutureWarning: The behavior of DataFrame concatenation with empty or all-NA entries is deprecated. In a future version, this will no longer exclude empty or all-NA columns when determining the result dtypes. To retain the old behavior, exclude the relevant entries before the concat operation.\n",
      "  df = pd.concat(\n",
      "/tmp/tmp.3Yo4S3ORTG/Ax-main/ax/core/map_data.py:192: FutureWarning: The behavior of DataFrame concatenation with empty or all-NA entries is deprecated. In a future version, this will no longer exclude empty or all-NA columns when determining the result dtypes. To retain the old behavior, exclude the relevant entries before the concat operation.\n",
      "  df = pd.concat(\n",
      "[INFO 08-15 07:03:27] ax.early_stopping.strategies.base: Last progression of any candidate for trial stopping is 0.49994666666666665.\n"
     ]
    },
    {
     "name": "stderr",
     "output_type": "stream",
     "text": [
      "[INFO 08-15 07:03:27] ax.early_stopping.utils: Got exception `x and y arrays must have at least 2 entries` during interpolation. Using uninterpolated values instead.\n"
     ]
    },
    {
     "name": "stderr",
     "output_type": "stream",
     "text": [
      "[INFO 08-15 07:03:27] ax.early_stopping.utils: Got exception `x and y arrays must have at least 2 entries` during interpolation. Using uninterpolated values instead.\n"
     ]
    },
    {
     "name": "stderr",
     "output_type": "stream",
     "text": [
      "[INFO 08-15 07:03:27] ax.early_stopping.strategies.percentile: Considering trial 9 for early stopping.\n"
     ]
    },
    {
     "name": "stderr",
     "output_type": "stream",
     "text": [
      "[INFO 08-15 07:03:27] ax.early_stopping.strategies.base: Last progression of Trial 9 is 0.49994666666666665.\n"
     ]
    },
    {
     "name": "stderr",
     "output_type": "stream",
     "text": [
      "[INFO 08-15 07:03:27] ax.early_stopping.strategies.percentile: Early stopping objective at last progression is:\n",
      "2    0.938710\n",
      "3    0.896044\n",
      "4    0.892600\n",
      "5    0.946234\n",
      "6    0.938752\n",
      "9    0.954568\n",
      "Name: 0.49994666666666665, dtype: float64.\n"
     ]
    },
    {
     "name": "stderr",
     "output_type": "stream",
     "text": [
      "[INFO 08-15 07:03:27] ax.early_stopping.strategies.percentile: Early stopping decision for 9: False. Reason: Trial objective value 0.9545683461872846 is better than 70.0-th percentile (0.9424927597422836) across comparable trials.\n"
     ]
    },
    {
     "name": "stderr",
     "output_type": "stream",
     "text": [
      "[INFO 08-15 07:03:27] ax.early_stopping.strategies.percentile: Considering trial 10 for early stopping.\n"
     ]
    },
    {
     "name": "stderr",
     "output_type": "stream",
     "text": [
      "[INFO 08-15 07:03:27] ax.early_stopping.strategies.base: Last progression of Trial 10 is 0.09994666666666667.\n"
     ]
    },
    {
     "name": "stderr",
     "output_type": "stream",
     "text": [
      "[INFO 08-15 07:03:27] ax.early_stopping.strategies.base: Trial 10's most recent progression (0.09994666666666667) that is available for metric val_acc falls out of the min/max_progression range (0.3, None). Not early stopping this trial.\n"
     ]
    },
    {
     "name": "stderr",
     "output_type": "stream",
     "text": [
      "[INFO 08-15 07:03:27] ax.early_stopping.strategies.percentile: Considering trial 11 for early stopping.\n"
     ]
    },
    {
     "name": "stderr",
     "output_type": "stream",
     "text": [
      "[INFO 08-15 07:03:27] ax.early_stopping.strategies.base: Last progression of Trial 11 is 0.09994666666666667.\n"
     ]
    },
    {
     "name": "stderr",
     "output_type": "stream",
     "text": [
      "[INFO 08-15 07:03:27] ax.early_stopping.strategies.base: Trial 11's most recent progression (0.09994666666666667) that is available for metric val_acc falls out of the min/max_progression range (0.3, None). Not early stopping this trial.\n"
     ]
    },
    {
     "name": "stderr",
     "output_type": "stream",
     "text": [
      "[INFO 08-15 07:03:27] Scheduler: Waiting for completed trials (for 10 sec, currently running trials: 3).\n"
     ]
    },
    {
     "name": "stderr",
     "output_type": "stream",
     "text": [
      "[INFO 08-15 07:03:37] Scheduler: Fetching data for newly completed trials: [].\n"
     ]
    },
    {
     "name": "stderr",
     "output_type": "stream",
     "text": [
      "[INFO 08-15 07:03:37] Scheduler: Fetching data for trials: 9 - 11 because some metrics on experiment are available while trials are running.\n"
     ]
    },
    {
     "name": "stderr",
     "output_type": "stream",
     "text": [
      "/tmp/tmp.3Yo4S3ORTG/Ax-main/ax/core/map_data.py:192: FutureWarning: The behavior of DataFrame concatenation with empty or all-NA entries is deprecated. In a future version, this will no longer exclude empty or all-NA columns when determining the result dtypes. To retain the old behavior, exclude the relevant entries before the concat operation.\n",
      "  df = pd.concat(\n",
      "/tmp/tmp.3Yo4S3ORTG/Ax-main/ax/core/map_data.py:192: FutureWarning: The behavior of DataFrame concatenation with empty or all-NA entries is deprecated. In a future version, this will no longer exclude empty or all-NA columns when determining the result dtypes. To retain the old behavior, exclude the relevant entries before the concat operation.\n",
      "  df = pd.concat(\n",
      "[INFO 08-15 07:03:37] ax.early_stopping.strategies.base: Last progression of any candidate for trial stopping is 0.49994666666666665.\n"
     ]
    },
    {
     "name": "stderr",
     "output_type": "stream",
     "text": [
      "[INFO 08-15 07:03:37] ax.early_stopping.utils: Got exception `x and y arrays must have at least 2 entries` during interpolation. Using uninterpolated values instead.\n"
     ]
    },
    {
     "name": "stderr",
     "output_type": "stream",
     "text": [
      "[INFO 08-15 07:03:37] ax.early_stopping.utils: Got exception `x and y arrays must have at least 2 entries` during interpolation. Using uninterpolated values instead.\n"
     ]
    },
    {
     "name": "stderr",
     "output_type": "stream",
     "text": [
      "[INFO 08-15 07:03:37] ax.early_stopping.strategies.percentile: Considering trial 9 for early stopping.\n"
     ]
    },
    {
     "name": "stderr",
     "output_type": "stream",
     "text": [
      "[INFO 08-15 07:03:37] ax.early_stopping.strategies.base: Last progression of Trial 9 is 0.49994666666666665.\n"
     ]
    },
    {
     "name": "stderr",
     "output_type": "stream",
     "text": [
      "[INFO 08-15 07:03:37] ax.early_stopping.strategies.percentile: Early stopping objective at last progression is:\n",
      "2    0.938710\n",
      "3    0.896044\n",
      "4    0.892600\n",
      "5    0.946234\n",
      "6    0.938752\n",
      "9    0.954568\n",
      "Name: 0.49994666666666665, dtype: float64.\n"
     ]
    },
    {
     "name": "stderr",
     "output_type": "stream",
     "text": [
      "[INFO 08-15 07:03:37] ax.early_stopping.strategies.percentile: Early stopping decision for 9: False. Reason: Trial objective value 0.9545683461872846 is better than 70.0-th percentile (0.9424927597422836) across comparable trials.\n"
     ]
    },
    {
     "name": "stderr",
     "output_type": "stream",
     "text": [
      "[INFO 08-15 07:03:37] ax.early_stopping.strategies.percentile: Considering trial 10 for early stopping.\n"
     ]
    },
    {
     "name": "stderr",
     "output_type": "stream",
     "text": [
      "[INFO 08-15 07:03:37] ax.early_stopping.strategies.base: Last progression of Trial 10 is 0.09994666666666667.\n"
     ]
    },
    {
     "name": "stderr",
     "output_type": "stream",
     "text": [
      "[INFO 08-15 07:03:37] ax.early_stopping.strategies.base: Trial 10's most recent progression (0.09994666666666667) that is available for metric val_acc falls out of the min/max_progression range (0.3, None). Not early stopping this trial.\n"
     ]
    },
    {
     "name": "stderr",
     "output_type": "stream",
     "text": [
      "[INFO 08-15 07:03:37] ax.early_stopping.strategies.percentile: Considering trial 11 for early stopping.\n"
     ]
    },
    {
     "name": "stderr",
     "output_type": "stream",
     "text": [
      "[INFO 08-15 07:03:37] ax.early_stopping.strategies.base: Last progression of Trial 11 is 0.09994666666666667.\n"
     ]
    },
    {
     "name": "stderr",
     "output_type": "stream",
     "text": [
      "[INFO 08-15 07:03:37] ax.early_stopping.strategies.base: Trial 11's most recent progression (0.09994666666666667) that is available for metric val_acc falls out of the min/max_progression range (0.3, None). Not early stopping this trial.\n"
     ]
    },
    {
     "name": "stderr",
     "output_type": "stream",
     "text": [
      "[INFO 08-15 07:03:37] Scheduler: Waiting for completed trials (for 10 sec, currently running trials: 3).\n"
     ]
    },
    {
     "name": "stderr",
     "output_type": "stream",
     "text": [
      "[INFO 08-15 07:03:47] Scheduler: Fetching data for newly completed trials: [].\n"
     ]
    },
    {
     "name": "stderr",
     "output_type": "stream",
     "text": [
      "[INFO 08-15 07:03:47] Scheduler: Fetching data for trials: 9 - 11 because some metrics on experiment are available while trials are running.\n"
     ]
    },
    {
     "name": "stderr",
     "output_type": "stream",
     "text": [
      "/tmp/tmp.3Yo4S3ORTG/Ax-main/ax/core/map_data.py:192: FutureWarning: The behavior of DataFrame concatenation with empty or all-NA entries is deprecated. In a future version, this will no longer exclude empty or all-NA columns when determining the result dtypes. To retain the old behavior, exclude the relevant entries before the concat operation.\n",
      "  df = pd.concat(\n",
      "/tmp/tmp.3Yo4S3ORTG/Ax-main/ax/core/map_data.py:192: FutureWarning: The behavior of DataFrame concatenation with empty or all-NA entries is deprecated. In a future version, this will no longer exclude empty or all-NA columns when determining the result dtypes. To retain the old behavior, exclude the relevant entries before the concat operation.\n",
      "  df = pd.concat(\n",
      "[INFO 08-15 07:03:47] ax.early_stopping.strategies.base: Last progression of any candidate for trial stopping is 0.5999466666666666.\n"
     ]
    },
    {
     "name": "stderr",
     "output_type": "stream",
     "text": [
      "[INFO 08-15 07:03:47] ax.early_stopping.utils: Got exception `x and y arrays must have at least 2 entries` during interpolation. Using uninterpolated values instead.\n"
     ]
    },
    {
     "name": "stderr",
     "output_type": "stream",
     "text": [
      "[INFO 08-15 07:03:47] ax.early_stopping.utils: Got exception `x and y arrays must have at least 2 entries` during interpolation. Using uninterpolated values instead.\n"
     ]
    },
    {
     "name": "stderr",
     "output_type": "stream",
     "text": [
      "[INFO 08-15 07:03:47] ax.early_stopping.strategies.percentile: Considering trial 9 for early stopping.\n"
     ]
    },
    {
     "name": "stderr",
     "output_type": "stream",
     "text": [
      "[INFO 08-15 07:03:47] ax.early_stopping.strategies.base: Last progression of Trial 9 is 0.5999466666666666.\n"
     ]
    },
    {
     "name": "stderr",
     "output_type": "stream",
     "text": [
      "[INFO 08-15 07:03:47] ax.early_stopping.strategies.percentile: Early stopping objective at last progression is:\n",
      "2    0.939502\n",
      "3    0.895583\n",
      "4    0.901138\n",
      "5    0.947813\n",
      "6    0.940892\n",
      "9    0.956589\n",
      "Name: 0.5999466666666666, dtype: float64.\n"
     ]
    },
    {
     "name": "stderr",
     "output_type": "stream",
     "text": [
      "[INFO 08-15 07:03:47] ax.early_stopping.strategies.percentile: Early stopping decision for 9: False. Reason: Trial objective value 0.9565892701827424 is better than 70.0-th percentile (0.9443525282006422) across comparable trials.\n"
     ]
    },
    {
     "name": "stderr",
     "output_type": "stream",
     "text": [
      "[INFO 08-15 07:03:47] ax.early_stopping.strategies.percentile: Considering trial 10 for early stopping.\n"
     ]
    },
    {
     "name": "stderr",
     "output_type": "stream",
     "text": [
      "[INFO 08-15 07:03:47] ax.early_stopping.strategies.base: Last progression of Trial 10 is 0.09994666666666667.\n"
     ]
    },
    {
     "name": "stderr",
     "output_type": "stream",
     "text": [
      "[INFO 08-15 07:03:47] ax.early_stopping.strategies.base: Trial 10's most recent progression (0.09994666666666667) that is available for metric val_acc falls out of the min/max_progression range (0.3, None). Not early stopping this trial.\n"
     ]
    },
    {
     "name": "stderr",
     "output_type": "stream",
     "text": [
      "[INFO 08-15 07:03:47] ax.early_stopping.strategies.percentile: Considering trial 11 for early stopping.\n"
     ]
    },
    {
     "name": "stderr",
     "output_type": "stream",
     "text": [
      "[INFO 08-15 07:03:47] ax.early_stopping.strategies.base: Last progression of Trial 11 is 0.09994666666666667.\n"
     ]
    },
    {
     "name": "stderr",
     "output_type": "stream",
     "text": [
      "[INFO 08-15 07:03:47] ax.early_stopping.strategies.base: Trial 11's most recent progression (0.09994666666666667) that is available for metric val_acc falls out of the min/max_progression range (0.3, None). Not early stopping this trial.\n"
     ]
    },
    {
     "name": "stderr",
     "output_type": "stream",
     "text": [
      "[INFO 08-15 07:03:47] Scheduler: Waiting for completed trials (for 10 sec, currently running trials: 3).\n"
     ]
    },
    {
     "name": "stderr",
     "output_type": "stream",
     "text": [
      "[INFO 08-15 07:03:57] Scheduler: Fetching data for newly completed trials: [].\n"
     ]
    },
    {
     "name": "stderr",
     "output_type": "stream",
     "text": [
      "[INFO 08-15 07:03:57] Scheduler: Fetching data for trials: 9 - 11 because some metrics on experiment are available while trials are running.\n"
     ]
    },
    {
     "name": "stderr",
     "output_type": "stream",
     "text": [
      "/tmp/tmp.3Yo4S3ORTG/Ax-main/ax/core/map_data.py:192: FutureWarning: The behavior of DataFrame concatenation with empty or all-NA entries is deprecated. In a future version, this will no longer exclude empty or all-NA columns when determining the result dtypes. To retain the old behavior, exclude the relevant entries before the concat operation.\n",
      "  df = pd.concat(\n",
      "/tmp/tmp.3Yo4S3ORTG/Ax-main/ax/core/map_data.py:192: FutureWarning: The behavior of DataFrame concatenation with empty or all-NA entries is deprecated. In a future version, this will no longer exclude empty or all-NA columns when determining the result dtypes. To retain the old behavior, exclude the relevant entries before the concat operation.\n",
      "  df = pd.concat(\n",
      "[INFO 08-15 07:03:57] ax.early_stopping.strategies.base: Last progression of any candidate for trial stopping is 0.5999466666666666.\n"
     ]
    },
    {
     "name": "stderr",
     "output_type": "stream",
     "text": [
      "[INFO 08-15 07:03:57] ax.early_stopping.utils: Got exception `x and y arrays must have at least 2 entries` during interpolation. Using uninterpolated values instead.\n"
     ]
    },
    {
     "name": "stderr",
     "output_type": "stream",
     "text": [
      "[INFO 08-15 07:03:57] ax.early_stopping.utils: Got exception `x and y arrays must have at least 2 entries` during interpolation. Using uninterpolated values instead.\n"
     ]
    },
    {
     "name": "stderr",
     "output_type": "stream",
     "text": [
      "[INFO 08-15 07:03:57] ax.early_stopping.strategies.percentile: Considering trial 9 for early stopping.\n"
     ]
    },
    {
     "name": "stderr",
     "output_type": "stream",
     "text": [
      "[INFO 08-15 07:03:57] ax.early_stopping.strategies.base: Last progression of Trial 9 is 0.5999466666666666.\n"
     ]
    },
    {
     "name": "stderr",
     "output_type": "stream",
     "text": [
      "[INFO 08-15 07:03:57] ax.early_stopping.strategies.percentile: Early stopping objective at last progression is:\n",
      "2    0.939502\n",
      "3    0.895583\n",
      "4    0.901138\n",
      "5    0.947813\n",
      "6    0.940892\n",
      "9    0.956589\n",
      "Name: 0.5999466666666666, dtype: float64.\n"
     ]
    },
    {
     "name": "stderr",
     "output_type": "stream",
     "text": [
      "[INFO 08-15 07:03:57] ax.early_stopping.strategies.percentile: Early stopping decision for 9: False. Reason: Trial objective value 0.9565892701827424 is better than 70.0-th percentile (0.9443525282006422) across comparable trials.\n"
     ]
    },
    {
     "name": "stderr",
     "output_type": "stream",
     "text": [
      "[INFO 08-15 07:03:57] ax.early_stopping.strategies.percentile: Considering trial 10 for early stopping.\n"
     ]
    },
    {
     "name": "stderr",
     "output_type": "stream",
     "text": [
      "[INFO 08-15 07:03:57] ax.early_stopping.strategies.base: Last progression of Trial 10 is 0.09994666666666667.\n"
     ]
    },
    {
     "name": "stderr",
     "output_type": "stream",
     "text": [
      "[INFO 08-15 07:03:57] ax.early_stopping.strategies.base: Trial 10's most recent progression (0.09994666666666667) that is available for metric val_acc falls out of the min/max_progression range (0.3, None). Not early stopping this trial.\n"
     ]
    },
    {
     "name": "stderr",
     "output_type": "stream",
     "text": [
      "[INFO 08-15 07:03:57] ax.early_stopping.strategies.percentile: Considering trial 11 for early stopping.\n"
     ]
    },
    {
     "name": "stderr",
     "output_type": "stream",
     "text": [
      "[INFO 08-15 07:03:57] ax.early_stopping.strategies.base: Last progression of Trial 11 is 0.09994666666666667.\n"
     ]
    },
    {
     "name": "stderr",
     "output_type": "stream",
     "text": [
      "[INFO 08-15 07:03:57] ax.early_stopping.strategies.base: Trial 11's most recent progression (0.09994666666666667) that is available for metric val_acc falls out of the min/max_progression range (0.3, None). Not early stopping this trial.\n"
     ]
    },
    {
     "name": "stderr",
     "output_type": "stream",
     "text": [
      "[INFO 08-15 07:03:57] Scheduler: Waiting for completed trials (for 10 sec, currently running trials: 3).\n"
     ]
    },
    {
     "name": "stderr",
     "output_type": "stream",
     "text": [
      "[INFO 08-15 07:04:07] Scheduler: Fetching data for newly completed trials: [].\n"
     ]
    },
    {
     "name": "stderr",
     "output_type": "stream",
     "text": [
      "[INFO 08-15 07:04:07] Scheduler: Fetching data for trials: 9 - 11 because some metrics on experiment are available while trials are running.\n"
     ]
    },
    {
     "name": "stderr",
     "output_type": "stream",
     "text": [
      "/tmp/tmp.3Yo4S3ORTG/Ax-main/ax/core/map_data.py:192: FutureWarning: The behavior of DataFrame concatenation with empty or all-NA entries is deprecated. In a future version, this will no longer exclude empty or all-NA columns when determining the result dtypes. To retain the old behavior, exclude the relevant entries before the concat operation.\n",
      "  df = pd.concat(\n",
      "/tmp/tmp.3Yo4S3ORTG/Ax-main/ax/core/map_data.py:192: FutureWarning: The behavior of DataFrame concatenation with empty or all-NA entries is deprecated. In a future version, this will no longer exclude empty or all-NA columns when determining the result dtypes. To retain the old behavior, exclude the relevant entries before the concat operation.\n",
      "  df = pd.concat(\n",
      "[INFO 08-15 07:04:08] ax.early_stopping.strategies.base: Last progression of any candidate for trial stopping is 0.5999466666666666.\n"
     ]
    },
    {
     "name": "stderr",
     "output_type": "stream",
     "text": [
      "[INFO 08-15 07:04:08] ax.early_stopping.strategies.percentile: Considering trial 9 for early stopping.\n"
     ]
    },
    {
     "name": "stderr",
     "output_type": "stream",
     "text": [
      "[INFO 08-15 07:04:08] ax.early_stopping.strategies.base: Last progression of Trial 9 is 0.5999466666666666.\n"
     ]
    },
    {
     "name": "stderr",
     "output_type": "stream",
     "text": [
      "[INFO 08-15 07:04:08] ax.early_stopping.strategies.percentile: Early stopping objective at last progression is:\n",
      "2    0.939502\n",
      "3    0.895583\n",
      "4    0.901138\n",
      "5    0.947813\n",
      "6    0.940892\n",
      "9    0.956589\n",
      "Name: 0.5999466666666666, dtype: float64.\n"
     ]
    },
    {
     "name": "stderr",
     "output_type": "stream",
     "text": [
      "[INFO 08-15 07:04:08] ax.early_stopping.strategies.percentile: Early stopping decision for 9: False. Reason: Trial objective value 0.9565892701827424 is better than 70.0-th percentile (0.9443525282006422) across comparable trials.\n"
     ]
    },
    {
     "name": "stderr",
     "output_type": "stream",
     "text": [
      "[INFO 08-15 07:04:08] ax.early_stopping.strategies.percentile: Considering trial 10 for early stopping.\n"
     ]
    },
    {
     "name": "stderr",
     "output_type": "stream",
     "text": [
      "[INFO 08-15 07:04:08] ax.early_stopping.strategies.base: Last progression of Trial 10 is 0.19994666666666666.\n"
     ]
    },
    {
     "name": "stderr",
     "output_type": "stream",
     "text": [
      "[INFO 08-15 07:04:08] ax.early_stopping.strategies.base: Trial 10's most recent progression (0.19994666666666666) that is available for metric val_acc falls out of the min/max_progression range (0.3, None). Not early stopping this trial.\n"
     ]
    },
    {
     "name": "stderr",
     "output_type": "stream",
     "text": [
      "[INFO 08-15 07:04:08] ax.early_stopping.strategies.percentile: Considering trial 11 for early stopping.\n"
     ]
    },
    {
     "name": "stderr",
     "output_type": "stream",
     "text": [
      "[INFO 08-15 07:04:08] ax.early_stopping.strategies.base: Last progression of Trial 11 is 0.19994666666666666.\n"
     ]
    },
    {
     "name": "stderr",
     "output_type": "stream",
     "text": [
      "[INFO 08-15 07:04:08] ax.early_stopping.strategies.base: Trial 11's most recent progression (0.19994666666666666) that is available for metric val_acc falls out of the min/max_progression range (0.3, None). Not early stopping this trial.\n"
     ]
    },
    {
     "name": "stderr",
     "output_type": "stream",
     "text": [
      "[INFO 08-15 07:04:08] Scheduler: Waiting for completed trials (for 10 sec, currently running trials: 3).\n"
     ]
    },
    {
     "name": "stderr",
     "output_type": "stream",
     "text": [
      "[INFO 08-15 07:04:18] Scheduler: Fetching data for newly completed trials: [].\n"
     ]
    },
    {
     "name": "stderr",
     "output_type": "stream",
     "text": [
      "[INFO 08-15 07:04:18] Scheduler: Fetching data for trials: 9 - 11 because some metrics on experiment are available while trials are running.\n"
     ]
    },
    {
     "name": "stderr",
     "output_type": "stream",
     "text": [
      "/tmp/tmp.3Yo4S3ORTG/Ax-main/ax/core/map_data.py:192: FutureWarning: The behavior of DataFrame concatenation with empty or all-NA entries is deprecated. In a future version, this will no longer exclude empty or all-NA columns when determining the result dtypes. To retain the old behavior, exclude the relevant entries before the concat operation.\n",
      "  df = pd.concat(\n",
      "/tmp/tmp.3Yo4S3ORTG/Ax-main/ax/core/map_data.py:192: FutureWarning: The behavior of DataFrame concatenation with empty or all-NA entries is deprecated. In a future version, this will no longer exclude empty or all-NA columns when determining the result dtypes. To retain the old behavior, exclude the relevant entries before the concat operation.\n",
      "  df = pd.concat(\n",
      "[INFO 08-15 07:04:18] ax.early_stopping.strategies.base: Last progression of any candidate for trial stopping is 0.5999466666666666.\n"
     ]
    },
    {
     "name": "stderr",
     "output_type": "stream",
     "text": [
      "[INFO 08-15 07:04:18] ax.early_stopping.strategies.percentile: Considering trial 9 for early stopping.\n"
     ]
    },
    {
     "name": "stderr",
     "output_type": "stream",
     "text": [
      "[INFO 08-15 07:04:18] ax.early_stopping.strategies.base: Last progression of Trial 9 is 0.5999466666666666.\n"
     ]
    },
    {
     "name": "stderr",
     "output_type": "stream",
     "text": [
      "[INFO 08-15 07:04:18] ax.early_stopping.strategies.percentile: Early stopping objective at last progression is:\n",
      "2    0.939502\n",
      "3    0.895583\n",
      "4    0.901138\n",
      "5    0.947813\n",
      "6    0.940892\n",
      "9    0.956589\n",
      "Name: 0.5999466666666666, dtype: float64.\n"
     ]
    },
    {
     "name": "stderr",
     "output_type": "stream",
     "text": [
      "[INFO 08-15 07:04:18] ax.early_stopping.strategies.percentile: Early stopping decision for 9: False. Reason: Trial objective value 0.9565892701827424 is better than 70.0-th percentile (0.9443525282006422) across comparable trials.\n"
     ]
    },
    {
     "name": "stderr",
     "output_type": "stream",
     "text": [
      "[INFO 08-15 07:04:18] ax.early_stopping.strategies.percentile: Considering trial 10 for early stopping.\n"
     ]
    },
    {
     "name": "stderr",
     "output_type": "stream",
     "text": [
      "[INFO 08-15 07:04:18] ax.early_stopping.strategies.base: Last progression of Trial 10 is 0.19994666666666666.\n"
     ]
    },
    {
     "name": "stderr",
     "output_type": "stream",
     "text": [
      "[INFO 08-15 07:04:18] ax.early_stopping.strategies.base: Trial 10's most recent progression (0.19994666666666666) that is available for metric val_acc falls out of the min/max_progression range (0.3, None). Not early stopping this trial.\n"
     ]
    },
    {
     "name": "stderr",
     "output_type": "stream",
     "text": [
      "[INFO 08-15 07:04:18] ax.early_stopping.strategies.percentile: Considering trial 11 for early stopping.\n"
     ]
    },
    {
     "name": "stderr",
     "output_type": "stream",
     "text": [
      "[INFO 08-15 07:04:18] ax.early_stopping.strategies.base: Last progression of Trial 11 is 0.19994666666666666.\n"
     ]
    },
    {
     "name": "stderr",
     "output_type": "stream",
     "text": [
      "[INFO 08-15 07:04:18] ax.early_stopping.strategies.base: Trial 11's most recent progression (0.19994666666666666) that is available for metric val_acc falls out of the min/max_progression range (0.3, None). Not early stopping this trial.\n"
     ]
    },
    {
     "name": "stderr",
     "output_type": "stream",
     "text": [
      "[INFO 08-15 07:04:18] Scheduler: Waiting for completed trials (for 10 sec, currently running trials: 3).\n"
     ]
    },
    {
     "name": "stderr",
     "output_type": "stream",
     "text": [
      "[INFO 08-15 07:04:28] Scheduler: Fetching data for newly completed trials: [].\n"
     ]
    },
    {
     "name": "stderr",
     "output_type": "stream",
     "text": [
      "[INFO 08-15 07:04:28] Scheduler: Fetching data for trials: 9 - 11 because some metrics on experiment are available while trials are running.\n"
     ]
    },
    {
     "name": "stderr",
     "output_type": "stream",
     "text": [
      "/tmp/tmp.3Yo4S3ORTG/Ax-main/ax/core/map_data.py:192: FutureWarning: The behavior of DataFrame concatenation with empty or all-NA entries is deprecated. In a future version, this will no longer exclude empty or all-NA columns when determining the result dtypes. To retain the old behavior, exclude the relevant entries before the concat operation.\n",
      "  df = pd.concat(\n",
      "/tmp/tmp.3Yo4S3ORTG/Ax-main/ax/core/map_data.py:192: FutureWarning: The behavior of DataFrame concatenation with empty or all-NA entries is deprecated. In a future version, this will no longer exclude empty or all-NA columns when determining the result dtypes. To retain the old behavior, exclude the relevant entries before the concat operation.\n",
      "  df = pd.concat(\n",
      "[INFO 08-15 07:04:28] ax.early_stopping.strategies.base: Last progression of any candidate for trial stopping is 0.5999466666666666.\n"
     ]
    },
    {
     "name": "stderr",
     "output_type": "stream",
     "text": [
      "[INFO 08-15 07:04:28] ax.early_stopping.strategies.percentile: Considering trial 9 for early stopping.\n"
     ]
    },
    {
     "name": "stderr",
     "output_type": "stream",
     "text": [
      "[INFO 08-15 07:04:28] ax.early_stopping.strategies.base: Last progression of Trial 9 is 0.5999466666666666.\n"
     ]
    },
    {
     "name": "stderr",
     "output_type": "stream",
     "text": [
      "[INFO 08-15 07:04:28] ax.early_stopping.strategies.percentile: Early stopping objective at last progression is:\n",
      "2    0.939502\n",
      "3    0.895583\n",
      "4    0.901138\n",
      "5    0.947813\n",
      "6    0.940892\n",
      "9    0.956589\n",
      "Name: 0.5999466666666666, dtype: float64.\n"
     ]
    },
    {
     "name": "stderr",
     "output_type": "stream",
     "text": [
      "[INFO 08-15 07:04:28] ax.early_stopping.strategies.percentile: Early stopping decision for 9: False. Reason: Trial objective value 0.9565892701827424 is better than 70.0-th percentile (0.9443525282006422) across comparable trials.\n"
     ]
    },
    {
     "name": "stderr",
     "output_type": "stream",
     "text": [
      "[INFO 08-15 07:04:28] ax.early_stopping.strategies.percentile: Considering trial 10 for early stopping.\n"
     ]
    },
    {
     "name": "stderr",
     "output_type": "stream",
     "text": [
      "[INFO 08-15 07:04:28] ax.early_stopping.strategies.base: Last progression of Trial 10 is 0.19994666666666666.\n"
     ]
    },
    {
     "name": "stderr",
     "output_type": "stream",
     "text": [
      "[INFO 08-15 07:04:28] ax.early_stopping.strategies.base: Trial 10's most recent progression (0.19994666666666666) that is available for metric val_acc falls out of the min/max_progression range (0.3, None). Not early stopping this trial.\n"
     ]
    },
    {
     "name": "stderr",
     "output_type": "stream",
     "text": [
      "[INFO 08-15 07:04:28] ax.early_stopping.strategies.percentile: Considering trial 11 for early stopping.\n"
     ]
    },
    {
     "name": "stderr",
     "output_type": "stream",
     "text": [
      "[INFO 08-15 07:04:28] ax.early_stopping.strategies.base: Last progression of Trial 11 is 0.19994666666666666.\n"
     ]
    },
    {
     "name": "stderr",
     "output_type": "stream",
     "text": [
      "[INFO 08-15 07:04:28] ax.early_stopping.strategies.base: Trial 11's most recent progression (0.19994666666666666) that is available for metric val_acc falls out of the min/max_progression range (0.3, None). Not early stopping this trial.\n"
     ]
    },
    {
     "name": "stderr",
     "output_type": "stream",
     "text": [
      "[INFO 08-15 07:04:28] Scheduler: Waiting for completed trials (for 10 sec, currently running trials: 3).\n"
     ]
    },
    {
     "name": "stderr",
     "output_type": "stream",
     "text": [
      "[INFO 08-15 07:04:38] Scheduler: Fetching data for newly completed trials: [].\n"
     ]
    },
    {
     "name": "stderr",
     "output_type": "stream",
     "text": [
      "[INFO 08-15 07:04:38] Scheduler: Fetching data for trials: 9 - 11 because some metrics on experiment are available while trials are running.\n"
     ]
    },
    {
     "name": "stderr",
     "output_type": "stream",
     "text": [
      "/tmp/tmp.3Yo4S3ORTG/Ax-main/ax/core/map_data.py:192: FutureWarning: The behavior of DataFrame concatenation with empty or all-NA entries is deprecated. In a future version, this will no longer exclude empty or all-NA columns when determining the result dtypes. To retain the old behavior, exclude the relevant entries before the concat operation.\n",
      "  df = pd.concat(\n",
      "/tmp/tmp.3Yo4S3ORTG/Ax-main/ax/core/map_data.py:192: FutureWarning: The behavior of DataFrame concatenation with empty or all-NA entries is deprecated. In a future version, this will no longer exclude empty or all-NA columns when determining the result dtypes. To retain the old behavior, exclude the relevant entries before the concat operation.\n",
      "  df = pd.concat(\n",
      "[INFO 08-15 07:04:38] ax.early_stopping.strategies.base: Last progression of any candidate for trial stopping is 0.6999466666666667.\n"
     ]
    },
    {
     "name": "stderr",
     "output_type": "stream",
     "text": [
      "[INFO 08-15 07:04:38] ax.early_stopping.strategies.percentile: Considering trial 9 for early stopping.\n"
     ]
    },
    {
     "name": "stderr",
     "output_type": "stream",
     "text": [
      "[INFO 08-15 07:04:38] ax.early_stopping.strategies.base: Last progression of Trial 9 is 0.6999466666666667.\n"
     ]
    },
    {
     "name": "stderr",
     "output_type": "stream",
     "text": [
      "[INFO 08-15 07:04:38] ax.early_stopping.strategies.percentile: Early stopping objective at last progression is:\n",
      "2    0.938545\n",
      "3    0.896313\n",
      "4    0.912089\n",
      "5    0.951609\n",
      "6    0.943465\n",
      "9    0.957766\n",
      "Name: 0.6999466666666667, dtype: float64.\n"
     ]
    },
    {
     "name": "stderr",
     "output_type": "stream",
     "text": [
      "[INFO 08-15 07:04:38] ax.early_stopping.strategies.percentile: Early stopping decision for 9: False. Reason: Trial objective value 0.9577663349249697 is better than 70.0-th percentile (0.9475369018139054) across comparable trials.\n"
     ]
    },
    {
     "name": "stderr",
     "output_type": "stream",
     "text": [
      "[INFO 08-15 07:04:38] ax.early_stopping.strategies.percentile: Considering trial 10 for early stopping.\n"
     ]
    },
    {
     "name": "stderr",
     "output_type": "stream",
     "text": [
      "[INFO 08-15 07:04:38] ax.early_stopping.strategies.base: Last progression of Trial 10 is 0.19994666666666666.\n"
     ]
    },
    {
     "name": "stderr",
     "output_type": "stream",
     "text": [
      "[INFO 08-15 07:04:38] ax.early_stopping.strategies.base: Trial 10's most recent progression (0.19994666666666666) that is available for metric val_acc falls out of the min/max_progression range (0.3, None). Not early stopping this trial.\n"
     ]
    },
    {
     "name": "stderr",
     "output_type": "stream",
     "text": [
      "[INFO 08-15 07:04:38] ax.early_stopping.strategies.percentile: Considering trial 11 for early stopping.\n"
     ]
    },
    {
     "name": "stderr",
     "output_type": "stream",
     "text": [
      "[INFO 08-15 07:04:38] ax.early_stopping.strategies.base: Last progression of Trial 11 is 0.19994666666666666.\n"
     ]
    },
    {
     "name": "stderr",
     "output_type": "stream",
     "text": [
      "[INFO 08-15 07:04:38] ax.early_stopping.strategies.base: Trial 11's most recent progression (0.19994666666666666) that is available for metric val_acc falls out of the min/max_progression range (0.3, None). Not early stopping this trial.\n"
     ]
    },
    {
     "name": "stderr",
     "output_type": "stream",
     "text": [
      "[INFO 08-15 07:04:38] Scheduler: Waiting for completed trials (for 10 sec, currently running trials: 3).\n"
     ]
    },
    {
     "name": "stderr",
     "output_type": "stream",
     "text": [
      "[INFO 08-15 07:04:48] Scheduler: Fetching data for newly completed trials: [].\n"
     ]
    },
    {
     "name": "stderr",
     "output_type": "stream",
     "text": [
      "[INFO 08-15 07:04:48] Scheduler: Fetching data for trials: 9 - 11 because some metrics on experiment are available while trials are running.\n"
     ]
    },
    {
     "name": "stderr",
     "output_type": "stream",
     "text": [
      "/tmp/tmp.3Yo4S3ORTG/Ax-main/ax/core/map_data.py:192: FutureWarning: The behavior of DataFrame concatenation with empty or all-NA entries is deprecated. In a future version, this will no longer exclude empty or all-NA columns when determining the result dtypes. To retain the old behavior, exclude the relevant entries before the concat operation.\n",
      "  df = pd.concat(\n",
      "/tmp/tmp.3Yo4S3ORTG/Ax-main/ax/core/map_data.py:192: FutureWarning: The behavior of DataFrame concatenation with empty or all-NA entries is deprecated. In a future version, this will no longer exclude empty or all-NA columns when determining the result dtypes. To retain the old behavior, exclude the relevant entries before the concat operation.\n",
      "  df = pd.concat(\n",
      "[INFO 08-15 07:04:48] ax.early_stopping.strategies.base: Last progression of any candidate for trial stopping is 0.6999466666666667.\n"
     ]
    },
    {
     "name": "stderr",
     "output_type": "stream",
     "text": [
      "[INFO 08-15 07:04:48] ax.early_stopping.strategies.percentile: Considering trial 9 for early stopping.\n"
     ]
    },
    {
     "name": "stderr",
     "output_type": "stream",
     "text": [
      "[INFO 08-15 07:04:48] ax.early_stopping.strategies.base: Last progression of Trial 9 is 0.6999466666666667.\n"
     ]
    },
    {
     "name": "stderr",
     "output_type": "stream",
     "text": [
      "[INFO 08-15 07:04:48] ax.early_stopping.strategies.percentile: Early stopping objective at last progression is:\n",
      "2    0.938545\n",
      "3    0.896313\n",
      "4    0.912089\n",
      "5    0.951609\n",
      "6    0.943465\n",
      "9    0.957766\n",
      "Name: 0.6999466666666667, dtype: float64.\n"
     ]
    },
    {
     "name": "stderr",
     "output_type": "stream",
     "text": [
      "[INFO 08-15 07:04:48] ax.early_stopping.strategies.percentile: Early stopping decision for 9: False. Reason: Trial objective value 0.9577663349249697 is better than 70.0-th percentile (0.9475369018139054) across comparable trials.\n"
     ]
    },
    {
     "name": "stderr",
     "output_type": "stream",
     "text": [
      "[INFO 08-15 07:04:48] ax.early_stopping.strategies.percentile: Considering trial 10 for early stopping.\n"
     ]
    },
    {
     "name": "stderr",
     "output_type": "stream",
     "text": [
      "[INFO 08-15 07:04:48] ax.early_stopping.strategies.base: Last progression of Trial 10 is 0.29994666666666664.\n"
     ]
    },
    {
     "name": "stderr",
     "output_type": "stream",
     "text": [
      "[INFO 08-15 07:04:48] ax.early_stopping.strategies.base: Trial 10's most recent progression (0.29994666666666664) that is available for metric val_acc falls out of the min/max_progression range (0.3, None). Not early stopping this trial.\n"
     ]
    },
    {
     "name": "stderr",
     "output_type": "stream",
     "text": [
      "[INFO 08-15 07:04:48] ax.early_stopping.strategies.percentile: Considering trial 11 for early stopping.\n"
     ]
    },
    {
     "name": "stderr",
     "output_type": "stream",
     "text": [
      "[INFO 08-15 07:04:48] ax.early_stopping.strategies.base: Last progression of Trial 11 is 0.29994666666666664.\n"
     ]
    },
    {
     "name": "stderr",
     "output_type": "stream",
     "text": [
      "[INFO 08-15 07:04:48] ax.early_stopping.strategies.base: Trial 11's most recent progression (0.29994666666666664) that is available for metric val_acc falls out of the min/max_progression range (0.3, None). Not early stopping this trial.\n"
     ]
    },
    {
     "name": "stderr",
     "output_type": "stream",
     "text": [
      "[INFO 08-15 07:04:48] Scheduler: Waiting for completed trials (for 10 sec, currently running trials: 3).\n"
     ]
    },
    {
     "name": "stderr",
     "output_type": "stream",
     "text": [
      "[INFO 08-15 07:04:58] Scheduler: Fetching data for newly completed trials: [].\n"
     ]
    },
    {
     "name": "stderr",
     "output_type": "stream",
     "text": [
      "[INFO 08-15 07:04:58] Scheduler: Fetching data for trials: 9 - 11 because some metrics on experiment are available while trials are running.\n"
     ]
    },
    {
     "name": "stderr",
     "output_type": "stream",
     "text": [
      "/tmp/tmp.3Yo4S3ORTG/Ax-main/ax/core/map_data.py:192: FutureWarning: The behavior of DataFrame concatenation with empty or all-NA entries is deprecated. In a future version, this will no longer exclude empty or all-NA columns when determining the result dtypes. To retain the old behavior, exclude the relevant entries before the concat operation.\n",
      "  df = pd.concat(\n",
      "/tmp/tmp.3Yo4S3ORTG/Ax-main/ax/core/map_data.py:192: FutureWarning: The behavior of DataFrame concatenation with empty or all-NA entries is deprecated. In a future version, this will no longer exclude empty or all-NA columns when determining the result dtypes. To retain the old behavior, exclude the relevant entries before the concat operation.\n",
      "  df = pd.concat(\n",
      "[INFO 08-15 07:04:59] ax.early_stopping.strategies.base: Last progression of any candidate for trial stopping is 0.6999466666666667.\n"
     ]
    },
    {
     "name": "stderr",
     "output_type": "stream",
     "text": [
      "[INFO 08-15 07:04:59] ax.early_stopping.strategies.percentile: Considering trial 9 for early stopping.\n"
     ]
    },
    {
     "name": "stderr",
     "output_type": "stream",
     "text": [
      "[INFO 08-15 07:04:59] ax.early_stopping.strategies.base: Last progression of Trial 9 is 0.6999466666666667.\n"
     ]
    },
    {
     "name": "stderr",
     "output_type": "stream",
     "text": [
      "[INFO 08-15 07:04:59] ax.early_stopping.strategies.percentile: Early stopping objective at last progression is:\n",
      "2    0.938545\n",
      "3    0.896313\n",
      "4    0.912089\n",
      "5    0.951609\n",
      "6    0.943465\n",
      "9    0.957766\n",
      "Name: 0.6999466666666667, dtype: float64.\n"
     ]
    },
    {
     "name": "stderr",
     "output_type": "stream",
     "text": [
      "[INFO 08-15 07:04:59] ax.early_stopping.strategies.percentile: Early stopping decision for 9: False. Reason: Trial objective value 0.9577663349249697 is better than 70.0-th percentile (0.9475369018139054) across comparable trials.\n"
     ]
    },
    {
     "name": "stderr",
     "output_type": "stream",
     "text": [
      "[INFO 08-15 07:04:59] ax.early_stopping.strategies.percentile: Considering trial 10 for early stopping.\n"
     ]
    },
    {
     "name": "stderr",
     "output_type": "stream",
     "text": [
      "[INFO 08-15 07:04:59] ax.early_stopping.strategies.base: Last progression of Trial 10 is 0.29994666666666664.\n"
     ]
    },
    {
     "name": "stderr",
     "output_type": "stream",
     "text": [
      "[INFO 08-15 07:04:59] ax.early_stopping.strategies.base: Trial 10's most recent progression (0.29994666666666664) that is available for metric val_acc falls out of the min/max_progression range (0.3, None). Not early stopping this trial.\n"
     ]
    },
    {
     "name": "stderr",
     "output_type": "stream",
     "text": [
      "[INFO 08-15 07:04:59] ax.early_stopping.strategies.percentile: Considering trial 11 for early stopping.\n"
     ]
    },
    {
     "name": "stderr",
     "output_type": "stream",
     "text": [
      "[INFO 08-15 07:04:59] ax.early_stopping.strategies.base: Last progression of Trial 11 is 0.29994666666666664.\n"
     ]
    },
    {
     "name": "stderr",
     "output_type": "stream",
     "text": [
      "[INFO 08-15 07:04:59] ax.early_stopping.strategies.base: Trial 11's most recent progression (0.29994666666666664) that is available for metric val_acc falls out of the min/max_progression range (0.3, None). Not early stopping this trial.\n"
     ]
    },
    {
     "name": "stderr",
     "output_type": "stream",
     "text": [
      "[INFO 08-15 07:04:59] Scheduler: Waiting for completed trials (for 10 sec, currently running trials: 3).\n"
     ]
    },
    {
     "name": "stderr",
     "output_type": "stream",
     "text": [
      "[INFO 08-15 07:05:09] Scheduler: Fetching data for newly completed trials: [].\n"
     ]
    },
    {
     "name": "stderr",
     "output_type": "stream",
     "text": [
      "[INFO 08-15 07:05:09] Scheduler: Fetching data for trials: 9 - 11 because some metrics on experiment are available while trials are running.\n"
     ]
    },
    {
     "name": "stderr",
     "output_type": "stream",
     "text": [
      "/tmp/tmp.3Yo4S3ORTG/Ax-main/ax/core/map_data.py:192: FutureWarning: The behavior of DataFrame concatenation with empty or all-NA entries is deprecated. In a future version, this will no longer exclude empty or all-NA columns when determining the result dtypes. To retain the old behavior, exclude the relevant entries before the concat operation.\n",
      "  df = pd.concat(\n",
      "/tmp/tmp.3Yo4S3ORTG/Ax-main/ax/core/map_data.py:192: FutureWarning: The behavior of DataFrame concatenation with empty or all-NA entries is deprecated. In a future version, this will no longer exclude empty or all-NA columns when determining the result dtypes. To retain the old behavior, exclude the relevant entries before the concat operation.\n",
      "  df = pd.concat(\n",
      "[INFO 08-15 07:05:09] ax.early_stopping.strategies.base: Last progression of any candidate for trial stopping is 0.6999466666666667.\n"
     ]
    },
    {
     "name": "stderr",
     "output_type": "stream",
     "text": [
      "[INFO 08-15 07:05:09] ax.early_stopping.strategies.percentile: Considering trial 9 for early stopping.\n"
     ]
    },
    {
     "name": "stderr",
     "output_type": "stream",
     "text": [
      "[INFO 08-15 07:05:09] ax.early_stopping.strategies.base: Last progression of Trial 9 is 0.6999466666666667.\n"
     ]
    },
    {
     "name": "stderr",
     "output_type": "stream",
     "text": [
      "[INFO 08-15 07:05:09] ax.early_stopping.strategies.percentile: Early stopping objective at last progression is:\n",
      "2    0.938545\n",
      "3    0.896313\n",
      "4    0.912089\n",
      "5    0.951609\n",
      "6    0.943465\n",
      "9    0.957766\n",
      "Name: 0.6999466666666667, dtype: float64.\n"
     ]
    },
    {
     "name": "stderr",
     "output_type": "stream",
     "text": [
      "[INFO 08-15 07:05:09] ax.early_stopping.strategies.percentile: Early stopping decision for 9: False. Reason: Trial objective value 0.9577663349249697 is better than 70.0-th percentile (0.9475369018139054) across comparable trials.\n"
     ]
    },
    {
     "name": "stderr",
     "output_type": "stream",
     "text": [
      "[INFO 08-15 07:05:09] ax.early_stopping.strategies.percentile: Considering trial 10 for early stopping.\n"
     ]
    },
    {
     "name": "stderr",
     "output_type": "stream",
     "text": [
      "[INFO 08-15 07:05:09] ax.early_stopping.strategies.base: Last progression of Trial 10 is 0.29994666666666664.\n"
     ]
    },
    {
     "name": "stderr",
     "output_type": "stream",
     "text": [
      "[INFO 08-15 07:05:09] ax.early_stopping.strategies.base: Trial 10's most recent progression (0.29994666666666664) that is available for metric val_acc falls out of the min/max_progression range (0.3, None). Not early stopping this trial.\n"
     ]
    },
    {
     "name": "stderr",
     "output_type": "stream",
     "text": [
      "[INFO 08-15 07:05:09] ax.early_stopping.strategies.percentile: Considering trial 11 for early stopping.\n"
     ]
    },
    {
     "name": "stderr",
     "output_type": "stream",
     "text": [
      "[INFO 08-15 07:05:09] ax.early_stopping.strategies.base: Last progression of Trial 11 is 0.29994666666666664.\n"
     ]
    },
    {
     "name": "stderr",
     "output_type": "stream",
     "text": [
      "[INFO 08-15 07:05:09] ax.early_stopping.strategies.base: Trial 11's most recent progression (0.29994666666666664) that is available for metric val_acc falls out of the min/max_progression range (0.3, None). Not early stopping this trial.\n"
     ]
    },
    {
     "name": "stderr",
     "output_type": "stream",
     "text": [
      "[INFO 08-15 07:05:09] Scheduler: Waiting for completed trials (for 10 sec, currently running trials: 3).\n"
     ]
    },
    {
     "name": "stderr",
     "output_type": "stream",
     "text": [
      "[INFO 08-15 07:05:19] Scheduler: Fetching data for newly completed trials: [].\n"
     ]
    },
    {
     "name": "stderr",
     "output_type": "stream",
     "text": [
      "[INFO 08-15 07:05:19] Scheduler: Fetching data for trials: 9 - 11 because some metrics on experiment are available while trials are running.\n"
     ]
    },
    {
     "name": "stderr",
     "output_type": "stream",
     "text": [
      "/tmp/tmp.3Yo4S3ORTG/Ax-main/ax/core/map_data.py:192: FutureWarning: The behavior of DataFrame concatenation with empty or all-NA entries is deprecated. In a future version, this will no longer exclude empty or all-NA columns when determining the result dtypes. To retain the old behavior, exclude the relevant entries before the concat operation.\n",
      "  df = pd.concat(\n",
      "/tmp/tmp.3Yo4S3ORTG/Ax-main/ax/core/map_data.py:192: FutureWarning: The behavior of DataFrame concatenation with empty or all-NA entries is deprecated. In a future version, this will no longer exclude empty or all-NA columns when determining the result dtypes. To retain the old behavior, exclude the relevant entries before the concat operation.\n",
      "  df = pd.concat(\n",
      "[INFO 08-15 07:05:19] ax.early_stopping.strategies.base: Last progression of any candidate for trial stopping is 0.7999466666666667.\n"
     ]
    },
    {
     "name": "stderr",
     "output_type": "stream",
     "text": [
      "[INFO 08-15 07:05:19] ax.early_stopping.strategies.percentile: Considering trial 9 for early stopping.\n"
     ]
    },
    {
     "name": "stderr",
     "output_type": "stream",
     "text": [
      "[INFO 08-15 07:05:19] ax.early_stopping.strategies.base: Last progression of Trial 9 is 0.7999466666666667.\n"
     ]
    },
    {
     "name": "stderr",
     "output_type": "stream",
     "text": [
      "[INFO 08-15 07:05:19] ax.early_stopping.strategies.percentile: Early stopping objective at last progression is:\n",
      "2    0.940890\n",
      "3    0.896494\n",
      "4    0.913319\n",
      "5    0.952123\n",
      "6    0.943624\n",
      "9    0.957776\n",
      "Name: 0.7999466666666667, dtype: float64.\n"
     ]
    },
    {
     "name": "stderr",
     "output_type": "stream",
     "text": [
      "[INFO 08-15 07:05:19] ax.early_stopping.strategies.percentile: Early stopping decision for 9: False. Reason: Trial objective value 0.957776008712664 is better than 70.0-th percentile (0.9478736406781698) across comparable trials.\n"
     ]
    },
    {
     "name": "stderr",
     "output_type": "stream",
     "text": [
      "[INFO 08-15 07:05:19] ax.early_stopping.strategies.percentile: Considering trial 10 for early stopping.\n"
     ]
    },
    {
     "name": "stderr",
     "output_type": "stream",
     "text": [
      "[INFO 08-15 07:05:19] ax.early_stopping.strategies.base: Last progression of Trial 10 is 0.29994666666666664.\n"
     ]
    },
    {
     "name": "stderr",
     "output_type": "stream",
     "text": [
      "[INFO 08-15 07:05:19] ax.early_stopping.strategies.base: Trial 10's most recent progression (0.29994666666666664) that is available for metric val_acc falls out of the min/max_progression range (0.3, None). Not early stopping this trial.\n"
     ]
    },
    {
     "name": "stderr",
     "output_type": "stream",
     "text": [
      "[INFO 08-15 07:05:19] ax.early_stopping.strategies.percentile: Considering trial 11 for early stopping.\n"
     ]
    },
    {
     "name": "stderr",
     "output_type": "stream",
     "text": [
      "[INFO 08-15 07:05:19] ax.early_stopping.strategies.base: Last progression of Trial 11 is 0.29994666666666664.\n"
     ]
    },
    {
     "name": "stderr",
     "output_type": "stream",
     "text": [
      "[INFO 08-15 07:05:19] ax.early_stopping.strategies.base: Trial 11's most recent progression (0.29994666666666664) that is available for metric val_acc falls out of the min/max_progression range (0.3, None). Not early stopping this trial.\n"
     ]
    },
    {
     "name": "stderr",
     "output_type": "stream",
     "text": [
      "[INFO 08-15 07:05:19] Scheduler: Waiting for completed trials (for 10 sec, currently running trials: 3).\n"
     ]
    },
    {
     "name": "stderr",
     "output_type": "stream",
     "text": [
      "[INFO 08-15 07:05:29] Scheduler: Fetching data for newly completed trials: [].\n"
     ]
    },
    {
     "name": "stderr",
     "output_type": "stream",
     "text": [
      "[INFO 08-15 07:05:29] Scheduler: Fetching data for trials: 9 - 11 because some metrics on experiment are available while trials are running.\n"
     ]
    },
    {
     "name": "stderr",
     "output_type": "stream",
     "text": [
      "/tmp/tmp.3Yo4S3ORTG/Ax-main/ax/core/map_data.py:192: FutureWarning: The behavior of DataFrame concatenation with empty or all-NA entries is deprecated. In a future version, this will no longer exclude empty or all-NA columns when determining the result dtypes. To retain the old behavior, exclude the relevant entries before the concat operation.\n",
      "  df = pd.concat(\n",
      "/tmp/tmp.3Yo4S3ORTG/Ax-main/ax/core/map_data.py:192: FutureWarning: The behavior of DataFrame concatenation with empty or all-NA entries is deprecated. In a future version, this will no longer exclude empty or all-NA columns when determining the result dtypes. To retain the old behavior, exclude the relevant entries before the concat operation.\n",
      "  df = pd.concat(\n",
      "[INFO 08-15 07:05:29] ax.early_stopping.strategies.base: Last progression of any candidate for trial stopping is 0.7999466666666667.\n"
     ]
    },
    {
     "name": "stderr",
     "output_type": "stream",
     "text": [
      "[INFO 08-15 07:05:29] ax.early_stopping.strategies.percentile: Considering trial 9 for early stopping.\n"
     ]
    },
    {
     "name": "stderr",
     "output_type": "stream",
     "text": [
      "[INFO 08-15 07:05:29] ax.early_stopping.strategies.base: Last progression of Trial 9 is 0.7999466666666667.\n"
     ]
    },
    {
     "name": "stderr",
     "output_type": "stream",
     "text": [
      "[INFO 08-15 07:05:29] ax.early_stopping.strategies.percentile: Early stopping objective at last progression is:\n",
      "2    0.940890\n",
      "3    0.896494\n",
      "4    0.913319\n",
      "5    0.952123\n",
      "6    0.943624\n",
      "9    0.957776\n",
      "Name: 0.7999466666666667, dtype: float64.\n"
     ]
    },
    {
     "name": "stderr",
     "output_type": "stream",
     "text": [
      "[INFO 08-15 07:05:29] ax.early_stopping.strategies.percentile: Early stopping decision for 9: False. Reason: Trial objective value 0.957776008712664 is better than 70.0-th percentile (0.9478736406781698) across comparable trials.\n"
     ]
    },
    {
     "name": "stderr",
     "output_type": "stream",
     "text": [
      "[INFO 08-15 07:05:29] ax.early_stopping.strategies.percentile: Considering trial 10 for early stopping.\n"
     ]
    },
    {
     "name": "stderr",
     "output_type": "stream",
     "text": [
      "[INFO 08-15 07:05:29] ax.early_stopping.strategies.base: Last progression of Trial 10 is 0.3999466666666667.\n"
     ]
    },
    {
     "name": "stderr",
     "output_type": "stream",
     "text": [
      "[INFO 08-15 07:05:29] ax.early_stopping.strategies.percentile: Early stopping objective at last progression is:\n",
      "2     0.932674\n",
      "3     0.893837\n",
      "4     0.889785\n",
      "5     0.941975\n",
      "6     0.934073\n",
      "7     0.918798\n",
      "8     0.926481\n",
      "9     0.950839\n",
      "10    0.954162\n",
      "11    0.944047\n",
      "Name: 0.3999466666666667, dtype: float64.\n"
     ]
    },
    {
     "name": "stderr",
     "output_type": "stream",
     "text": [
      "[INFO 08-15 07:05:29] ax.early_stopping.strategies.percentile: Early stopping decision for 10: False. Reason: Trial objective value 0.9541618254384384 is better than 70.0-th percentile (0.9425962476894773) across comparable trials.\n"
     ]
    },
    {
     "name": "stderr",
     "output_type": "stream",
     "text": [
      "[INFO 08-15 07:05:29] ax.early_stopping.strategies.percentile: Considering trial 11 for early stopping.\n"
     ]
    },
    {
     "name": "stderr",
     "output_type": "stream",
     "text": [
      "[INFO 08-15 07:05:29] ax.early_stopping.strategies.base: Last progression of Trial 11 is 0.3999466666666667.\n"
     ]
    },
    {
     "name": "stderr",
     "output_type": "stream",
     "text": [
      "[INFO 08-15 07:05:29] ax.early_stopping.strategies.percentile: Early stopping objective at last progression is:\n",
      "2     0.932674\n",
      "3     0.893837\n",
      "4     0.889785\n",
      "5     0.941975\n",
      "6     0.934073\n",
      "7     0.918798\n",
      "8     0.926481\n",
      "9     0.950839\n",
      "10    0.954162\n",
      "11    0.944047\n",
      "Name: 0.3999466666666667, dtype: float64.\n"
     ]
    },
    {
     "name": "stderr",
     "output_type": "stream",
     "text": [
      "[INFO 08-15 07:05:29] ax.early_stopping.strategies.percentile: Early stopping decision for 11: False. Reason: Trial objective value 0.9440465610602805 is better than 70.0-th percentile (0.9425962476894773) across comparable trials.\n"
     ]
    },
    {
     "name": "stderr",
     "output_type": "stream",
     "text": [
      "[INFO 08-15 07:05:29] Scheduler: Waiting for completed trials (for 10 sec, currently running trials: 3).\n"
     ]
    },
    {
     "name": "stderr",
     "output_type": "stream",
     "text": [
      "[INFO 08-15 07:05:39] Scheduler: Fetching data for newly completed trials: [].\n"
     ]
    },
    {
     "name": "stderr",
     "output_type": "stream",
     "text": [
      "[INFO 08-15 07:05:39] Scheduler: Fetching data for trials: 9 - 11 because some metrics on experiment are available while trials are running.\n"
     ]
    },
    {
     "name": "stderr",
     "output_type": "stream",
     "text": [
      "/tmp/tmp.3Yo4S3ORTG/Ax-main/ax/core/map_data.py:192: FutureWarning: The behavior of DataFrame concatenation with empty or all-NA entries is deprecated. In a future version, this will no longer exclude empty or all-NA columns when determining the result dtypes. To retain the old behavior, exclude the relevant entries before the concat operation.\n",
      "  df = pd.concat(\n",
      "/tmp/tmp.3Yo4S3ORTG/Ax-main/ax/core/map_data.py:192: FutureWarning: The behavior of DataFrame concatenation with empty or all-NA entries is deprecated. In a future version, this will no longer exclude empty or all-NA columns when determining the result dtypes. To retain the old behavior, exclude the relevant entries before the concat operation.\n",
      "  df = pd.concat(\n",
      "[INFO 08-15 07:05:39] ax.early_stopping.strategies.base: Last progression of any candidate for trial stopping is 0.7999466666666667.\n"
     ]
    },
    {
     "name": "stderr",
     "output_type": "stream",
     "text": [
      "[INFO 08-15 07:05:39] ax.early_stopping.strategies.percentile: Considering trial 9 for early stopping.\n"
     ]
    },
    {
     "name": "stderr",
     "output_type": "stream",
     "text": [
      "[INFO 08-15 07:05:39] ax.early_stopping.strategies.base: Last progression of Trial 9 is 0.7999466666666667.\n"
     ]
    },
    {
     "name": "stderr",
     "output_type": "stream",
     "text": [
      "[INFO 08-15 07:05:39] ax.early_stopping.strategies.percentile: Early stopping objective at last progression is:\n",
      "2    0.940890\n",
      "3    0.896494\n",
      "4    0.913319\n",
      "5    0.952123\n",
      "6    0.943624\n",
      "9    0.957776\n",
      "Name: 0.7999466666666667, dtype: float64.\n"
     ]
    },
    {
     "name": "stderr",
     "output_type": "stream",
     "text": [
      "[INFO 08-15 07:05:39] ax.early_stopping.strategies.percentile: Early stopping decision for 9: False. Reason: Trial objective value 0.957776008712664 is better than 70.0-th percentile (0.9478736406781698) across comparable trials.\n"
     ]
    },
    {
     "name": "stderr",
     "output_type": "stream",
     "text": [
      "[INFO 08-15 07:05:39] ax.early_stopping.strategies.percentile: Considering trial 10 for early stopping.\n"
     ]
    },
    {
     "name": "stderr",
     "output_type": "stream",
     "text": [
      "[INFO 08-15 07:05:39] ax.early_stopping.strategies.base: Last progression of Trial 10 is 0.3999466666666667.\n"
     ]
    },
    {
     "name": "stderr",
     "output_type": "stream",
     "text": [
      "[INFO 08-15 07:05:39] ax.early_stopping.strategies.percentile: Early stopping objective at last progression is:\n",
      "2     0.932674\n",
      "3     0.893837\n",
      "4     0.889785\n",
      "5     0.941975\n",
      "6     0.934073\n",
      "7     0.918798\n",
      "8     0.926481\n",
      "9     0.950839\n",
      "10    0.954162\n",
      "11    0.944047\n",
      "Name: 0.3999466666666667, dtype: float64.\n"
     ]
    },
    {
     "name": "stderr",
     "output_type": "stream",
     "text": [
      "[INFO 08-15 07:05:39] ax.early_stopping.strategies.percentile: Early stopping decision for 10: False. Reason: Trial objective value 0.9541618254384384 is better than 70.0-th percentile (0.9425962476894773) across comparable trials.\n"
     ]
    },
    {
     "name": "stderr",
     "output_type": "stream",
     "text": [
      "[INFO 08-15 07:05:39] ax.early_stopping.strategies.percentile: Considering trial 11 for early stopping.\n"
     ]
    },
    {
     "name": "stderr",
     "output_type": "stream",
     "text": [
      "[INFO 08-15 07:05:39] ax.early_stopping.strategies.base: Last progression of Trial 11 is 0.3999466666666667.\n"
     ]
    },
    {
     "name": "stderr",
     "output_type": "stream",
     "text": [
      "[INFO 08-15 07:05:39] ax.early_stopping.strategies.percentile: Early stopping objective at last progression is:\n",
      "2     0.932674\n",
      "3     0.893837\n",
      "4     0.889785\n",
      "5     0.941975\n",
      "6     0.934073\n",
      "7     0.918798\n",
      "8     0.926481\n",
      "9     0.950839\n",
      "10    0.954162\n",
      "11    0.944047\n",
      "Name: 0.3999466666666667, dtype: float64.\n"
     ]
    },
    {
     "name": "stderr",
     "output_type": "stream",
     "text": [
      "[INFO 08-15 07:05:39] ax.early_stopping.strategies.percentile: Early stopping decision for 11: False. Reason: Trial objective value 0.9440465610602805 is better than 70.0-th percentile (0.9425962476894773) across comparable trials.\n"
     ]
    },
    {
     "name": "stderr",
     "output_type": "stream",
     "text": [
      "[INFO 08-15 07:05:39] Scheduler: Waiting for completed trials (for 10 sec, currently running trials: 3).\n"
     ]
    },
    {
     "name": "stderr",
     "output_type": "stream",
     "text": [
      "[INFO 08-15 07:05:49] Scheduler: Fetching data for newly completed trials: [].\n"
     ]
    },
    {
     "name": "stderr",
     "output_type": "stream",
     "text": [
      "[INFO 08-15 07:05:49] Scheduler: Fetching data for trials: 9 - 11 because some metrics on experiment are available while trials are running.\n"
     ]
    },
    {
     "name": "stderr",
     "output_type": "stream",
     "text": [
      "/tmp/tmp.3Yo4S3ORTG/Ax-main/ax/core/map_data.py:192: FutureWarning: The behavior of DataFrame concatenation with empty or all-NA entries is deprecated. In a future version, this will no longer exclude empty or all-NA columns when determining the result dtypes. To retain the old behavior, exclude the relevant entries before the concat operation.\n",
      "  df = pd.concat(\n",
      "/tmp/tmp.3Yo4S3ORTG/Ax-main/ax/core/map_data.py:192: FutureWarning: The behavior of DataFrame concatenation with empty or all-NA entries is deprecated. In a future version, this will no longer exclude empty or all-NA columns when determining the result dtypes. To retain the old behavior, exclude the relevant entries before the concat operation.\n",
      "  df = pd.concat(\n",
      "[INFO 08-15 07:05:50] ax.early_stopping.strategies.base: Last progression of any candidate for trial stopping is 0.7999466666666667.\n"
     ]
    },
    {
     "name": "stderr",
     "output_type": "stream",
     "text": [
      "[INFO 08-15 07:05:50] ax.early_stopping.strategies.percentile: Considering trial 9 for early stopping.\n"
     ]
    },
    {
     "name": "stderr",
     "output_type": "stream",
     "text": [
      "[INFO 08-15 07:05:50] ax.early_stopping.strategies.base: Last progression of Trial 9 is 0.7999466666666667.\n"
     ]
    },
    {
     "name": "stderr",
     "output_type": "stream",
     "text": [
      "[INFO 08-15 07:05:50] ax.early_stopping.strategies.percentile: Early stopping objective at last progression is:\n",
      "2    0.940890\n",
      "3    0.896494\n",
      "4    0.913319\n",
      "5    0.952123\n",
      "6    0.943624\n",
      "9    0.957776\n",
      "Name: 0.7999466666666667, dtype: float64.\n"
     ]
    },
    {
     "name": "stderr",
     "output_type": "stream",
     "text": [
      "[INFO 08-15 07:05:50] ax.early_stopping.strategies.percentile: Early stopping decision for 9: False. Reason: Trial objective value 0.957776008712664 is better than 70.0-th percentile (0.9478736406781698) across comparable trials.\n"
     ]
    },
    {
     "name": "stderr",
     "output_type": "stream",
     "text": [
      "[INFO 08-15 07:05:50] ax.early_stopping.strategies.percentile: Considering trial 10 for early stopping.\n"
     ]
    },
    {
     "name": "stderr",
     "output_type": "stream",
     "text": [
      "[INFO 08-15 07:05:50] ax.early_stopping.strategies.base: Last progression of Trial 10 is 0.3999466666666667.\n"
     ]
    },
    {
     "name": "stderr",
     "output_type": "stream",
     "text": [
      "[INFO 08-15 07:05:50] ax.early_stopping.strategies.percentile: Early stopping objective at last progression is:\n",
      "2     0.932674\n",
      "3     0.893837\n",
      "4     0.889785\n",
      "5     0.941975\n",
      "6     0.934073\n",
      "7     0.918798\n",
      "8     0.926481\n",
      "9     0.950839\n",
      "10    0.954162\n",
      "11    0.944047\n",
      "Name: 0.3999466666666667, dtype: float64.\n"
     ]
    },
    {
     "name": "stderr",
     "output_type": "stream",
     "text": [
      "[INFO 08-15 07:05:50] ax.early_stopping.strategies.percentile: Early stopping decision for 10: False. Reason: Trial objective value 0.9541618254384384 is better than 70.0-th percentile (0.9425962476894773) across comparable trials.\n"
     ]
    },
    {
     "name": "stderr",
     "output_type": "stream",
     "text": [
      "[INFO 08-15 07:05:50] ax.early_stopping.strategies.percentile: Considering trial 11 for early stopping.\n"
     ]
    },
    {
     "name": "stderr",
     "output_type": "stream",
     "text": [
      "[INFO 08-15 07:05:50] ax.early_stopping.strategies.base: Last progression of Trial 11 is 0.3999466666666667.\n"
     ]
    },
    {
     "name": "stderr",
     "output_type": "stream",
     "text": [
      "[INFO 08-15 07:05:50] ax.early_stopping.strategies.percentile: Early stopping objective at last progression is:\n",
      "2     0.932674\n",
      "3     0.893837\n",
      "4     0.889785\n",
      "5     0.941975\n",
      "6     0.934073\n",
      "7     0.918798\n",
      "8     0.926481\n",
      "9     0.950839\n",
      "10    0.954162\n",
      "11    0.944047\n",
      "Name: 0.3999466666666667, dtype: float64.\n"
     ]
    },
    {
     "name": "stderr",
     "output_type": "stream",
     "text": [
      "[INFO 08-15 07:05:50] ax.early_stopping.strategies.percentile: Early stopping decision for 11: False. Reason: Trial objective value 0.9440465610602805 is better than 70.0-th percentile (0.9425962476894773) across comparable trials.\n"
     ]
    },
    {
     "name": "stderr",
     "output_type": "stream",
     "text": [
      "[INFO 08-15 07:05:50] Scheduler: Waiting for completed trials (for 10 sec, currently running trials: 3).\n"
     ]
    },
    {
     "name": "stderr",
     "output_type": "stream",
     "text": [
      "[INFO 08-15 07:06:00] Scheduler: Fetching data for newly completed trials: [].\n"
     ]
    },
    {
     "name": "stderr",
     "output_type": "stream",
     "text": [
      "[INFO 08-15 07:06:00] Scheduler: Fetching data for trials: 9 - 11 because some metrics on experiment are available while trials are running.\n"
     ]
    },
    {
     "name": "stderr",
     "output_type": "stream",
     "text": [
      "/tmp/tmp.3Yo4S3ORTG/Ax-main/ax/core/map_data.py:192: FutureWarning: The behavior of DataFrame concatenation with empty or all-NA entries is deprecated. In a future version, this will no longer exclude empty or all-NA columns when determining the result dtypes. To retain the old behavior, exclude the relevant entries before the concat operation.\n",
      "  df = pd.concat(\n",
      "/tmp/tmp.3Yo4S3ORTG/Ax-main/ax/core/map_data.py:192: FutureWarning: The behavior of DataFrame concatenation with empty or all-NA entries is deprecated. In a future version, this will no longer exclude empty or all-NA columns when determining the result dtypes. To retain the old behavior, exclude the relevant entries before the concat operation.\n",
      "  df = pd.concat(\n",
      "[INFO 08-15 07:06:00] ax.early_stopping.strategies.base: Last progression of any candidate for trial stopping is 0.8999466666666667.\n"
     ]
    },
    {
     "name": "stderr",
     "output_type": "stream",
     "text": [
      "[INFO 08-15 07:06:00] ax.early_stopping.strategies.percentile: Considering trial 9 for early stopping.\n"
     ]
    },
    {
     "name": "stderr",
     "output_type": "stream",
     "text": [
      "[INFO 08-15 07:06:00] ax.early_stopping.strategies.base: Last progression of Trial 9 is 0.8999466666666667.\n"
     ]
    },
    {
     "name": "stderr",
     "output_type": "stream",
     "text": [
      "[INFO 08-15 07:06:00] ax.early_stopping.strategies.percentile: Early stopping objective at last progression is:\n",
      "2    0.943914\n",
      "3    0.899786\n",
      "4    0.912556\n",
      "5    0.954306\n",
      "6    0.943693\n",
      "9    0.958148\n",
      "Name: 0.8999466666666667, dtype: float64.\n"
     ]
    },
    {
     "name": "stderr",
     "output_type": "stream",
     "text": [
      "[INFO 08-15 07:06:00] ax.early_stopping.strategies.percentile: Early stopping decision for 9: False. Reason: Trial objective value 0.9581476465223115 is better than 70.0-th percentile (0.9491098284490966) across comparable trials.\n"
     ]
    },
    {
     "name": "stderr",
     "output_type": "stream",
     "text": [
      "[INFO 08-15 07:06:00] ax.early_stopping.strategies.percentile: Considering trial 10 for early stopping.\n"
     ]
    },
    {
     "name": "stderr",
     "output_type": "stream",
     "text": [
      "[INFO 08-15 07:06:00] ax.early_stopping.strategies.base: Last progression of Trial 10 is 0.3999466666666667.\n"
     ]
    },
    {
     "name": "stderr",
     "output_type": "stream",
     "text": [
      "[INFO 08-15 07:06:00] ax.early_stopping.strategies.percentile: Early stopping objective at last progression is:\n",
      "2     0.932674\n",
      "3     0.893837\n",
      "4     0.889785\n",
      "5     0.941975\n",
      "6     0.934073\n",
      "7     0.918798\n",
      "8     0.926481\n",
      "9     0.950839\n",
      "10    0.954162\n",
      "11    0.944047\n",
      "Name: 0.3999466666666667, dtype: float64.\n"
     ]
    },
    {
     "name": "stderr",
     "output_type": "stream",
     "text": [
      "[INFO 08-15 07:06:00] ax.early_stopping.strategies.percentile: Early stopping decision for 10: False. Reason: Trial objective value 0.9541618254384384 is better than 70.0-th percentile (0.9425962476894773) across comparable trials.\n"
     ]
    },
    {
     "name": "stderr",
     "output_type": "stream",
     "text": [
      "[INFO 08-15 07:06:00] ax.early_stopping.strategies.percentile: Considering trial 11 for early stopping.\n"
     ]
    },
    {
     "name": "stderr",
     "output_type": "stream",
     "text": [
      "[INFO 08-15 07:06:00] ax.early_stopping.strategies.base: Last progression of Trial 11 is 0.3999466666666667.\n"
     ]
    },
    {
     "name": "stderr",
     "output_type": "stream",
     "text": [
      "[INFO 08-15 07:06:00] ax.early_stopping.strategies.percentile: Early stopping objective at last progression is:\n",
      "2     0.932674\n",
      "3     0.893837\n",
      "4     0.889785\n",
      "5     0.941975\n",
      "6     0.934073\n",
      "7     0.918798\n",
      "8     0.926481\n",
      "9     0.950839\n",
      "10    0.954162\n",
      "11    0.944047\n",
      "Name: 0.3999466666666667, dtype: float64.\n"
     ]
    },
    {
     "name": "stderr",
     "output_type": "stream",
     "text": [
      "[INFO 08-15 07:06:00] ax.early_stopping.strategies.percentile: Early stopping decision for 11: False. Reason: Trial objective value 0.9440465610602805 is better than 70.0-th percentile (0.9425962476894773) across comparable trials.\n"
     ]
    },
    {
     "name": "stderr",
     "output_type": "stream",
     "text": [
      "[INFO 08-15 07:06:00] Scheduler: Waiting for completed trials (for 10 sec, currently running trials: 3).\n"
     ]
    },
    {
     "name": "stderr",
     "output_type": "stream",
     "text": [
      "[INFO 08-15 07:06:10] Scheduler: Fetching data for newly completed trials: [].\n"
     ]
    },
    {
     "name": "stderr",
     "output_type": "stream",
     "text": [
      "[INFO 08-15 07:06:10] Scheduler: Fetching data for trials: 9 - 11 because some metrics on experiment are available while trials are running.\n"
     ]
    },
    {
     "name": "stderr",
     "output_type": "stream",
     "text": [
      "/tmp/tmp.3Yo4S3ORTG/Ax-main/ax/core/map_data.py:192: FutureWarning: The behavior of DataFrame concatenation with empty or all-NA entries is deprecated. In a future version, this will no longer exclude empty or all-NA columns when determining the result dtypes. To retain the old behavior, exclude the relevant entries before the concat operation.\n",
      "  df = pd.concat(\n",
      "/tmp/tmp.3Yo4S3ORTG/Ax-main/ax/core/map_data.py:192: FutureWarning: The behavior of DataFrame concatenation with empty or all-NA entries is deprecated. In a future version, this will no longer exclude empty or all-NA columns when determining the result dtypes. To retain the old behavior, exclude the relevant entries before the concat operation.\n",
      "  df = pd.concat(\n",
      "[INFO 08-15 07:06:10] ax.early_stopping.strategies.base: Last progression of any candidate for trial stopping is 0.8999466666666667.\n"
     ]
    },
    {
     "name": "stderr",
     "output_type": "stream",
     "text": [
      "[INFO 08-15 07:06:10] ax.early_stopping.strategies.percentile: Considering trial 9 for early stopping.\n"
     ]
    },
    {
     "name": "stderr",
     "output_type": "stream",
     "text": [
      "[INFO 08-15 07:06:10] ax.early_stopping.strategies.base: Last progression of Trial 9 is 0.8999466666666667.\n"
     ]
    },
    {
     "name": "stderr",
     "output_type": "stream",
     "text": [
      "[INFO 08-15 07:06:10] ax.early_stopping.strategies.percentile: Early stopping objective at last progression is:\n",
      "2    0.943914\n",
      "3    0.899786\n",
      "4    0.912556\n",
      "5    0.954306\n",
      "6    0.943693\n",
      "9    0.958148\n",
      "Name: 0.8999466666666667, dtype: float64.\n"
     ]
    },
    {
     "name": "stderr",
     "output_type": "stream",
     "text": [
      "[INFO 08-15 07:06:10] ax.early_stopping.strategies.percentile: Early stopping decision for 9: False. Reason: Trial objective value 0.9581476465223115 is better than 70.0-th percentile (0.9491098284490966) across comparable trials.\n"
     ]
    },
    {
     "name": "stderr",
     "output_type": "stream",
     "text": [
      "[INFO 08-15 07:06:10] ax.early_stopping.strategies.percentile: Considering trial 10 for early stopping.\n"
     ]
    },
    {
     "name": "stderr",
     "output_type": "stream",
     "text": [
      "[INFO 08-15 07:06:10] ax.early_stopping.strategies.base: Last progression of Trial 10 is 0.49994666666666665.\n"
     ]
    },
    {
     "name": "stderr",
     "output_type": "stream",
     "text": [
      "[INFO 08-15 07:06:10] ax.early_stopping.strategies.percentile: Early stopping objective at last progression is:\n",
      "2     0.938710\n",
      "3     0.896044\n",
      "4     0.892600\n",
      "5     0.946234\n",
      "6     0.938752\n",
      "9     0.954568\n",
      "10    0.957133\n",
      "Name: 0.49994666666666665, dtype: float64.\n"
     ]
    },
    {
     "name": "stderr",
     "output_type": "stream",
     "text": [
      "[INFO 08-15 07:06:10] ax.early_stopping.strategies.percentile: Early stopping decision for 10: False. Reason: Trial objective value 0.9571328422146789 is better than 70.0-th percentile (0.947900514736786) across comparable trials.\n"
     ]
    },
    {
     "name": "stderr",
     "output_type": "stream",
     "text": [
      "[INFO 08-15 07:06:10] ax.early_stopping.strategies.percentile: Considering trial 11 for early stopping.\n"
     ]
    },
    {
     "name": "stderr",
     "output_type": "stream",
     "text": [
      "[INFO 08-15 07:06:10] ax.early_stopping.strategies.base: Last progression of Trial 11 is 0.3999466666666667.\n"
     ]
    },
    {
     "name": "stderr",
     "output_type": "stream",
     "text": [
      "[INFO 08-15 07:06:10] ax.early_stopping.strategies.percentile: Early stopping objective at last progression is:\n",
      "2     0.932674\n",
      "3     0.893837\n",
      "4     0.889785\n",
      "5     0.941975\n",
      "6     0.934073\n",
      "7     0.918798\n",
      "8     0.926481\n",
      "9     0.950839\n",
      "10    0.954162\n",
      "11    0.944047\n",
      "Name: 0.3999466666666667, dtype: float64.\n"
     ]
    },
    {
     "name": "stderr",
     "output_type": "stream",
     "text": [
      "[INFO 08-15 07:06:10] ax.early_stopping.strategies.percentile: Early stopping decision for 11: False. Reason: Trial objective value 0.9440465610602805 is better than 70.0-th percentile (0.9425962476894773) across comparable trials.\n"
     ]
    },
    {
     "name": "stderr",
     "output_type": "stream",
     "text": [
      "[INFO 08-15 07:06:10] Scheduler: Waiting for completed trials (for 10 sec, currently running trials: 3).\n"
     ]
    },
    {
     "name": "stderr",
     "output_type": "stream",
     "text": [
      "[INFO 08-15 07:06:20] Scheduler: Fetching data for newly completed trials: [].\n"
     ]
    },
    {
     "name": "stderr",
     "output_type": "stream",
     "text": [
      "[INFO 08-15 07:06:20] Scheduler: Fetching data for trials: 9 - 11 because some metrics on experiment are available while trials are running.\n"
     ]
    },
    {
     "name": "stderr",
     "output_type": "stream",
     "text": [
      "/tmp/tmp.3Yo4S3ORTG/Ax-main/ax/core/map_data.py:192: FutureWarning: The behavior of DataFrame concatenation with empty or all-NA entries is deprecated. In a future version, this will no longer exclude empty or all-NA columns when determining the result dtypes. To retain the old behavior, exclude the relevant entries before the concat operation.\n",
      "  df = pd.concat(\n",
      "/tmp/tmp.3Yo4S3ORTG/Ax-main/ax/core/map_data.py:192: FutureWarning: The behavior of DataFrame concatenation with empty or all-NA entries is deprecated. In a future version, this will no longer exclude empty or all-NA columns when determining the result dtypes. To retain the old behavior, exclude the relevant entries before the concat operation.\n",
      "  df = pd.concat(\n",
      "[INFO 08-15 07:06:20] ax.early_stopping.strategies.base: Last progression of any candidate for trial stopping is 0.8999466666666667.\n"
     ]
    },
    {
     "name": "stderr",
     "output_type": "stream",
     "text": [
      "[INFO 08-15 07:06:20] ax.early_stopping.strategies.percentile: Considering trial 9 for early stopping.\n"
     ]
    },
    {
     "name": "stderr",
     "output_type": "stream",
     "text": [
      "[INFO 08-15 07:06:20] ax.early_stopping.strategies.base: Last progression of Trial 9 is 0.8999466666666667.\n"
     ]
    },
    {
     "name": "stderr",
     "output_type": "stream",
     "text": [
      "[INFO 08-15 07:06:20] ax.early_stopping.strategies.percentile: Early stopping objective at last progression is:\n",
      "2    0.943914\n",
      "3    0.899786\n",
      "4    0.912556\n",
      "5    0.954306\n",
      "6    0.943693\n",
      "9    0.958148\n",
      "Name: 0.8999466666666667, dtype: float64.\n"
     ]
    },
    {
     "name": "stderr",
     "output_type": "stream",
     "text": [
      "[INFO 08-15 07:06:20] ax.early_stopping.strategies.percentile: Early stopping decision for 9: False. Reason: Trial objective value 0.9581476465223115 is better than 70.0-th percentile (0.9491098284490966) across comparable trials.\n"
     ]
    },
    {
     "name": "stderr",
     "output_type": "stream",
     "text": [
      "[INFO 08-15 07:06:20] ax.early_stopping.strategies.percentile: Considering trial 10 for early stopping.\n"
     ]
    },
    {
     "name": "stderr",
     "output_type": "stream",
     "text": [
      "[INFO 08-15 07:06:20] ax.early_stopping.strategies.base: Last progression of Trial 10 is 0.49994666666666665.\n"
     ]
    },
    {
     "name": "stderr",
     "output_type": "stream",
     "text": [
      "[INFO 08-15 07:06:20] ax.early_stopping.strategies.percentile: Early stopping objective at last progression is:\n",
      "2     0.938710\n",
      "3     0.896044\n",
      "4     0.892600\n",
      "5     0.946234\n",
      "6     0.938752\n",
      "9     0.954568\n",
      "10    0.957133\n",
      "11    0.949821\n",
      "Name: 0.49994666666666665, dtype: float64.\n"
     ]
    },
    {
     "name": "stderr",
     "output_type": "stream",
     "text": [
      "[INFO 08-15 07:06:20] ax.early_stopping.strategies.percentile: Early stopping decision for 10: False. Reason: Trial objective value 0.9571328422146789 is better than 70.0-th percentile (0.9494619408067746) across comparable trials.\n"
     ]
    },
    {
     "name": "stderr",
     "output_type": "stream",
     "text": [
      "[INFO 08-15 07:06:20] ax.early_stopping.strategies.percentile: Considering trial 11 for early stopping.\n"
     ]
    },
    {
     "name": "stderr",
     "output_type": "stream",
     "text": [
      "[INFO 08-15 07:06:20] ax.early_stopping.strategies.base: Last progression of Trial 11 is 0.49994666666666665.\n"
     ]
    },
    {
     "name": "stderr",
     "output_type": "stream",
     "text": [
      "[INFO 08-15 07:06:20] ax.early_stopping.strategies.percentile: Early stopping objective at last progression is:\n",
      "2     0.938710\n",
      "3     0.896044\n",
      "4     0.892600\n",
      "5     0.946234\n",
      "6     0.938752\n",
      "9     0.954568\n",
      "10    0.957133\n",
      "11    0.949821\n",
      "Name: 0.49994666666666665, dtype: float64.\n"
     ]
    },
    {
     "name": "stderr",
     "output_type": "stream",
     "text": [
      "[INFO 08-15 07:06:20] ax.early_stopping.strategies.percentile: Early stopping decision for 11: False. Reason: Trial objective value 0.9498206501326205 is better than 70.0-th percentile (0.9494619408067746) across comparable trials.\n"
     ]
    },
    {
     "name": "stderr",
     "output_type": "stream",
     "text": [
      "[INFO 08-15 07:06:20] Scheduler: Waiting for completed trials (for 10 sec, currently running trials: 3).\n"
     ]
    },
    {
     "name": "stderr",
     "output_type": "stream",
     "text": [
      "[INFO 08-15 07:06:30] Scheduler: Fetching data for newly completed trials: [].\n"
     ]
    },
    {
     "name": "stderr",
     "output_type": "stream",
     "text": [
      "[INFO 08-15 07:06:30] Scheduler: Fetching data for trials: 9 - 11 because some metrics on experiment are available while trials are running.\n"
     ]
    },
    {
     "name": "stderr",
     "output_type": "stream",
     "text": [
      "/tmp/tmp.3Yo4S3ORTG/Ax-main/ax/core/map_data.py:192: FutureWarning: The behavior of DataFrame concatenation with empty or all-NA entries is deprecated. In a future version, this will no longer exclude empty or all-NA columns when determining the result dtypes. To retain the old behavior, exclude the relevant entries before the concat operation.\n",
      "  df = pd.concat(\n",
      "/tmp/tmp.3Yo4S3ORTG/Ax-main/ax/core/map_data.py:192: FutureWarning: The behavior of DataFrame concatenation with empty or all-NA entries is deprecated. In a future version, this will no longer exclude empty or all-NA columns when determining the result dtypes. To retain the old behavior, exclude the relevant entries before the concat operation.\n",
      "  df = pd.concat(\n",
      "[INFO 08-15 07:06:30] ax.early_stopping.strategies.base: Last progression of any candidate for trial stopping is 0.8999466666666667.\n"
     ]
    },
    {
     "name": "stderr",
     "output_type": "stream",
     "text": [
      "[INFO 08-15 07:06:30] ax.early_stopping.strategies.percentile: Considering trial 9 for early stopping.\n"
     ]
    },
    {
     "name": "stderr",
     "output_type": "stream",
     "text": [
      "[INFO 08-15 07:06:30] ax.early_stopping.strategies.base: Last progression of Trial 9 is 0.8999466666666667.\n"
     ]
    },
    {
     "name": "stderr",
     "output_type": "stream",
     "text": [
      "[INFO 08-15 07:06:30] ax.early_stopping.strategies.percentile: Early stopping objective at last progression is:\n",
      "2    0.943914\n",
      "3    0.899786\n",
      "4    0.912556\n",
      "5    0.954306\n",
      "6    0.943693\n",
      "9    0.958148\n",
      "Name: 0.8999466666666667, dtype: float64.\n"
     ]
    },
    {
     "name": "stderr",
     "output_type": "stream",
     "text": [
      "[INFO 08-15 07:06:30] ax.early_stopping.strategies.percentile: Early stopping decision for 9: False. Reason: Trial objective value 0.9581476465223115 is better than 70.0-th percentile (0.9491098284490966) across comparable trials.\n"
     ]
    },
    {
     "name": "stderr",
     "output_type": "stream",
     "text": [
      "[INFO 08-15 07:06:30] ax.early_stopping.strategies.percentile: Considering trial 10 for early stopping.\n"
     ]
    },
    {
     "name": "stderr",
     "output_type": "stream",
     "text": [
      "[INFO 08-15 07:06:30] ax.early_stopping.strategies.base: Last progression of Trial 10 is 0.49994666666666665.\n"
     ]
    },
    {
     "name": "stderr",
     "output_type": "stream",
     "text": [
      "[INFO 08-15 07:06:30] ax.early_stopping.strategies.percentile: Early stopping objective at last progression is:\n",
      "2     0.938710\n",
      "3     0.896044\n",
      "4     0.892600\n",
      "5     0.946234\n",
      "6     0.938752\n",
      "9     0.954568\n",
      "10    0.957133\n",
      "11    0.949821\n",
      "Name: 0.49994666666666665, dtype: float64.\n"
     ]
    },
    {
     "name": "stderr",
     "output_type": "stream",
     "text": [
      "[INFO 08-15 07:06:30] ax.early_stopping.strategies.percentile: Early stopping decision for 10: False. Reason: Trial objective value 0.9571328422146789 is better than 70.0-th percentile (0.9494619408067746) across comparable trials.\n"
     ]
    },
    {
     "name": "stderr",
     "output_type": "stream",
     "text": [
      "[INFO 08-15 07:06:30] ax.early_stopping.strategies.percentile: Considering trial 11 for early stopping.\n"
     ]
    },
    {
     "name": "stderr",
     "output_type": "stream",
     "text": [
      "[INFO 08-15 07:06:30] ax.early_stopping.strategies.base: Last progression of Trial 11 is 0.49994666666666665.\n"
     ]
    },
    {
     "name": "stderr",
     "output_type": "stream",
     "text": [
      "[INFO 08-15 07:06:30] ax.early_stopping.strategies.percentile: Early stopping objective at last progression is:\n",
      "2     0.938710\n",
      "3     0.896044\n",
      "4     0.892600\n",
      "5     0.946234\n",
      "6     0.938752\n",
      "9     0.954568\n",
      "10    0.957133\n",
      "11    0.949821\n",
      "Name: 0.49994666666666665, dtype: float64.\n"
     ]
    },
    {
     "name": "stderr",
     "output_type": "stream",
     "text": [
      "[INFO 08-15 07:06:30] ax.early_stopping.strategies.percentile: Early stopping decision for 11: False. Reason: Trial objective value 0.9498206501326205 is better than 70.0-th percentile (0.9494619408067746) across comparable trials.\n"
     ]
    },
    {
     "name": "stderr",
     "output_type": "stream",
     "text": [
      "[INFO 08-15 07:06:30] Scheduler: Waiting for completed trials (for 10 sec, currently running trials: 3).\n"
     ]
    },
    {
     "name": "stderr",
     "output_type": "stream",
     "text": [
      "[INFO 08-15 07:06:40] Scheduler: Fetching data for newly completed trials: [].\n"
     ]
    },
    {
     "name": "stderr",
     "output_type": "stream",
     "text": [
      "[INFO 08-15 07:06:40] Scheduler: Fetching data for trials: 9 - 11 because some metrics on experiment are available while trials are running.\n"
     ]
    },
    {
     "name": "stderr",
     "output_type": "stream",
     "text": [
      "/tmp/tmp.3Yo4S3ORTG/Ax-main/ax/core/map_data.py:192: FutureWarning: The behavior of DataFrame concatenation with empty or all-NA entries is deprecated. In a future version, this will no longer exclude empty or all-NA columns when determining the result dtypes. To retain the old behavior, exclude the relevant entries before the concat operation.\n",
      "  df = pd.concat(\n",
      "/tmp/tmp.3Yo4S3ORTG/Ax-main/ax/core/map_data.py:192: FutureWarning: The behavior of DataFrame concatenation with empty or all-NA entries is deprecated. In a future version, this will no longer exclude empty or all-NA columns when determining the result dtypes. To retain the old behavior, exclude the relevant entries before the concat operation.\n",
      "  df = pd.concat(\n",
      "[INFO 08-15 07:06:41] ax.early_stopping.strategies.base: Last progression of any candidate for trial stopping is 0.8999466666666667.\n"
     ]
    },
    {
     "name": "stderr",
     "output_type": "stream",
     "text": [
      "[INFO 08-15 07:06:41] ax.early_stopping.strategies.percentile: Considering trial 9 for early stopping.\n"
     ]
    },
    {
     "name": "stderr",
     "output_type": "stream",
     "text": [
      "[INFO 08-15 07:06:41] ax.early_stopping.strategies.base: Last progression of Trial 9 is 0.8999466666666667.\n"
     ]
    },
    {
     "name": "stderr",
     "output_type": "stream",
     "text": [
      "[INFO 08-15 07:06:41] ax.early_stopping.strategies.percentile: Early stopping objective at last progression is:\n",
      "2    0.943914\n",
      "3    0.899786\n",
      "4    0.912556\n",
      "5    0.954306\n",
      "6    0.943693\n",
      "9    0.958148\n",
      "Name: 0.8999466666666667, dtype: float64.\n"
     ]
    },
    {
     "name": "stderr",
     "output_type": "stream",
     "text": [
      "[INFO 08-15 07:06:41] ax.early_stopping.strategies.percentile: Early stopping decision for 9: False. Reason: Trial objective value 0.9581476465223115 is better than 70.0-th percentile (0.9491098284490966) across comparable trials.\n"
     ]
    },
    {
     "name": "stderr",
     "output_type": "stream",
     "text": [
      "[INFO 08-15 07:06:41] ax.early_stopping.strategies.percentile: Considering trial 10 for early stopping.\n"
     ]
    },
    {
     "name": "stderr",
     "output_type": "stream",
     "text": [
      "[INFO 08-15 07:06:41] ax.early_stopping.strategies.base: Last progression of Trial 10 is 0.49994666666666665.\n"
     ]
    },
    {
     "name": "stderr",
     "output_type": "stream",
     "text": [
      "[INFO 08-15 07:06:41] ax.early_stopping.strategies.percentile: Early stopping objective at last progression is:\n",
      "2     0.938710\n",
      "3     0.896044\n",
      "4     0.892600\n",
      "5     0.946234\n",
      "6     0.938752\n",
      "9     0.954568\n",
      "10    0.957133\n",
      "11    0.949821\n",
      "Name: 0.49994666666666665, dtype: float64.\n"
     ]
    },
    {
     "name": "stderr",
     "output_type": "stream",
     "text": [
      "[INFO 08-15 07:06:41] ax.early_stopping.strategies.percentile: Early stopping decision for 10: False. Reason: Trial objective value 0.9571328422146789 is better than 70.0-th percentile (0.9494619408067746) across comparable trials.\n"
     ]
    },
    {
     "name": "stderr",
     "output_type": "stream",
     "text": [
      "[INFO 08-15 07:06:41] ax.early_stopping.strategies.percentile: Considering trial 11 for early stopping.\n"
     ]
    },
    {
     "name": "stderr",
     "output_type": "stream",
     "text": [
      "[INFO 08-15 07:06:41] ax.early_stopping.strategies.base: Last progression of Trial 11 is 0.49994666666666665.\n"
     ]
    },
    {
     "name": "stderr",
     "output_type": "stream",
     "text": [
      "[INFO 08-15 07:06:41] ax.early_stopping.strategies.percentile: Early stopping objective at last progression is:\n",
      "2     0.938710\n",
      "3     0.896044\n",
      "4     0.892600\n",
      "5     0.946234\n",
      "6     0.938752\n",
      "9     0.954568\n",
      "10    0.957133\n",
      "11    0.949821\n",
      "Name: 0.49994666666666665, dtype: float64.\n"
     ]
    },
    {
     "name": "stderr",
     "output_type": "stream",
     "text": [
      "[INFO 08-15 07:06:41] ax.early_stopping.strategies.percentile: Early stopping decision for 11: False. Reason: Trial objective value 0.9498206501326205 is better than 70.0-th percentile (0.9494619408067746) across comparable trials.\n"
     ]
    },
    {
     "name": "stderr",
     "output_type": "stream",
     "text": [
      "[INFO 08-15 07:06:41] Scheduler: Waiting for completed trials (for 10 sec, currently running trials: 3).\n"
     ]
    },
    {
     "name": "stderr",
     "output_type": "stream",
     "text": [
      "[INFO 08-15 07:06:51] Scheduler: Fetching data for newly completed trials: [9].\n"
     ]
    },
    {
     "name": "stderr",
     "output_type": "stream",
     "text": [
      "[INFO 08-15 07:06:51] Scheduler: Fetching data for trials: 10 - 11 because some metrics on experiment are available while trials are running.\n"
     ]
    },
    {
     "name": "stderr",
     "output_type": "stream",
     "text": [
      "[INFO 08-15 07:06:51] Scheduler: Retrieved COMPLETED trials: [9].\n"
     ]
    },
    {
     "name": "stderr",
     "output_type": "stream",
     "text": [
      "/tmp/tmp.3Yo4S3ORTG/Ax-main/ax/core/map_data.py:192: FutureWarning: The behavior of DataFrame concatenation with empty or all-NA entries is deprecated. In a future version, this will no longer exclude empty or all-NA columns when determining the result dtypes. To retain the old behavior, exclude the relevant entries before the concat operation.\n",
      "  df = pd.concat(\n",
      "/tmp/tmp.3Yo4S3ORTG/Ax-main/ax/core/map_data.py:192: FutureWarning: The behavior of DataFrame concatenation with empty or all-NA entries is deprecated. In a future version, this will no longer exclude empty or all-NA columns when determining the result dtypes. To retain the old behavior, exclude the relevant entries before the concat operation.\n",
      "  df = pd.concat(\n",
      "[INFO 08-15 07:06:51] ax.early_stopping.strategies.base: Last progression of any candidate for trial stopping is 0.5999466666666666.\n"
     ]
    },
    {
     "name": "stderr",
     "output_type": "stream",
     "text": [
      "[INFO 08-15 07:06:51] ax.early_stopping.strategies.percentile: Considering trial 10 for early stopping.\n"
     ]
    },
    {
     "name": "stderr",
     "output_type": "stream",
     "text": [
      "[INFO 08-15 07:06:51] ax.early_stopping.strategies.base: Last progression of Trial 10 is 0.5999466666666666.\n"
     ]
    },
    {
     "name": "stderr",
     "output_type": "stream",
     "text": [
      "[INFO 08-15 07:06:51] ax.early_stopping.strategies.percentile: Early stopping objective at last progression is:\n",
      "2     0.939502\n",
      "3     0.895583\n",
      "4     0.901138\n",
      "5     0.947813\n",
      "6     0.940892\n",
      "9     0.956589\n",
      "10    0.960773\n",
      "Name: 0.5999466666666666, dtype: float64.\n"
     ]
    },
    {
     "name": "stderr",
     "output_type": "stream",
     "text": [
      "[INFO 08-15 07:06:51] ax.early_stopping.strategies.percentile: Early stopping decision for 10: False. Reason: Trial objective value 0.9607726514098134 is better than 70.0-th percentile (0.9495681591362123) across comparable trials.\n"
     ]
    },
    {
     "name": "stderr",
     "output_type": "stream",
     "text": [
      "[INFO 08-15 07:06:51] ax.early_stopping.strategies.percentile: Considering trial 11 for early stopping.\n"
     ]
    },
    {
     "name": "stderr",
     "output_type": "stream",
     "text": [
      "[INFO 08-15 07:06:51] ax.early_stopping.strategies.base: Last progression of Trial 11 is 0.49994666666666665.\n"
     ]
    },
    {
     "name": "stderr",
     "output_type": "stream",
     "text": [
      "[INFO 08-15 07:06:51] ax.early_stopping.strategies.percentile: Early stopping objective at last progression is:\n",
      "2     0.938710\n",
      "3     0.896044\n",
      "4     0.892600\n",
      "5     0.946234\n",
      "6     0.938752\n",
      "9     0.954568\n",
      "10    0.957133\n",
      "11    0.949821\n",
      "Name: 0.49994666666666665, dtype: float64.\n"
     ]
    },
    {
     "name": "stderr",
     "output_type": "stream",
     "text": [
      "[INFO 08-15 07:06:51] ax.early_stopping.strategies.percentile: Early stopping decision for 11: False. Reason: Trial objective value 0.9498206501326205 is better than 70.0-th percentile (0.9494619408067746) across comparable trials.\n"
     ]
    },
    {
     "name": "stderr",
     "output_type": "stream",
     "text": [
      "/tmp/tmp.3Yo4S3ORTG/Ax-main/ax/core/map_data.py:192: FutureWarning: The behavior of DataFrame concatenation with empty or all-NA entries is deprecated. In a future version, this will no longer exclude empty or all-NA columns when determining the result dtypes. To retain the old behavior, exclude the relevant entries before the concat operation.\n",
      "  df = pd.concat(\n"
     ]
    },
    {
     "name": "stderr",
     "output_type": "stream",
     "text": [
      "[INFO 08-15 07:06:53] Scheduler: Running trials [12]...\n"
     ]
    },
    {
     "name": "stderr",
     "output_type": "stream",
     "text": [
      "/tmp/tmp.3Yo4S3ORTG/Ax-main/ax/core/map_data.py:192: FutureWarning: The behavior of DataFrame concatenation with empty or all-NA entries is deprecated. In a future version, this will no longer exclude empty or all-NA columns when determining the result dtypes. To retain the old behavior, exclude the relevant entries before the concat operation.\n",
      "  df = pd.concat(\n"
     ]
    },
    {
     "name": "stderr",
     "output_type": "stream",
     "text": [
      "[INFO 08-15 07:06:55] Scheduler: Generated all trials that can be generated currently. Max parallelism currently reached.\n"
     ]
    },
    {
     "name": "stderr",
     "output_type": "stream",
     "text": [
      "[WARNING 08-15 07:06:55] Scheduler: Both `init_seconds_between_polls` and `early_stopping_strategy supplied. `init_seconds_between_polls=1` will be overrridden by `early_stopping_strategy.seconds_between_polls=10` and polling will take place at a constant rate.\n"
     ]
    },
    {
     "name": "stderr",
     "output_type": "stream",
     "text": [
      "[INFO 08-15 07:06:55] Scheduler: Fetching data for newly completed trials: [].\n"
     ]
    },
    {
     "name": "stderr",
     "output_type": "stream",
     "text": [
      "[INFO 08-15 07:06:55] Scheduler: Fetching data for trials: 10 - 12 because some metrics on experiment are available while trials are running.\n"
     ]
    },
    {
     "name": "stderr",
     "output_type": "stream",
     "text": [
      "[INFO 08-15 07:06:55] ax.core.metric: MetricFetchE INFO: Initialized MetricFetchE(message=\"No 'scalar' data found for trial in multiplexer mul=<tensorboard.backend.event_processing.plugin_event_multiplexer.EventMultiplexer object at 0x7f243cf31270>\")\n"
     ]
    },
    {
     "name": "stderr",
     "output_type": "stream",
     "text": [
      "[ERROR 08-15 07:06:55] ax.core.experiment: Discovered Metric fetching Err while attaching data MetricFetchE(message=\"No 'scalar' data found for trial in multiplexer mul=<tensorboard.backend.event_processing.plugin_event_multiplexer.EventMultiplexer object at 0x7f243cf31270>\"). Ignoring for now -- will retry query on next call to fetch.\n"
     ]
    },
    {
     "name": "stderr",
     "output_type": "stream",
     "text": [
      "/tmp/tmp.3Yo4S3ORTG/Ax-main/ax/core/map_data.py:192: FutureWarning: The behavior of DataFrame concatenation with empty or all-NA entries is deprecated. In a future version, this will no longer exclude empty or all-NA columns when determining the result dtypes. To retain the old behavior, exclude the relevant entries before the concat operation.\n",
      "  df = pd.concat(\n",
      "[WARNING 08-15 07:06:55] Scheduler: Failed to fetch val_acc for trial 12, found MetricFetchE(message=\"No 'scalar' data found for trial in multiplexer mul=<tensorboard.backend.event_processing.plugin_event_multiplexer.EventMultiplexer object at 0x7f243cf31270>\").\n"
     ]
    },
    {
     "name": "stderr",
     "output_type": "stream",
     "text": [
      "[INFO 08-15 07:06:55] Scheduler: MetricFetchE INFO: Because val_acc is available_while_running and trial 12 is still RUNNING continuing the experiment and retrying on next poll...\n"
     ]
    },
    {
     "name": "stderr",
     "output_type": "stream",
     "text": [
      "/tmp/tmp.3Yo4S3ORTG/Ax-main/ax/core/map_data.py:192: FutureWarning: The behavior of DataFrame concatenation with empty or all-NA entries is deprecated. In a future version, this will no longer exclude empty or all-NA columns when determining the result dtypes. To retain the old behavior, exclude the relevant entries before the concat operation.\n",
      "  df = pd.concat(\n",
      "[INFO 08-15 07:06:55] ax.early_stopping.strategies.base: Last progression of any candidate for trial stopping is 0.5999466666666666.\n"
     ]
    },
    {
     "name": "stderr",
     "output_type": "stream",
     "text": [
      "[INFO 08-15 07:06:55] ax.early_stopping.strategies.percentile: Considering trial 10 for early stopping.\n"
     ]
    },
    {
     "name": "stderr",
     "output_type": "stream",
     "text": [
      "[INFO 08-15 07:06:55] ax.early_stopping.strategies.base: Last progression of Trial 10 is 0.5999466666666666.\n"
     ]
    },
    {
     "name": "stderr",
     "output_type": "stream",
     "text": [
      "[INFO 08-15 07:06:55] ax.early_stopping.strategies.percentile: Early stopping objective at last progression is:\n",
      "2     0.939502\n",
      "3     0.895583\n",
      "4     0.901138\n",
      "5     0.947813\n",
      "6     0.940892\n",
      "9     0.956589\n",
      "10    0.960773\n",
      "Name: 0.5999466666666666, dtype: float64.\n"
     ]
    },
    {
     "name": "stderr",
     "output_type": "stream",
     "text": [
      "[INFO 08-15 07:06:55] ax.early_stopping.strategies.percentile: Early stopping decision for 10: False. Reason: Trial objective value 0.9607726514098134 is better than 70.0-th percentile (0.9495681591362123) across comparable trials.\n"
     ]
    },
    {
     "name": "stderr",
     "output_type": "stream",
     "text": [
      "[INFO 08-15 07:06:55] ax.early_stopping.strategies.percentile: Considering trial 11 for early stopping.\n"
     ]
    },
    {
     "name": "stderr",
     "output_type": "stream",
     "text": [
      "[INFO 08-15 07:06:55] ax.early_stopping.strategies.base: Last progression of Trial 11 is 0.49994666666666665.\n"
     ]
    },
    {
     "name": "stderr",
     "output_type": "stream",
     "text": [
      "[INFO 08-15 07:06:55] ax.early_stopping.strategies.percentile: Early stopping objective at last progression is:\n",
      "2     0.938710\n",
      "3     0.896044\n",
      "4     0.892600\n",
      "5     0.946234\n",
      "6     0.938752\n",
      "9     0.954568\n",
      "10    0.957133\n",
      "11    0.949821\n",
      "Name: 0.49994666666666665, dtype: float64.\n"
     ]
    },
    {
     "name": "stderr",
     "output_type": "stream",
     "text": [
      "[INFO 08-15 07:06:55] ax.early_stopping.strategies.percentile: Early stopping decision for 11: False. Reason: Trial objective value 0.9498206501326205 is better than 70.0-th percentile (0.9494619408067746) across comparable trials.\n"
     ]
    },
    {
     "name": "stderr",
     "output_type": "stream",
     "text": [
      "[INFO 08-15 07:06:55] ax.early_stopping.strategies.percentile: Considering trial 12 for early stopping.\n"
     ]
    },
    {
     "name": "stderr",
     "output_type": "stream",
     "text": [
      "[INFO 08-15 07:06:55] ax.early_stopping.strategies.base: There is not yet any data associated with trial 12 and metric val_acc. Not early stopping this trial.\n"
     ]
    },
    {
     "name": "stderr",
     "output_type": "stream",
     "text": [
      "[INFO 08-15 07:06:55] Scheduler: Waiting for completed trials (for 10 sec, currently running trials: 3).\n"
     ]
    },
    {
     "name": "stderr",
     "output_type": "stream",
     "text": [
      "[INFO 08-15 07:07:05] Scheduler: Fetching data for newly completed trials: [].\n"
     ]
    },
    {
     "name": "stderr",
     "output_type": "stream",
     "text": [
      "[INFO 08-15 07:07:05] Scheduler: Fetching data for trials: 10 - 12 because some metrics on experiment are available while trials are running.\n"
     ]
    },
    {
     "name": "stderr",
     "output_type": "stream",
     "text": [
      "[INFO 08-15 07:07:05] ax.core.metric: MetricFetchE INFO: Initialized MetricFetchE(message=\"No 'scalar' data found for trial in multiplexer mul=<tensorboard.backend.event_processing.plugin_event_multiplexer.EventMultiplexer object at 0x7f243cddad10>\")\n"
     ]
    },
    {
     "name": "stderr",
     "output_type": "stream",
     "text": [
      "[ERROR 08-15 07:07:05] ax.core.experiment: Discovered Metric fetching Err while attaching data MetricFetchE(message=\"No 'scalar' data found for trial in multiplexer mul=<tensorboard.backend.event_processing.plugin_event_multiplexer.EventMultiplexer object at 0x7f243cddad10>\"). Ignoring for now -- will retry query on next call to fetch.\n"
     ]
    },
    {
     "name": "stderr",
     "output_type": "stream",
     "text": [
      "/tmp/tmp.3Yo4S3ORTG/Ax-main/ax/core/map_data.py:192: FutureWarning: The behavior of DataFrame concatenation with empty or all-NA entries is deprecated. In a future version, this will no longer exclude empty or all-NA columns when determining the result dtypes. To retain the old behavior, exclude the relevant entries before the concat operation.\n",
      "  df = pd.concat(\n",
      "[WARNING 08-15 07:07:05] Scheduler: Failed to fetch val_acc for trial 12, found MetricFetchE(message=\"No 'scalar' data found for trial in multiplexer mul=<tensorboard.backend.event_processing.plugin_event_multiplexer.EventMultiplexer object at 0x7f243cddad10>\").\n"
     ]
    },
    {
     "name": "stderr",
     "output_type": "stream",
     "text": [
      "[INFO 08-15 07:07:05] Scheduler: MetricFetchE INFO: Because val_acc is available_while_running and trial 12 is still RUNNING continuing the experiment and retrying on next poll...\n"
     ]
    },
    {
     "name": "stderr",
     "output_type": "stream",
     "text": [
      "/tmp/tmp.3Yo4S3ORTG/Ax-main/ax/core/map_data.py:192: FutureWarning: The behavior of DataFrame concatenation with empty or all-NA entries is deprecated. In a future version, this will no longer exclude empty or all-NA columns when determining the result dtypes. To retain the old behavior, exclude the relevant entries before the concat operation.\n",
      "  df = pd.concat(\n",
      "[INFO 08-15 07:07:05] ax.early_stopping.strategies.base: Last progression of any candidate for trial stopping is 0.5999466666666666.\n"
     ]
    },
    {
     "name": "stderr",
     "output_type": "stream",
     "text": [
      "[INFO 08-15 07:07:05] ax.early_stopping.strategies.percentile: Considering trial 10 for early stopping.\n"
     ]
    },
    {
     "name": "stderr",
     "output_type": "stream",
     "text": [
      "[INFO 08-15 07:07:05] ax.early_stopping.strategies.base: Last progression of Trial 10 is 0.5999466666666666.\n"
     ]
    },
    {
     "name": "stderr",
     "output_type": "stream",
     "text": [
      "[INFO 08-15 07:07:05] ax.early_stopping.strategies.percentile: Early stopping objective at last progression is:\n",
      "2     0.939502\n",
      "3     0.895583\n",
      "4     0.901138\n",
      "5     0.947813\n",
      "6     0.940892\n",
      "9     0.956589\n",
      "10    0.960773\n",
      "11    0.953545\n",
      "Name: 0.5999466666666666, dtype: float64.\n"
     ]
    },
    {
     "name": "stderr",
     "output_type": "stream",
     "text": [
      "[INFO 08-15 07:07:05] ax.early_stopping.strategies.percentile: Early stopping decision for 10: False. Reason: Trial objective value 0.9607726514098134 is better than 70.0-th percentile (0.9529718198136418) across comparable trials.\n"
     ]
    },
    {
     "name": "stderr",
     "output_type": "stream",
     "text": [
      "[INFO 08-15 07:07:05] ax.early_stopping.strategies.percentile: Considering trial 11 for early stopping.\n"
     ]
    },
    {
     "name": "stderr",
     "output_type": "stream",
     "text": [
      "[INFO 08-15 07:07:05] ax.early_stopping.strategies.base: Last progression of Trial 11 is 0.5999466666666666.\n"
     ]
    },
    {
     "name": "stderr",
     "output_type": "stream",
     "text": [
      "[INFO 08-15 07:07:05] ax.early_stopping.strategies.percentile: Early stopping objective at last progression is:\n",
      "2     0.939502\n",
      "3     0.895583\n",
      "4     0.901138\n",
      "5     0.947813\n",
      "6     0.940892\n",
      "9     0.956589\n",
      "10    0.960773\n",
      "11    0.953545\n",
      "Name: 0.5999466666666666, dtype: float64.\n"
     ]
    },
    {
     "name": "stderr",
     "output_type": "stream",
     "text": [
      "[INFO 08-15 07:07:05] ax.early_stopping.strategies.percentile: Early stopping decision for 11: False. Reason: Trial objective value 0.9535450351957597 is better than 70.0-th percentile (0.9529718198136418) across comparable trials.\n"
     ]
    },
    {
     "name": "stderr",
     "output_type": "stream",
     "text": [
      "[INFO 08-15 07:07:05] ax.early_stopping.strategies.percentile: Considering trial 12 for early stopping.\n"
     ]
    },
    {
     "name": "stderr",
     "output_type": "stream",
     "text": [
      "[INFO 08-15 07:07:05] ax.early_stopping.strategies.base: There is not yet any data associated with trial 12 and metric val_acc. Not early stopping this trial.\n"
     ]
    },
    {
     "name": "stderr",
     "output_type": "stream",
     "text": [
      "[INFO 08-15 07:07:05] Scheduler: Waiting for completed trials (for 10 sec, currently running trials: 3).\n"
     ]
    },
    {
     "name": "stderr",
     "output_type": "stream",
     "text": [
      "[INFO 08-15 07:07:15] Scheduler: Fetching data for newly completed trials: [].\n"
     ]
    },
    {
     "name": "stderr",
     "output_type": "stream",
     "text": [
      "[INFO 08-15 07:07:15] Scheduler: Fetching data for trials: 10 - 12 because some metrics on experiment are available while trials are running.\n"
     ]
    },
    {
     "name": "stderr",
     "output_type": "stream",
     "text": [
      "[INFO 08-15 07:07:15] ax.core.metric: MetricFetchE INFO: Initialized MetricFetchE(message=\"No 'scalar' data found for trial in multiplexer mul=<tensorboard.backend.event_processing.plugin_event_multiplexer.EventMultiplexer object at 0x7f243cddb610>\")\n"
     ]
    },
    {
     "name": "stderr",
     "output_type": "stream",
     "text": [
      "[ERROR 08-15 07:07:15] ax.core.experiment: Discovered Metric fetching Err while attaching data MetricFetchE(message=\"No 'scalar' data found for trial in multiplexer mul=<tensorboard.backend.event_processing.plugin_event_multiplexer.EventMultiplexer object at 0x7f243cddb610>\"). Ignoring for now -- will retry query on next call to fetch.\n"
     ]
    },
    {
     "name": "stderr",
     "output_type": "stream",
     "text": [
      "/tmp/tmp.3Yo4S3ORTG/Ax-main/ax/core/map_data.py:192: FutureWarning: The behavior of DataFrame concatenation with empty or all-NA entries is deprecated. In a future version, this will no longer exclude empty or all-NA columns when determining the result dtypes. To retain the old behavior, exclude the relevant entries before the concat operation.\n",
      "  df = pd.concat(\n",
      "[WARNING 08-15 07:07:15] Scheduler: Failed to fetch val_acc for trial 12, found MetricFetchE(message=\"No 'scalar' data found for trial in multiplexer mul=<tensorboard.backend.event_processing.plugin_event_multiplexer.EventMultiplexer object at 0x7f243cddb610>\").\n"
     ]
    },
    {
     "name": "stderr",
     "output_type": "stream",
     "text": [
      "[INFO 08-15 07:07:15] Scheduler: MetricFetchE INFO: Because val_acc is available_while_running and trial 12 is still RUNNING continuing the experiment and retrying on next poll...\n"
     ]
    },
    {
     "name": "stderr",
     "output_type": "stream",
     "text": [
      "/tmp/tmp.3Yo4S3ORTG/Ax-main/ax/core/map_data.py:192: FutureWarning: The behavior of DataFrame concatenation with empty or all-NA entries is deprecated. In a future version, this will no longer exclude empty or all-NA columns when determining the result dtypes. To retain the old behavior, exclude the relevant entries before the concat operation.\n",
      "  df = pd.concat(\n",
      "[INFO 08-15 07:07:15] ax.early_stopping.strategies.base: Last progression of any candidate for trial stopping is 0.5999466666666666.\n"
     ]
    },
    {
     "name": "stderr",
     "output_type": "stream",
     "text": [
      "[INFO 08-15 07:07:15] ax.early_stopping.strategies.percentile: Considering trial 10 for early stopping.\n"
     ]
    },
    {
     "name": "stderr",
     "output_type": "stream",
     "text": [
      "[INFO 08-15 07:07:15] ax.early_stopping.strategies.base: Last progression of Trial 10 is 0.5999466666666666.\n"
     ]
    },
    {
     "name": "stderr",
     "output_type": "stream",
     "text": [
      "[INFO 08-15 07:07:15] ax.early_stopping.strategies.percentile: Early stopping objective at last progression is:\n",
      "2     0.939502\n",
      "3     0.895583\n",
      "4     0.901138\n",
      "5     0.947813\n",
      "6     0.940892\n",
      "9     0.956589\n",
      "10    0.960773\n",
      "11    0.953545\n",
      "Name: 0.5999466666666666, dtype: float64.\n"
     ]
    },
    {
     "name": "stderr",
     "output_type": "stream",
     "text": [
      "[INFO 08-15 07:07:15] ax.early_stopping.strategies.percentile: Early stopping decision for 10: False. Reason: Trial objective value 0.9607726514098134 is better than 70.0-th percentile (0.9529718198136418) across comparable trials.\n"
     ]
    },
    {
     "name": "stderr",
     "output_type": "stream",
     "text": [
      "[INFO 08-15 07:07:15] ax.early_stopping.strategies.percentile: Considering trial 11 for early stopping.\n"
     ]
    },
    {
     "name": "stderr",
     "output_type": "stream",
     "text": [
      "[INFO 08-15 07:07:15] ax.early_stopping.strategies.base: Last progression of Trial 11 is 0.5999466666666666.\n"
     ]
    },
    {
     "name": "stderr",
     "output_type": "stream",
     "text": [
      "[INFO 08-15 07:07:15] ax.early_stopping.strategies.percentile: Early stopping objective at last progression is:\n",
      "2     0.939502\n",
      "3     0.895583\n",
      "4     0.901138\n",
      "5     0.947813\n",
      "6     0.940892\n",
      "9     0.956589\n",
      "10    0.960773\n",
      "11    0.953545\n",
      "Name: 0.5999466666666666, dtype: float64.\n"
     ]
    },
    {
     "name": "stderr",
     "output_type": "stream",
     "text": [
      "[INFO 08-15 07:07:15] ax.early_stopping.strategies.percentile: Early stopping decision for 11: False. Reason: Trial objective value 0.9535450351957597 is better than 70.0-th percentile (0.9529718198136418) across comparable trials.\n"
     ]
    },
    {
     "name": "stderr",
     "output_type": "stream",
     "text": [
      "[INFO 08-15 07:07:15] ax.early_stopping.strategies.percentile: Considering trial 12 for early stopping.\n"
     ]
    },
    {
     "name": "stderr",
     "output_type": "stream",
     "text": [
      "[INFO 08-15 07:07:15] ax.early_stopping.strategies.base: There is not yet any data associated with trial 12 and metric val_acc. Not early stopping this trial.\n"
     ]
    },
    {
     "name": "stderr",
     "output_type": "stream",
     "text": [
      "[INFO 08-15 07:07:15] Scheduler: Waiting for completed trials (for 10 sec, currently running trials: 3).\n"
     ]
    },
    {
     "name": "stderr",
     "output_type": "stream",
     "text": [
      "[INFO 08-15 07:07:25] Scheduler: Fetching data for newly completed trials: [].\n"
     ]
    },
    {
     "name": "stderr",
     "output_type": "stream",
     "text": [
      "[INFO 08-15 07:07:25] Scheduler: Fetching data for trials: 10 - 12 because some metrics on experiment are available while trials are running.\n"
     ]
    },
    {
     "name": "stderr",
     "output_type": "stream",
     "text": [
      "[INFO 08-15 07:07:25] ax.core.metric: MetricFetchE INFO: Initialized MetricFetchE(message=\"No 'scalar' data found for trial in multiplexer mul=<tensorboard.backend.event_processing.plugin_event_multiplexer.EventMultiplexer object at 0x7f243cddb2e0>\")\n"
     ]
    },
    {
     "name": "stderr",
     "output_type": "stream",
     "text": [
      "[ERROR 08-15 07:07:25] ax.core.experiment: Discovered Metric fetching Err while attaching data MetricFetchE(message=\"No 'scalar' data found for trial in multiplexer mul=<tensorboard.backend.event_processing.plugin_event_multiplexer.EventMultiplexer object at 0x7f243cddb2e0>\"). Ignoring for now -- will retry query on next call to fetch.\n"
     ]
    },
    {
     "name": "stderr",
     "output_type": "stream",
     "text": [
      "/tmp/tmp.3Yo4S3ORTG/Ax-main/ax/core/map_data.py:192: FutureWarning: The behavior of DataFrame concatenation with empty or all-NA entries is deprecated. In a future version, this will no longer exclude empty or all-NA columns when determining the result dtypes. To retain the old behavior, exclude the relevant entries before the concat operation.\n",
      "  df = pd.concat(\n",
      "[WARNING 08-15 07:07:25] Scheduler: Failed to fetch val_acc for trial 12, found MetricFetchE(message=\"No 'scalar' data found for trial in multiplexer mul=<tensorboard.backend.event_processing.plugin_event_multiplexer.EventMultiplexer object at 0x7f243cddb2e0>\").\n"
     ]
    },
    {
     "name": "stderr",
     "output_type": "stream",
     "text": [
      "[INFO 08-15 07:07:25] Scheduler: MetricFetchE INFO: Because val_acc is available_while_running and trial 12 is still RUNNING continuing the experiment and retrying on next poll...\n"
     ]
    },
    {
     "name": "stderr",
     "output_type": "stream",
     "text": [
      "/tmp/tmp.3Yo4S3ORTG/Ax-main/ax/core/map_data.py:192: FutureWarning: The behavior of DataFrame concatenation with empty or all-NA entries is deprecated. In a future version, this will no longer exclude empty or all-NA columns when determining the result dtypes. To retain the old behavior, exclude the relevant entries before the concat operation.\n",
      "  df = pd.concat(\n",
      "[INFO 08-15 07:07:26] ax.early_stopping.strategies.base: Last progression of any candidate for trial stopping is 0.5999466666666666.\n"
     ]
    },
    {
     "name": "stderr",
     "output_type": "stream",
     "text": [
      "[INFO 08-15 07:07:26] ax.early_stopping.strategies.percentile: Considering trial 10 for early stopping.\n"
     ]
    },
    {
     "name": "stderr",
     "output_type": "stream",
     "text": [
      "[INFO 08-15 07:07:26] ax.early_stopping.strategies.base: Last progression of Trial 10 is 0.5999466666666666.\n"
     ]
    },
    {
     "name": "stderr",
     "output_type": "stream",
     "text": [
      "[INFO 08-15 07:07:26] ax.early_stopping.strategies.percentile: Early stopping objective at last progression is:\n",
      "2     0.939502\n",
      "3     0.895583\n",
      "4     0.901138\n",
      "5     0.947813\n",
      "6     0.940892\n",
      "9     0.956589\n",
      "10    0.960773\n",
      "11    0.953545\n",
      "Name: 0.5999466666666666, dtype: float64.\n"
     ]
    },
    {
     "name": "stderr",
     "output_type": "stream",
     "text": [
      "[INFO 08-15 07:07:26] ax.early_stopping.strategies.percentile: Early stopping decision for 10: False. Reason: Trial objective value 0.9607726514098134 is better than 70.0-th percentile (0.9529718198136418) across comparable trials.\n"
     ]
    },
    {
     "name": "stderr",
     "output_type": "stream",
     "text": [
      "[INFO 08-15 07:07:26] ax.early_stopping.strategies.percentile: Considering trial 11 for early stopping.\n"
     ]
    },
    {
     "name": "stderr",
     "output_type": "stream",
     "text": [
      "[INFO 08-15 07:07:26] ax.early_stopping.strategies.base: Last progression of Trial 11 is 0.5999466666666666.\n"
     ]
    },
    {
     "name": "stderr",
     "output_type": "stream",
     "text": [
      "[INFO 08-15 07:07:26] ax.early_stopping.strategies.percentile: Early stopping objective at last progression is:\n",
      "2     0.939502\n",
      "3     0.895583\n",
      "4     0.901138\n",
      "5     0.947813\n",
      "6     0.940892\n",
      "9     0.956589\n",
      "10    0.960773\n",
      "11    0.953545\n",
      "Name: 0.5999466666666666, dtype: float64.\n"
     ]
    },
    {
     "name": "stderr",
     "output_type": "stream",
     "text": [
      "[INFO 08-15 07:07:26] ax.early_stopping.strategies.percentile: Early stopping decision for 11: False. Reason: Trial objective value 0.9535450351957597 is better than 70.0-th percentile (0.9529718198136418) across comparable trials.\n"
     ]
    },
    {
     "name": "stderr",
     "output_type": "stream",
     "text": [
      "[INFO 08-15 07:07:26] ax.early_stopping.strategies.percentile: Considering trial 12 for early stopping.\n"
     ]
    },
    {
     "name": "stderr",
     "output_type": "stream",
     "text": [
      "[INFO 08-15 07:07:26] ax.early_stopping.strategies.base: There is not yet any data associated with trial 12 and metric val_acc. Not early stopping this trial.\n"
     ]
    },
    {
     "name": "stderr",
     "output_type": "stream",
     "text": [
      "[INFO 08-15 07:07:26] Scheduler: Waiting for completed trials (for 10 sec, currently running trials: 3).\n"
     ]
    },
    {
     "name": "stderr",
     "output_type": "stream",
     "text": [
      "[INFO 08-15 07:07:36] Scheduler: Fetching data for newly completed trials: [].\n"
     ]
    },
    {
     "name": "stderr",
     "output_type": "stream",
     "text": [
      "[INFO 08-15 07:07:36] Scheduler: Fetching data for trials: 10 - 12 because some metrics on experiment are available while trials are running.\n"
     ]
    },
    {
     "name": "stderr",
     "output_type": "stream",
     "text": [
      "/tmp/tmp.3Yo4S3ORTG/Ax-main/ax/core/map_data.py:192: FutureWarning: The behavior of DataFrame concatenation with empty or all-NA entries is deprecated. In a future version, this will no longer exclude empty or all-NA columns when determining the result dtypes. To retain the old behavior, exclude the relevant entries before the concat operation.\n",
      "  df = pd.concat(\n",
      "/tmp/tmp.3Yo4S3ORTG/Ax-main/ax/core/map_data.py:192: FutureWarning: The behavior of DataFrame concatenation with empty or all-NA entries is deprecated. In a future version, this will no longer exclude empty or all-NA columns when determining the result dtypes. To retain the old behavior, exclude the relevant entries before the concat operation.\n",
      "  df = pd.concat(\n",
      "[INFO 08-15 07:07:36] ax.early_stopping.strategies.base: Last progression of any candidate for trial stopping is 0.6999466666666667.\n"
     ]
    },
    {
     "name": "stderr",
     "output_type": "stream",
     "text": [
      "[INFO 08-15 07:07:36] ax.early_stopping.utils: Got exception `x and y arrays must have at least 2 entries` during interpolation. Using uninterpolated values instead.\n"
     ]
    },
    {
     "name": "stderr",
     "output_type": "stream",
     "text": [
      "[INFO 08-15 07:07:36] ax.early_stopping.strategies.percentile: Considering trial 10 for early stopping.\n"
     ]
    },
    {
     "name": "stderr",
     "output_type": "stream",
     "text": [
      "[INFO 08-15 07:07:36] ax.early_stopping.strategies.base: Last progression of Trial 10 is 0.6999466666666667.\n"
     ]
    },
    {
     "name": "stderr",
     "output_type": "stream",
     "text": [
      "[INFO 08-15 07:07:36] ax.early_stopping.strategies.percentile: Early stopping objective at last progression is:\n",
      "2     0.938545\n",
      "3     0.896313\n",
      "4     0.912089\n",
      "5     0.951609\n",
      "6     0.943465\n",
      "9     0.957766\n",
      "10    0.960394\n",
      "Name: 0.6999466666666667, dtype: float64.\n"
     ]
    },
    {
     "name": "stderr",
     "output_type": "stream",
     "text": [
      "[INFO 08-15 07:07:36] ax.early_stopping.strategies.percentile: Early stopping decision for 10: False. Reason: Trial objective value 0.9603942225972453 is better than 70.0-th percentile (0.9528403896933139) across comparable trials.\n"
     ]
    },
    {
     "name": "stderr",
     "output_type": "stream",
     "text": [
      "[INFO 08-15 07:07:36] ax.early_stopping.strategies.percentile: Considering trial 11 for early stopping.\n"
     ]
    },
    {
     "name": "stderr",
     "output_type": "stream",
     "text": [
      "[INFO 08-15 07:07:36] ax.early_stopping.strategies.base: Last progression of Trial 11 is 0.5999466666666666.\n"
     ]
    },
    {
     "name": "stderr",
     "output_type": "stream",
     "text": [
      "[INFO 08-15 07:07:36] ax.early_stopping.strategies.percentile: Early stopping objective at last progression is:\n",
      "2     0.939502\n",
      "3     0.895583\n",
      "4     0.901138\n",
      "5     0.947813\n",
      "6     0.940892\n",
      "9     0.956589\n",
      "10    0.960773\n",
      "11    0.953545\n",
      "Name: 0.5999466666666666, dtype: float64.\n"
     ]
    },
    {
     "name": "stderr",
     "output_type": "stream",
     "text": [
      "[INFO 08-15 07:07:36] ax.early_stopping.strategies.percentile: Early stopping decision for 11: False. Reason: Trial objective value 0.9535450351957597 is better than 70.0-th percentile (0.9529718198136418) across comparable trials.\n"
     ]
    },
    {
     "name": "stderr",
     "output_type": "stream",
     "text": [
      "[INFO 08-15 07:07:36] ax.early_stopping.strategies.percentile: Considering trial 12 for early stopping.\n"
     ]
    },
    {
     "name": "stderr",
     "output_type": "stream",
     "text": [
      "[INFO 08-15 07:07:36] ax.early_stopping.strategies.base: Last progression of Trial 12 is 0.09994666666666667.\n"
     ]
    },
    {
     "name": "stderr",
     "output_type": "stream",
     "text": [
      "[INFO 08-15 07:07:36] ax.early_stopping.strategies.base: Trial 12's most recent progression (0.09994666666666667) that is available for metric val_acc falls out of the min/max_progression range (0.3, None). Not early stopping this trial.\n"
     ]
    },
    {
     "name": "stderr",
     "output_type": "stream",
     "text": [
      "[INFO 08-15 07:07:36] Scheduler: Waiting for completed trials (for 10 sec, currently running trials: 3).\n"
     ]
    },
    {
     "name": "stderr",
     "output_type": "stream",
     "text": [
      "[INFO 08-15 07:07:46] Scheduler: Fetching data for newly completed trials: [].\n"
     ]
    },
    {
     "name": "stderr",
     "output_type": "stream",
     "text": [
      "[INFO 08-15 07:07:46] Scheduler: Fetching data for trials: 10 - 12 because some metrics on experiment are available while trials are running.\n"
     ]
    },
    {
     "name": "stderr",
     "output_type": "stream",
     "text": [
      "/tmp/tmp.3Yo4S3ORTG/Ax-main/ax/core/map_data.py:192: FutureWarning: The behavior of DataFrame concatenation with empty or all-NA entries is deprecated. In a future version, this will no longer exclude empty or all-NA columns when determining the result dtypes. To retain the old behavior, exclude the relevant entries before the concat operation.\n",
      "  df = pd.concat(\n",
      "/tmp/tmp.3Yo4S3ORTG/Ax-main/ax/core/map_data.py:192: FutureWarning: The behavior of DataFrame concatenation with empty or all-NA entries is deprecated. In a future version, this will no longer exclude empty or all-NA columns when determining the result dtypes. To retain the old behavior, exclude the relevant entries before the concat operation.\n",
      "  df = pd.concat(\n",
      "[INFO 08-15 07:07:46] ax.early_stopping.strategies.base: Last progression of any candidate for trial stopping is 0.6999466666666667.\n"
     ]
    },
    {
     "name": "stderr",
     "output_type": "stream",
     "text": [
      "[INFO 08-15 07:07:46] ax.early_stopping.utils: Got exception `x and y arrays must have at least 2 entries` during interpolation. Using uninterpolated values instead.\n"
     ]
    },
    {
     "name": "stderr",
     "output_type": "stream",
     "text": [
      "[INFO 08-15 07:07:46] ax.early_stopping.strategies.percentile: Considering trial 10 for early stopping.\n"
     ]
    },
    {
     "name": "stderr",
     "output_type": "stream",
     "text": [
      "[INFO 08-15 07:07:46] ax.early_stopping.strategies.base: Last progression of Trial 10 is 0.6999466666666667.\n"
     ]
    },
    {
     "name": "stderr",
     "output_type": "stream",
     "text": [
      "[INFO 08-15 07:07:46] ax.early_stopping.strategies.percentile: Early stopping objective at last progression is:\n",
      "2     0.938545\n",
      "3     0.896313\n",
      "4     0.912089\n",
      "5     0.951609\n",
      "6     0.943465\n",
      "9     0.957766\n",
      "10    0.960394\n",
      "11    0.957351\n",
      "Name: 0.6999466666666667, dtype: float64.\n"
     ]
    },
    {
     "name": "stderr",
     "output_type": "stream",
     "text": [
      "[INFO 08-15 07:07:46] ax.early_stopping.strategies.percentile: Early stopping decision for 10: False. Reason: Trial objective value 0.9603942225972453 is better than 70.0-th percentile (0.9567766888507803) across comparable trials.\n"
     ]
    },
    {
     "name": "stderr",
     "output_type": "stream",
     "text": [
      "[INFO 08-15 07:07:46] ax.early_stopping.strategies.percentile: Considering trial 11 for early stopping.\n"
     ]
    },
    {
     "name": "stderr",
     "output_type": "stream",
     "text": [
      "[INFO 08-15 07:07:46] ax.early_stopping.strategies.base: Last progression of Trial 11 is 0.6999466666666667.\n"
     ]
    },
    {
     "name": "stderr",
     "output_type": "stream",
     "text": [
      "[INFO 08-15 07:07:46] ax.early_stopping.strategies.percentile: Early stopping objective at last progression is:\n",
      "2     0.938545\n",
      "3     0.896313\n",
      "4     0.912089\n",
      "5     0.951609\n",
      "6     0.943465\n",
      "9     0.957766\n",
      "10    0.960394\n",
      "11    0.957351\n",
      "Name: 0.6999466666666667, dtype: float64.\n"
     ]
    },
    {
     "name": "stderr",
     "output_type": "stream",
     "text": [
      "[INFO 08-15 07:07:46] ax.early_stopping.strategies.percentile: Early stopping decision for 11: False. Reason: Trial objective value 0.9573508872358225 is better than 70.0-th percentile (0.9567766888507803) across comparable trials.\n"
     ]
    },
    {
     "name": "stderr",
     "output_type": "stream",
     "text": [
      "[INFO 08-15 07:07:46] ax.early_stopping.strategies.percentile: Considering trial 12 for early stopping.\n"
     ]
    },
    {
     "name": "stderr",
     "output_type": "stream",
     "text": [
      "[INFO 08-15 07:07:46] ax.early_stopping.strategies.base: Last progression of Trial 12 is 0.09994666666666667.\n"
     ]
    },
    {
     "name": "stderr",
     "output_type": "stream",
     "text": [
      "[INFO 08-15 07:07:46] ax.early_stopping.strategies.base: Trial 12's most recent progression (0.09994666666666667) that is available for metric val_acc falls out of the min/max_progression range (0.3, None). Not early stopping this trial.\n"
     ]
    },
    {
     "name": "stderr",
     "output_type": "stream",
     "text": [
      "[INFO 08-15 07:07:46] Scheduler: Waiting for completed trials (for 10 sec, currently running trials: 3).\n"
     ]
    },
    {
     "name": "stderr",
     "output_type": "stream",
     "text": [
      "[INFO 08-15 07:07:56] Scheduler: Fetching data for newly completed trials: [].\n"
     ]
    },
    {
     "name": "stderr",
     "output_type": "stream",
     "text": [
      "[INFO 08-15 07:07:56] Scheduler: Fetching data for trials: 10 - 12 because some metrics on experiment are available while trials are running.\n"
     ]
    },
    {
     "name": "stderr",
     "output_type": "stream",
     "text": [
      "/tmp/tmp.3Yo4S3ORTG/Ax-main/ax/core/map_data.py:192: FutureWarning: The behavior of DataFrame concatenation with empty or all-NA entries is deprecated. In a future version, this will no longer exclude empty or all-NA columns when determining the result dtypes. To retain the old behavior, exclude the relevant entries before the concat operation.\n",
      "  df = pd.concat(\n",
      "/tmp/tmp.3Yo4S3ORTG/Ax-main/ax/core/map_data.py:192: FutureWarning: The behavior of DataFrame concatenation with empty or all-NA entries is deprecated. In a future version, this will no longer exclude empty or all-NA columns when determining the result dtypes. To retain the old behavior, exclude the relevant entries before the concat operation.\n",
      "  df = pd.concat(\n",
      "[INFO 08-15 07:07:56] ax.early_stopping.strategies.base: Last progression of any candidate for trial stopping is 0.6999466666666667.\n"
     ]
    },
    {
     "name": "stderr",
     "output_type": "stream",
     "text": [
      "[INFO 08-15 07:07:56] ax.early_stopping.utils: Got exception `x and y arrays must have at least 2 entries` during interpolation. Using uninterpolated values instead.\n"
     ]
    },
    {
     "name": "stderr",
     "output_type": "stream",
     "text": [
      "[INFO 08-15 07:07:56] ax.early_stopping.strategies.percentile: Considering trial 10 for early stopping.\n"
     ]
    },
    {
     "name": "stderr",
     "output_type": "stream",
     "text": [
      "[INFO 08-15 07:07:56] ax.early_stopping.strategies.base: Last progression of Trial 10 is 0.6999466666666667.\n"
     ]
    },
    {
     "name": "stderr",
     "output_type": "stream",
     "text": [
      "[INFO 08-15 07:07:56] ax.early_stopping.strategies.percentile: Early stopping objective at last progression is:\n",
      "2     0.938545\n",
      "3     0.896313\n",
      "4     0.912089\n",
      "5     0.951609\n",
      "6     0.943465\n",
      "9     0.957766\n",
      "10    0.960394\n",
      "11    0.957351\n",
      "Name: 0.6999466666666667, dtype: float64.\n"
     ]
    },
    {
     "name": "stderr",
     "output_type": "stream",
     "text": [
      "[INFO 08-15 07:07:56] ax.early_stopping.strategies.percentile: Early stopping decision for 10: False. Reason: Trial objective value 0.9603942225972453 is better than 70.0-th percentile (0.9567766888507803) across comparable trials.\n"
     ]
    },
    {
     "name": "stderr",
     "output_type": "stream",
     "text": [
      "[INFO 08-15 07:07:56] ax.early_stopping.strategies.percentile: Considering trial 11 for early stopping.\n"
     ]
    },
    {
     "name": "stderr",
     "output_type": "stream",
     "text": [
      "[INFO 08-15 07:07:56] ax.early_stopping.strategies.base: Last progression of Trial 11 is 0.6999466666666667.\n"
     ]
    },
    {
     "name": "stderr",
     "output_type": "stream",
     "text": [
      "[INFO 08-15 07:07:56] ax.early_stopping.strategies.percentile: Early stopping objective at last progression is:\n",
      "2     0.938545\n",
      "3     0.896313\n",
      "4     0.912089\n",
      "5     0.951609\n",
      "6     0.943465\n",
      "9     0.957766\n",
      "10    0.960394\n",
      "11    0.957351\n",
      "Name: 0.6999466666666667, dtype: float64.\n"
     ]
    },
    {
     "name": "stderr",
     "output_type": "stream",
     "text": [
      "[INFO 08-15 07:07:56] ax.early_stopping.strategies.percentile: Early stopping decision for 11: False. Reason: Trial objective value 0.9573508872358225 is better than 70.0-th percentile (0.9567766888507803) across comparable trials.\n"
     ]
    },
    {
     "name": "stderr",
     "output_type": "stream",
     "text": [
      "[INFO 08-15 07:07:56] ax.early_stopping.strategies.percentile: Considering trial 12 for early stopping.\n"
     ]
    },
    {
     "name": "stderr",
     "output_type": "stream",
     "text": [
      "[INFO 08-15 07:07:56] ax.early_stopping.strategies.base: Last progression of Trial 12 is 0.09994666666666667.\n"
     ]
    },
    {
     "name": "stderr",
     "output_type": "stream",
     "text": [
      "[INFO 08-15 07:07:56] ax.early_stopping.strategies.base: Trial 12's most recent progression (0.09994666666666667) that is available for metric val_acc falls out of the min/max_progression range (0.3, None). Not early stopping this trial.\n"
     ]
    },
    {
     "name": "stderr",
     "output_type": "stream",
     "text": [
      "[INFO 08-15 07:07:56] Scheduler: Waiting for completed trials (for 10 sec, currently running trials: 3).\n"
     ]
    },
    {
     "name": "stderr",
     "output_type": "stream",
     "text": [
      "[INFO 08-15 07:08:06] Scheduler: Fetching data for newly completed trials: [].\n"
     ]
    },
    {
     "name": "stderr",
     "output_type": "stream",
     "text": [
      "[INFO 08-15 07:08:06] Scheduler: Fetching data for trials: 10 - 12 because some metrics on experiment are available while trials are running.\n"
     ]
    },
    {
     "name": "stderr",
     "output_type": "stream",
     "text": [
      "/tmp/tmp.3Yo4S3ORTG/Ax-main/ax/core/map_data.py:192: FutureWarning: The behavior of DataFrame concatenation with empty or all-NA entries is deprecated. In a future version, this will no longer exclude empty or all-NA columns when determining the result dtypes. To retain the old behavior, exclude the relevant entries before the concat operation.\n",
      "  df = pd.concat(\n",
      "/tmp/tmp.3Yo4S3ORTG/Ax-main/ax/core/map_data.py:192: FutureWarning: The behavior of DataFrame concatenation with empty or all-NA entries is deprecated. In a future version, this will no longer exclude empty or all-NA columns when determining the result dtypes. To retain the old behavior, exclude the relevant entries before the concat operation.\n",
      "  df = pd.concat(\n",
      "[INFO 08-15 07:08:06] ax.early_stopping.strategies.base: Last progression of any candidate for trial stopping is 0.6999466666666667.\n"
     ]
    },
    {
     "name": "stderr",
     "output_type": "stream",
     "text": [
      "[INFO 08-15 07:08:06] ax.early_stopping.utils: Got exception `x and y arrays must have at least 2 entries` during interpolation. Using uninterpolated values instead.\n"
     ]
    },
    {
     "name": "stderr",
     "output_type": "stream",
     "text": [
      "[INFO 08-15 07:08:06] ax.early_stopping.strategies.percentile: Considering trial 10 for early stopping.\n"
     ]
    },
    {
     "name": "stderr",
     "output_type": "stream",
     "text": [
      "[INFO 08-15 07:08:06] ax.early_stopping.strategies.base: Last progression of Trial 10 is 0.6999466666666667.\n"
     ]
    },
    {
     "name": "stderr",
     "output_type": "stream",
     "text": [
      "[INFO 08-15 07:08:06] ax.early_stopping.strategies.percentile: Early stopping objective at last progression is:\n",
      "2     0.938545\n",
      "3     0.896313\n",
      "4     0.912089\n",
      "5     0.951609\n",
      "6     0.943465\n",
      "9     0.957766\n",
      "10    0.960394\n",
      "11    0.957351\n",
      "Name: 0.6999466666666667, dtype: float64.\n"
     ]
    },
    {
     "name": "stderr",
     "output_type": "stream",
     "text": [
      "[INFO 08-15 07:08:06] ax.early_stopping.strategies.percentile: Early stopping decision for 10: False. Reason: Trial objective value 0.9603942225972453 is better than 70.0-th percentile (0.9567766888507803) across comparable trials.\n"
     ]
    },
    {
     "name": "stderr",
     "output_type": "stream",
     "text": [
      "[INFO 08-15 07:08:06] ax.early_stopping.strategies.percentile: Considering trial 11 for early stopping.\n"
     ]
    },
    {
     "name": "stderr",
     "output_type": "stream",
     "text": [
      "[INFO 08-15 07:08:06] ax.early_stopping.strategies.base: Last progression of Trial 11 is 0.6999466666666667.\n"
     ]
    },
    {
     "name": "stderr",
     "output_type": "stream",
     "text": [
      "[INFO 08-15 07:08:06] ax.early_stopping.strategies.percentile: Early stopping objective at last progression is:\n",
      "2     0.938545\n",
      "3     0.896313\n",
      "4     0.912089\n",
      "5     0.951609\n",
      "6     0.943465\n",
      "9     0.957766\n",
      "10    0.960394\n",
      "11    0.957351\n",
      "Name: 0.6999466666666667, dtype: float64.\n"
     ]
    },
    {
     "name": "stderr",
     "output_type": "stream",
     "text": [
      "[INFO 08-15 07:08:06] ax.early_stopping.strategies.percentile: Early stopping decision for 11: False. Reason: Trial objective value 0.9573508872358225 is better than 70.0-th percentile (0.9567766888507803) across comparable trials.\n"
     ]
    },
    {
     "name": "stderr",
     "output_type": "stream",
     "text": [
      "[INFO 08-15 07:08:06] ax.early_stopping.strategies.percentile: Considering trial 12 for early stopping.\n"
     ]
    },
    {
     "name": "stderr",
     "output_type": "stream",
     "text": [
      "[INFO 08-15 07:08:06] ax.early_stopping.strategies.base: Last progression of Trial 12 is 0.09994666666666667.\n"
     ]
    },
    {
     "name": "stderr",
     "output_type": "stream",
     "text": [
      "[INFO 08-15 07:08:06] ax.early_stopping.strategies.base: Trial 12's most recent progression (0.09994666666666667) that is available for metric val_acc falls out of the min/max_progression range (0.3, None). Not early stopping this trial.\n"
     ]
    },
    {
     "name": "stderr",
     "output_type": "stream",
     "text": [
      "[INFO 08-15 07:08:06] Scheduler: Waiting for completed trials (for 10 sec, currently running trials: 3).\n"
     ]
    },
    {
     "name": "stderr",
     "output_type": "stream",
     "text": [
      "[INFO 08-15 07:08:16] Scheduler: Fetching data for newly completed trials: [].\n"
     ]
    },
    {
     "name": "stderr",
     "output_type": "stream",
     "text": [
      "[INFO 08-15 07:08:16] Scheduler: Fetching data for trials: 10 - 12 because some metrics on experiment are available while trials are running.\n"
     ]
    },
    {
     "name": "stderr",
     "output_type": "stream",
     "text": [
      "/tmp/tmp.3Yo4S3ORTG/Ax-main/ax/core/map_data.py:192: FutureWarning: The behavior of DataFrame concatenation with empty or all-NA entries is deprecated. In a future version, this will no longer exclude empty or all-NA columns when determining the result dtypes. To retain the old behavior, exclude the relevant entries before the concat operation.\n",
      "  df = pd.concat(\n",
      "/tmp/tmp.3Yo4S3ORTG/Ax-main/ax/core/map_data.py:192: FutureWarning: The behavior of DataFrame concatenation with empty or all-NA entries is deprecated. In a future version, this will no longer exclude empty or all-NA columns when determining the result dtypes. To retain the old behavior, exclude the relevant entries before the concat operation.\n",
      "  df = pd.concat(\n",
      "[INFO 08-15 07:08:16] ax.early_stopping.strategies.base: Last progression of any candidate for trial stopping is 0.7999466666666667.\n"
     ]
    },
    {
     "name": "stderr",
     "output_type": "stream",
     "text": [
      "[INFO 08-15 07:08:16] ax.early_stopping.strategies.percentile: Considering trial 10 for early stopping.\n"
     ]
    },
    {
     "name": "stderr",
     "output_type": "stream",
     "text": [
      "[INFO 08-15 07:08:16] ax.early_stopping.strategies.base: Last progression of Trial 10 is 0.7999466666666667.\n"
     ]
    },
    {
     "name": "stderr",
     "output_type": "stream",
     "text": [
      "[INFO 08-15 07:08:16] ax.early_stopping.strategies.percentile: Early stopping objective at last progression is:\n",
      "2     0.940890\n",
      "3     0.896494\n",
      "4     0.913319\n",
      "5     0.952123\n",
      "6     0.943624\n",
      "9     0.957776\n",
      "10    0.962669\n",
      "Name: 0.7999466666666667, dtype: float64.\n"
     ]
    },
    {
     "name": "stderr",
     "output_type": "stream",
     "text": [
      "[INFO 08-15 07:08:16] ax.early_stopping.strategies.percentile: Early stopping decision for 10: False. Reason: Trial objective value 0.962668569909309 is better than 70.0-th percentile (0.9532536910092585) across comparable trials.\n"
     ]
    },
    {
     "name": "stderr",
     "output_type": "stream",
     "text": [
      "[INFO 08-15 07:08:16] ax.early_stopping.strategies.percentile: Considering trial 11 for early stopping.\n"
     ]
    },
    {
     "name": "stderr",
     "output_type": "stream",
     "text": [
      "[INFO 08-15 07:08:16] ax.early_stopping.strategies.base: Last progression of Trial 11 is 0.6999466666666667.\n"
     ]
    },
    {
     "name": "stderr",
     "output_type": "stream",
     "text": [
      "[INFO 08-15 07:08:16] ax.early_stopping.strategies.percentile: Early stopping objective at last progression is:\n",
      "2     0.938545\n",
      "3     0.896313\n",
      "4     0.912089\n",
      "5     0.951609\n",
      "6     0.943465\n",
      "9     0.957766\n",
      "10    0.960394\n",
      "11    0.957351\n",
      "Name: 0.6999466666666667, dtype: float64.\n"
     ]
    },
    {
     "name": "stderr",
     "output_type": "stream",
     "text": [
      "[INFO 08-15 07:08:16] ax.early_stopping.strategies.percentile: Early stopping decision for 11: False. Reason: Trial objective value 0.9573508872358225 is better than 70.0-th percentile (0.9567766888507803) across comparable trials.\n"
     ]
    },
    {
     "name": "stderr",
     "output_type": "stream",
     "text": [
      "[INFO 08-15 07:08:16] ax.early_stopping.strategies.percentile: Considering trial 12 for early stopping.\n"
     ]
    },
    {
     "name": "stderr",
     "output_type": "stream",
     "text": [
      "[INFO 08-15 07:08:16] ax.early_stopping.strategies.base: Last progression of Trial 12 is 0.19994666666666666.\n"
     ]
    },
    {
     "name": "stderr",
     "output_type": "stream",
     "text": [
      "[INFO 08-15 07:08:16] ax.early_stopping.strategies.base: Trial 12's most recent progression (0.19994666666666666) that is available for metric val_acc falls out of the min/max_progression range (0.3, None). Not early stopping this trial.\n"
     ]
    },
    {
     "name": "stderr",
     "output_type": "stream",
     "text": [
      "[INFO 08-15 07:08:16] Scheduler: Waiting for completed trials (for 10 sec, currently running trials: 3).\n"
     ]
    },
    {
     "name": "stderr",
     "output_type": "stream",
     "text": [
      "[INFO 08-15 07:08:26] Scheduler: Fetching data for newly completed trials: [].\n"
     ]
    },
    {
     "name": "stderr",
     "output_type": "stream",
     "text": [
      "[INFO 08-15 07:08:26] Scheduler: Fetching data for trials: 10 - 12 because some metrics on experiment are available while trials are running.\n"
     ]
    },
    {
     "name": "stderr",
     "output_type": "stream",
     "text": [
      "/tmp/tmp.3Yo4S3ORTG/Ax-main/ax/core/map_data.py:192: FutureWarning: The behavior of DataFrame concatenation with empty or all-NA entries is deprecated. In a future version, this will no longer exclude empty or all-NA columns when determining the result dtypes. To retain the old behavior, exclude the relevant entries before the concat operation.\n",
      "  df = pd.concat(\n",
      "/tmp/tmp.3Yo4S3ORTG/Ax-main/ax/core/map_data.py:192: FutureWarning: The behavior of DataFrame concatenation with empty or all-NA entries is deprecated. In a future version, this will no longer exclude empty or all-NA columns when determining the result dtypes. To retain the old behavior, exclude the relevant entries before the concat operation.\n",
      "  df = pd.concat(\n",
      "[INFO 08-15 07:08:27] ax.early_stopping.strategies.base: Last progression of any candidate for trial stopping is 0.7999466666666667.\n"
     ]
    },
    {
     "name": "stderr",
     "output_type": "stream",
     "text": [
      "[INFO 08-15 07:08:27] ax.early_stopping.strategies.percentile: Considering trial 10 for early stopping.\n"
     ]
    },
    {
     "name": "stderr",
     "output_type": "stream",
     "text": [
      "[INFO 08-15 07:08:27] ax.early_stopping.strategies.base: Last progression of Trial 10 is 0.7999466666666667.\n"
     ]
    },
    {
     "name": "stderr",
     "output_type": "stream",
     "text": [
      "[INFO 08-15 07:08:27] ax.early_stopping.strategies.percentile: Early stopping objective at last progression is:\n",
      "2     0.940890\n",
      "3     0.896494\n",
      "4     0.913319\n",
      "5     0.952123\n",
      "6     0.943624\n",
      "9     0.957776\n",
      "10    0.962669\n",
      "11    0.959514\n",
      "Name: 0.7999466666666667, dtype: float64.\n"
     ]
    },
    {
     "name": "stderr",
     "output_type": "stream",
     "text": [
      "[INFO 08-15 07:08:27] ax.early_stopping.strategies.percentile: Early stopping decision for 10: False. Reason: Trial objective value 0.962668569909309 is better than 70.0-th percentile (0.9572107189997383) across comparable trials.\n"
     ]
    },
    {
     "name": "stderr",
     "output_type": "stream",
     "text": [
      "[INFO 08-15 07:08:27] ax.early_stopping.strategies.percentile: Considering trial 11 for early stopping.\n"
     ]
    },
    {
     "name": "stderr",
     "output_type": "stream",
     "text": [
      "[INFO 08-15 07:08:27] ax.early_stopping.strategies.base: Last progression of Trial 11 is 0.7999466666666667.\n"
     ]
    },
    {
     "name": "stderr",
     "output_type": "stream",
     "text": [
      "[INFO 08-15 07:08:27] ax.early_stopping.strategies.percentile: Early stopping objective at last progression is:\n",
      "2     0.940890\n",
      "3     0.896494\n",
      "4     0.913319\n",
      "5     0.952123\n",
      "6     0.943624\n",
      "9     0.957776\n",
      "10    0.962669\n",
      "11    0.959514\n",
      "Name: 0.7999466666666667, dtype: float64.\n"
     ]
    },
    {
     "name": "stderr",
     "output_type": "stream",
     "text": [
      "[INFO 08-15 07:08:27] ax.early_stopping.strategies.percentile: Early stopping decision for 11: False. Reason: Trial objective value 0.9595140715624103 is better than 70.0-th percentile (0.9572107189997383) across comparable trials.\n"
     ]
    },
    {
     "name": "stderr",
     "output_type": "stream",
     "text": [
      "[INFO 08-15 07:08:27] ax.early_stopping.strategies.percentile: Considering trial 12 for early stopping.\n"
     ]
    },
    {
     "name": "stderr",
     "output_type": "stream",
     "text": [
      "[INFO 08-15 07:08:27] ax.early_stopping.strategies.base: Last progression of Trial 12 is 0.19994666666666666.\n"
     ]
    },
    {
     "name": "stderr",
     "output_type": "stream",
     "text": [
      "[INFO 08-15 07:08:27] ax.early_stopping.strategies.base: Trial 12's most recent progression (0.19994666666666666) that is available for metric val_acc falls out of the min/max_progression range (0.3, None). Not early stopping this trial.\n"
     ]
    },
    {
     "name": "stderr",
     "output_type": "stream",
     "text": [
      "[INFO 08-15 07:08:27] Scheduler: Waiting for completed trials (for 10 sec, currently running trials: 3).\n"
     ]
    },
    {
     "name": "stderr",
     "output_type": "stream",
     "text": [
      "[INFO 08-15 07:08:37] Scheduler: Fetching data for newly completed trials: [].\n"
     ]
    },
    {
     "name": "stderr",
     "output_type": "stream",
     "text": [
      "[INFO 08-15 07:08:37] Scheduler: Fetching data for trials: 10 - 12 because some metrics on experiment are available while trials are running.\n"
     ]
    },
    {
     "name": "stderr",
     "output_type": "stream",
     "text": [
      "/tmp/tmp.3Yo4S3ORTG/Ax-main/ax/core/map_data.py:192: FutureWarning: The behavior of DataFrame concatenation with empty or all-NA entries is deprecated. In a future version, this will no longer exclude empty or all-NA columns when determining the result dtypes. To retain the old behavior, exclude the relevant entries before the concat operation.\n",
      "  df = pd.concat(\n",
      "/tmp/tmp.3Yo4S3ORTG/Ax-main/ax/core/map_data.py:192: FutureWarning: The behavior of DataFrame concatenation with empty or all-NA entries is deprecated. In a future version, this will no longer exclude empty or all-NA columns when determining the result dtypes. To retain the old behavior, exclude the relevant entries before the concat operation.\n",
      "  df = pd.concat(\n",
      "[INFO 08-15 07:08:37] ax.early_stopping.strategies.base: Last progression of any candidate for trial stopping is 0.7999466666666667.\n"
     ]
    },
    {
     "name": "stderr",
     "output_type": "stream",
     "text": [
      "[INFO 08-15 07:08:37] ax.early_stopping.strategies.percentile: Considering trial 10 for early stopping.\n"
     ]
    },
    {
     "name": "stderr",
     "output_type": "stream",
     "text": [
      "[INFO 08-15 07:08:37] ax.early_stopping.strategies.base: Last progression of Trial 10 is 0.7999466666666667.\n"
     ]
    },
    {
     "name": "stderr",
     "output_type": "stream",
     "text": [
      "[INFO 08-15 07:08:37] ax.early_stopping.strategies.percentile: Early stopping objective at last progression is:\n",
      "2     0.940890\n",
      "3     0.896494\n",
      "4     0.913319\n",
      "5     0.952123\n",
      "6     0.943624\n",
      "9     0.957776\n",
      "10    0.962669\n",
      "11    0.959514\n",
      "Name: 0.7999466666666667, dtype: float64.\n"
     ]
    },
    {
     "name": "stderr",
     "output_type": "stream",
     "text": [
      "[INFO 08-15 07:08:37] ax.early_stopping.strategies.percentile: Early stopping decision for 10: False. Reason: Trial objective value 0.962668569909309 is better than 70.0-th percentile (0.9572107189997383) across comparable trials.\n"
     ]
    },
    {
     "name": "stderr",
     "output_type": "stream",
     "text": [
      "[INFO 08-15 07:08:37] ax.early_stopping.strategies.percentile: Considering trial 11 for early stopping.\n"
     ]
    },
    {
     "name": "stderr",
     "output_type": "stream",
     "text": [
      "[INFO 08-15 07:08:37] ax.early_stopping.strategies.base: Last progression of Trial 11 is 0.7999466666666667.\n"
     ]
    },
    {
     "name": "stderr",
     "output_type": "stream",
     "text": [
      "[INFO 08-15 07:08:37] ax.early_stopping.strategies.percentile: Early stopping objective at last progression is:\n",
      "2     0.940890\n",
      "3     0.896494\n",
      "4     0.913319\n",
      "5     0.952123\n",
      "6     0.943624\n",
      "9     0.957776\n",
      "10    0.962669\n",
      "11    0.959514\n",
      "Name: 0.7999466666666667, dtype: float64.\n"
     ]
    },
    {
     "name": "stderr",
     "output_type": "stream",
     "text": [
      "[INFO 08-15 07:08:37] ax.early_stopping.strategies.percentile: Early stopping decision for 11: False. Reason: Trial objective value 0.9595140715624103 is better than 70.0-th percentile (0.9572107189997383) across comparable trials.\n"
     ]
    },
    {
     "name": "stderr",
     "output_type": "stream",
     "text": [
      "[INFO 08-15 07:08:37] ax.early_stopping.strategies.percentile: Considering trial 12 for early stopping.\n"
     ]
    },
    {
     "name": "stderr",
     "output_type": "stream",
     "text": [
      "[INFO 08-15 07:08:37] ax.early_stopping.strategies.base: Last progression of Trial 12 is 0.19994666666666666.\n"
     ]
    },
    {
     "name": "stderr",
     "output_type": "stream",
     "text": [
      "[INFO 08-15 07:08:37] ax.early_stopping.strategies.base: Trial 12's most recent progression (0.19994666666666666) that is available for metric val_acc falls out of the min/max_progression range (0.3, None). Not early stopping this trial.\n"
     ]
    },
    {
     "name": "stderr",
     "output_type": "stream",
     "text": [
      "[INFO 08-15 07:08:37] Scheduler: Waiting for completed trials (for 10 sec, currently running trials: 3).\n"
     ]
    },
    {
     "name": "stderr",
     "output_type": "stream",
     "text": [
      "[INFO 08-15 07:08:47] Scheduler: Fetching data for newly completed trials: [].\n"
     ]
    },
    {
     "name": "stderr",
     "output_type": "stream",
     "text": [
      "[INFO 08-15 07:08:47] Scheduler: Fetching data for trials: 10 - 12 because some metrics on experiment are available while trials are running.\n"
     ]
    },
    {
     "name": "stderr",
     "output_type": "stream",
     "text": [
      "/tmp/tmp.3Yo4S3ORTG/Ax-main/ax/core/map_data.py:192: FutureWarning: The behavior of DataFrame concatenation with empty or all-NA entries is deprecated. In a future version, this will no longer exclude empty or all-NA columns when determining the result dtypes. To retain the old behavior, exclude the relevant entries before the concat operation.\n",
      "  df = pd.concat(\n",
      "/tmp/tmp.3Yo4S3ORTG/Ax-main/ax/core/map_data.py:192: FutureWarning: The behavior of DataFrame concatenation with empty or all-NA entries is deprecated. In a future version, this will no longer exclude empty or all-NA columns when determining the result dtypes. To retain the old behavior, exclude the relevant entries before the concat operation.\n",
      "  df = pd.concat(\n",
      "[INFO 08-15 07:08:47] ax.early_stopping.strategies.base: Last progression of any candidate for trial stopping is 0.7999466666666667.\n"
     ]
    },
    {
     "name": "stderr",
     "output_type": "stream",
     "text": [
      "[INFO 08-15 07:08:47] ax.early_stopping.strategies.percentile: Considering trial 10 for early stopping.\n"
     ]
    },
    {
     "name": "stderr",
     "output_type": "stream",
     "text": [
      "[INFO 08-15 07:08:47] ax.early_stopping.strategies.base: Last progression of Trial 10 is 0.7999466666666667.\n"
     ]
    },
    {
     "name": "stderr",
     "output_type": "stream",
     "text": [
      "[INFO 08-15 07:08:47] ax.early_stopping.strategies.percentile: Early stopping objective at last progression is:\n",
      "2     0.940890\n",
      "3     0.896494\n",
      "4     0.913319\n",
      "5     0.952123\n",
      "6     0.943624\n",
      "9     0.957776\n",
      "10    0.962669\n",
      "11    0.959514\n",
      "Name: 0.7999466666666667, dtype: float64.\n"
     ]
    },
    {
     "name": "stderr",
     "output_type": "stream",
     "text": [
      "[INFO 08-15 07:08:47] ax.early_stopping.strategies.percentile: Early stopping decision for 10: False. Reason: Trial objective value 0.962668569909309 is better than 70.0-th percentile (0.9572107189997383) across comparable trials.\n"
     ]
    },
    {
     "name": "stderr",
     "output_type": "stream",
     "text": [
      "[INFO 08-15 07:08:47] ax.early_stopping.strategies.percentile: Considering trial 11 for early stopping.\n"
     ]
    },
    {
     "name": "stderr",
     "output_type": "stream",
     "text": [
      "[INFO 08-15 07:08:47] ax.early_stopping.strategies.base: Last progression of Trial 11 is 0.7999466666666667.\n"
     ]
    },
    {
     "name": "stderr",
     "output_type": "stream",
     "text": [
      "[INFO 08-15 07:08:47] ax.early_stopping.strategies.percentile: Early stopping objective at last progression is:\n",
      "2     0.940890\n",
      "3     0.896494\n",
      "4     0.913319\n",
      "5     0.952123\n",
      "6     0.943624\n",
      "9     0.957776\n",
      "10    0.962669\n",
      "11    0.959514\n",
      "Name: 0.7999466666666667, dtype: float64.\n"
     ]
    },
    {
     "name": "stderr",
     "output_type": "stream",
     "text": [
      "[INFO 08-15 07:08:47] ax.early_stopping.strategies.percentile: Early stopping decision for 11: False. Reason: Trial objective value 0.9595140715624103 is better than 70.0-th percentile (0.9572107189997383) across comparable trials.\n"
     ]
    },
    {
     "name": "stderr",
     "output_type": "stream",
     "text": [
      "[INFO 08-15 07:08:47] ax.early_stopping.strategies.percentile: Considering trial 12 for early stopping.\n"
     ]
    },
    {
     "name": "stderr",
     "output_type": "stream",
     "text": [
      "[INFO 08-15 07:08:47] ax.early_stopping.strategies.base: Last progression of Trial 12 is 0.19994666666666666.\n"
     ]
    },
    {
     "name": "stderr",
     "output_type": "stream",
     "text": [
      "[INFO 08-15 07:08:47] ax.early_stopping.strategies.base: Trial 12's most recent progression (0.19994666666666666) that is available for metric val_acc falls out of the min/max_progression range (0.3, None). Not early stopping this trial.\n"
     ]
    },
    {
     "name": "stderr",
     "output_type": "stream",
     "text": [
      "[INFO 08-15 07:08:47] Scheduler: Waiting for completed trials (for 10 sec, currently running trials: 3).\n"
     ]
    },
    {
     "name": "stderr",
     "output_type": "stream",
     "text": [
      "[INFO 08-15 07:08:57] Scheduler: Fetching data for newly completed trials: [].\n"
     ]
    },
    {
     "name": "stderr",
     "output_type": "stream",
     "text": [
      "[INFO 08-15 07:08:57] Scheduler: Fetching data for trials: 10 - 12 because some metrics on experiment are available while trials are running.\n"
     ]
    },
    {
     "name": "stderr",
     "output_type": "stream",
     "text": [
      "/tmp/tmp.3Yo4S3ORTG/Ax-main/ax/core/map_data.py:192: FutureWarning: The behavior of DataFrame concatenation with empty or all-NA entries is deprecated. In a future version, this will no longer exclude empty or all-NA columns when determining the result dtypes. To retain the old behavior, exclude the relevant entries before the concat operation.\n",
      "  df = pd.concat(\n",
      "/tmp/tmp.3Yo4S3ORTG/Ax-main/ax/core/map_data.py:192: FutureWarning: The behavior of DataFrame concatenation with empty or all-NA entries is deprecated. In a future version, this will no longer exclude empty or all-NA columns when determining the result dtypes. To retain the old behavior, exclude the relevant entries before the concat operation.\n",
      "  df = pd.concat(\n",
      "[INFO 08-15 07:08:57] ax.early_stopping.strategies.base: Last progression of any candidate for trial stopping is 0.8999466666666667.\n"
     ]
    },
    {
     "name": "stderr",
     "output_type": "stream",
     "text": [
      "[INFO 08-15 07:08:57] ax.early_stopping.strategies.percentile: Considering trial 10 for early stopping.\n"
     ]
    },
    {
     "name": "stderr",
     "output_type": "stream",
     "text": [
      "[INFO 08-15 07:08:57] ax.early_stopping.strategies.base: Last progression of Trial 10 is 0.8999466666666667.\n"
     ]
    },
    {
     "name": "stderr",
     "output_type": "stream",
     "text": [
      "[INFO 08-15 07:08:57] ax.early_stopping.strategies.percentile: Early stopping objective at last progression is:\n",
      "2     0.943914\n",
      "3     0.899786\n",
      "4     0.912556\n",
      "5     0.954306\n",
      "6     0.943693\n",
      "9     0.958148\n",
      "10    0.961517\n",
      "Name: 0.8999466666666667, dtype: float64.\n"
     ]
    },
    {
     "name": "stderr",
     "output_type": "stream",
     "text": [
      "[INFO 08-15 07:08:57] ax.early_stopping.strategies.percentile: Early stopping decision for 10: False. Reason: Trial objective value 0.9615167586679708 is better than 70.0-th percentile (0.955074212401008) across comparable trials.\n"
     ]
    },
    {
     "name": "stderr",
     "output_type": "stream",
     "text": [
      "[INFO 08-15 07:08:57] ax.early_stopping.strategies.percentile: Considering trial 11 for early stopping.\n"
     ]
    },
    {
     "name": "stderr",
     "output_type": "stream",
     "text": [
      "[INFO 08-15 07:08:57] ax.early_stopping.strategies.base: Last progression of Trial 11 is 0.7999466666666667.\n"
     ]
    },
    {
     "name": "stderr",
     "output_type": "stream",
     "text": [
      "[INFO 08-15 07:08:57] ax.early_stopping.strategies.percentile: Early stopping objective at last progression is:\n",
      "2     0.940890\n",
      "3     0.896494\n",
      "4     0.913319\n",
      "5     0.952123\n",
      "6     0.943624\n",
      "9     0.957776\n",
      "10    0.962669\n",
      "11    0.959514\n",
      "Name: 0.7999466666666667, dtype: float64.\n"
     ]
    },
    {
     "name": "stderr",
     "output_type": "stream",
     "text": [
      "[INFO 08-15 07:08:57] ax.early_stopping.strategies.percentile: Early stopping decision for 11: False. Reason: Trial objective value 0.9595140715624103 is better than 70.0-th percentile (0.9572107189997383) across comparable trials.\n"
     ]
    },
    {
     "name": "stderr",
     "output_type": "stream",
     "text": [
      "[INFO 08-15 07:08:57] ax.early_stopping.strategies.percentile: Considering trial 12 for early stopping.\n"
     ]
    },
    {
     "name": "stderr",
     "output_type": "stream",
     "text": [
      "[INFO 08-15 07:08:57] ax.early_stopping.strategies.base: Last progression of Trial 12 is 0.29994666666666664.\n"
     ]
    },
    {
     "name": "stderr",
     "output_type": "stream",
     "text": [
      "[INFO 08-15 07:08:57] ax.early_stopping.strategies.base: Trial 12's most recent progression (0.29994666666666664) that is available for metric val_acc falls out of the min/max_progression range (0.3, None). Not early stopping this trial.\n"
     ]
    },
    {
     "name": "stderr",
     "output_type": "stream",
     "text": [
      "[INFO 08-15 07:08:57] Scheduler: Waiting for completed trials (for 10 sec, currently running trials: 3).\n"
     ]
    },
    {
     "name": "stderr",
     "output_type": "stream",
     "text": [
      "[INFO 08-15 07:09:07] Scheduler: Fetching data for newly completed trials: [].\n"
     ]
    },
    {
     "name": "stderr",
     "output_type": "stream",
     "text": [
      "[INFO 08-15 07:09:07] Scheduler: Fetching data for trials: 10 - 12 because some metrics on experiment are available while trials are running.\n"
     ]
    },
    {
     "name": "stderr",
     "output_type": "stream",
     "text": [
      "/tmp/tmp.3Yo4S3ORTG/Ax-main/ax/core/map_data.py:192: FutureWarning: The behavior of DataFrame concatenation with empty or all-NA entries is deprecated. In a future version, this will no longer exclude empty or all-NA columns when determining the result dtypes. To retain the old behavior, exclude the relevant entries before the concat operation.\n",
      "  df = pd.concat(\n",
      "/tmp/tmp.3Yo4S3ORTG/Ax-main/ax/core/map_data.py:192: FutureWarning: The behavior of DataFrame concatenation with empty or all-NA entries is deprecated. In a future version, this will no longer exclude empty or all-NA columns when determining the result dtypes. To retain the old behavior, exclude the relevant entries before the concat operation.\n",
      "  df = pd.concat(\n",
      "[INFO 08-15 07:09:07] ax.early_stopping.strategies.base: Last progression of any candidate for trial stopping is 0.8999466666666667.\n"
     ]
    },
    {
     "name": "stderr",
     "output_type": "stream",
     "text": [
      "[INFO 08-15 07:09:07] ax.early_stopping.strategies.percentile: Considering trial 10 for early stopping.\n"
     ]
    },
    {
     "name": "stderr",
     "output_type": "stream",
     "text": [
      "[INFO 08-15 07:09:07] ax.early_stopping.strategies.base: Last progression of Trial 10 is 0.8999466666666667.\n"
     ]
    },
    {
     "name": "stderr",
     "output_type": "stream",
     "text": [
      "[INFO 08-15 07:09:07] ax.early_stopping.strategies.percentile: Early stopping objective at last progression is:\n",
      "2     0.943914\n",
      "3     0.899786\n",
      "4     0.912556\n",
      "5     0.954306\n",
      "6     0.943693\n",
      "9     0.958148\n",
      "10    0.961517\n",
      "Name: 0.8999466666666667, dtype: float64.\n"
     ]
    },
    {
     "name": "stderr",
     "output_type": "stream",
     "text": [
      "[INFO 08-15 07:09:07] ax.early_stopping.strategies.percentile: Early stopping decision for 10: False. Reason: Trial objective value 0.9615167586679708 is better than 70.0-th percentile (0.955074212401008) across comparable trials.\n"
     ]
    },
    {
     "name": "stderr",
     "output_type": "stream",
     "text": [
      "[INFO 08-15 07:09:07] ax.early_stopping.strategies.percentile: Considering trial 11 for early stopping.\n"
     ]
    },
    {
     "name": "stderr",
     "output_type": "stream",
     "text": [
      "[INFO 08-15 07:09:07] ax.early_stopping.strategies.base: Last progression of Trial 11 is 0.7999466666666667.\n"
     ]
    },
    {
     "name": "stderr",
     "output_type": "stream",
     "text": [
      "[INFO 08-15 07:09:07] ax.early_stopping.strategies.percentile: Early stopping objective at last progression is:\n",
      "2     0.940890\n",
      "3     0.896494\n",
      "4     0.913319\n",
      "5     0.952123\n",
      "6     0.943624\n",
      "9     0.957776\n",
      "10    0.962669\n",
      "11    0.959514\n",
      "Name: 0.7999466666666667, dtype: float64.\n"
     ]
    },
    {
     "name": "stderr",
     "output_type": "stream",
     "text": [
      "[INFO 08-15 07:09:07] ax.early_stopping.strategies.percentile: Early stopping decision for 11: False. Reason: Trial objective value 0.9595140715624103 is better than 70.0-th percentile (0.9572107189997383) across comparable trials.\n"
     ]
    },
    {
     "name": "stderr",
     "output_type": "stream",
     "text": [
      "[INFO 08-15 07:09:07] ax.early_stopping.strategies.percentile: Considering trial 12 for early stopping.\n"
     ]
    },
    {
     "name": "stderr",
     "output_type": "stream",
     "text": [
      "[INFO 08-15 07:09:07] ax.early_stopping.strategies.base: Last progression of Trial 12 is 0.29994666666666664.\n"
     ]
    },
    {
     "name": "stderr",
     "output_type": "stream",
     "text": [
      "[INFO 08-15 07:09:07] ax.early_stopping.strategies.base: Trial 12's most recent progression (0.29994666666666664) that is available for metric val_acc falls out of the min/max_progression range (0.3, None). Not early stopping this trial.\n"
     ]
    },
    {
     "name": "stderr",
     "output_type": "stream",
     "text": [
      "[INFO 08-15 07:09:07] Scheduler: Waiting for completed trials (for 10 sec, currently running trials: 3).\n"
     ]
    },
    {
     "name": "stderr",
     "output_type": "stream",
     "text": [
      "[INFO 08-15 07:09:17] Scheduler: Fetching data for newly completed trials: [].\n"
     ]
    },
    {
     "name": "stderr",
     "output_type": "stream",
     "text": [
      "[INFO 08-15 07:09:17] Scheduler: Fetching data for trials: 10 - 12 because some metrics on experiment are available while trials are running.\n"
     ]
    },
    {
     "name": "stderr",
     "output_type": "stream",
     "text": [
      "/tmp/tmp.3Yo4S3ORTG/Ax-main/ax/core/map_data.py:192: FutureWarning: The behavior of DataFrame concatenation with empty or all-NA entries is deprecated. In a future version, this will no longer exclude empty or all-NA columns when determining the result dtypes. To retain the old behavior, exclude the relevant entries before the concat operation.\n",
      "  df = pd.concat(\n",
      "/tmp/tmp.3Yo4S3ORTG/Ax-main/ax/core/map_data.py:192: FutureWarning: The behavior of DataFrame concatenation with empty or all-NA entries is deprecated. In a future version, this will no longer exclude empty or all-NA columns when determining the result dtypes. To retain the old behavior, exclude the relevant entries before the concat operation.\n",
      "  df = pd.concat(\n",
      "[INFO 08-15 07:09:18] ax.early_stopping.strategies.base: Last progression of any candidate for trial stopping is 0.8999466666666667.\n"
     ]
    },
    {
     "name": "stderr",
     "output_type": "stream",
     "text": [
      "[INFO 08-15 07:09:18] ax.early_stopping.strategies.percentile: Considering trial 10 for early stopping.\n"
     ]
    },
    {
     "name": "stderr",
     "output_type": "stream",
     "text": [
      "[INFO 08-15 07:09:18] ax.early_stopping.strategies.base: Last progression of Trial 10 is 0.8999466666666667.\n"
     ]
    },
    {
     "name": "stderr",
     "output_type": "stream",
     "text": [
      "[INFO 08-15 07:09:18] ax.early_stopping.strategies.percentile: Early stopping objective at last progression is:\n",
      "2     0.943914\n",
      "3     0.899786\n",
      "4     0.912556\n",
      "5     0.954306\n",
      "6     0.943693\n",
      "9     0.958148\n",
      "10    0.961517\n",
      "11    0.962685\n",
      "Name: 0.8999466666666667, dtype: float64.\n"
     ]
    },
    {
     "name": "stderr",
     "output_type": "stream",
     "text": [
      "[INFO 08-15 07:09:18] ax.early_stopping.strategies.percentile: Early stopping decision for 10: False. Reason: Trial objective value 0.9615167586679708 is better than 70.0-th percentile (0.9577634672571486) across comparable trials.\n"
     ]
    },
    {
     "name": "stderr",
     "output_type": "stream",
     "text": [
      "[INFO 08-15 07:09:18] ax.early_stopping.strategies.percentile: Considering trial 11 for early stopping.\n"
     ]
    },
    {
     "name": "stderr",
     "output_type": "stream",
     "text": [
      "[INFO 08-15 07:09:18] ax.early_stopping.strategies.base: Last progression of Trial 11 is 0.8999466666666667.\n"
     ]
    },
    {
     "name": "stderr",
     "output_type": "stream",
     "text": [
      "[INFO 08-15 07:09:18] ax.early_stopping.strategies.percentile: Early stopping objective at last progression is:\n",
      "2     0.943914\n",
      "3     0.899786\n",
      "4     0.912556\n",
      "5     0.954306\n",
      "6     0.943693\n",
      "9     0.958148\n",
      "10    0.961517\n",
      "11    0.962685\n",
      "Name: 0.8999466666666667, dtype: float64.\n"
     ]
    },
    {
     "name": "stderr",
     "output_type": "stream",
     "text": [
      "[INFO 08-15 07:09:18] ax.early_stopping.strategies.percentile: Early stopping decision for 11: False. Reason: Trial objective value 0.962684743298207 is better than 70.0-th percentile (0.9577634672571486) across comparable trials.\n"
     ]
    },
    {
     "name": "stderr",
     "output_type": "stream",
     "text": [
      "[INFO 08-15 07:09:18] ax.early_stopping.strategies.percentile: Considering trial 12 for early stopping.\n"
     ]
    },
    {
     "name": "stderr",
     "output_type": "stream",
     "text": [
      "[INFO 08-15 07:09:18] ax.early_stopping.strategies.base: Last progression of Trial 12 is 0.29994666666666664.\n"
     ]
    },
    {
     "name": "stderr",
     "output_type": "stream",
     "text": [
      "[INFO 08-15 07:09:18] ax.early_stopping.strategies.base: Trial 12's most recent progression (0.29994666666666664) that is available for metric val_acc falls out of the min/max_progression range (0.3, None). Not early stopping this trial.\n"
     ]
    },
    {
     "name": "stderr",
     "output_type": "stream",
     "text": [
      "[INFO 08-15 07:09:18] Scheduler: Waiting for completed trials (for 10 sec, currently running trials: 3).\n"
     ]
    },
    {
     "name": "stderr",
     "output_type": "stream",
     "text": [
      "[INFO 08-15 07:09:28] Scheduler: Fetching data for newly completed trials: [].\n"
     ]
    },
    {
     "name": "stderr",
     "output_type": "stream",
     "text": [
      "[INFO 08-15 07:09:28] Scheduler: Fetching data for trials: 10 - 12 because some metrics on experiment are available while trials are running.\n"
     ]
    },
    {
     "name": "stderr",
     "output_type": "stream",
     "text": [
      "/tmp/tmp.3Yo4S3ORTG/Ax-main/ax/core/map_data.py:192: FutureWarning: The behavior of DataFrame concatenation with empty or all-NA entries is deprecated. In a future version, this will no longer exclude empty or all-NA columns when determining the result dtypes. To retain the old behavior, exclude the relevant entries before the concat operation.\n",
      "  df = pd.concat(\n",
      "/tmp/tmp.3Yo4S3ORTG/Ax-main/ax/core/map_data.py:192: FutureWarning: The behavior of DataFrame concatenation with empty or all-NA entries is deprecated. In a future version, this will no longer exclude empty or all-NA columns when determining the result dtypes. To retain the old behavior, exclude the relevant entries before the concat operation.\n",
      "  df = pd.concat(\n",
      "[INFO 08-15 07:09:28] ax.early_stopping.strategies.base: Last progression of any candidate for trial stopping is 0.8999466666666667.\n"
     ]
    },
    {
     "name": "stderr",
     "output_type": "stream",
     "text": [
      "[INFO 08-15 07:09:28] ax.early_stopping.strategies.percentile: Considering trial 10 for early stopping.\n"
     ]
    },
    {
     "name": "stderr",
     "output_type": "stream",
     "text": [
      "[INFO 08-15 07:09:28] ax.early_stopping.strategies.base: Last progression of Trial 10 is 0.8999466666666667.\n"
     ]
    },
    {
     "name": "stderr",
     "output_type": "stream",
     "text": [
      "[INFO 08-15 07:09:28] ax.early_stopping.strategies.percentile: Early stopping objective at last progression is:\n",
      "2     0.943914\n",
      "3     0.899786\n",
      "4     0.912556\n",
      "5     0.954306\n",
      "6     0.943693\n",
      "9     0.958148\n",
      "10    0.961517\n",
      "11    0.962685\n",
      "Name: 0.8999466666666667, dtype: float64.\n"
     ]
    },
    {
     "name": "stderr",
     "output_type": "stream",
     "text": [
      "[INFO 08-15 07:09:28] ax.early_stopping.strategies.percentile: Early stopping decision for 10: False. Reason: Trial objective value 0.9615167586679708 is better than 70.0-th percentile (0.9577634672571486) across comparable trials.\n"
     ]
    },
    {
     "name": "stderr",
     "output_type": "stream",
     "text": [
      "[INFO 08-15 07:09:28] ax.early_stopping.strategies.percentile: Considering trial 11 for early stopping.\n"
     ]
    },
    {
     "name": "stderr",
     "output_type": "stream",
     "text": [
      "[INFO 08-15 07:09:28] ax.early_stopping.strategies.base: Last progression of Trial 11 is 0.8999466666666667.\n"
     ]
    },
    {
     "name": "stderr",
     "output_type": "stream",
     "text": [
      "[INFO 08-15 07:09:28] ax.early_stopping.strategies.percentile: Early stopping objective at last progression is:\n",
      "2     0.943914\n",
      "3     0.899786\n",
      "4     0.912556\n",
      "5     0.954306\n",
      "6     0.943693\n",
      "9     0.958148\n",
      "10    0.961517\n",
      "11    0.962685\n",
      "Name: 0.8999466666666667, dtype: float64.\n"
     ]
    },
    {
     "name": "stderr",
     "output_type": "stream",
     "text": [
      "[INFO 08-15 07:09:28] ax.early_stopping.strategies.percentile: Early stopping decision for 11: False. Reason: Trial objective value 0.962684743298207 is better than 70.0-th percentile (0.9577634672571486) across comparable trials.\n"
     ]
    },
    {
     "name": "stderr",
     "output_type": "stream",
     "text": [
      "[INFO 08-15 07:09:28] ax.early_stopping.strategies.percentile: Considering trial 12 for early stopping.\n"
     ]
    },
    {
     "name": "stderr",
     "output_type": "stream",
     "text": [
      "[INFO 08-15 07:09:28] ax.early_stopping.strategies.base: Last progression of Trial 12 is 0.29994666666666664.\n"
     ]
    },
    {
     "name": "stderr",
     "output_type": "stream",
     "text": [
      "[INFO 08-15 07:09:28] ax.early_stopping.strategies.base: Trial 12's most recent progression (0.29994666666666664) that is available for metric val_acc falls out of the min/max_progression range (0.3, None). Not early stopping this trial.\n"
     ]
    },
    {
     "name": "stderr",
     "output_type": "stream",
     "text": [
      "[INFO 08-15 07:09:28] Scheduler: Waiting for completed trials (for 10 sec, currently running trials: 3).\n"
     ]
    },
    {
     "name": "stderr",
     "output_type": "stream",
     "text": [
      "[INFO 08-15 07:09:38] Scheduler: Fetching data for newly completed trials: [].\n"
     ]
    },
    {
     "name": "stderr",
     "output_type": "stream",
     "text": [
      "[INFO 08-15 07:09:38] Scheduler: Fetching data for trials: 10 - 12 because some metrics on experiment are available while trials are running.\n"
     ]
    },
    {
     "name": "stderr",
     "output_type": "stream",
     "text": [
      "/tmp/tmp.3Yo4S3ORTG/Ax-main/ax/core/map_data.py:192: FutureWarning: The behavior of DataFrame concatenation with empty or all-NA entries is deprecated. In a future version, this will no longer exclude empty or all-NA columns when determining the result dtypes. To retain the old behavior, exclude the relevant entries before the concat operation.\n",
      "  df = pd.concat(\n",
      "/tmp/tmp.3Yo4S3ORTG/Ax-main/ax/core/map_data.py:192: FutureWarning: The behavior of DataFrame concatenation with empty or all-NA entries is deprecated. In a future version, this will no longer exclude empty or all-NA columns when determining the result dtypes. To retain the old behavior, exclude the relevant entries before the concat operation.\n",
      "  df = pd.concat(\n",
      "[INFO 08-15 07:09:38] ax.early_stopping.strategies.base: Last progression of any candidate for trial stopping is 0.9999466666666667.\n"
     ]
    },
    {
     "name": "stderr",
     "output_type": "stream",
     "text": [
      "[INFO 08-15 07:09:38] ax.early_stopping.strategies.percentile: Considering trial 10 for early stopping.\n"
     ]
    },
    {
     "name": "stderr",
     "output_type": "stream",
     "text": [
      "[INFO 08-15 07:09:38] ax.early_stopping.strategies.base: Last progression of Trial 10 is 0.9999466666666667.\n"
     ]
    },
    {
     "name": "stderr",
     "output_type": "stream",
     "text": [
      "[INFO 08-15 07:09:38] ax.early_stopping.strategies.percentile: Early stopping objective at last progression is:\n",
      "2     0.946384\n",
      "3     0.897031\n",
      "4     0.913895\n",
      "5     0.952492\n",
      "6     0.942329\n",
      "9     0.958635\n",
      "10    0.963013\n",
      "Name: 0.9999466666666667, dtype: float64.\n"
     ]
    },
    {
     "name": "stderr",
     "output_type": "stream",
     "text": [
      "[INFO 08-15 07:09:38] ax.early_stopping.strategies.percentile: Early stopping decision for 10: False. Reason: Trial objective value 0.9630128247156258 is better than 70.0-th percentile (0.9537204790997402) across comparable trials.\n"
     ]
    },
    {
     "name": "stderr",
     "output_type": "stream",
     "text": [
      "[INFO 08-15 07:09:38] ax.early_stopping.strategies.percentile: Considering trial 11 for early stopping.\n"
     ]
    },
    {
     "name": "stderr",
     "output_type": "stream",
     "text": [
      "[INFO 08-15 07:09:38] ax.early_stopping.strategies.base: Last progression of Trial 11 is 0.8999466666666667.\n"
     ]
    },
    {
     "name": "stderr",
     "output_type": "stream",
     "text": [
      "[INFO 08-15 07:09:38] ax.early_stopping.strategies.percentile: Early stopping objective at last progression is:\n",
      "2     0.943914\n",
      "3     0.899786\n",
      "4     0.912556\n",
      "5     0.954306\n",
      "6     0.943693\n",
      "9     0.958148\n",
      "10    0.961517\n",
      "11    0.962685\n",
      "Name: 0.8999466666666667, dtype: float64.\n"
     ]
    },
    {
     "name": "stderr",
     "output_type": "stream",
     "text": [
      "[INFO 08-15 07:09:38] ax.early_stopping.strategies.percentile: Early stopping decision for 11: False. Reason: Trial objective value 0.962684743298207 is better than 70.0-th percentile (0.9577634672571486) across comparable trials.\n"
     ]
    },
    {
     "name": "stderr",
     "output_type": "stream",
     "text": [
      "[INFO 08-15 07:09:38] ax.early_stopping.strategies.percentile: Considering trial 12 for early stopping.\n"
     ]
    },
    {
     "name": "stderr",
     "output_type": "stream",
     "text": [
      "[INFO 08-15 07:09:38] ax.early_stopping.strategies.base: Last progression of Trial 12 is 0.29994666666666664.\n"
     ]
    },
    {
     "name": "stderr",
     "output_type": "stream",
     "text": [
      "[INFO 08-15 07:09:38] ax.early_stopping.strategies.base: Trial 12's most recent progression (0.29994666666666664) that is available for metric val_acc falls out of the min/max_progression range (0.3, None). Not early stopping this trial.\n"
     ]
    },
    {
     "name": "stderr",
     "output_type": "stream",
     "text": [
      "[INFO 08-15 07:09:38] Scheduler: Waiting for completed trials (for 10 sec, currently running trials: 3).\n"
     ]
    },
    {
     "name": "stderr",
     "output_type": "stream",
     "text": [
      "[INFO 08-15 07:09:48] Scheduler: Fetching data for newly completed trials: [10].\n"
     ]
    },
    {
     "name": "stderr",
     "output_type": "stream",
     "text": [
      "[INFO 08-15 07:09:48] Scheduler: Fetching data for trials: 11 - 12 because some metrics on experiment are available while trials are running.\n"
     ]
    },
    {
     "name": "stderr",
     "output_type": "stream",
     "text": [
      "[INFO 08-15 07:09:48] Scheduler: Retrieved COMPLETED trials: [10].\n"
     ]
    },
    {
     "name": "stderr",
     "output_type": "stream",
     "text": [
      "/tmp/tmp.3Yo4S3ORTG/Ax-main/ax/core/map_data.py:192: FutureWarning: The behavior of DataFrame concatenation with empty or all-NA entries is deprecated. In a future version, this will no longer exclude empty or all-NA columns when determining the result dtypes. To retain the old behavior, exclude the relevant entries before the concat operation.\n",
      "  df = pd.concat(\n",
      "/tmp/tmp.3Yo4S3ORTG/Ax-main/ax/core/map_data.py:192: FutureWarning: The behavior of DataFrame concatenation with empty or all-NA entries is deprecated. In a future version, this will no longer exclude empty or all-NA columns when determining the result dtypes. To retain the old behavior, exclude the relevant entries before the concat operation.\n",
      "  df = pd.concat(\n",
      "[INFO 08-15 07:09:48] ax.early_stopping.strategies.base: Last progression of any candidate for trial stopping is 0.9999466666666667.\n"
     ]
    },
    {
     "name": "stderr",
     "output_type": "stream",
     "text": [
      "[INFO 08-15 07:09:48] ax.early_stopping.strategies.percentile: Considering trial 11 for early stopping.\n"
     ]
    },
    {
     "name": "stderr",
     "output_type": "stream",
     "text": [
      "[INFO 08-15 07:09:48] ax.early_stopping.strategies.base: Last progression of Trial 11 is 0.9999466666666667.\n"
     ]
    },
    {
     "name": "stderr",
     "output_type": "stream",
     "text": [
      "[INFO 08-15 07:09:48] ax.early_stopping.strategies.percentile: Early stopping objective at last progression is:\n",
      "2     0.946384\n",
      "3     0.897031\n",
      "4     0.913895\n",
      "5     0.952492\n",
      "6     0.942329\n",
      "9     0.958635\n",
      "10    0.963013\n",
      "11    0.963377\n",
      "Name: 0.9999466666666667, dtype: float64.\n"
     ]
    },
    {
     "name": "stderr",
     "output_type": "stream",
     "text": [
      "[INFO 08-15 07:09:48] ax.early_stopping.strategies.percentile: Early stopping decision for 11: False. Reason: Trial objective value 0.9633769374494706 is better than 70.0-th percentile (0.9580208730498495) across comparable trials.\n"
     ]
    },
    {
     "name": "stderr",
     "output_type": "stream",
     "text": [
      "[INFO 08-15 07:09:48] ax.early_stopping.strategies.percentile: Considering trial 12 for early stopping.\n"
     ]
    },
    {
     "name": "stderr",
     "output_type": "stream",
     "text": [
      "[INFO 08-15 07:09:48] ax.early_stopping.strategies.base: Last progression of Trial 12 is 0.3999466666666667.\n"
     ]
    },
    {
     "name": "stderr",
     "output_type": "stream",
     "text": [
      "[INFO 08-15 07:09:48] ax.early_stopping.strategies.percentile: Early stopping objective at last progression is:\n",
      "2     0.932674\n",
      "3     0.893837\n",
      "4     0.889785\n",
      "5     0.941975\n",
      "6     0.934073\n",
      "7     0.918798\n",
      "8     0.926481\n",
      "9     0.950839\n",
      "10    0.954162\n",
      "11    0.944047\n",
      "12    0.926041\n",
      "Name: 0.3999466666666667, dtype: float64.\n"
     ]
    },
    {
     "name": "stderr",
     "output_type": "stream",
     "text": [
      "[INFO 08-15 07:09:48] ax.early_stopping.strategies.percentile: Early stopping decision for 12: True. Reason: Trial objective value 0.9260411776345352 is worse than 70.0-th percentile (0.9419746848162759) across comparable trials.\n"
     ]
    },
    {
     "name": "stderr",
     "output_type": "stream",
     "text": [
      "/tmp/tmp.3Yo4S3ORTG/Ax-main/ax/core/map_data.py:192: FutureWarning: The behavior of DataFrame concatenation with empty or all-NA entries is deprecated. In a future version, this will no longer exclude empty or all-NA columns when determining the result dtypes. To retain the old behavior, exclude the relevant entries before the concat operation.\n",
      "  df = pd.concat(\n"
     ]
    },
    {
     "name": "stderr",
     "output_type": "stream",
     "text": [
      "[INFO 08-15 07:09:50] Scheduler: Running trials [13]...\n"
     ]
    },
    {
     "name": "stderr",
     "output_type": "stream",
     "text": [
      "/tmp/tmp.3Yo4S3ORTG/Ax-main/ax/core/map_data.py:192: FutureWarning: The behavior of DataFrame concatenation with empty or all-NA entries is deprecated. In a future version, this will no longer exclude empty or all-NA columns when determining the result dtypes. To retain the old behavior, exclude the relevant entries before the concat operation.\n",
      "  df = pd.concat(\n"
     ]
    },
    {
     "name": "stderr",
     "output_type": "stream",
     "text": [
      "[INFO 08-15 07:09:51] Scheduler: Running trials [14]...\n"
     ]
    },
    {
     "name": "stderr",
     "output_type": "stream",
     "text": [
      "[WARNING 08-15 07:09:51] Scheduler: Both `init_seconds_between_polls` and `early_stopping_strategy supplied. `init_seconds_between_polls=1` will be overrridden by `early_stopping_strategy.seconds_between_polls=10` and polling will take place at a constant rate.\n"
     ]
    },
    {
     "name": "stderr",
     "output_type": "stream",
     "text": [
      "[INFO 08-15 07:09:51] Scheduler: Fetching data for newly completed trials: [11].\n"
     ]
    },
    {
     "name": "stderr",
     "output_type": "stream",
     "text": [
      "[INFO 08-15 07:09:51] Scheduler: Fetching data for trials: 13 - 14 because some metrics on experiment are available while trials are running.\n"
     ]
    },
    {
     "name": "stderr",
     "output_type": "stream",
     "text": [
      "[INFO 08-15 07:09:51] Scheduler: Retrieved COMPLETED trials: [11].\n"
     ]
    },
    {
     "name": "stderr",
     "output_type": "stream",
     "text": [
      "[INFO 08-15 07:09:51] ax.core.metric: MetricFetchE INFO: Initialized MetricFetchE(message=\"No 'scalar' data found for trial in multiplexer mul=<tensorboard.backend.event_processing.plugin_event_multiplexer.EventMultiplexer object at 0x7f243cf3c700>\")\n"
     ]
    },
    {
     "name": "stderr",
     "output_type": "stream",
     "text": [
      "[INFO 08-15 07:09:51] ax.core.metric: MetricFetchE INFO: Initialized MetricFetchE(message=\"No 'scalar' data found for trial in multiplexer mul=<tensorboard.backend.event_processing.plugin_event_multiplexer.EventMultiplexer object at 0x7f243cf3e590>\")\n"
     ]
    },
    {
     "name": "stderr",
     "output_type": "stream",
     "text": [
      "[ERROR 08-15 07:09:51] ax.core.experiment: Discovered Metric fetching Err while attaching data MetricFetchE(message=\"No 'scalar' data found for trial in multiplexer mul=<tensorboard.backend.event_processing.plugin_event_multiplexer.EventMultiplexer object at 0x7f243cf3c700>\"). Ignoring for now -- will retry query on next call to fetch.\n"
     ]
    },
    {
     "name": "stderr",
     "output_type": "stream",
     "text": [
      "[ERROR 08-15 07:09:51] ax.core.experiment: Discovered Metric fetching Err while attaching data MetricFetchE(message=\"No 'scalar' data found for trial in multiplexer mul=<tensorboard.backend.event_processing.plugin_event_multiplexer.EventMultiplexer object at 0x7f243cf3e590>\"). Ignoring for now -- will retry query on next call to fetch.\n"
     ]
    },
    {
     "name": "stderr",
     "output_type": "stream",
     "text": [
      "/tmp/tmp.3Yo4S3ORTG/Ax-main/ax/core/map_data.py:192: FutureWarning: The behavior of DataFrame concatenation with empty or all-NA entries is deprecated. In a future version, this will no longer exclude empty or all-NA columns when determining the result dtypes. To retain the old behavior, exclude the relevant entries before the concat operation.\n",
      "  df = pd.concat(\n",
      "[WARNING 08-15 07:09:51] Scheduler: Failed to fetch val_acc for trial 13, found MetricFetchE(message=\"No 'scalar' data found for trial in multiplexer mul=<tensorboard.backend.event_processing.plugin_event_multiplexer.EventMultiplexer object at 0x7f243cf3c700>\").\n"
     ]
    },
    {
     "name": "stderr",
     "output_type": "stream",
     "text": [
      "[INFO 08-15 07:09:51] Scheduler: MetricFetchE INFO: Because val_acc is available_while_running and trial 13 is still RUNNING continuing the experiment and retrying on next poll...\n"
     ]
    },
    {
     "name": "stderr",
     "output_type": "stream",
     "text": [
      "[WARNING 08-15 07:09:51] Scheduler: Failed to fetch val_acc for trial 14, found MetricFetchE(message=\"No 'scalar' data found for trial in multiplexer mul=<tensorboard.backend.event_processing.plugin_event_multiplexer.EventMultiplexer object at 0x7f243cf3e590>\").\n"
     ]
    },
    {
     "name": "stderr",
     "output_type": "stream",
     "text": [
      "[INFO 08-15 07:09:51] Scheduler: MetricFetchE INFO: Because val_acc is available_while_running and trial 14 is still RUNNING continuing the experiment and retrying on next poll...\n"
     ]
    },
    {
     "name": "stderr",
     "output_type": "stream",
     "text": [
      "/tmp/tmp.3Yo4S3ORTG/Ax-main/ax/core/map_data.py:192: FutureWarning: The behavior of DataFrame concatenation with empty or all-NA entries is deprecated. In a future version, this will no longer exclude empty or all-NA columns when determining the result dtypes. To retain the old behavior, exclude the relevant entries before the concat operation.\n",
      "  df = pd.concat(\n",
      "[INFO 08-15 07:09:51] ax.early_stopping.strategies.base: Last progression of any candidate for trial stopping is 0.\n"
     ]
    },
    {
     "name": "stderr",
     "output_type": "stream",
     "text": [
      "[INFO 08-15 07:09:51] ax.early_stopping.strategies.base: No trials have reached 0.3. Not stopping any trials.\n"
     ]
    },
    {
     "name": "stderr",
     "output_type": "stream",
     "text": [
      "[INFO 08-15 07:09:51] Scheduler: Done submitting trials, waiting for remaining 2 running trials...\n"
     ]
    },
    {
     "name": "stderr",
     "output_type": "stream",
     "text": [
      "[WARNING 08-15 07:09:51] Scheduler: Both `init_seconds_between_polls` and `early_stopping_strategy supplied. `init_seconds_between_polls=1` will be overrridden by `early_stopping_strategy.seconds_between_polls=10` and polling will take place at a constant rate.\n"
     ]
    },
    {
     "name": "stderr",
     "output_type": "stream",
     "text": [
      "[INFO 08-15 07:09:51] Scheduler: Fetching data for newly completed trials: [].\n"
     ]
    },
    {
     "name": "stderr",
     "output_type": "stream",
     "text": [
      "[INFO 08-15 07:09:51] Scheduler: Fetching data for trials: 13 - 14 because some metrics on experiment are available while trials are running.\n"
     ]
    },
    {
     "name": "stderr",
     "output_type": "stream",
     "text": [
      "[INFO 08-15 07:09:51] ax.core.metric: MetricFetchE INFO: Initialized MetricFetchE(message=\"No 'scalar' data found for trial in multiplexer mul=<tensorboard.backend.event_processing.plugin_event_multiplexer.EventMultiplexer object at 0x7f243cf3f910>\")\n"
     ]
    },
    {
     "name": "stderr",
     "output_type": "stream",
     "text": [
      "[INFO 08-15 07:09:51] ax.core.metric: MetricFetchE INFO: Initialized MetricFetchE(message=\"No 'scalar' data found for trial in multiplexer mul=<tensorboard.backend.event_processing.plugin_event_multiplexer.EventMultiplexer object at 0x7f243cf3f910>\")\n"
     ]
    },
    {
     "name": "stderr",
     "output_type": "stream",
     "text": [
      "[ERROR 08-15 07:09:51] ax.core.experiment: Discovered Metric fetching Err while attaching data MetricFetchE(message=\"No 'scalar' data found for trial in multiplexer mul=<tensorboard.backend.event_processing.plugin_event_multiplexer.EventMultiplexer object at 0x7f243cf3f910>\"). Ignoring for now -- will retry query on next call to fetch.\n"
     ]
    },
    {
     "name": "stderr",
     "output_type": "stream",
     "text": [
      "[ERROR 08-15 07:09:51] ax.core.experiment: Discovered Metric fetching Err while attaching data MetricFetchE(message=\"No 'scalar' data found for trial in multiplexer mul=<tensorboard.backend.event_processing.plugin_event_multiplexer.EventMultiplexer object at 0x7f243cf3f910>\"). Ignoring for now -- will retry query on next call to fetch.\n"
     ]
    },
    {
     "name": "stderr",
     "output_type": "stream",
     "text": [
      "[WARNING 08-15 07:09:51] Scheduler: Failed to fetch val_acc for trial 13, found MetricFetchE(message=\"No 'scalar' data found for trial in multiplexer mul=<tensorboard.backend.event_processing.plugin_event_multiplexer.EventMultiplexer object at 0x7f243cf3f910>\").\n"
     ]
    },
    {
     "name": "stderr",
     "output_type": "stream",
     "text": [
      "[INFO 08-15 07:09:51] Scheduler: MetricFetchE INFO: Because val_acc is available_while_running and trial 13 is still RUNNING continuing the experiment and retrying on next poll...\n"
     ]
    },
    {
     "name": "stderr",
     "output_type": "stream",
     "text": [
      "[WARNING 08-15 07:09:51] Scheduler: Failed to fetch val_acc for trial 14, found MetricFetchE(message=\"No 'scalar' data found for trial in multiplexer mul=<tensorboard.backend.event_processing.plugin_event_multiplexer.EventMultiplexer object at 0x7f243cf3f910>\").\n"
     ]
    },
    {
     "name": "stderr",
     "output_type": "stream",
     "text": [
      "[INFO 08-15 07:09:51] Scheduler: MetricFetchE INFO: Because val_acc is available_while_running and trial 14 is still RUNNING continuing the experiment and retrying on next poll...\n"
     ]
    },
    {
     "name": "stderr",
     "output_type": "stream",
     "text": [
      "/tmp/tmp.3Yo4S3ORTG/Ax-main/ax/core/map_data.py:192: FutureWarning: The behavior of DataFrame concatenation with empty or all-NA entries is deprecated. In a future version, this will no longer exclude empty or all-NA columns when determining the result dtypes. To retain the old behavior, exclude the relevant entries before the concat operation.\n",
      "  df = pd.concat(\n",
      "[INFO 08-15 07:09:51] ax.early_stopping.strategies.base: Last progression of any candidate for trial stopping is 0.\n"
     ]
    },
    {
     "name": "stderr",
     "output_type": "stream",
     "text": [
      "[INFO 08-15 07:09:51] ax.early_stopping.strategies.base: No trials have reached 0.3. Not stopping any trials.\n"
     ]
    },
    {
     "name": "stderr",
     "output_type": "stream",
     "text": [
      "[INFO 08-15 07:09:51] Scheduler: Waiting for completed trials (for 10 sec, currently running trials: 2).\n"
     ]
    },
    {
     "name": "stderr",
     "output_type": "stream",
     "text": [
      "[INFO 08-15 07:10:01] Scheduler: Fetching data for newly completed trials: [].\n"
     ]
    },
    {
     "name": "stderr",
     "output_type": "stream",
     "text": [
      "[INFO 08-15 07:10:01] Scheduler: Fetching data for trials: 13 - 14 because some metrics on experiment are available while trials are running.\n"
     ]
    },
    {
     "name": "stderr",
     "output_type": "stream",
     "text": [
      "[INFO 08-15 07:10:01] ax.core.metric: MetricFetchE INFO: Initialized MetricFetchE(message=\"No 'scalar' data found for trial in multiplexer mul=<tensorboard.backend.event_processing.plugin_event_multiplexer.EventMultiplexer object at 0x7f243cddbe20>\")\n"
     ]
    },
    {
     "name": "stderr",
     "output_type": "stream",
     "text": [
      "[INFO 08-15 07:10:01] ax.core.metric: MetricFetchE INFO: Initialized MetricFetchE(message=\"No 'scalar' data found for trial in multiplexer mul=<tensorboard.backend.event_processing.plugin_event_multiplexer.EventMultiplexer object at 0x7f243cf3fd60>\")\n"
     ]
    },
    {
     "name": "stderr",
     "output_type": "stream",
     "text": [
      "[ERROR 08-15 07:10:01] ax.core.experiment: Discovered Metric fetching Err while attaching data MetricFetchE(message=\"No 'scalar' data found for trial in multiplexer mul=<tensorboard.backend.event_processing.plugin_event_multiplexer.EventMultiplexer object at 0x7f243cddbe20>\"). Ignoring for now -- will retry query on next call to fetch.\n"
     ]
    },
    {
     "name": "stderr",
     "output_type": "stream",
     "text": [
      "[ERROR 08-15 07:10:01] ax.core.experiment: Discovered Metric fetching Err while attaching data MetricFetchE(message=\"No 'scalar' data found for trial in multiplexer mul=<tensorboard.backend.event_processing.plugin_event_multiplexer.EventMultiplexer object at 0x7f243cf3fd60>\"). Ignoring for now -- will retry query on next call to fetch.\n"
     ]
    },
    {
     "name": "stderr",
     "output_type": "stream",
     "text": [
      "[WARNING 08-15 07:10:01] Scheduler: Failed to fetch val_acc for trial 13, found MetricFetchE(message=\"No 'scalar' data found for trial in multiplexer mul=<tensorboard.backend.event_processing.plugin_event_multiplexer.EventMultiplexer object at 0x7f243cddbe20>\").\n"
     ]
    },
    {
     "name": "stderr",
     "output_type": "stream",
     "text": [
      "[INFO 08-15 07:10:01] Scheduler: MetricFetchE INFO: Because val_acc is available_while_running and trial 13 is still RUNNING continuing the experiment and retrying on next poll...\n"
     ]
    },
    {
     "name": "stderr",
     "output_type": "stream",
     "text": [
      "[WARNING 08-15 07:10:01] Scheduler: Failed to fetch val_acc for trial 14, found MetricFetchE(message=\"No 'scalar' data found for trial in multiplexer mul=<tensorboard.backend.event_processing.plugin_event_multiplexer.EventMultiplexer object at 0x7f243cf3fd60>\").\n"
     ]
    },
    {
     "name": "stderr",
     "output_type": "stream",
     "text": [
      "[INFO 08-15 07:10:01] Scheduler: MetricFetchE INFO: Because val_acc is available_while_running and trial 14 is still RUNNING continuing the experiment and retrying on next poll...\n"
     ]
    },
    {
     "name": "stderr",
     "output_type": "stream",
     "text": [
      "/tmp/tmp.3Yo4S3ORTG/Ax-main/ax/core/map_data.py:192: FutureWarning: The behavior of DataFrame concatenation with empty or all-NA entries is deprecated. In a future version, this will no longer exclude empty or all-NA columns when determining the result dtypes. To retain the old behavior, exclude the relevant entries before the concat operation.\n",
      "  df = pd.concat(\n",
      "[INFO 08-15 07:10:02] ax.early_stopping.strategies.base: Last progression of any candidate for trial stopping is 0.\n"
     ]
    },
    {
     "name": "stderr",
     "output_type": "stream",
     "text": [
      "[INFO 08-15 07:10:02] ax.early_stopping.strategies.base: No trials have reached 0.3. Not stopping any trials.\n"
     ]
    },
    {
     "name": "stderr",
     "output_type": "stream",
     "text": [
      "[INFO 08-15 07:10:02] Scheduler: Waiting for completed trials (for 10 sec, currently running trials: 2).\n"
     ]
    },
    {
     "name": "stderr",
     "output_type": "stream",
     "text": [
      "[INFO 08-15 07:10:12] Scheduler: Fetching data for newly completed trials: [].\n"
     ]
    },
    {
     "name": "stderr",
     "output_type": "stream",
     "text": [
      "[INFO 08-15 07:10:12] Scheduler: Fetching data for trials: 13 - 14 because some metrics on experiment are available while trials are running.\n"
     ]
    },
    {
     "name": "stderr",
     "output_type": "stream",
     "text": [
      "[INFO 08-15 07:10:12] ax.core.metric: MetricFetchE INFO: Initialized MetricFetchE(message=\"No 'scalar' data found for trial in multiplexer mul=<tensorboard.backend.event_processing.plugin_event_multiplexer.EventMultiplexer object at 0x7f243cdda500>\")\n"
     ]
    },
    {
     "name": "stderr",
     "output_type": "stream",
     "text": [
      "[ERROR 08-15 07:10:12] ax.core.experiment: Discovered Metric fetching Err while attaching data MetricFetchE(message=\"No 'scalar' data found for trial in multiplexer mul=<tensorboard.backend.event_processing.plugin_event_multiplexer.EventMultiplexer object at 0x7f243cdda500>\"). Ignoring for now -- will retry query on next call to fetch.\n"
     ]
    },
    {
     "name": "stderr",
     "output_type": "stream",
     "text": [
      "/tmp/tmp.3Yo4S3ORTG/Ax-main/ax/core/map_data.py:192: FutureWarning: The behavior of DataFrame concatenation with empty or all-NA entries is deprecated. In a future version, this will no longer exclude empty or all-NA columns when determining the result dtypes. To retain the old behavior, exclude the relevant entries before the concat operation.\n",
      "  df = pd.concat(\n",
      "[WARNING 08-15 07:10:12] Scheduler: Failed to fetch val_acc for trial 14, found MetricFetchE(message=\"No 'scalar' data found for trial in multiplexer mul=<tensorboard.backend.event_processing.plugin_event_multiplexer.EventMultiplexer object at 0x7f243cdda500>\").\n"
     ]
    },
    {
     "name": "stderr",
     "output_type": "stream",
     "text": [
      "[INFO 08-15 07:10:12] Scheduler: MetricFetchE INFO: Because val_acc is available_while_running and trial 14 is still RUNNING continuing the experiment and retrying on next poll...\n"
     ]
    },
    {
     "name": "stderr",
     "output_type": "stream",
     "text": [
      "/tmp/tmp.3Yo4S3ORTG/Ax-main/ax/core/map_data.py:192: FutureWarning: The behavior of DataFrame concatenation with empty or all-NA entries is deprecated. In a future version, this will no longer exclude empty or all-NA columns when determining the result dtypes. To retain the old behavior, exclude the relevant entries before the concat operation.\n",
      "  df = pd.concat(\n",
      "[INFO 08-15 07:10:12] ax.early_stopping.strategies.base: Last progression of any candidate for trial stopping is 0.09994666666666667.\n"
     ]
    },
    {
     "name": "stderr",
     "output_type": "stream",
     "text": [
      "[INFO 08-15 07:10:12] ax.early_stopping.strategies.base: No trials have reached 0.3. Not stopping any trials.\n"
     ]
    },
    {
     "name": "stderr",
     "output_type": "stream",
     "text": [
      "[INFO 08-15 07:10:12] Scheduler: Waiting for completed trials (for 10 sec, currently running trials: 2).\n"
     ]
    },
    {
     "name": "stderr",
     "output_type": "stream",
     "text": [
      "[INFO 08-15 07:10:22] Scheduler: Fetching data for newly completed trials: [].\n"
     ]
    },
    {
     "name": "stderr",
     "output_type": "stream",
     "text": [
      "[INFO 08-15 07:10:22] Scheduler: Fetching data for trials: 13 - 14 because some metrics on experiment are available while trials are running.\n"
     ]
    },
    {
     "name": "stderr",
     "output_type": "stream",
     "text": [
      "/tmp/tmp.3Yo4S3ORTG/Ax-main/ax/core/map_data.py:192: FutureWarning: The behavior of DataFrame concatenation with empty or all-NA entries is deprecated. In a future version, this will no longer exclude empty or all-NA columns when determining the result dtypes. To retain the old behavior, exclude the relevant entries before the concat operation.\n",
      "  df = pd.concat(\n",
      "/tmp/tmp.3Yo4S3ORTG/Ax-main/ax/core/map_data.py:192: FutureWarning: The behavior of DataFrame concatenation with empty or all-NA entries is deprecated. In a future version, this will no longer exclude empty or all-NA columns when determining the result dtypes. To retain the old behavior, exclude the relevant entries before the concat operation.\n",
      "  df = pd.concat(\n",
      "[INFO 08-15 07:10:22] ax.early_stopping.strategies.base: Last progression of any candidate for trial stopping is 0.09994666666666667.\n"
     ]
    },
    {
     "name": "stderr",
     "output_type": "stream",
     "text": [
      "[INFO 08-15 07:10:22] ax.early_stopping.strategies.base: No trials have reached 0.3. Not stopping any trials.\n"
     ]
    },
    {
     "name": "stderr",
     "output_type": "stream",
     "text": [
      "[INFO 08-15 07:10:22] Scheduler: Waiting for completed trials (for 10 sec, currently running trials: 2).\n"
     ]
    },
    {
     "name": "stderr",
     "output_type": "stream",
     "text": [
      "[INFO 08-15 07:10:32] Scheduler: Fetching data for newly completed trials: [].\n"
     ]
    },
    {
     "name": "stderr",
     "output_type": "stream",
     "text": [
      "[INFO 08-15 07:10:32] Scheduler: Fetching data for trials: 13 - 14 because some metrics on experiment are available while trials are running.\n"
     ]
    },
    {
     "name": "stderr",
     "output_type": "stream",
     "text": [
      "/tmp/tmp.3Yo4S3ORTG/Ax-main/ax/core/map_data.py:192: FutureWarning: The behavior of DataFrame concatenation with empty or all-NA entries is deprecated. In a future version, this will no longer exclude empty or all-NA columns when determining the result dtypes. To retain the old behavior, exclude the relevant entries before the concat operation.\n",
      "  df = pd.concat(\n",
      "/tmp/tmp.3Yo4S3ORTG/Ax-main/ax/core/map_data.py:192: FutureWarning: The behavior of DataFrame concatenation with empty or all-NA entries is deprecated. In a future version, this will no longer exclude empty or all-NA columns when determining the result dtypes. To retain the old behavior, exclude the relevant entries before the concat operation.\n",
      "  df = pd.concat(\n",
      "[INFO 08-15 07:10:32] ax.early_stopping.strategies.base: Last progression of any candidate for trial stopping is 0.19994666666666666.\n"
     ]
    },
    {
     "name": "stderr",
     "output_type": "stream",
     "text": [
      "[INFO 08-15 07:10:32] ax.early_stopping.strategies.base: No trials have reached 0.3. Not stopping any trials.\n"
     ]
    },
    {
     "name": "stderr",
     "output_type": "stream",
     "text": [
      "[INFO 08-15 07:10:32] Scheduler: Waiting for completed trials (for 10 sec, currently running trials: 2).\n"
     ]
    },
    {
     "name": "stderr",
     "output_type": "stream",
     "text": [
      "[INFO 08-15 07:10:42] Scheduler: Fetching data for newly completed trials: [].\n"
     ]
    },
    {
     "name": "stderr",
     "output_type": "stream",
     "text": [
      "[INFO 08-15 07:10:42] Scheduler: Fetching data for trials: 13 - 14 because some metrics on experiment are available while trials are running.\n"
     ]
    },
    {
     "name": "stderr",
     "output_type": "stream",
     "text": [
      "/tmp/tmp.3Yo4S3ORTG/Ax-main/ax/core/map_data.py:192: FutureWarning: The behavior of DataFrame concatenation with empty or all-NA entries is deprecated. In a future version, this will no longer exclude empty or all-NA columns when determining the result dtypes. To retain the old behavior, exclude the relevant entries before the concat operation.\n",
      "  df = pd.concat(\n",
      "/tmp/tmp.3Yo4S3ORTG/Ax-main/ax/core/map_data.py:192: FutureWarning: The behavior of DataFrame concatenation with empty or all-NA entries is deprecated. In a future version, this will no longer exclude empty or all-NA columns when determining the result dtypes. To retain the old behavior, exclude the relevant entries before the concat operation.\n",
      "  df = pd.concat(\n",
      "[INFO 08-15 07:10:42] ax.early_stopping.strategies.base: Last progression of any candidate for trial stopping is 0.19994666666666666.\n"
     ]
    },
    {
     "name": "stderr",
     "output_type": "stream",
     "text": [
      "[INFO 08-15 07:10:42] ax.early_stopping.strategies.base: No trials have reached 0.3. Not stopping any trials.\n"
     ]
    },
    {
     "name": "stderr",
     "output_type": "stream",
     "text": [
      "[INFO 08-15 07:10:42] Scheduler: Waiting for completed trials (for 10 sec, currently running trials: 2).\n"
     ]
    },
    {
     "name": "stderr",
     "output_type": "stream",
     "text": [
      "[INFO 08-15 07:10:52] Scheduler: Fetching data for newly completed trials: [].\n"
     ]
    },
    {
     "name": "stderr",
     "output_type": "stream",
     "text": [
      "[INFO 08-15 07:10:52] Scheduler: Fetching data for trials: 13 - 14 because some metrics on experiment are available while trials are running.\n"
     ]
    },
    {
     "name": "stderr",
     "output_type": "stream",
     "text": [
      "/tmp/tmp.3Yo4S3ORTG/Ax-main/ax/core/map_data.py:192: FutureWarning: The behavior of DataFrame concatenation with empty or all-NA entries is deprecated. In a future version, this will no longer exclude empty or all-NA columns when determining the result dtypes. To retain the old behavior, exclude the relevant entries before the concat operation.\n",
      "  df = pd.concat(\n",
      "/tmp/tmp.3Yo4S3ORTG/Ax-main/ax/core/map_data.py:192: FutureWarning: The behavior of DataFrame concatenation with empty or all-NA entries is deprecated. In a future version, this will no longer exclude empty or all-NA columns when determining the result dtypes. To retain the old behavior, exclude the relevant entries before the concat operation.\n",
      "  df = pd.concat(\n",
      "[INFO 08-15 07:10:52] ax.early_stopping.strategies.base: Last progression of any candidate for trial stopping is 0.29994666666666664.\n"
     ]
    },
    {
     "name": "stderr",
     "output_type": "stream",
     "text": [
      "[INFO 08-15 07:10:52] ax.early_stopping.strategies.base: No trials have reached 0.3. Not stopping any trials.\n"
     ]
    },
    {
     "name": "stderr",
     "output_type": "stream",
     "text": [
      "[INFO 08-15 07:10:52] Scheduler: Waiting for completed trials (for 10 sec, currently running trials: 2).\n"
     ]
    },
    {
     "name": "stderr",
     "output_type": "stream",
     "text": [
      "[INFO 08-15 07:11:02] Scheduler: Fetching data for newly completed trials: [].\n"
     ]
    },
    {
     "name": "stderr",
     "output_type": "stream",
     "text": [
      "[INFO 08-15 07:11:02] Scheduler: Fetching data for trials: 13 - 14 because some metrics on experiment are available while trials are running.\n"
     ]
    },
    {
     "name": "stderr",
     "output_type": "stream",
     "text": [
      "/tmp/tmp.3Yo4S3ORTG/Ax-main/ax/core/map_data.py:192: FutureWarning: The behavior of DataFrame concatenation with empty or all-NA entries is deprecated. In a future version, this will no longer exclude empty or all-NA columns when determining the result dtypes. To retain the old behavior, exclude the relevant entries before the concat operation.\n",
      "  df = pd.concat(\n",
      "/tmp/tmp.3Yo4S3ORTG/Ax-main/ax/core/map_data.py:192: FutureWarning: The behavior of DataFrame concatenation with empty or all-NA entries is deprecated. In a future version, this will no longer exclude empty or all-NA columns when determining the result dtypes. To retain the old behavior, exclude the relevant entries before the concat operation.\n",
      "  df = pd.concat(\n",
      "[INFO 08-15 07:11:02] ax.early_stopping.strategies.base: Last progression of any candidate for trial stopping is 0.29994666666666664.\n"
     ]
    },
    {
     "name": "stderr",
     "output_type": "stream",
     "text": [
      "[INFO 08-15 07:11:02] ax.early_stopping.strategies.base: No trials have reached 0.3. Not stopping any trials.\n"
     ]
    },
    {
     "name": "stderr",
     "output_type": "stream",
     "text": [
      "[INFO 08-15 07:11:02] Scheduler: Waiting for completed trials (for 10 sec, currently running trials: 2).\n"
     ]
    },
    {
     "name": "stderr",
     "output_type": "stream",
     "text": [
      "[INFO 08-15 07:11:12] Scheduler: Fetching data for newly completed trials: [].\n"
     ]
    },
    {
     "name": "stderr",
     "output_type": "stream",
     "text": [
      "[INFO 08-15 07:11:12] Scheduler: Fetching data for trials: 13 - 14 because some metrics on experiment are available while trials are running.\n"
     ]
    },
    {
     "name": "stderr",
     "output_type": "stream",
     "text": [
      "/tmp/tmp.3Yo4S3ORTG/Ax-main/ax/core/map_data.py:192: FutureWarning: The behavior of DataFrame concatenation with empty or all-NA entries is deprecated. In a future version, this will no longer exclude empty or all-NA columns when determining the result dtypes. To retain the old behavior, exclude the relevant entries before the concat operation.\n",
      "  df = pd.concat(\n",
      "/tmp/tmp.3Yo4S3ORTG/Ax-main/ax/core/map_data.py:192: FutureWarning: The behavior of DataFrame concatenation with empty or all-NA entries is deprecated. In a future version, this will no longer exclude empty or all-NA columns when determining the result dtypes. To retain the old behavior, exclude the relevant entries before the concat operation.\n",
      "  df = pd.concat(\n",
      "[INFO 08-15 07:11:12] ax.early_stopping.strategies.base: Last progression of any candidate for trial stopping is 0.3999466666666667.\n"
     ]
    },
    {
     "name": "stderr",
     "output_type": "stream",
     "text": [
      "[INFO 08-15 07:11:12] ax.early_stopping.strategies.percentile: Considering trial 13 for early stopping.\n"
     ]
    },
    {
     "name": "stderr",
     "output_type": "stream",
     "text": [
      "[INFO 08-15 07:11:12] ax.early_stopping.strategies.base: Last progression of Trial 13 is 0.3999466666666667.\n"
     ]
    },
    {
     "name": "stderr",
     "output_type": "stream",
     "text": [
      "[INFO 08-15 07:11:12] ax.early_stopping.strategies.percentile: Early stopping objective at last progression is:\n",
      "2     0.932674\n",
      "3     0.893837\n",
      "4     0.889785\n",
      "5     0.941975\n",
      "6     0.934073\n",
      "7     0.918798\n",
      "8     0.926481\n",
      "9     0.950839\n",
      "10    0.954162\n",
      "11    0.944047\n",
      "12    0.926041\n",
      "13    0.965014\n",
      "14    0.925146\n",
      "Name: 0.3999466666666667, dtype: float64.\n"
     ]
    },
    {
     "name": "stderr",
     "output_type": "stream",
     "text": [
      "[INFO 08-15 07:11:12] ax.early_stopping.strategies.percentile: Early stopping decision for 13: False. Reason: Trial objective value 0.9650138551965722 is better than 70.0-th percentile (0.9428034353138778) across comparable trials.\n"
     ]
    },
    {
     "name": "stderr",
     "output_type": "stream",
     "text": [
      "[INFO 08-15 07:11:12] ax.early_stopping.strategies.percentile: Considering trial 14 for early stopping.\n"
     ]
    },
    {
     "name": "stderr",
     "output_type": "stream",
     "text": [
      "[INFO 08-15 07:11:12] ax.early_stopping.strategies.base: Last progression of Trial 14 is 0.3999466666666667.\n"
     ]
    },
    {
     "name": "stderr",
     "output_type": "stream",
     "text": [
      "[INFO 08-15 07:11:12] ax.early_stopping.strategies.percentile: Early stopping objective at last progression is:\n",
      "2     0.932674\n",
      "3     0.893837\n",
      "4     0.889785\n",
      "5     0.941975\n",
      "6     0.934073\n",
      "7     0.918798\n",
      "8     0.926481\n",
      "9     0.950839\n",
      "10    0.954162\n",
      "11    0.944047\n",
      "12    0.926041\n",
      "13    0.965014\n",
      "14    0.925146\n",
      "Name: 0.3999466666666667, dtype: float64.\n"
     ]
    },
    {
     "name": "stderr",
     "output_type": "stream",
     "text": [
      "[INFO 08-15 07:11:12] ax.early_stopping.strategies.percentile: Early stopping decision for 14: True. Reason: Trial objective value 0.9251464050391625 is worse than 70.0-th percentile (0.9428034353138778) across comparable trials.\n"
     ]
    },
    {
     "name": "stderr",
     "output_type": "stream",
     "text": [
      "[WARNING 08-15 07:11:13] Scheduler: Both `init_seconds_between_polls` and `early_stopping_strategy supplied. `init_seconds_between_polls=1` will be overrridden by `early_stopping_strategy.seconds_between_polls=10` and polling will take place at a constant rate.\n"
     ]
    },
    {
     "name": "stderr",
     "output_type": "stream",
     "text": [
      "[INFO 08-15 07:11:13] Scheduler: Fetching data for newly completed trials: [].\n"
     ]
    },
    {
     "name": "stderr",
     "output_type": "stream",
     "text": [
      "[INFO 08-15 07:11:13] Scheduler: Fetching data for trials: [13] because some metrics on experiment are available while trials are running.\n"
     ]
    },
    {
     "name": "stderr",
     "output_type": "stream",
     "text": [
      "/tmp/tmp.3Yo4S3ORTG/Ax-main/ax/core/map_data.py:192: FutureWarning: The behavior of DataFrame concatenation with empty or all-NA entries is deprecated. In a future version, this will no longer exclude empty or all-NA columns when determining the result dtypes. To retain the old behavior, exclude the relevant entries before the concat operation.\n",
      "  df = pd.concat(\n",
      "/tmp/tmp.3Yo4S3ORTG/Ax-main/ax/core/map_data.py:192: FutureWarning: The behavior of DataFrame concatenation with empty or all-NA entries is deprecated. In a future version, this will no longer exclude empty or all-NA columns when determining the result dtypes. To retain the old behavior, exclude the relevant entries before the concat operation.\n",
      "  df = pd.concat(\n",
      "[INFO 08-15 07:11:13] ax.early_stopping.strategies.base: Last progression of any candidate for trial stopping is 0.3999466666666667.\n"
     ]
    },
    {
     "name": "stderr",
     "output_type": "stream",
     "text": [
      "[INFO 08-15 07:11:13] ax.early_stopping.strategies.percentile: Considering trial 13 for early stopping.\n"
     ]
    },
    {
     "name": "stderr",
     "output_type": "stream",
     "text": [
      "[INFO 08-15 07:11:13] ax.early_stopping.strategies.base: Last progression of Trial 13 is 0.3999466666666667.\n"
     ]
    },
    {
     "name": "stderr",
     "output_type": "stream",
     "text": [
      "[INFO 08-15 07:11:13] ax.early_stopping.strategies.percentile: Early stopping objective at last progression is:\n",
      "2     0.932674\n",
      "3     0.893837\n",
      "4     0.889785\n",
      "5     0.941975\n",
      "6     0.934073\n",
      "7     0.918798\n",
      "8     0.926481\n",
      "9     0.950839\n",
      "10    0.954162\n",
      "11    0.944047\n",
      "12    0.926041\n",
      "13    0.965014\n",
      "14    0.925146\n",
      "Name: 0.3999466666666667, dtype: float64.\n"
     ]
    },
    {
     "name": "stderr",
     "output_type": "stream",
     "text": [
      "[INFO 08-15 07:11:13] ax.early_stopping.strategies.percentile: Early stopping decision for 13: False. Reason: Trial objective value 0.9650138551965722 is better than 70.0-th percentile (0.9428034353138778) across comparable trials.\n"
     ]
    },
    {
     "name": "stderr",
     "output_type": "stream",
     "text": [
      "[INFO 08-15 07:11:13] Scheduler: Waiting for completed trials (for 10 sec, currently running trials: 1).\n"
     ]
    },
    {
     "name": "stderr",
     "output_type": "stream",
     "text": [
      "[INFO 08-15 07:11:23] Scheduler: Fetching data for newly completed trials: [].\n"
     ]
    },
    {
     "name": "stderr",
     "output_type": "stream",
     "text": [
      "[INFO 08-15 07:11:23] Scheduler: Fetching data for trials: [13] because some metrics on experiment are available while trials are running.\n"
     ]
    },
    {
     "name": "stderr",
     "output_type": "stream",
     "text": [
      "/tmp/tmp.3Yo4S3ORTG/Ax-main/ax/core/map_data.py:192: FutureWarning: The behavior of DataFrame concatenation with empty or all-NA entries is deprecated. In a future version, this will no longer exclude empty or all-NA columns when determining the result dtypes. To retain the old behavior, exclude the relevant entries before the concat operation.\n",
      "  df = pd.concat(\n",
      "/tmp/tmp.3Yo4S3ORTG/Ax-main/ax/core/map_data.py:192: FutureWarning: The behavior of DataFrame concatenation with empty or all-NA entries is deprecated. In a future version, this will no longer exclude empty or all-NA columns when determining the result dtypes. To retain the old behavior, exclude the relevant entries before the concat operation.\n",
      "  df = pd.concat(\n",
      "[INFO 08-15 07:11:23] ax.early_stopping.strategies.base: Last progression of any candidate for trial stopping is 0.3999466666666667.\n"
     ]
    },
    {
     "name": "stderr",
     "output_type": "stream",
     "text": [
      "[INFO 08-15 07:11:23] ax.early_stopping.strategies.percentile: Considering trial 13 for early stopping.\n"
     ]
    },
    {
     "name": "stderr",
     "output_type": "stream",
     "text": [
      "[INFO 08-15 07:11:23] ax.early_stopping.strategies.base: Last progression of Trial 13 is 0.3999466666666667.\n"
     ]
    },
    {
     "name": "stderr",
     "output_type": "stream",
     "text": [
      "[INFO 08-15 07:11:23] ax.early_stopping.strategies.percentile: Early stopping objective at last progression is:\n",
      "2     0.932674\n",
      "3     0.893837\n",
      "4     0.889785\n",
      "5     0.941975\n",
      "6     0.934073\n",
      "7     0.918798\n",
      "8     0.926481\n",
      "9     0.950839\n",
      "10    0.954162\n",
      "11    0.944047\n",
      "12    0.926041\n",
      "13    0.965014\n",
      "14    0.925146\n",
      "Name: 0.3999466666666667, dtype: float64.\n"
     ]
    },
    {
     "name": "stderr",
     "output_type": "stream",
     "text": [
      "[INFO 08-15 07:11:23] ax.early_stopping.strategies.percentile: Early stopping decision for 13: False. Reason: Trial objective value 0.9650138551965722 is better than 70.0-th percentile (0.9428034353138778) across comparable trials.\n"
     ]
    },
    {
     "name": "stderr",
     "output_type": "stream",
     "text": [
      "[INFO 08-15 07:11:23] Scheduler: Waiting for completed trials (for 10 sec, currently running trials: 1).\n"
     ]
    },
    {
     "name": "stderr",
     "output_type": "stream",
     "text": [
      "[INFO 08-15 07:11:33] Scheduler: Fetching data for newly completed trials: [].\n"
     ]
    },
    {
     "name": "stderr",
     "output_type": "stream",
     "text": [
      "[INFO 08-15 07:11:33] Scheduler: Fetching data for trials: [13] because some metrics on experiment are available while trials are running.\n"
     ]
    },
    {
     "name": "stderr",
     "output_type": "stream",
     "text": [
      "/tmp/tmp.3Yo4S3ORTG/Ax-main/ax/core/map_data.py:192: FutureWarning: The behavior of DataFrame concatenation with empty or all-NA entries is deprecated. In a future version, this will no longer exclude empty or all-NA columns when determining the result dtypes. To retain the old behavior, exclude the relevant entries before the concat operation.\n",
      "  df = pd.concat(\n",
      "/tmp/tmp.3Yo4S3ORTG/Ax-main/ax/core/map_data.py:192: FutureWarning: The behavior of DataFrame concatenation with empty or all-NA entries is deprecated. In a future version, this will no longer exclude empty or all-NA columns when determining the result dtypes. To retain the old behavior, exclude the relevant entries before the concat operation.\n",
      "  df = pd.concat(\n",
      "[INFO 08-15 07:11:33] ax.early_stopping.strategies.base: Last progression of any candidate for trial stopping is 0.49994666666666665.\n"
     ]
    },
    {
     "name": "stderr",
     "output_type": "stream",
     "text": [
      "[INFO 08-15 07:11:33] ax.early_stopping.strategies.percentile: Considering trial 13 for early stopping.\n"
     ]
    },
    {
     "name": "stderr",
     "output_type": "stream",
     "text": [
      "[INFO 08-15 07:11:33] ax.early_stopping.strategies.base: Last progression of Trial 13 is 0.49994666666666665.\n"
     ]
    },
    {
     "name": "stderr",
     "output_type": "stream",
     "text": [
      "[INFO 08-15 07:11:33] ax.early_stopping.strategies.percentile: Early stopping objective at last progression is:\n",
      "2     0.938710\n",
      "3     0.896044\n",
      "4     0.892600\n",
      "5     0.946234\n",
      "6     0.938752\n",
      "9     0.954568\n",
      "10    0.957133\n",
      "11    0.949821\n",
      "13    0.967948\n",
      "Name: 0.49994666666666665, dtype: float64.\n"
     ]
    },
    {
     "name": "stderr",
     "output_type": "stream",
     "text": [
      "[INFO 08-15 07:11:33] ax.early_stopping.strategies.percentile: Early stopping decision for 13: False. Reason: Trial objective value 0.9679476245876428 is better than 70.0-th percentile (0.9526692677654189) across comparable trials.\n"
     ]
    },
    {
     "name": "stderr",
     "output_type": "stream",
     "text": [
      "[INFO 08-15 07:11:33] Scheduler: Waiting for completed trials (for 10 sec, currently running trials: 1).\n"
     ]
    },
    {
     "name": "stderr",
     "output_type": "stream",
     "text": [
      "[INFO 08-15 07:11:43] Scheduler: Fetching data for newly completed trials: [].\n"
     ]
    },
    {
     "name": "stderr",
     "output_type": "stream",
     "text": [
      "[INFO 08-15 07:11:43] Scheduler: Fetching data for trials: [13] because some metrics on experiment are available while trials are running.\n"
     ]
    },
    {
     "name": "stderr",
     "output_type": "stream",
     "text": [
      "/tmp/tmp.3Yo4S3ORTG/Ax-main/ax/core/map_data.py:192: FutureWarning: The behavior of DataFrame concatenation with empty or all-NA entries is deprecated. In a future version, this will no longer exclude empty or all-NA columns when determining the result dtypes. To retain the old behavior, exclude the relevant entries before the concat operation.\n",
      "  df = pd.concat(\n",
      "/tmp/tmp.3Yo4S3ORTG/Ax-main/ax/core/map_data.py:192: FutureWarning: The behavior of DataFrame concatenation with empty or all-NA entries is deprecated. In a future version, this will no longer exclude empty or all-NA columns when determining the result dtypes. To retain the old behavior, exclude the relevant entries before the concat operation.\n",
      "  df = pd.concat(\n",
      "[INFO 08-15 07:11:43] ax.early_stopping.strategies.base: Last progression of any candidate for trial stopping is 0.5999466666666666.\n"
     ]
    },
    {
     "name": "stderr",
     "output_type": "stream",
     "text": [
      "[INFO 08-15 07:11:43] ax.early_stopping.strategies.percentile: Considering trial 13 for early stopping.\n"
     ]
    },
    {
     "name": "stderr",
     "output_type": "stream",
     "text": [
      "[INFO 08-15 07:11:43] ax.early_stopping.strategies.base: Last progression of Trial 13 is 0.5999466666666666.\n"
     ]
    },
    {
     "name": "stderr",
     "output_type": "stream",
     "text": [
      "[INFO 08-15 07:11:43] ax.early_stopping.strategies.percentile: Early stopping objective at last progression is:\n",
      "2     0.939502\n",
      "3     0.895583\n",
      "4     0.901138\n",
      "5     0.947813\n",
      "6     0.940892\n",
      "9     0.956589\n",
      "10    0.960773\n",
      "11    0.953545\n",
      "13    0.970028\n",
      "Name: 0.5999466666666666, dtype: float64.\n"
     ]
    },
    {
     "name": "stderr",
     "output_type": "stream",
     "text": [
      "[INFO 08-15 07:11:43] ax.early_stopping.strategies.percentile: Early stopping decision for 13: False. Reason: Trial objective value 0.9700280496764786 is better than 70.0-th percentile (0.9553715761879493) across comparable trials.\n"
     ]
    },
    {
     "name": "stderr",
     "output_type": "stream",
     "text": [
      "[INFO 08-15 07:11:43] Scheduler: Waiting for completed trials (for 10 sec, currently running trials: 1).\n"
     ]
    },
    {
     "name": "stderr",
     "output_type": "stream",
     "text": [
      "[INFO 08-15 07:11:53] Scheduler: Fetching data for newly completed trials: [].\n"
     ]
    },
    {
     "name": "stderr",
     "output_type": "stream",
     "text": [
      "[INFO 08-15 07:11:53] Scheduler: Fetching data for trials: [13] because some metrics on experiment are available while trials are running.\n"
     ]
    },
    {
     "name": "stderr",
     "output_type": "stream",
     "text": [
      "/tmp/tmp.3Yo4S3ORTG/Ax-main/ax/core/map_data.py:192: FutureWarning: The behavior of DataFrame concatenation with empty or all-NA entries is deprecated. In a future version, this will no longer exclude empty or all-NA columns when determining the result dtypes. To retain the old behavior, exclude the relevant entries before the concat operation.\n",
      "  df = pd.concat(\n",
      "/tmp/tmp.3Yo4S3ORTG/Ax-main/ax/core/map_data.py:192: FutureWarning: The behavior of DataFrame concatenation with empty or all-NA entries is deprecated. In a future version, this will no longer exclude empty or all-NA columns when determining the result dtypes. To retain the old behavior, exclude the relevant entries before the concat operation.\n",
      "  df = pd.concat(\n",
      "[INFO 08-15 07:11:53] ax.early_stopping.strategies.base: Last progression of any candidate for trial stopping is 0.5999466666666666.\n"
     ]
    },
    {
     "name": "stderr",
     "output_type": "stream",
     "text": [
      "[INFO 08-15 07:11:53] ax.early_stopping.strategies.percentile: Considering trial 13 for early stopping.\n"
     ]
    },
    {
     "name": "stderr",
     "output_type": "stream",
     "text": [
      "[INFO 08-15 07:11:53] ax.early_stopping.strategies.base: Last progression of Trial 13 is 0.5999466666666666.\n"
     ]
    },
    {
     "name": "stderr",
     "output_type": "stream",
     "text": [
      "[INFO 08-15 07:11:53] ax.early_stopping.strategies.percentile: Early stopping objective at last progression is:\n",
      "2     0.939502\n",
      "3     0.895583\n",
      "4     0.901138\n",
      "5     0.947813\n",
      "6     0.940892\n",
      "9     0.956589\n",
      "10    0.960773\n",
      "11    0.953545\n",
      "13    0.970028\n",
      "Name: 0.5999466666666666, dtype: float64.\n"
     ]
    },
    {
     "name": "stderr",
     "output_type": "stream",
     "text": [
      "[INFO 08-15 07:11:53] ax.early_stopping.strategies.percentile: Early stopping decision for 13: False. Reason: Trial objective value 0.9700280496764786 is better than 70.0-th percentile (0.9553715761879493) across comparable trials.\n"
     ]
    },
    {
     "name": "stderr",
     "output_type": "stream",
     "text": [
      "[INFO 08-15 07:11:53] Scheduler: Waiting for completed trials (for 10 sec, currently running trials: 1).\n"
     ]
    },
    {
     "name": "stderr",
     "output_type": "stream",
     "text": [
      "[INFO 08-15 07:12:03] Scheduler: Fetching data for newly completed trials: [].\n"
     ]
    },
    {
     "name": "stderr",
     "output_type": "stream",
     "text": [
      "[INFO 08-15 07:12:03] Scheduler: Fetching data for trials: [13] because some metrics on experiment are available while trials are running.\n"
     ]
    },
    {
     "name": "stderr",
     "output_type": "stream",
     "text": [
      "/tmp/tmp.3Yo4S3ORTG/Ax-main/ax/core/map_data.py:192: FutureWarning: The behavior of DataFrame concatenation with empty or all-NA entries is deprecated. In a future version, this will no longer exclude empty or all-NA columns when determining the result dtypes. To retain the old behavior, exclude the relevant entries before the concat operation.\n",
      "  df = pd.concat(\n",
      "/tmp/tmp.3Yo4S3ORTG/Ax-main/ax/core/map_data.py:192: FutureWarning: The behavior of DataFrame concatenation with empty or all-NA entries is deprecated. In a future version, this will no longer exclude empty or all-NA columns when determining the result dtypes. To retain the old behavior, exclude the relevant entries before the concat operation.\n",
      "  df = pd.concat(\n",
      "[INFO 08-15 07:12:03] ax.early_stopping.strategies.base: Last progression of any candidate for trial stopping is 0.6999466666666667.\n"
     ]
    },
    {
     "name": "stderr",
     "output_type": "stream",
     "text": [
      "[INFO 08-15 07:12:03] ax.early_stopping.strategies.percentile: Considering trial 13 for early stopping.\n"
     ]
    },
    {
     "name": "stderr",
     "output_type": "stream",
     "text": [
      "[INFO 08-15 07:12:03] ax.early_stopping.strategies.base: Last progression of Trial 13 is 0.6999466666666667.\n"
     ]
    },
    {
     "name": "stderr",
     "output_type": "stream",
     "text": [
      "[INFO 08-15 07:12:03] ax.early_stopping.strategies.percentile: Early stopping objective at last progression is:\n",
      "2     0.938545\n",
      "3     0.896313\n",
      "4     0.912089\n",
      "5     0.951609\n",
      "6     0.943465\n",
      "9     0.957766\n",
      "10    0.960394\n",
      "11    0.957351\n",
      "13    0.969907\n",
      "Name: 0.6999466666666667, dtype: float64.\n"
     ]
    },
    {
     "name": "stderr",
     "output_type": "stream",
     "text": [
      "[INFO 08-15 07:12:03] ax.early_stopping.strategies.percentile: Early stopping decision for 13: False. Reason: Trial objective value 0.9699068973053327 is better than 70.0-th percentile (0.9576001558493108) across comparable trials.\n"
     ]
    },
    {
     "name": "stderr",
     "output_type": "stream",
     "text": [
      "[INFO 08-15 07:12:03] Scheduler: Waiting for completed trials (for 10 sec, currently running trials: 1).\n"
     ]
    },
    {
     "name": "stderr",
     "output_type": "stream",
     "text": [
      "[INFO 08-15 07:12:13] Scheduler: Fetching data for newly completed trials: [].\n"
     ]
    },
    {
     "name": "stderr",
     "output_type": "stream",
     "text": [
      "[INFO 08-15 07:12:13] Scheduler: Fetching data for trials: [13] because some metrics on experiment are available while trials are running.\n"
     ]
    },
    {
     "name": "stderr",
     "output_type": "stream",
     "text": [
      "/tmp/tmp.3Yo4S3ORTG/Ax-main/ax/core/map_data.py:192: FutureWarning: The behavior of DataFrame concatenation with empty or all-NA entries is deprecated. In a future version, this will no longer exclude empty or all-NA columns when determining the result dtypes. To retain the old behavior, exclude the relevant entries before the concat operation.\n",
      "  df = pd.concat(\n",
      "/tmp/tmp.3Yo4S3ORTG/Ax-main/ax/core/map_data.py:192: FutureWarning: The behavior of DataFrame concatenation with empty or all-NA entries is deprecated. In a future version, this will no longer exclude empty or all-NA columns when determining the result dtypes. To retain the old behavior, exclude the relevant entries before the concat operation.\n",
      "  df = pd.concat(\n",
      "[INFO 08-15 07:12:13] ax.early_stopping.strategies.base: Last progression of any candidate for trial stopping is 0.7999466666666667.\n"
     ]
    },
    {
     "name": "stderr",
     "output_type": "stream",
     "text": [
      "[INFO 08-15 07:12:13] ax.early_stopping.strategies.percentile: Considering trial 13 for early stopping.\n"
     ]
    },
    {
     "name": "stderr",
     "output_type": "stream",
     "text": [
      "[INFO 08-15 07:12:13] ax.early_stopping.strategies.base: Last progression of Trial 13 is 0.7999466666666667.\n"
     ]
    },
    {
     "name": "stderr",
     "output_type": "stream",
     "text": [
      "[INFO 08-15 07:12:13] ax.early_stopping.strategies.percentile: Early stopping objective at last progression is:\n",
      "2     0.940890\n",
      "3     0.896494\n",
      "4     0.913319\n",
      "5     0.952123\n",
      "6     0.943624\n",
      "9     0.957776\n",
      "10    0.962669\n",
      "11    0.959514\n",
      "13    0.971491\n",
      "Name: 0.7999466666666667, dtype: float64.\n"
     ]
    },
    {
     "name": "stderr",
     "output_type": "stream",
     "text": [
      "[INFO 08-15 07:12:13] ax.early_stopping.strategies.percentile: Early stopping decision for 13: False. Reason: Trial objective value 0.9714905273073058 is better than 70.0-th percentile (0.9588188464225118) across comparable trials.\n"
     ]
    },
    {
     "name": "stderr",
     "output_type": "stream",
     "text": [
      "[INFO 08-15 07:12:13] Scheduler: Waiting for completed trials (for 10 sec, currently running trials: 1).\n"
     ]
    },
    {
     "name": "stderr",
     "output_type": "stream",
     "text": [
      "[INFO 08-15 07:12:23] Scheduler: Fetching data for newly completed trials: [].\n"
     ]
    },
    {
     "name": "stderr",
     "output_type": "stream",
     "text": [
      "[INFO 08-15 07:12:23] Scheduler: Fetching data for trials: [13] because some metrics on experiment are available while trials are running.\n"
     ]
    },
    {
     "name": "stderr",
     "output_type": "stream",
     "text": [
      "/tmp/tmp.3Yo4S3ORTG/Ax-main/ax/core/map_data.py:192: FutureWarning: The behavior of DataFrame concatenation with empty or all-NA entries is deprecated. In a future version, this will no longer exclude empty or all-NA columns when determining the result dtypes. To retain the old behavior, exclude the relevant entries before the concat operation.\n",
      "  df = pd.concat(\n",
      "/tmp/tmp.3Yo4S3ORTG/Ax-main/ax/core/map_data.py:192: FutureWarning: The behavior of DataFrame concatenation with empty or all-NA entries is deprecated. In a future version, this will no longer exclude empty or all-NA columns when determining the result dtypes. To retain the old behavior, exclude the relevant entries before the concat operation.\n",
      "  df = pd.concat(\n",
      "[INFO 08-15 07:12:23] ax.early_stopping.strategies.base: Last progression of any candidate for trial stopping is 0.7999466666666667.\n"
     ]
    },
    {
     "name": "stderr",
     "output_type": "stream",
     "text": [
      "[INFO 08-15 07:12:23] ax.early_stopping.strategies.percentile: Considering trial 13 for early stopping.\n"
     ]
    },
    {
     "name": "stderr",
     "output_type": "stream",
     "text": [
      "[INFO 08-15 07:12:23] ax.early_stopping.strategies.base: Last progression of Trial 13 is 0.7999466666666667.\n"
     ]
    },
    {
     "name": "stderr",
     "output_type": "stream",
     "text": [
      "[INFO 08-15 07:12:23] ax.early_stopping.strategies.percentile: Early stopping objective at last progression is:\n",
      "2     0.940890\n",
      "3     0.896494\n",
      "4     0.913319\n",
      "5     0.952123\n",
      "6     0.943624\n",
      "9     0.957776\n",
      "10    0.962669\n",
      "11    0.959514\n",
      "13    0.971491\n",
      "Name: 0.7999466666666667, dtype: float64.\n"
     ]
    },
    {
     "name": "stderr",
     "output_type": "stream",
     "text": [
      "[INFO 08-15 07:12:23] ax.early_stopping.strategies.percentile: Early stopping decision for 13: False. Reason: Trial objective value 0.9714905273073058 is better than 70.0-th percentile (0.9588188464225118) across comparable trials.\n"
     ]
    },
    {
     "name": "stderr",
     "output_type": "stream",
     "text": [
      "[INFO 08-15 07:12:23] Scheduler: Waiting for completed trials (for 10 sec, currently running trials: 1).\n"
     ]
    },
    {
     "name": "stderr",
     "output_type": "stream",
     "text": [
      "[INFO 08-15 07:12:33] Scheduler: Fetching data for newly completed trials: [].\n"
     ]
    },
    {
     "name": "stderr",
     "output_type": "stream",
     "text": [
      "[INFO 08-15 07:12:33] Scheduler: Fetching data for trials: [13] because some metrics on experiment are available while trials are running.\n"
     ]
    },
    {
     "name": "stderr",
     "output_type": "stream",
     "text": [
      "/tmp/tmp.3Yo4S3ORTG/Ax-main/ax/core/map_data.py:192: FutureWarning: The behavior of DataFrame concatenation with empty or all-NA entries is deprecated. In a future version, this will no longer exclude empty or all-NA columns when determining the result dtypes. To retain the old behavior, exclude the relevant entries before the concat operation.\n",
      "  df = pd.concat(\n",
      "/tmp/tmp.3Yo4S3ORTG/Ax-main/ax/core/map_data.py:192: FutureWarning: The behavior of DataFrame concatenation with empty or all-NA entries is deprecated. In a future version, this will no longer exclude empty or all-NA columns when determining the result dtypes. To retain the old behavior, exclude the relevant entries before the concat operation.\n",
      "  df = pd.concat(\n",
      "[INFO 08-15 07:12:34] ax.early_stopping.strategies.base: Last progression of any candidate for trial stopping is 0.8999466666666667.\n"
     ]
    },
    {
     "name": "stderr",
     "output_type": "stream",
     "text": [
      "[INFO 08-15 07:12:34] ax.early_stopping.strategies.percentile: Considering trial 13 for early stopping.\n"
     ]
    },
    {
     "name": "stderr",
     "output_type": "stream",
     "text": [
      "[INFO 08-15 07:12:34] ax.early_stopping.strategies.base: Last progression of Trial 13 is 0.8999466666666667.\n"
     ]
    },
    {
     "name": "stderr",
     "output_type": "stream",
     "text": [
      "[INFO 08-15 07:12:34] ax.early_stopping.strategies.percentile: Early stopping objective at last progression is:\n",
      "2     0.943914\n",
      "3     0.899786\n",
      "4     0.912556\n",
      "5     0.954306\n",
      "6     0.943693\n",
      "9     0.958148\n",
      "10    0.961517\n",
      "11    0.962685\n",
      "13    0.971343\n",
      "Name: 0.8999466666666667, dtype: float64.\n"
     ]
    },
    {
     "name": "stderr",
     "output_type": "stream",
     "text": [
      "[INFO 08-15 07:12:34] ax.early_stopping.strategies.percentile: Early stopping decision for 13: False. Reason: Trial objective value 0.9713434171937886 is better than 70.0-th percentile (0.9601691138097072) across comparable trials.\n"
     ]
    },
    {
     "name": "stderr",
     "output_type": "stream",
     "text": [
      "[INFO 08-15 07:12:34] Scheduler: Waiting for completed trials (for 10 sec, currently running trials: 1).\n"
     ]
    },
    {
     "name": "stderr",
     "output_type": "stream",
     "text": [
      "[INFO 08-15 07:12:44] Scheduler: Fetching data for newly completed trials: [].\n"
     ]
    },
    {
     "name": "stderr",
     "output_type": "stream",
     "text": [
      "[INFO 08-15 07:12:44] Scheduler: Fetching data for trials: [13] because some metrics on experiment are available while trials are running.\n"
     ]
    },
    {
     "name": "stderr",
     "output_type": "stream",
     "text": [
      "/tmp/tmp.3Yo4S3ORTG/Ax-main/ax/core/map_data.py:192: FutureWarning: The behavior of DataFrame concatenation with empty or all-NA entries is deprecated. In a future version, this will no longer exclude empty or all-NA columns when determining the result dtypes. To retain the old behavior, exclude the relevant entries before the concat operation.\n",
      "  df = pd.concat(\n",
      "/tmp/tmp.3Yo4S3ORTG/Ax-main/ax/core/map_data.py:192: FutureWarning: The behavior of DataFrame concatenation with empty or all-NA entries is deprecated. In a future version, this will no longer exclude empty or all-NA columns when determining the result dtypes. To retain the old behavior, exclude the relevant entries before the concat operation.\n",
      "  df = pd.concat(\n",
      "[INFO 08-15 07:12:44] ax.early_stopping.strategies.base: Last progression of any candidate for trial stopping is 0.9999466666666667.\n"
     ]
    },
    {
     "name": "stderr",
     "output_type": "stream",
     "text": [
      "[INFO 08-15 07:12:44] ax.early_stopping.strategies.percentile: Considering trial 13 for early stopping.\n"
     ]
    },
    {
     "name": "stderr",
     "output_type": "stream",
     "text": [
      "[INFO 08-15 07:12:44] ax.early_stopping.strategies.base: Last progression of Trial 13 is 0.9999466666666667.\n"
     ]
    },
    {
     "name": "stderr",
     "output_type": "stream",
     "text": [
      "[INFO 08-15 07:12:44] ax.early_stopping.strategies.percentile: Early stopping objective at last progression is:\n",
      "2     0.946384\n",
      "3     0.897031\n",
      "4     0.913895\n",
      "5     0.952492\n",
      "6     0.942329\n",
      "9     0.958635\n",
      "10    0.963013\n",
      "11    0.963377\n",
      "13    0.972032\n",
      "Name: 0.9999466666666667, dtype: float64.\n"
     ]
    },
    {
     "name": "stderr",
     "output_type": "stream",
     "text": [
      "[INFO 08-15 07:12:44] ax.early_stopping.strategies.percentile: Early stopping decision for 13: False. Reason: Trial objective value 0.9720315896762106 is better than 70.0-th percentile (0.9612617808464644) across comparable trials.\n"
     ]
    },
    {
     "name": "stderr",
     "output_type": "stream",
     "text": [
      "[INFO 08-15 07:12:44] Scheduler: Waiting for completed trials (for 10 sec, currently running trials: 1).\n"
     ]
    },
    {
     "name": "stderr",
     "output_type": "stream",
     "text": [
      "[INFO 08-15 07:12:54] Scheduler: Fetching data for newly completed trials: [13].\n"
     ]
    },
    {
     "name": "stderr",
     "output_type": "stream",
     "text": [
      "[INFO 08-15 07:12:54] Scheduler: Retrieved COMPLETED trials: [13].\n"
     ]
    },
    {
     "name": "stderr",
     "output_type": "stream",
     "text": [
      "/tmp/tmp.3Yo4S3ORTG/Ax-main/ax/core/map_data.py:192: FutureWarning: The behavior of DataFrame concatenation with empty or all-NA entries is deprecated. In a future version, this will no longer exclude empty or all-NA columns when determining the result dtypes. To retain the old behavior, exclude the relevant entries before the concat operation.\n",
      "  df = pd.concat(\n",
      "/tmp/tmp.3Yo4S3ORTG/Ax-main/ax/core/map_data.py:192: FutureWarning: The behavior of DataFrame concatenation with empty or all-NA entries is deprecated. In a future version, this will no longer exclude empty or all-NA columns when determining the result dtypes. To retain the old behavior, exclude the relevant entries before the concat operation.\n",
      "  df = pd.concat(\n",
      "[INFO 08-15 07:12:54] ax.early_stopping.strategies.base: Last progression of any candidate for trial stopping is 0.\n"
     ]
    },
    {
     "name": "stderr",
     "output_type": "stream",
     "text": [
      "[INFO 08-15 07:12:54] ax.early_stopping.strategies.base: No trials have reached 0.3. Not stopping any trials.\n"
     ]
    },
    {
     "name": "stderr",
     "output_type": "stream",
     "text": [
      "[WARNING 08-15 07:12:54] Scheduler: Both `init_seconds_between_polls` and `early_stopping_strategy supplied. `init_seconds_between_polls=1` will be overrridden by `early_stopping_strategy.seconds_between_polls=10` and polling will take place at a constant rate.\n"
     ]
    },
    {
     "name": "stdout",
     "output_type": "stream",
     "text": [
      "CPU times: user 54.6 s, sys: 1.3 s, total: 55.9 s\n",
      "Wall time: 32min 47s\n"
     ]
    },
    {
     "data": {
      "text/plain": [
       "OptimizationResult()"
      ]
     },
     "execution_count": 14,
     "metadata": {},
     "output_type": "execute_result"
    }
   ],
   "source": [
    "%%time\n",
    "scheduler.run_all_trials()"
   ]
  },
  {
   "attachments": {},
   "cell_type": "markdown",
   "id": "8c5afbe8",
   "metadata": {
    "papermill": {
     "duration": 0.126917,
     "end_time": "2024-08-15T07:12:54.418833",
     "exception": false,
     "start_time": "2024-08-15T07:12:54.291916",
     "status": "completed"
    },
    "tags": []
   },
   "source": [
    "## Results\n",
    "\n",
    "First, we examine the data stored on the experiment. This shows that each trial is associated with an entire learning curve, represented by the column \"steps\"."
   ]
  },
  {
   "cell_type": "code",
   "execution_count": 15,
   "id": "764365f0",
   "metadata": {
    "execution": {
     "iopub.execute_input": "2024-08-15T07:12:54.613584Z",
     "iopub.status.busy": "2024-08-15T07:12:54.612973Z",
     "iopub.status.idle": "2024-08-15T07:12:54.631046Z",
     "shell.execute_reply": "2024-08-15T07:12:54.630428Z"
    },
    "papermill": {
     "duration": 0.127586,
     "end_time": "2024-08-15T07:12:54.632390",
     "exception": false,
     "start_time": "2024-08-15T07:12:54.504804",
     "status": "completed"
    },
    "tags": []
   },
   "outputs": [
    {
     "name": "stderr",
     "output_type": "stream",
     "text": [
      "/tmp/tmp.3Yo4S3ORTG/Ax-main/ax/core/map_data.py:192: FutureWarning: The behavior of DataFrame concatenation with empty or all-NA entries is deprecated. In a future version, this will no longer exclude empty or all-NA columns when determining the result dtypes. To retain the old behavior, exclude the relevant entries before the concat operation.\n",
      "  df = pd.concat(\n"
     ]
    },
    {
     "data": {
      "text/html": [
       "<div>\n",
       "<style scoped>\n",
       "    .dataframe tbody tr th:only-of-type {\n",
       "        vertical-align: middle;\n",
       "    }\n",
       "\n",
       "    .dataframe tbody tr th {\n",
       "        vertical-align: top;\n",
       "    }\n",
       "\n",
       "    .dataframe thead th {\n",
       "        text-align: right;\n",
       "    }\n",
       "</style>\n",
       "<table border=\"1\" class=\"dataframe\">\n",
       "  <thead>\n",
       "    <tr style=\"text-align: right;\">\n",
       "      <th></th>\n",
       "      <th>arm_name</th>\n",
       "      <th>metric_name</th>\n",
       "      <th>mean</th>\n",
       "      <th>sem</th>\n",
       "      <th>trial_index</th>\n",
       "      <th>step</th>\n",
       "    </tr>\n",
       "  </thead>\n",
       "  <tbody>\n",
       "    <tr>\n",
       "      <th>0</th>\n",
       "      <td>2_0</td>\n",
       "      <td>val_acc</td>\n",
       "      <td>0.913089</td>\n",
       "      <td>NaN</td>\n",
       "      <td>2</td>\n",
       "      <td>1874.0</td>\n",
       "    </tr>\n",
       "    <tr>\n",
       "      <th>1</th>\n",
       "      <td>2_0</td>\n",
       "      <td>val_acc</td>\n",
       "      <td>0.929687</td>\n",
       "      <td>NaN</td>\n",
       "      <td>2</td>\n",
       "      <td>3749.0</td>\n",
       "    </tr>\n",
       "    <tr>\n",
       "      <th>2</th>\n",
       "      <td>2_0</td>\n",
       "      <td>val_acc</td>\n",
       "      <td>0.935201</td>\n",
       "      <td>NaN</td>\n",
       "      <td>2</td>\n",
       "      <td>5624.0</td>\n",
       "    </tr>\n",
       "    <tr>\n",
       "      <th>3</th>\n",
       "      <td>2_0</td>\n",
       "      <td>val_acc</td>\n",
       "      <td>0.932674</td>\n",
       "      <td>NaN</td>\n",
       "      <td>2</td>\n",
       "      <td>7499.0</td>\n",
       "    </tr>\n",
       "    <tr>\n",
       "      <th>4</th>\n",
       "      <td>2_0</td>\n",
       "      <td>val_acc</td>\n",
       "      <td>0.938710</td>\n",
       "      <td>NaN</td>\n",
       "      <td>2</td>\n",
       "      <td>9374.0</td>\n",
       "    </tr>\n",
       "    <tr>\n",
       "      <th>5</th>\n",
       "      <td>2_0</td>\n",
       "      <td>val_acc</td>\n",
       "      <td>0.939502</td>\n",
       "      <td>NaN</td>\n",
       "      <td>2</td>\n",
       "      <td>11249.0</td>\n",
       "    </tr>\n",
       "    <tr>\n",
       "      <th>6</th>\n",
       "      <td>2_0</td>\n",
       "      <td>val_acc</td>\n",
       "      <td>0.938545</td>\n",
       "      <td>NaN</td>\n",
       "      <td>2</td>\n",
       "      <td>13124.0</td>\n",
       "    </tr>\n",
       "    <tr>\n",
       "      <th>7</th>\n",
       "      <td>2_0</td>\n",
       "      <td>val_acc</td>\n",
       "      <td>0.940890</td>\n",
       "      <td>NaN</td>\n",
       "      <td>2</td>\n",
       "      <td>14999.0</td>\n",
       "    </tr>\n",
       "    <tr>\n",
       "      <th>8</th>\n",
       "      <td>2_0</td>\n",
       "      <td>val_acc</td>\n",
       "      <td>0.943914</td>\n",
       "      <td>NaN</td>\n",
       "      <td>2</td>\n",
       "      <td>16874.0</td>\n",
       "    </tr>\n",
       "    <tr>\n",
       "      <th>9</th>\n",
       "      <td>2_0</td>\n",
       "      <td>val_acc</td>\n",
       "      <td>0.946384</td>\n",
       "      <td>NaN</td>\n",
       "      <td>2</td>\n",
       "      <td>18749.0</td>\n",
       "    </tr>\n",
       "  </tbody>\n",
       "</table>\n",
       "</div>"
      ],
      "text/plain": [
       "  arm_name metric_name      mean  sem  trial_index     step\n",
       "0      2_0     val_acc  0.913089  NaN            2   1874.0\n",
       "1      2_0     val_acc  0.929687  NaN            2   3749.0\n",
       "2      2_0     val_acc  0.935201  NaN            2   5624.0\n",
       "3      2_0     val_acc  0.932674  NaN            2   7499.0\n",
       "4      2_0     val_acc  0.938710  NaN            2   9374.0\n",
       "5      2_0     val_acc  0.939502  NaN            2  11249.0\n",
       "6      2_0     val_acc  0.938545  NaN            2  13124.0\n",
       "7      2_0     val_acc  0.940890  NaN            2  14999.0\n",
       "8      2_0     val_acc  0.943914  NaN            2  16874.0\n",
       "9      2_0     val_acc  0.946384  NaN            2  18749.0"
      ]
     },
     "execution_count": 15,
     "metadata": {},
     "output_type": "execute_result"
    }
   ],
   "source": [
    "experiment.lookup_data().map_df.head(n=10)"
   ]
  },
  {
   "attachments": {},
   "cell_type": "markdown",
   "id": "0033ed2e",
   "metadata": {
    "papermill": {
     "duration": 0.087072,
     "end_time": "2024-08-15T07:12:54.808395",
     "exception": false,
     "start_time": "2024-08-15T07:12:54.721323",
     "status": "completed"
    },
    "tags": []
   },
   "source": [
    "Below is a summary of the experiment, showing that a portion of trials have been early stopped."
   ]
  },
  {
   "cell_type": "code",
   "execution_count": 16,
   "id": "00f2b35f",
   "metadata": {
    "execution": {
     "iopub.execute_input": "2024-08-15T07:12:54.982691Z",
     "iopub.status.busy": "2024-08-15T07:12:54.982078Z",
     "iopub.status.idle": "2024-08-15T07:12:55.014616Z",
     "shell.execute_reply": "2024-08-15T07:12:55.014005Z"
    },
    "papermill": {
     "duration": 0.12191,
     "end_time": "2024-08-15T07:12:55.016234",
     "exception": false,
     "start_time": "2024-08-15T07:12:54.894324",
     "status": "completed"
    },
    "tags": []
   },
   "outputs": [
    {
     "name": "stderr",
     "output_type": "stream",
     "text": [
      "/tmp/tmp.3Yo4S3ORTG/Ax-main/ax/core/map_data.py:192: FutureWarning: The behavior of DataFrame concatenation with empty or all-NA entries is deprecated. In a future version, this will no longer exclude empty or all-NA columns when determining the result dtypes. To retain the old behavior, exclude the relevant entries before the concat operation.\n",
      "  df = pd.concat(\n",
      "[WARNING 08-15 07:12:54] ax.service.utils.report_utils: Column reason missing for all trials. Not appending column.\n"
     ]
    },
    {
     "data": {
      "text/html": [
       "<div>\n",
       "<style scoped>\n",
       "    .dataframe tbody tr th:only-of-type {\n",
       "        vertical-align: middle;\n",
       "    }\n",
       "\n",
       "    .dataframe tbody tr th {\n",
       "        vertical-align: top;\n",
       "    }\n",
       "\n",
       "    .dataframe thead th {\n",
       "        text-align: right;\n",
       "    }\n",
       "</style>\n",
       "<table border=\"1\" class=\"dataframe\">\n",
       "  <thead>\n",
       "    <tr style=\"text-align: right;\">\n",
       "      <th></th>\n",
       "      <th>trial_index</th>\n",
       "      <th>arm_name</th>\n",
       "      <th>trial_status</th>\n",
       "      <th>generation_method</th>\n",
       "      <th>val_acc</th>\n",
       "      <th>hidden_size_1</th>\n",
       "      <th>hidden_size_2</th>\n",
       "      <th>learning_rate</th>\n",
       "      <th>dropout</th>\n",
       "    </tr>\n",
       "  </thead>\n",
       "  <tbody>\n",
       "    <tr>\n",
       "      <th>0</th>\n",
       "      <td>0</td>\n",
       "      <td>0_0</td>\n",
       "      <td>FAILED</td>\n",
       "      <td>Sobol</td>\n",
       "      <td>NaN</td>\n",
       "      <td>20</td>\n",
       "      <td>113</td>\n",
       "      <td>0.008666</td>\n",
       "      <td>0.063527</td>\n",
       "    </tr>\n",
       "    <tr>\n",
       "      <th>1</th>\n",
       "      <td>1</td>\n",
       "      <td>1_0</td>\n",
       "      <td>FAILED</td>\n",
       "      <td>Sobol</td>\n",
       "      <td>NaN</td>\n",
       "      <td>102</td>\n",
       "      <td>31</td>\n",
       "      <td>0.001299</td>\n",
       "      <td>0.033277</td>\n",
       "    </tr>\n",
       "    <tr>\n",
       "      <th>2</th>\n",
       "      <td>2</td>\n",
       "      <td>2_0</td>\n",
       "      <td>COMPLETED</td>\n",
       "      <td>Sobol</td>\n",
       "      <td>0.947372</td>\n",
       "      <td>87</td>\n",
       "      <td>30</td>\n",
       "      <td>0.007528</td>\n",
       "      <td>0.152267</td>\n",
       "    </tr>\n",
       "    <tr>\n",
       "      <th>3</th>\n",
       "      <td>3</td>\n",
       "      <td>3_0</td>\n",
       "      <td>COMPLETED</td>\n",
       "      <td>Sobol</td>\n",
       "      <td>0.895929</td>\n",
       "      <td>16</td>\n",
       "      <td>67</td>\n",
       "      <td>0.002951</td>\n",
       "      <td>0.173671</td>\n",
       "    </tr>\n",
       "    <tr>\n",
       "      <th>4</th>\n",
       "      <td>4</td>\n",
       "      <td>4_0</td>\n",
       "      <td>COMPLETED</td>\n",
       "      <td>Sobol</td>\n",
       "      <td>0.914431</td>\n",
       "      <td>19</td>\n",
       "      <td>33</td>\n",
       "      <td>0.003862</td>\n",
       "      <td>0.088172</td>\n",
       "    </tr>\n",
       "    <tr>\n",
       "      <th>5</th>\n",
       "      <td>5</td>\n",
       "      <td>5_0</td>\n",
       "      <td>COMPLETED</td>\n",
       "      <td>Sobol</td>\n",
       "      <td>0.951766</td>\n",
       "      <td>49</td>\n",
       "      <td>18</td>\n",
       "      <td>0.000688</td>\n",
       "      <td>0.227936</td>\n",
       "    </tr>\n",
       "    <tr>\n",
       "      <th>6</th>\n",
       "      <td>6</td>\n",
       "      <td>6_0</td>\n",
       "      <td>COMPLETED</td>\n",
       "      <td>Sobol</td>\n",
       "      <td>0.941784</td>\n",
       "      <td>16</td>\n",
       "      <td>30</td>\n",
       "      <td>0.000701</td>\n",
       "      <td>0.006089</td>\n",
       "    </tr>\n",
       "    <tr>\n",
       "      <th>7</th>\n",
       "      <td>7</td>\n",
       "      <td>7_0</td>\n",
       "      <td>EARLY_STOPPED</td>\n",
       "      <td>BoTorch</td>\n",
       "      <td>0.918798</td>\n",
       "      <td>16</td>\n",
       "      <td>16</td>\n",
       "      <td>0.000168</td>\n",
       "      <td>0.000000</td>\n",
       "    </tr>\n",
       "    <tr>\n",
       "      <th>8</th>\n",
       "      <td>8</td>\n",
       "      <td>8_0</td>\n",
       "      <td>EARLY_STOPPED</td>\n",
       "      <td>BoTorch</td>\n",
       "      <td>0.926481</td>\n",
       "      <td>16</td>\n",
       "      <td>78</td>\n",
       "      <td>0.000179</td>\n",
       "      <td>0.000000</td>\n",
       "    </tr>\n",
       "    <tr>\n",
       "      <th>9</th>\n",
       "      <td>9</td>\n",
       "      <td>9_0</td>\n",
       "      <td>COMPLETED</td>\n",
       "      <td>BoTorch</td>\n",
       "      <td>0.958830</td>\n",
       "      <td>36</td>\n",
       "      <td>16</td>\n",
       "      <td>0.000621</td>\n",
       "      <td>0.000000</td>\n",
       "    </tr>\n",
       "    <tr>\n",
       "      <th>10</th>\n",
       "      <td>10</td>\n",
       "      <td>10_0</td>\n",
       "      <td>COMPLETED</td>\n",
       "      <td>BoTorch</td>\n",
       "      <td>0.963611</td>\n",
       "      <td>87</td>\n",
       "      <td>16</td>\n",
       "      <td>0.000818</td>\n",
       "      <td>0.268228</td>\n",
       "    </tr>\n",
       "    <tr>\n",
       "      <th>11</th>\n",
       "      <td>11</td>\n",
       "      <td>11_0</td>\n",
       "      <td>COMPLETED</td>\n",
       "      <td>BoTorch</td>\n",
       "      <td>0.963654</td>\n",
       "      <td>69</td>\n",
       "      <td>39</td>\n",
       "      <td>0.000160</td>\n",
       "      <td>0.147828</td>\n",
       "    </tr>\n",
       "    <tr>\n",
       "      <th>12</th>\n",
       "      <td>12</td>\n",
       "      <td>12_0</td>\n",
       "      <td>EARLY_STOPPED</td>\n",
       "      <td>BoTorch</td>\n",
       "      <td>0.926041</td>\n",
       "      <td>18</td>\n",
       "      <td>16</td>\n",
       "      <td>0.000204</td>\n",
       "      <td>0.000000</td>\n",
       "    </tr>\n",
       "    <tr>\n",
       "      <th>13</th>\n",
       "      <td>13</td>\n",
       "      <td>13_0</td>\n",
       "      <td>COMPLETED</td>\n",
       "      <td>BoTorch</td>\n",
       "      <td>0.972307</td>\n",
       "      <td>128</td>\n",
       "      <td>16</td>\n",
       "      <td>0.000678</td>\n",
       "      <td>0.083334</td>\n",
       "    </tr>\n",
       "    <tr>\n",
       "      <th>14</th>\n",
       "      <td>14</td>\n",
       "      <td>14_0</td>\n",
       "      <td>EARLY_STOPPED</td>\n",
       "      <td>BoTorch</td>\n",
       "      <td>0.925146</td>\n",
       "      <td>128</td>\n",
       "      <td>16</td>\n",
       "      <td>0.002728</td>\n",
       "      <td>0.493774</td>\n",
       "    </tr>\n",
       "  </tbody>\n",
       "</table>\n",
       "</div>"
      ],
      "text/plain": [
       "    trial_index arm_name   trial_status generation_method   val_acc  \\\n",
       "0             0      0_0         FAILED             Sobol       NaN   \n",
       "1             1      1_0         FAILED             Sobol       NaN   \n",
       "2             2      2_0      COMPLETED             Sobol  0.947372   \n",
       "3             3      3_0      COMPLETED             Sobol  0.895929   \n",
       "4             4      4_0      COMPLETED             Sobol  0.914431   \n",
       "5             5      5_0      COMPLETED             Sobol  0.951766   \n",
       "6             6      6_0      COMPLETED             Sobol  0.941784   \n",
       "7             7      7_0  EARLY_STOPPED           BoTorch  0.918798   \n",
       "8             8      8_0  EARLY_STOPPED           BoTorch  0.926481   \n",
       "9             9      9_0      COMPLETED           BoTorch  0.958830   \n",
       "10           10     10_0      COMPLETED           BoTorch  0.963611   \n",
       "11           11     11_0      COMPLETED           BoTorch  0.963654   \n",
       "12           12     12_0  EARLY_STOPPED           BoTorch  0.926041   \n",
       "13           13     13_0      COMPLETED           BoTorch  0.972307   \n",
       "14           14     14_0  EARLY_STOPPED           BoTorch  0.925146   \n",
       "\n",
       "    hidden_size_1  hidden_size_2  learning_rate   dropout  \n",
       "0              20            113       0.008666  0.063527  \n",
       "1             102             31       0.001299  0.033277  \n",
       "2              87             30       0.007528  0.152267  \n",
       "3              16             67       0.002951  0.173671  \n",
       "4              19             33       0.003862  0.088172  \n",
       "5              49             18       0.000688  0.227936  \n",
       "6              16             30       0.000701  0.006089  \n",
       "7              16             16       0.000168  0.000000  \n",
       "8              16             78       0.000179  0.000000  \n",
       "9              36             16       0.000621  0.000000  \n",
       "10             87             16       0.000818  0.268228  \n",
       "11             69             39       0.000160  0.147828  \n",
       "12             18             16       0.000204  0.000000  \n",
       "13            128             16       0.000678  0.083334  \n",
       "14            128             16       0.002728  0.493774  "
      ]
     },
     "execution_count": 16,
     "metadata": {},
     "output_type": "execute_result"
    }
   ],
   "source": [
    "exp_to_df(experiment)"
   ]
  },
  {
   "attachments": {},
   "cell_type": "markdown",
   "id": "f8909cf2",
   "metadata": {
    "papermill": {
     "duration": 0.086838,
     "end_time": "2024-08-15T07:12:55.192662",
     "exception": false,
     "start_time": "2024-08-15T07:12:55.105824",
     "status": "completed"
    },
    "tags": []
   },
   "source": [
    "We can give a very rough estimate of the amount of computational savings due to early stopping, by looking at the total number of steps used when early stopping is used versus the number of steps used if we ran all trials to completion. Note to do a true comparison, one should run full HPO loops with and without early stopping (as early stopping will influence the model and future points selected by the generation strategy). "
   ]
  },
  {
   "cell_type": "code",
   "execution_count": 17,
   "id": "5abb3ce8",
   "metadata": {
    "execution": {
     "iopub.execute_input": "2024-08-15T07:12:55.367665Z",
     "iopub.status.busy": "2024-08-15T07:12:55.367183Z",
     "iopub.status.idle": "2024-08-15T07:12:55.380311Z",
     "shell.execute_reply": "2024-08-15T07:12:55.379669Z"
    },
    "papermill": {
     "duration": 0.102248,
     "end_time": "2024-08-15T07:12:55.381577",
     "exception": false,
     "start_time": "2024-08-15T07:12:55.279329",
     "status": "completed"
    },
    "tags": []
   },
   "outputs": [
    {
     "name": "stdout",
     "output_type": "stream",
     "text": [
      "A rough estimate of the computational savings is 18.46317948717948%.\n"
     ]
    },
    {
     "name": "stderr",
     "output_type": "stream",
     "text": [
      "/tmp/tmp.3Yo4S3ORTG/Ax-main/ax/core/map_data.py:192: FutureWarning: The behavior of DataFrame concatenation with empty or all-NA entries is deprecated. In a future version, this will no longer exclude empty or all-NA columns when determining the result dtypes. To retain the old behavior, exclude the relevant entries before the concat operation.\n",
      "  df = pd.concat(\n"
     ]
    }
   ],
   "source": [
    "map_df = experiment.lookup_data().map_df\n",
    "trial_to_max_steps = map_df.groupby(\"trial_index\")[\"step\"].max()\n",
    "completed_trial_steps = trial_to_max_steps.iloc[0]\n",
    "savings = 1.0 - trial_to_max_steps.sum() / (\n",
    "    completed_trial_steps * len(trial_to_max_steps)\n",
    ")\n",
    "# TODO format nicer\n",
    "print(f\"A rough estimate of the computational savings is {100 * savings}%.\")"
   ]
  },
  {
   "attachments": {},
   "cell_type": "markdown",
   "id": "37df6964",
   "metadata": {
    "papermill": {
     "duration": 0.086235,
     "end_time": "2024-08-15T07:12:55.554708",
     "exception": false,
     "start_time": "2024-08-15T07:12:55.468473",
     "status": "completed"
    },
    "tags": []
   },
   "source": [
    "## Visualizations\n",
    "\n",
    "Finally, we show a visualization of learning curves versus actual elapsed wall time. This helps to illustrate that stopped trials make room for additional trials to be run."
   ]
  },
  {
   "cell_type": "code",
   "execution_count": 18,
   "id": "c88cb8d0",
   "metadata": {
    "execution": {
     "iopub.execute_input": "2024-08-15T07:12:55.727835Z",
     "iopub.status.busy": "2024-08-15T07:12:55.727578Z",
     "iopub.status.idle": "2024-08-15T07:12:55.735078Z",
     "shell.execute_reply": "2024-08-15T07:12:55.734488Z"
    },
    "papermill": {
     "duration": 0.095714,
     "end_time": "2024-08-15T07:12:55.736341",
     "exception": false,
     "start_time": "2024-08-15T07:12:55.640627",
     "status": "completed"
    },
    "tags": []
   },
   "outputs": [],
   "source": [
    "# helper function for getting trial start times\n",
    "def time_started(row):\n",
    "    trial_index = row[\"trial_index\"]\n",
    "    return experiment.trials[trial_index].time_run_started\n",
    "\n",
    "\n",
    "# helper function for getting trial completion times\n",
    "def time_completed(row):\n",
    "    trial_index = row[\"trial_index\"]\n",
    "    return experiment.trials[trial_index].time_completed\n",
    "\n",
    "\n",
    "# helper function for getting relevant data from experiment\n",
    "# with early stopping into useful dfs\n",
    "def early_stopping_exp_to_df(experiment):\n",
    "    trials_df = exp_to_df(experiment)\n",
    "    curve_df = experiment.lookup_data().map_df\n",
    "    training_row_df = (\n",
    "        curve_df.groupby(\"trial_index\").max().reset_index()[[\"trial_index\", \"steps\"]]\n",
    "    )\n",
    "    trials_df = trials_df.merge(training_row_df, on=\"trial_index\")\n",
    "    trials_df[\"time_started\"] = trials_df.apply(func=time_started, axis=1)\n",
    "    trials_df[\"time_completed\"] = trials_df.apply(func=time_completed, axis=1)\n",
    "    start_time = trials_df[\"time_started\"].min()\n",
    "    trials_df[\"time_started_rel\"] = (\n",
    "        trials_df[\"time_started\"] - start_time\n",
    "    ).dt.total_seconds()\n",
    "    trials_df[\"time_completed_rel\"] = (\n",
    "        trials_df[\"time_completed\"] - start_time\n",
    "    ).dt.total_seconds()\n",
    "    return trials_df, curve_df\n",
    "\n",
    "\n",
    "def plot_curves_by_wall_time(trials_df, curve_df):\n",
    "    trials = set(curve_df[\"trial_index\"])\n",
    "    fig, ax = plt.subplots(1, 1, figsize=(10, 6))\n",
    "    ax.set(xlabel=\"seconds since start\", ylabel=\"validation accuracy\")\n",
    "    for trial_index in trials:\n",
    "        this_trial_df = curve_df[curve_df[\"trial_index\"] == trial_index]\n",
    "        start_time_rel = trials_df[\"time_started_rel\"].iloc[trial_index]\n",
    "        completed_time_rel = trials_df[\"time_completed_rel\"].iloc[trial_index]\n",
    "        total_steps = trials_df.loc[trial_index, \"steps\"]\n",
    "        smoothed_curve = this_trial_df[\"mean\"].rolling(window=3).mean()\n",
    "        x = (\n",
    "            start_time_rel\n",
    "            + (completed_time_rel - start_time_rel)\n",
    "            / total_steps\n",
    "            * this_trial_df[\"steps\"]\n",
    "        )\n",
    "        ax.plot(\n",
    "            x,\n",
    "            smoothed_curve,\n",
    "            label=f\"trial #{trial_index}\" if trial_index % 2 == 1 else None,\n",
    "        )\n",
    "    ax.legend()"
   ]
  },
  {
   "cell_type": "code",
   "execution_count": 19,
   "id": "d7f52fed",
   "metadata": {
    "execution": {
     "iopub.execute_input": "2024-08-15T07:12:55.912247Z",
     "iopub.status.busy": "2024-08-15T07:12:55.911627Z",
     "iopub.status.idle": "2024-08-15T07:12:55.946752Z",
     "shell.execute_reply": "2024-08-15T07:12:55.946113Z"
    },
    "papermill": {
     "duration": 0.125228,
     "end_time": "2024-08-15T07:12:55.948148",
     "exception": false,
     "start_time": "2024-08-15T07:12:55.822920",
     "status": "completed"
    },
    "tags": []
   },
   "outputs": [
    {
     "name": "stderr",
     "output_type": "stream",
     "text": [
      "/tmp/tmp.3Yo4S3ORTG/Ax-main/ax/core/map_data.py:192: FutureWarning: The behavior of DataFrame concatenation with empty or all-NA entries is deprecated. In a future version, this will no longer exclude empty or all-NA columns when determining the result dtypes. To retain the old behavior, exclude the relevant entries before the concat operation.\n",
      "  df = pd.concat(\n",
      "[WARNING 08-15 07:12:55] ax.service.utils.report_utils: Column reason missing for all trials. Not appending column.\n"
     ]
    },
    {
     "name": "stdout",
     "output_type": "stream",
     "text": [
      "Encountered exception while plotting results: \"['steps'] not in index\"\n"
     ]
    },
    {
     "name": "stderr",
     "output_type": "stream",
     "text": [
      "/tmp/tmp.3Yo4S3ORTG/Ax-main/ax/core/map_data.py:192: FutureWarning: The behavior of DataFrame concatenation with empty or all-NA entries is deprecated. In a future version, this will no longer exclude empty or all-NA columns when determining the result dtypes. To retain the old behavior, exclude the relevant entries before the concat operation.\n",
      "  df = pd.concat(\n"
     ]
    }
   ],
   "source": [
    "# wrap in try/except in case of flaky I/O issues\n",
    "try:\n",
    "    trials_df, curve_df = early_stopping_exp_to_df(experiment)\n",
    "    plot_curves_by_wall_time(trials_df, curve_df)\n",
    "except Exception as e:\n",
    "    print(f\"Encountered exception while plotting results: {e}\")"
   ]
  },
  {
   "cell_type": "code",
   "execution_count": null,
   "id": "193e2fc7",
   "metadata": {
    "papermill": {
     "duration": 0.086719,
     "end_time": "2024-08-15T07:12:56.128250",
     "exception": false,
     "start_time": "2024-08-15T07:12:56.041531",
     "status": "completed"
    },
    "tags": []
   },
   "outputs": [],
   "source": []
  }
 ],
 "metadata": {
  "kernelspec": {
   "display_name": "Python 3 (ipykernel)",
   "language": "python",
   "name": "python3"
  },
  "language_info": {
   "codemirror_mode": {
    "name": "ipython",
    "version": 3
   },
   "file_extension": ".py",
   "mimetype": "text/x-python",
   "name": "python",
   "nbconvert_exporter": "python",
   "pygments_lexer": "ipython3",
   "version": "3.10.14"
  },
  "papermill": {
   "default_parameters": {},
   "duration": 1975.54969,
   "end_time": "2024-08-15T07:12:57.223194",
   "environment_variables": {},
   "exception": null,
   "input_path": "/tmp/tmp.3Yo4S3ORTG/Ax-main/tutorials/early_stopping/early_stopping.ipynb",
   "output_path": "/tmp/tmp.3Yo4S3ORTG/Ax-main/tutorials/early_stopping/early_stopping.ipynb",
   "parameters": {},
   "start_time": "2024-08-15T06:40:01.673504",
   "version": "2.6.0"
  }
 },
 "nbformat": 4,
 "nbformat_minor": 5
}
